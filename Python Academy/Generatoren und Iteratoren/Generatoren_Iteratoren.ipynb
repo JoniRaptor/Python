{
 "cells": [
  {
   "cell_type": "code",
   "execution_count": 1,
   "id": "18f7c466-6ccc-49d6-8d6f-27dfbf59e738",
   "metadata": {},
   "outputs": [],
   "source": [
    "L = list(range(2, 11))"
   ]
  },
  {
   "cell_type": "code",
   "execution_count": 2,
   "id": "34b741de-1730-4b29-b88c-3da6fecc0d9f",
   "metadata": {},
   "outputs": [
    {
     "data": {
      "text/plain": [
       "[2, 3, 4, 5, 6, 7, 8, 9, 10]"
      ]
     },
     "execution_count": 2,
     "metadata": {},
     "output_type": "execute_result"
    }
   ],
   "source": [
    "L"
   ]
  },
  {
   "cell_type": "code",
   "execution_count": 3,
   "id": "f4e30841-6804-4168-9d23-90689ddad46a",
   "metadata": {},
   "outputs": [
    {
     "data": {
      "text/plain": [
       "<list_reverseiterator at 0x7f37fc21aa40>"
      ]
     },
     "execution_count": 3,
     "metadata": {},
     "output_type": "execute_result"
    }
   ],
   "source": [
    "reversed(L)"
   ]
  },
  {
   "cell_type": "code",
   "execution_count": 5,
   "id": "a2b0db48-a4ea-45b7-a943-7cba6f013f60",
   "metadata": {},
   "outputs": [
    {
     "name": "stdout",
     "output_type": "stream",
     "text": [
      "10 9 8 7 6 5 4 3 2 "
     ]
    }
   ],
   "source": [
    "for x in reversed(L):\n",
    "    print(x, end=' ')"
   ]
  },
  {
   "cell_type": "code",
   "execution_count": 6,
   "id": "33511743-4cc4-4ec2-8022-b834ade06ae3",
   "metadata": {},
   "outputs": [
    {
     "name": "stdout",
     "output_type": "stream",
     "text": [
      "10 9 8 7 6 5 4 3 2 "
     ]
    }
   ],
   "source": [
    "for x in L[::-1]:\n",
    "    print(x, end=' ')"
   ]
  },
  {
   "cell_type": "code",
   "execution_count": 8,
   "id": "8442de16-c1f2-42dc-8bac-7934d9947efd",
   "metadata": {},
   "outputs": [
    {
     "data": {
      "text/plain": [
       "[10, 9, 8, 7, 6, 5, 4, 3, 2]"
      ]
     },
     "execution_count": 8,
     "metadata": {},
     "output_type": "execute_result"
    }
   ],
   "source": [
    "L[::-1]  # macht eine Kopie von L"
   ]
  },
  {
   "cell_type": "code",
   "execution_count": 9,
   "id": "2d7ddf68-9896-482b-bb8c-237d78a0ea7b",
   "metadata": {},
   "outputs": [
    {
     "data": {
      "text/plain": [
       "<list_reverseiterator at 0x7f37fc21a9b0>"
      ]
     },
     "execution_count": 9,
     "metadata": {},
     "output_type": "execute_result"
    }
   ],
   "source": [
    "reversed(L)  # macht keine Kopie von L --> erzeugt nur einen Iterator"
   ]
  },
  {
   "cell_type": "code",
   "execution_count": 14,
   "id": "3bf9ce61-9efc-4ac7-879b-543acb436ae8",
   "metadata": {},
   "outputs": [],
   "source": [
    "r = reversed(L)  # aus Iterator kann neues Objekt erzeugt werden"
   ]
  },
  {
   "cell_type": "code",
   "execution_count": 15,
   "id": "af19fd52-c077-457e-a11c-165738e05478",
   "metadata": {},
   "outputs": [
    {
     "data": {
      "text/plain": [
       "[10, 9, 8, 7, 6, 5, 4, 3, 2]"
      ]
     },
     "execution_count": 15,
     "metadata": {},
     "output_type": "execute_result"
    }
   ],
   "source": [
    "list(r)"
   ]
  },
  {
   "cell_type": "code",
   "execution_count": 22,
   "id": "0cfac655-845b-4851-8f52-480c7a6a3e5d",
   "metadata": {},
   "outputs": [
    {
     "data": {
      "text/plain": [
       "[]"
      ]
     },
     "execution_count": 22,
     "metadata": {},
     "output_type": "execute_result"
    }
   ],
   "source": [
    "list(r)  # Iterator ist nach einmal benutzen weg --> wird beim nutzen verändert"
   ]
  },
  {
   "cell_type": "code",
   "execution_count": 19,
   "id": "40528e96-f2a8-4196-ad2b-79f0874dd426",
   "metadata": {},
   "outputs": [],
   "source": [
    "r = reversed(L)"
   ]
  },
  {
   "cell_type": "code",
   "execution_count": 20,
   "id": "fbc1a6d5-219a-4ab7-8bd7-fa66d94294bc",
   "metadata": {},
   "outputs": [
    {
     "name": "stdout",
     "output_type": "stream",
     "text": [
      "10 9 8 7 6 5 4 3 2 "
     ]
    }
   ],
   "source": [
    "for x in r:\n",
    "    print(x, end=' ')"
   ]
  },
  {
   "cell_type": "code",
   "execution_count": 21,
   "id": "cda6da03-f9da-4c8b-8a1b-320ad59c1376",
   "metadata": {},
   "outputs": [],
   "source": [
    "for x in r:\n",
    "    print(x, end=' ')"
   ]
  },
  {
   "cell_type": "code",
   "execution_count": 23,
   "id": "2b9a7b06-bdda-475c-9898-1bee4f37a454",
   "metadata": {},
   "outputs": [],
   "source": [
    "r = reversed(L)"
   ]
  },
  {
   "cell_type": "code",
   "execution_count": 24,
   "id": "53d510fe-6d3b-4dc1-b740-39014373c0e8",
   "metadata": {},
   "outputs": [
    {
     "data": {
      "text/plain": [
       "10"
      ]
     },
     "execution_count": 24,
     "metadata": {},
     "output_type": "execute_result"
    }
   ],
   "source": [
    "next(r)"
   ]
  },
  {
   "cell_type": "code",
   "execution_count": 25,
   "id": "2986639e-3d47-484e-8b00-734934c9e06d",
   "metadata": {},
   "outputs": [
    {
     "data": {
      "text/plain": [
       "9"
      ]
     },
     "execution_count": 25,
     "metadata": {},
     "output_type": "execute_result"
    }
   ],
   "source": [
    "next(r)"
   ]
  },
  {
   "cell_type": "code",
   "execution_count": 26,
   "id": "4ba9fd85-2f01-498a-80bc-9eaaa268723d",
   "metadata": {},
   "outputs": [
    {
     "data": {
      "text/plain": [
       "[8, 7, 6, 5, 4, 3, 2]"
      ]
     },
     "execution_count": 26,
     "metadata": {},
     "output_type": "execute_result"
    }
   ],
   "source": [
    "list(r)"
   ]
  },
  {
   "cell_type": "code",
   "execution_count": 27,
   "id": "bdb1d975-2862-4f69-8eee-fd16069fad9f",
   "metadata": {},
   "outputs": [
    {
     "ename": "StopIteration",
     "evalue": "",
     "output_type": "error",
     "traceback": [
      "\u001b[0;31m---------------------------------------------------------------------------\u001b[0m",
      "\u001b[0;31mStopIteration\u001b[0m                             Traceback (most recent call last)",
      "Input \u001b[0;32mIn [27]\u001b[0m, in \u001b[0;36m<cell line: 1>\u001b[0;34m()\u001b[0m\n\u001b[0;32m----> 1\u001b[0m \u001b[38;5;28;43mnext\u001b[39;49m\u001b[43m(\u001b[49m\u001b[43mr\u001b[49m\u001b[43m)\u001b[49m\n",
      "\u001b[0;31mStopIteration\u001b[0m: "
     ]
    }
   ],
   "source": [
    "next(r)"
   ]
  },
  {
   "cell_type": "code",
   "execution_count": 28,
   "id": "2c041efc-6f55-430e-bf32-457e9febde95",
   "metadata": {},
   "outputs": [
    {
     "data": {
      "text/plain": [
       "999"
      ]
     },
     "execution_count": 28,
     "metadata": {},
     "output_type": "execute_result"
    }
   ],
   "source": [
    "next(r, 999)"
   ]
  },
  {
   "cell_type": "code",
   "execution_count": 29,
   "id": "a489c156-582d-429e-b5dc-e20d0fffbf40",
   "metadata": {},
   "outputs": [
    {
     "data": {
      "text/plain": [
       "\u001b[0;31mDocstring:\u001b[0m\n",
       "next(iterator[, default])\n",
       "\n",
       "Return the next item from the iterator. If default is given and the iterator\n",
       "is exhausted, it is returned instead of raising StopIteration.\n",
       "\u001b[0;31mType:\u001b[0m      builtin_function_or_method\n"
      ]
     },
     "metadata": {},
     "output_type": "display_data"
    }
   ],
   "source": [
    "next?"
   ]
  },
  {
   "cell_type": "code",
   "execution_count": 30,
   "id": "bddd3711-8567-4325-9a49-2c5ef734ad87",
   "metadata": {},
   "outputs": [],
   "source": [
    "z = zip('abc', 'xyz')"
   ]
  },
  {
   "cell_type": "code",
   "execution_count": 31,
   "id": "bd13c654-1233-479a-bf97-a9d96f70a777",
   "metadata": {},
   "outputs": [
    {
     "data": {
      "text/plain": [
       "<zip at 0x7f37fc254280>"
      ]
     },
     "execution_count": 31,
     "metadata": {},
     "output_type": "execute_result"
    }
   ],
   "source": [
    "z"
   ]
  },
  {
   "cell_type": "code",
   "execution_count": 32,
   "id": "e94a7951-415f-49bb-996e-3e2de6747f73",
   "metadata": {},
   "outputs": [
    {
     "data": {
      "text/plain": [
       "('a', 'x')"
      ]
     },
     "execution_count": 32,
     "metadata": {},
     "output_type": "execute_result"
    }
   ],
   "source": [
    "next(z)"
   ]
  },
  {
   "cell_type": "code",
   "execution_count": 33,
   "id": "1c5de396-8ee9-4748-aa6a-b229c9b776bb",
   "metadata": {},
   "outputs": [],
   "source": [
    "e = enumerate('abc')"
   ]
  },
  {
   "cell_type": "code",
   "execution_count": 35,
   "id": "1698c13b-71b9-4363-9351-7a6434c06da0",
   "metadata": {},
   "outputs": [
    {
     "data": {
      "text/plain": [
       "[(0, 'a'), (1, 'b'), (2, 'c')]"
      ]
     },
     "execution_count": 35,
     "metadata": {},
     "output_type": "execute_result"
    }
   ],
   "source": [
    "list(e)"
   ]
  },
  {
   "cell_type": "code",
   "execution_count": 36,
   "id": "f660ab36-bdfb-49db-897e-8f7bed520adb",
   "metadata": {},
   "outputs": [
    {
     "data": {
      "text/plain": [
       "[]"
      ]
     },
     "execution_count": 36,
     "metadata": {},
     "output_type": "execute_result"
    }
   ],
   "source": [
    "list(e)"
   ]
  },
  {
   "cell_type": "code",
   "execution_count": 38,
   "id": "62a46c2b-df40-411a-abe7-5114d8bb81bf",
   "metadata": {},
   "outputs": [],
   "source": [
    "r10 = range(10)"
   ]
  },
  {
   "cell_type": "code",
   "execution_count": 39,
   "id": "91281b2c-52e5-4b34-b9ad-e89b2cadb324",
   "metadata": {},
   "outputs": [
    {
     "data": {
      "text/plain": [
       "range(0, 10)"
      ]
     },
     "execution_count": 39,
     "metadata": {},
     "output_type": "execute_result"
    }
   ],
   "source": [
    "r10"
   ]
  },
  {
   "cell_type": "code",
   "execution_count": 40,
   "id": "3bb2debd-2b64-46d9-8f10-7191e5f0bf16",
   "metadata": {},
   "outputs": [
    {
     "name": "stdout",
     "output_type": "stream",
     "text": [
      "0 1 2 3 4 5 6 7 8 9 "
     ]
    }
   ],
   "source": [
    "for x in r10:\n",
    "    print(x, end=' ')"
   ]
  },
  {
   "cell_type": "code",
   "execution_count": 41,
   "id": "8800a966-6e44-4db4-8cc2-363cba184e8b",
   "metadata": {},
   "outputs": [
    {
     "name": "stdout",
     "output_type": "stream",
     "text": [
      "0 1 2 3 4 5 6 7 8 9 "
     ]
    }
   ],
   "source": [
    "for x in r10:\n",
    "    print(x, end=' ')"
   ]
  },
  {
   "cell_type": "code",
   "execution_count": 44,
   "id": "bd69c8e7-8449-4797-a01d-52de7a40f62f",
   "metadata": {},
   "outputs": [
    {
     "ename": "TypeError",
     "evalue": "'range' object is not an iterator",
     "output_type": "error",
     "traceback": [
      "\u001b[0;31m---------------------------------------------------------------------------\u001b[0m",
      "\u001b[0;31mTypeError\u001b[0m                                 Traceback (most recent call last)",
      "Input \u001b[0;32mIn [44]\u001b[0m, in \u001b[0;36m<cell line: 1>\u001b[0;34m()\u001b[0m\n\u001b[0;32m----> 1\u001b[0m \u001b[38;5;28;43mnext\u001b[39;49m\u001b[43m(\u001b[49m\u001b[43mr10\u001b[49m\u001b[43m)\u001b[49m\n",
      "\u001b[0;31mTypeError\u001b[0m: 'range' object is not an iterator"
     ]
    }
   ],
   "source": [
    "next(r10)  # range ist kein Iterator"
   ]
  },
  {
   "cell_type": "code",
   "execution_count": 45,
   "id": "1bf6103d-c08d-47c6-8c2a-2306e84e7bf0",
   "metadata": {},
   "outputs": [
    {
     "data": {
      "text/plain": [
       "5050"
      ]
     },
     "execution_count": 45,
     "metadata": {},
     "output_type": "execute_result"
    }
   ],
   "source": [
    "sum(range(1, 101))"
   ]
  },
  {
   "cell_type": "markdown",
   "id": "909dd9df-0d43-489e-9082-03b792579d73",
   "metadata": {},
   "source": [
    "# Generatoren"
   ]
  },
  {
   "cell_type": "markdown",
   "id": "080c07e2-4c26-457e-a65a-2c4bb3ad07d4",
   "metadata": {},
   "source": [
    "## Generatorausdrücke"
   ]
  },
  {
   "cell_type": "code",
   "execution_count": 46,
   "id": "0928b8f0-4457-4a8a-8fb5-b9acb34748c6",
   "metadata": {},
   "outputs": [
    {
     "data": {
      "text/plain": [
       "[2, 3, 4, 5, 6, 7, 8, 9, 10]"
      ]
     },
     "execution_count": 46,
     "metadata": {},
     "output_type": "execute_result"
    }
   ],
   "source": [
    "L"
   ]
  },
  {
   "cell_type": "code",
   "execution_count": 47,
   "id": "eabb8e24-a426-416a-9885-b5c94acdddaa",
   "metadata": {},
   "outputs": [
    {
     "data": {
      "text/plain": [
       "[52, 53, 54, 55, 56, 57, 58, 59, 60]"
      ]
     },
     "execution_count": 47,
     "metadata": {},
     "output_type": "execute_result"
    }
   ],
   "source": [
    "[x + 50 for x in L]"
   ]
  },
  {
   "cell_type": "code",
   "execution_count": 48,
   "id": "db6d2daf-1bae-4ba6-a2a0-0aef708bc3f1",
   "metadata": {},
   "outputs": [
    {
     "data": {
      "text/plain": [
       "<generator object <genexpr> at 0x7f37ec6c4a50>"
      ]
     },
     "execution_count": 48,
     "metadata": {},
     "output_type": "execute_result"
    }
   ],
   "source": [
    "(x + 50 for x in L)"
   ]
  },
  {
   "cell_type": "code",
   "execution_count": 52,
   "id": "258b33b5-017f-47c8-9e86-c5d300cc0aa3",
   "metadata": {},
   "outputs": [],
   "source": [
    "g = (x + 50 for x in L)  # Generator und Iterator sind lazy"
   ]
  },
  {
   "cell_type": "code",
   "execution_count": 53,
   "id": "61da216c-b444-4aeb-972e-d3045fb4aa23",
   "metadata": {},
   "outputs": [
    {
     "data": {
      "text/plain": [
       "[52, 53, 54, 55, 56, 57, 58, 59, 60]"
      ]
     },
     "execution_count": 53,
     "metadata": {},
     "output_type": "execute_result"
    }
   ],
   "source": [
    "list(g)"
   ]
  },
  {
   "cell_type": "code",
   "execution_count": 54,
   "id": "2638d795-26c7-40b2-9d43-40cf33ef3eab",
   "metadata": {},
   "outputs": [
    {
     "data": {
      "text/plain": [
       "[52, 53, 54, 55, 56, 57, 58, 59, 60]"
      ]
     },
     "execution_count": 54,
     "metadata": {},
     "output_type": "execute_result"
    }
   ],
   "source": [
    "list(x + 50 for x in L)"
   ]
  },
  {
   "cell_type": "code",
   "execution_count": 55,
   "id": "e31b7825-efa7-4d0e-893e-2beb6e59e26b",
   "metadata": {},
   "outputs": [],
   "source": [
    "g = (x + 50 for x in L)"
   ]
  },
  {
   "cell_type": "code",
   "execution_count": 56,
   "id": "ff9bffe8-a7fc-4e80-955b-1244c498123d",
   "metadata": {},
   "outputs": [
    {
     "name": "stdout",
     "output_type": "stream",
     "text": [
      "52 53 54 55 56 57 58 59 60 "
     ]
    }
   ],
   "source": [
    " for x in g:\n",
    "        print(x, end=' ')"
   ]
  },
  {
   "cell_type": "code",
   "execution_count": 57,
   "id": "6c0954d8-c37e-4508-a374-b6b0d3895e77",
   "metadata": {},
   "outputs": [],
   "source": [
    "for x in g:\n",
    "        print(x, end=' ')"
   ]
  },
  {
   "cell_type": "code",
   "execution_count": 58,
   "id": "ad37da24-91b3-4165-9710-783c127909c9",
   "metadata": {},
   "outputs": [],
   "source": [
    "g = (x + 50 for x in L)"
   ]
  },
  {
   "cell_type": "code",
   "execution_count": 59,
   "id": "807f71a5-7c19-4243-8aa4-8497d988ea7f",
   "metadata": {},
   "outputs": [
    {
     "data": {
      "text/plain": [
       "52"
      ]
     },
     "execution_count": 59,
     "metadata": {},
     "output_type": "execute_result"
    }
   ],
   "source": [
    "next(g)"
   ]
  },
  {
   "cell_type": "code",
   "execution_count": 60,
   "id": "68485ef3-b83f-48b0-b82d-57767a1813bc",
   "metadata": {},
   "outputs": [
    {
     "data": {
      "text/plain": [
       "53"
      ]
     },
     "execution_count": 60,
     "metadata": {},
     "output_type": "execute_result"
    }
   ],
   "source": [
    "next(g)"
   ]
  },
  {
   "cell_type": "code",
   "execution_count": 61,
   "id": "73d93254-bfa0-4f24-a51d-792fb11bf3a1",
   "metadata": {},
   "outputs": [
    {
     "data": {
      "text/plain": [
       "[2, 3, 4, 5, 6, 7, 8, 9, 10]"
      ]
     },
     "execution_count": 61,
     "metadata": {},
     "output_type": "execute_result"
    }
   ],
   "source": [
    "L"
   ]
  },
  {
   "cell_type": "code",
   "execution_count": 62,
   "id": "8425f1de-3d85-4bfc-b19c-ea64b9089b7d",
   "metadata": {},
   "outputs": [
    {
     "data": {
      "text/plain": [
       "40"
      ]
     },
     "execution_count": 62,
     "metadata": {},
     "output_type": "execute_result"
    }
   ],
   "source": [
    "sum(x for x in L if x > 5)"
   ]
  },
  {
   "cell_type": "code",
   "execution_count": 63,
   "id": "b4ef951d-f99f-49a5-942a-0fb91ce32288",
   "metadata": {},
   "outputs": [],
   "source": [
    "res = 0\n",
    "for x in L:\n",
    "    if x > 5:\n",
    "        res += x"
   ]
  },
  {
   "cell_type": "code",
   "execution_count": 64,
   "id": "bd07d114-ddd4-47ac-9113-072448ee2646",
   "metadata": {},
   "outputs": [
    {
     "data": {
      "text/plain": [
       "40"
      ]
     },
     "execution_count": 64,
     "metadata": {},
     "output_type": "execute_result"
    }
   ],
   "source": [
    "res"
   ]
  },
  {
   "cell_type": "code",
   "execution_count": 65,
   "id": "50961feb-2307-40d9-b06a-9b33ab47f8b6",
   "metadata": {},
   "outputs": [
    {
     "name": "stdout",
     "output_type": "stream",
     "text": [
      "1.19 µs ± 142 ns per loop (mean ± std. dev. of 7 runs, 1,000,000 loops each)\n"
     ]
    }
   ],
   "source": [
    "%timeit sum(x for x in L if x > 5)"
   ]
  },
  {
   "cell_type": "code",
   "execution_count": 67,
   "id": "de7df8c6-c763-47ab-9b0e-ee489a19c9e8",
   "metadata": {},
   "outputs": [
    {
     "name": "stdout",
     "output_type": "stream",
     "text": [
      "505 ns ± 45.5 ns per loop (mean ± std. dev. of 7 runs, 1,000,000 loops each)\n"
     ]
    }
   ],
   "source": [
    "%%timeit\n",
    "\n",
    "res = 0\n",
    "for x in L:\n",
    "    if x > 50:\n",
    "        res += x"
   ]
  },
  {
   "cell_type": "markdown",
   "id": "2f53de0c-4b2e-4904-9ff8-f417f11bfba0",
   "metadata": {},
   "source": [
    "# Generatorfunktionen"
   ]
  },
  {
   "cell_type": "code",
   "execution_count": 68,
   "id": "a22ee4b6-1730-440f-9bd2-0c4c911351a0",
   "metadata": {},
   "outputs": [],
   "source": [
    "def simple():\n",
    "    print('Start')\n",
    "    yield 1  # yield macht Fkt zu Gernatorfkt\n",
    "    print('nach 1')\n",
    "    yield 2\n",
    "    print('nach 2')\n",
    "    yield 3\n",
    "    print('nach 3')"
   ]
  },
  {
   "cell_type": "code",
   "execution_count": 69,
   "id": "f6338ec7-1c79-4a53-8cb5-e5cf06d3a631",
   "metadata": {},
   "outputs": [],
   "source": [
    "s = simple()"
   ]
  },
  {
   "cell_type": "code",
   "execution_count": 70,
   "id": "7ca7989f-7460-4884-8cc9-b33779860d81",
   "metadata": {},
   "outputs": [
    {
     "name": "stdout",
     "output_type": "stream",
     "text": [
      "Start\n"
     ]
    },
    {
     "data": {
      "text/plain": [
       "1"
      ]
     },
     "execution_count": 70,
     "metadata": {},
     "output_type": "execute_result"
    }
   ],
   "source": [
    "next(s)"
   ]
  },
  {
   "cell_type": "code",
   "execution_count": 71,
   "id": "9131d81e-9738-4f60-9152-c547fc91a5d0",
   "metadata": {},
   "outputs": [
    {
     "name": "stdout",
     "output_type": "stream",
     "text": [
      "nach 1\n"
     ]
    },
    {
     "data": {
      "text/plain": [
       "2"
      ]
     },
     "execution_count": 71,
     "metadata": {},
     "output_type": "execute_result"
    }
   ],
   "source": [
    "next(s)"
   ]
  },
  {
   "cell_type": "code",
   "execution_count": 72,
   "id": "3c74aa69-ca04-45b9-ab36-b4011f8cdafe",
   "metadata": {},
   "outputs": [
    {
     "name": "stdout",
     "output_type": "stream",
     "text": [
      "nach 2\n"
     ]
    },
    {
     "data": {
      "text/plain": [
       "3"
      ]
     },
     "execution_count": 72,
     "metadata": {},
     "output_type": "execute_result"
    }
   ],
   "source": [
    "next(s)"
   ]
  },
  {
   "cell_type": "code",
   "execution_count": 73,
   "id": "18e3d4d2-c9bd-41dd-b5de-2194e8ef1061",
   "metadata": {},
   "outputs": [
    {
     "name": "stdout",
     "output_type": "stream",
     "text": [
      "nach 3\n"
     ]
    },
    {
     "ename": "StopIteration",
     "evalue": "",
     "output_type": "error",
     "traceback": [
      "\u001b[0;31m---------------------------------------------------------------------------\u001b[0m",
      "\u001b[0;31mStopIteration\u001b[0m                             Traceback (most recent call last)",
      "Input \u001b[0;32mIn [73]\u001b[0m, in \u001b[0;36m<cell line: 1>\u001b[0;34m()\u001b[0m\n\u001b[0;32m----> 1\u001b[0m \u001b[38;5;28;43mnext\u001b[39;49m\u001b[43m(\u001b[49m\u001b[43ms\u001b[49m\u001b[43m)\u001b[49m\n",
      "\u001b[0;31mStopIteration\u001b[0m: "
     ]
    }
   ],
   "source": [
    "next(s)"
   ]
  },
  {
   "cell_type": "code",
   "execution_count": 79,
   "id": "1ca88284-1456-4c4b-b6f0-38136e3a389c",
   "metadata": {},
   "outputs": [],
   "source": [
    "def endless(start=0, step=1):  # endlos Generator\n",
    "    value = start\n",
    "    while True:\n",
    "        yield value\n",
    "        value += step"
   ]
  },
  {
   "cell_type": "code",
   "execution_count": 80,
   "id": "0fbdda0d-3097-445a-a900-b6c47ffa3f74",
   "metadata": {},
   "outputs": [],
   "source": [
    "e = endless()"
   ]
  },
  {
   "cell_type": "code",
   "execution_count": 81,
   "id": "c7fee40b-26b8-40d5-af54-ef50ea4ed1fa",
   "metadata": {},
   "outputs": [
    {
     "data": {
      "text/plain": [
       "0"
      ]
     },
     "execution_count": 81,
     "metadata": {},
     "output_type": "execute_result"
    }
   ],
   "source": [
    "next(e)"
   ]
  },
  {
   "cell_type": "code",
   "execution_count": 82,
   "id": "9b0e55b9-3119-42f4-b3d6-fb457326fccf",
   "metadata": {},
   "outputs": [
    {
     "data": {
      "text/plain": [
       "1"
      ]
     },
     "execution_count": 82,
     "metadata": {},
     "output_type": "execute_result"
    }
   ],
   "source": [
    "next(e)"
   ]
  },
  {
   "cell_type": "code",
   "execution_count": 83,
   "id": "e3a03be0-3b22-4155-847d-e9b63c305f02",
   "metadata": {},
   "outputs": [
    {
     "data": {
      "text/plain": [
       "2"
      ]
     },
     "execution_count": 83,
     "metadata": {},
     "output_type": "execute_result"
    }
   ],
   "source": [
    "next(e)"
   ]
  },
  {
   "cell_type": "code",
   "execution_count": 84,
   "id": "d137f8c2-8147-4a11-a13f-ad95bd8e6de9",
   "metadata": {},
   "outputs": [
    {
     "ename": "MemoryError",
     "evalue": "",
     "output_type": "error",
     "traceback": [
      "\u001b[0;31m---------------------------------------------------------------------------\u001b[0m",
      "\u001b[0;31mMemoryError\u001b[0m                               Traceback (most recent call last)",
      "Input \u001b[0;32mIn [84]\u001b[0m, in \u001b[0;36m<cell line: 1>\u001b[0;34m()\u001b[0m\n\u001b[0;32m----> 1\u001b[0m \u001b[38;5;28;43mlist\u001b[39;49m\u001b[43m(\u001b[49m\u001b[43me\u001b[49m\u001b[43m)\u001b[49m\n",
      "Input \u001b[0;32mIn [79]\u001b[0m, in \u001b[0;36mendless\u001b[0;34m(start, step)\u001b[0m\n\u001b[1;32m      3\u001b[0m \u001b[38;5;28;01mwhile\u001b[39;00m \u001b[38;5;28;01mTrue\u001b[39;00m:\n\u001b[1;32m      4\u001b[0m     \u001b[38;5;28;01myield\u001b[39;00m value\n\u001b[0;32m----> 5\u001b[0m     value \u001b[38;5;241m+\u001b[39m\u001b[38;5;241m=\u001b[39m step\n",
      "\u001b[0;31mMemoryError\u001b[0m: "
     ]
    }
   ],
   "source": [
    "list(e)"
   ]
  },
  {
   "cell_type": "markdown",
   "id": "8762ac5a-bae2-46d7-b7a6-e7ba16a390a1",
   "metadata": {},
   "source": [
    "# Generatoren sind nützlich, wenn die Anzahl der benötigten/genutzte Element unbekannt ist"
   ]
  },
  {
   "cell_type": "code",
   "execution_count": null,
   "id": "46c155bb-5ec5-4633-8720-8aab61a90655",
   "metadata": {},
   "outputs": [],
   "source": []
  }
 ],
 "metadata": {
  "kernelspec": {
   "display_name": "Python 3.10",
   "language": "python",
   "name": "python310"
  },
  "language_info": {
   "codemirror_mode": {
    "name": "ipython",
    "version": 3
   },
   "file_extension": ".py",
   "mimetype": "text/x-python",
   "name": "python",
   "nbconvert_exporter": "python",
   "pygments_lexer": "ipython3",
   "version": "3.10.4"
  }
 },
 "nbformat": 4,
 "nbformat_minor": 5
}
