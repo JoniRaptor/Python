{
 "cells": [
  {
   "cell_type": "markdown",
   "id": "7d50151b-670e-44d6-aa58-e2215873fa5c",
   "metadata": {},
   "source": [
    "# Aufgabe 1"
   ]
  },
  {
   "cell_type": "code",
   "execution_count": 37,
   "id": "dd4f2932-ac75-4c5b-b6bb-cb4ee06a0a99",
   "metadata": {},
   "outputs": [],
   "source": [
    "g = (x*3 for x in range(21))"
   ]
  },
  {
   "cell_type": "code",
   "execution_count": 38,
   "id": "1b8cea7e-900d-466b-914e-94a388be27a8",
   "metadata": {},
   "outputs": [
    {
     "data": {
      "text/plain": [
       "<generator object <genexpr> at 0x7ffa0dbeac00>"
      ]
     },
     "execution_count": 38,
     "metadata": {},
     "output_type": "execute_result"
    }
   ],
   "source": [
    "g"
   ]
  },
  {
   "cell_type": "code",
   "execution_count": null,
   "id": "74722189-ceee-404c-b770-2b4e044110c7",
   "metadata": {},
   "outputs": [],
   "source": []
  },
  {
   "cell_type": "code",
   "execution_count": 39,
   "id": "c45dbef6-3ec6-448e-bb5f-96346fb18fac",
   "metadata": {},
   "outputs": [],
   "source": [
    "L = list(g)"
   ]
  },
  {
   "cell_type": "code",
   "execution_count": 40,
   "id": "b3540310-73bd-4336-aecb-5eb4e713a250",
   "metadata": {},
   "outputs": [
    {
     "data": {
      "text/plain": [
       "[0, 3, 6, 9, 12, 15, 18, 21, 24, 27, 30, 33, 36, 39, 42, 45, 48, 51, 54, 57, 60]"
      ]
     },
     "execution_count": 40,
     "metadata": {},
     "output_type": "execute_result"
    }
   ],
   "source": [
    "L"
   ]
  },
  {
   "cell_type": "markdown",
   "id": "b7bc6951-fb57-4743-a97a-37f05a6cebb6",
   "metadata": {},
   "source": [
    "# Aufgabe 2"
   ]
  },
  {
   "cell_type": "code",
   "execution_count": 58,
   "id": "04d4f111-ec66-4f96-b2f1-fa01d0eb0712",
   "metadata": {},
   "outputs": [],
   "source": [
    "g2 = (x*3 for x in range(21) if x*3 % 2 == 0)"
   ]
  },
  {
   "cell_type": "code",
   "execution_count": 59,
   "id": "95a3f8f3-0556-4c2d-b7c0-4dad6169330c",
   "metadata": {},
   "outputs": [
    {
     "data": {
      "text/plain": [
       "[0, 6, 12, 18, 24, 30, 36, 42, 48, 54, 60]"
      ]
     },
     "execution_count": 59,
     "metadata": {},
     "output_type": "execute_result"
    }
   ],
   "source": [
    "list(g2)"
   ]
  },
  {
   "cell_type": "markdown",
   "id": "32f3336b-6a44-4b98-8e19-19565e6c4ea1",
   "metadata": {},
   "source": [
    "# Aufgabe3"
   ]
  },
  {
   "cell_type": "code",
   "execution_count": 60,
   "id": "32876012-1740-432c-999a-734007c5ca76",
   "metadata": {},
   "outputs": [],
   "source": [
    "def gen():\n",
    "    yield 10\n",
    "    for x in range(1, 10):\n",
    "        yield x * 100"
   ]
  },
  {
   "cell_type": "code",
   "execution_count": 61,
   "id": "25da9123-af9d-4c3c-97b9-86be78472d84",
   "metadata": {},
   "outputs": [],
   "source": [
    "g3 = gen()"
   ]
  },
  {
   "cell_type": "code",
   "execution_count": 62,
   "id": "a2717982-674c-45d6-86df-7d85a95b0c6c",
   "metadata": {},
   "outputs": [
    {
     "data": {
      "text/plain": [
       "10"
      ]
     },
     "execution_count": 62,
     "metadata": {},
     "output_type": "execute_result"
    }
   ],
   "source": [
    "next(g3)"
   ]
  },
  {
   "cell_type": "code",
   "execution_count": 63,
   "id": "642a1053-599b-4917-9347-55b42b54e516",
   "metadata": {},
   "outputs": [
    {
     "data": {
      "text/plain": [
       "100"
      ]
     },
     "execution_count": 63,
     "metadata": {},
     "output_type": "execute_result"
    }
   ],
   "source": [
    "next(g3)"
   ]
  },
  {
   "cell_type": "code",
   "execution_count": 64,
   "id": "72e12409-a48f-414c-bd46-bac51cc6b1ca",
   "metadata": {},
   "outputs": [
    {
     "data": {
      "text/plain": [
       "200"
      ]
     },
     "execution_count": 64,
     "metadata": {},
     "output_type": "execute_result"
    }
   ],
   "source": [
    "next(g3)"
   ]
  },
  {
   "cell_type": "markdown",
   "id": "baf08d84-5622-48fc-ba13-5abcd97f58c1",
   "metadata": {},
   "source": [
    "# Aufgabe 4"
   ]
  },
  {
   "cell_type": "code",
   "execution_count": 55,
   "id": "a4d73d56-24cc-4558-9fbd-9ab299601763",
   "metadata": {},
   "outputs": [
    {
     "ename": "ModuleNotFoundError",
     "evalue": "No module named 'measure_mem'",
     "output_type": "error",
     "traceback": [
      "\u001b[0;31m---------------------------------------------------------------------------\u001b[0m",
      "\u001b[0;31mModuleNotFoundError\u001b[0m                       Traceback (most recent call last)",
      "Input \u001b[0;32mIn [55]\u001b[0m, in \u001b[0;36m<cell line: 1>\u001b[0;34m()\u001b[0m\n\u001b[0;32m----> 1\u001b[0m \u001b[38;5;28;01mimport\u001b[39;00m \u001b[38;5;21;01mmeasure_mem\u001b[39;00m\n",
      "\u001b[0;31mModuleNotFoundError\u001b[0m: No module named 'measure_mem'"
     ]
    }
   ],
   "source": [
    "import measure_mem"
   ]
  },
  {
   "cell_type": "code",
   "execution_count": null,
   "id": "2153032d-7fe1-437f-9c8b-eb33fa3ddb34",
   "metadata": {},
   "outputs": [],
   "source": []
  }
 ],
 "metadata": {
  "kernelspec": {
   "display_name": "Python 3.10",
   "language": "python",
   "name": "python310"
  },
  "language_info": {
   "codemirror_mode": {
    "name": "ipython",
    "version": 3
   },
   "file_extension": ".py",
   "mimetype": "text/x-python",
   "name": "python",
   "nbconvert_exporter": "python",
   "pygments_lexer": "ipython3",
   "version": "3.10.4"
  }
 },
 "nbformat": 4,
 "nbformat_minor": 5
}
