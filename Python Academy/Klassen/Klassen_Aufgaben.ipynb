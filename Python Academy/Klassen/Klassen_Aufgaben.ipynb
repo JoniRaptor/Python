{
 "cells": [
  {
   "cell_type": "code",
   "execution_count": 58,
   "id": "eff6d030-da15-4936-bb32-f700327ba252",
   "metadata": {},
   "outputs": [],
   "source": [
    "class Person:\n",
    "\n",
    "    def __init__(self, name, standort):\n",
    "        self.name = name\n",
    "        self.standort = standort\n",
    "\n",
    "    def gehezu(self, standort):\n",
    "        self.standort = standort"
   ]
  },
  {
   "cell_type": "code",
   "execution_count": 59,
   "id": "217b70b8-73bb-4b5e-9d03-9e7e76fe172a",
   "metadata": {},
   "outputs": [],
   "source": [
    "p1 = Person('Asterix', 'Gallierdorf')"
   ]
  },
  {
   "cell_type": "code",
   "execution_count": 60,
   "id": "9bdac41e-d5a6-4f82-b737-0dc19f3bc602",
   "metadata": {},
   "outputs": [],
   "source": [
    "p2 = Person('Obelix', 'Gallierdorf')"
   ]
  },
  {
   "cell_type": "code",
   "execution_count": 61,
   "id": "31c88e7b-36a1-4343-85f2-7f6e8b1507e9",
   "metadata": {},
   "outputs": [
    {
     "data": {
      "text/plain": [
       "'Gallierdorf'"
      ]
     },
     "execution_count": 61,
     "metadata": {},
     "output_type": "execute_result"
    }
   ],
   "source": [
    "p1.standort"
   ]
  },
  {
   "cell_type": "code",
   "execution_count": 62,
   "id": "40ad5585-d4d1-4fb1-8930-602efb431ea0",
   "metadata": {},
   "outputs": [],
   "source": [
    "p1.gehezu('Rom')"
   ]
  },
  {
   "cell_type": "code",
   "execution_count": 63,
   "id": "8f01ddaf-9b51-4172-add4-734f6b08bf92",
   "metadata": {},
   "outputs": [
    {
     "data": {
      "text/plain": [
       "'Rom'"
      ]
     },
     "execution_count": 63,
     "metadata": {},
     "output_type": "execute_result"
    }
   ],
   "source": [
    "p1.standort"
   ]
  },
  {
   "cell_type": "code",
   "execution_count": 64,
   "id": "acf75880-9676-47a6-a1ac-77797dc0bd3e",
   "metadata": {},
   "outputs": [],
   "source": [
    "p2.gehezu('Ägypten')"
   ]
  },
  {
   "cell_type": "code",
   "execution_count": 65,
   "id": "90c61183-081f-4a54-8f9f-0fe997b00be8",
   "metadata": {},
   "outputs": [
    {
     "data": {
      "text/plain": [
       "'Ägypten'"
      ]
     },
     "execution_count": 65,
     "metadata": {},
     "output_type": "execute_result"
    }
   ],
   "source": [
    "p2.standort"
   ]
  },
  {
   "cell_type": "code",
   "execution_count": 66,
   "id": "bd984680-1aa7-4763-9350-2478a6520caf",
   "metadata": {},
   "outputs": [],
   "source": [
    "p3 = Person('Idefix', 'Gallierdorf')"
   ]
  },
  {
   "cell_type": "code",
   "execution_count": 67,
   "id": "09693825-42a7-48e7-bc05-b50b5ba7b9fe",
   "metadata": {},
   "outputs": [
    {
     "data": {
      "text/plain": [
       "'Gallierdorf'"
      ]
     },
     "execution_count": 67,
     "metadata": {},
     "output_type": "execute_result"
    }
   ],
   "source": [
    "p3.standort"
   ]
  },
  {
   "cell_type": "code",
   "execution_count": 68,
   "id": "1abb45d4-646f-4528-a396-323323aa2cc9",
   "metadata": {},
   "outputs": [],
   "source": [
    "p3.gehezu(p2.standort)"
   ]
  },
  {
   "cell_type": "code",
   "execution_count": 69,
   "id": "cb1c6140-4a3c-43b7-87a6-7eb8a11fc51d",
   "metadata": {},
   "outputs": [
    {
     "data": {
      "text/plain": [
       "'Ägypten'"
      ]
     },
     "execution_count": 69,
     "metadata": {},
     "output_type": "execute_result"
    }
   ],
   "source": [
    "p3.standort"
   ]
  },
  {
   "cell_type": "markdown",
   "id": "be1f521f-8998-45e1-a01e-706f5ff159e3",
   "metadata": {},
   "source": [
    "# Vererbung"
   ]
  },
  {
   "cell_type": "markdown",
   "id": "a7496f18-e2f5-4c70-ad2f-1054815c420e",
   "metadata": {},
   "source": [
    "## Aufgabe 1"
   ]
  },
  {
   "cell_type": "code",
   "execution_count": 70,
   "id": "02990c33-42f6-471b-9ec5-a6906a26fbc1",
   "metadata": {},
   "outputs": [],
   "source": [
    "class EingeschraenktePerson(Person):\n",
    "\n",
    "    verbot = ['Sportplatz', 'Sporthalle', 'Tennisplatz', 'Treppenhaus']\n",
    "\n",
    "    def gehezu(self, standort):\n",
    "        if standort in self.verbot:\n",
    "            print('der Zugang zu Ort', standort, 'ist verboten.')\n",
    "        else:\n",
    "            super().gehezu(standort)"
   ]
  },
  {
   "cell_type": "code",
   "execution_count": 71,
   "id": "0d6106d9-6c8a-4777-be0e-9de34951195e",
   "metadata": {},
   "outputs": [],
   "source": [
    "ep1 = EingeschraenktePerson('Miraculix', 'Zu Hause')"
   ]
  },
  {
   "cell_type": "code",
   "execution_count": 72,
   "id": "4c16104f-aee6-4223-a249-6adceeb753b5",
   "metadata": {},
   "outputs": [],
   "source": [
    "ep1.gehezu('Rom')"
   ]
  },
  {
   "cell_type": "code",
   "execution_count": 73,
   "id": "ae7a3291-d546-4258-ac84-31823c9c0f3c",
   "metadata": {},
   "outputs": [
    {
     "data": {
      "text/plain": [
       "'Rom'"
      ]
     },
     "execution_count": 73,
     "metadata": {},
     "output_type": "execute_result"
    }
   ],
   "source": [
    "ep1.standort"
   ]
  },
  {
   "cell_type": "code",
   "execution_count": 74,
   "id": "ff45d7bc-b01e-46c0-bfa7-e894d08875f3",
   "metadata": {},
   "outputs": [
    {
     "name": "stdout",
     "output_type": "stream",
     "text": [
      "der Zugang zu Ort Treppenhaus ist verboten.\n"
     ]
    }
   ],
   "source": [
    "ep1.gehezu('Treppenhaus')"
   ]
  },
  {
   "cell_type": "code",
   "execution_count": 75,
   "id": "63f32f3d-ef74-4590-aa55-9ed98cf401a1",
   "metadata": {},
   "outputs": [
    {
     "data": {
      "text/plain": [
       "'Rom'"
      ]
     },
     "execution_count": 75,
     "metadata": {},
     "output_type": "execute_result"
    }
   ],
   "source": [
    "ep1.standort"
   ]
  },
  {
   "cell_type": "code",
   "execution_count": 76,
   "id": "e702dc11-6cf9-42e0-bab4-7f0c390b6724",
   "metadata": {},
   "outputs": [],
   "source": [
    "p1.gehezu('Treppenhaus')"
   ]
  },
  {
   "cell_type": "code",
   "execution_count": 77,
   "id": "938f8526-ef32-4014-9af1-9af2cf6889eb",
   "metadata": {},
   "outputs": [
    {
     "data": {
      "text/plain": [
       "'Treppenhaus'"
      ]
     },
     "execution_count": 77,
     "metadata": {},
     "output_type": "execute_result"
    }
   ],
   "source": [
    "p1.standort"
   ]
  },
  {
   "cell_type": "code",
   "execution_count": 78,
   "id": "ad84d53f-32d1-48c2-b873-ea50eec7ac97",
   "metadata": {},
   "outputs": [
    {
     "name": "stdout",
     "output_type": "stream",
     "text": [
      "der Zugang zu Ort Treppenhaus ist verboten.\n"
     ]
    }
   ],
   "source": [
    "ep1.gehezu(p1.standort)"
   ]
  },
  {
   "cell_type": "code",
   "execution_count": 79,
   "id": "0cd444de-7e05-423c-acc5-0e5ad8d5441c",
   "metadata": {},
   "outputs": [
    {
     "data": {
      "text/plain": [
       "'Rom'"
      ]
     },
     "execution_count": 79,
     "metadata": {},
     "output_type": "execute_result"
    }
   ],
   "source": [
    "ep1.standort"
   ]
  },
  {
   "cell_type": "code",
   "execution_count": 80,
   "id": "cac006e6-64eb-410e-9689-6bd803706b2f",
   "metadata": {},
   "outputs": [],
   "source": [
    "class EingeschränktePersonKind(EingeschraenktePerson):\n",
    "    verbot = ['Volleyballplatz']"
   ]
  },
  {
   "cell_type": "code",
   "execution_count": 81,
   "id": "2bf77f36-4bce-4fb1-b5e2-10ab0d4e70ee",
   "metadata": {},
   "outputs": [],
   "source": [
    "epk = EingeschränktePersonKind('Ben', 'Zu Hause')"
   ]
  },
  {
   "cell_type": "code",
   "execution_count": 82,
   "id": "99805f5b-538a-4c78-baef-d97d16edfb3f",
   "metadata": {},
   "outputs": [
    {
     "name": "stdout",
     "output_type": "stream",
     "text": [
      "der Zugang zu Ort Volleyballplatz ist verboten.\n"
     ]
    }
   ],
   "source": [
    "epk.gehezu('Volleyballplatz')"
   ]
  },
  {
   "cell_type": "code",
   "execution_count": 83,
   "id": "39ac6725-44b8-4e76-a2e6-ce2028990843",
   "metadata": {},
   "outputs": [],
   "source": [
    "epk.gehezu('Treppenhaus')"
   ]
  },
  {
   "cell_type": "code",
   "execution_count": 86,
   "id": "1a55efea-0f18-43ad-b251-b49112211736",
   "metadata": {},
   "outputs": [
    {
     "data": {
      "text/plain": [
       "'Treppenhaus'"
      ]
     },
     "execution_count": 86,
     "metadata": {},
     "output_type": "execute_result"
    }
   ],
   "source": [
    "epk.standort"
   ]
  },
  {
   "cell_type": "code",
   "execution_count": 87,
   "id": "9cd12ede-82e5-4b26-8af5-05d0fe3065b5",
   "metadata": {},
   "outputs": [],
   "source": [
    "class EingeschraenktePersonBesser(Person):\n",
    "\n",
    "    verbot = ['Sportplatz', 'Sporthalle', 'Tennisplatz', 'Treppenhaus']\n",
    "\n",
    "    def gehezu(self, standort):\n",
    "        if standort in self.__class__.verbot:\n",
    "            print('der Zugang zu Ort', standort, 'ist verboten.')\n",
    "        else:\n",
    "            super().gehezu(standort)"
   ]
  },
  {
   "cell_type": "code",
   "execution_count": 88,
   "id": "ceb55f7f-eef5-4ecd-bdbf-543b6303e699",
   "metadata": {},
   "outputs": [],
   "source": [
    "class EingeschränktePersonBesserKind(EingeschraenktePersonBesser):\n",
    "    verbot = ['Volleyballplatz']"
   ]
  },
  {
   "cell_type": "code",
   "execution_count": 89,
   "id": "5c6c9c4b-c42f-48ce-b67e-157a3d470030",
   "metadata": {},
   "outputs": [],
   "source": [
    "epk = EingeschränktePersonBesserKind('Ben', 'Zu Hause')"
   ]
  },
  {
   "cell_type": "code",
   "execution_count": 90,
   "id": "fd388069-ea67-407a-92de-438e7ab1503a",
   "metadata": {},
   "outputs": [
    {
     "name": "stdout",
     "output_type": "stream",
     "text": [
      "der Zugang zu Ort Volleyballplatz ist verboten.\n"
     ]
    }
   ],
   "source": [
    "epk.gehezu('Volleyballplatz')"
   ]
  },
  {
   "cell_type": "code",
   "execution_count": 91,
   "id": "986a9269-11ea-4c69-adf5-502a5cbb386a",
   "metadata": {},
   "outputs": [],
   "source": [
    "epk.gehezu('Treppenhaus')"
   ]
  },
  {
   "cell_type": "markdown",
   "id": "5457c662-2c71-4c79-a354-5ed40bd04e51",
   "metadata": {},
   "source": [
    "# Operatorüberladung"
   ]
  },
  {
   "cell_type": "code",
   "execution_count": 92,
   "id": "b8bbf3d3-4fb1-4eae-99c9-08cbf877ca60",
   "metadata": {},
   "outputs": [],
   "source": [
    "# Aufgabe 1"
   ]
  },
  {
   "cell_type": "code",
   "execution_count": 98,
   "id": "1d8b8660-4945-4774-96ab-cd95726ee467",
   "metadata": {},
   "outputs": [],
   "source": [
    "class Person2(Person):\n",
    "    def __rshift__(self, standort):\n",
    "        self.gehezu(standort)"
   ]
  },
  {
   "cell_type": "code",
   "execution_count": 99,
   "id": "b3e26e1d-0260-4b41-aae1-5fcc5167e5a8",
   "metadata": {},
   "outputs": [
    {
     "data": {
      "text/plain": [
       "'zu Hause'"
      ]
     },
     "execution_count": 99,
     "metadata": {},
     "output_type": "execute_result"
    }
   ],
   "source": [
    "person = Person2('Fritz', 'zu Hause')\n",
    "person.standort"
   ]
  },
  {
   "cell_type": "code",
   "execution_count": 100,
   "id": "db752bc1-181c-40b4-aca4-c20b77836bb6",
   "metadata": {},
   "outputs": [
    {
     "data": {
      "text/plain": [
       "'hinter den sieben Bergern'"
      ]
     },
     "execution_count": 100,
     "metadata": {},
     "output_type": "execute_result"
    }
   ],
   "source": [
    "person >> 'hinter den sieben Bergern'\n",
    "person.standort"
   ]
  },
  {
   "cell_type": "code",
   "execution_count": 101,
   "id": "0621f72b-8cb5-4873-a867-60c9a2c8353f",
   "metadata": {},
   "outputs": [],
   "source": [
    "class EingeschraenktePersonBesser2(Person2):\n",
    "\n",
    "    verbot = ['Sportplatz', 'Sporthalle', 'Tennisplatz', 'Treppenhaus']\n",
    "\n",
    "    def gehezu(self, standort):\n",
    "        if standort in self.__class__.verbot:\n",
    "            print('der Zugang zu Ort', standort, 'ist verboten.')\n",
    "        else:\n",
    "            super().gehezu(standort)"
   ]
  },
  {
   "cell_type": "code",
   "execution_count": 102,
   "id": "ff0351d8-665b-4b64-83f1-0202f1c83461",
   "metadata": {},
   "outputs": [],
   "source": [
    "ep2 = EingeschraenktePersonBesser2('Max', 'zu Hause')"
   ]
  },
  {
   "cell_type": "code",
   "execution_count": 103,
   "id": "c12d36a4-0d7a-47d3-a5a2-484e61ec98fa",
   "metadata": {},
   "outputs": [
    {
     "data": {
      "text/plain": [
       "'zu Hause'"
      ]
     },
     "execution_count": 103,
     "metadata": {},
     "output_type": "execute_result"
    }
   ],
   "source": [
    "ep2.standort"
   ]
  },
  {
   "cell_type": "code",
   "execution_count": 104,
   "id": "d94c0ad9-cb85-40ac-89d3-0a71d3bd9405",
   "metadata": {},
   "outputs": [
    {
     "name": "stdout",
     "output_type": "stream",
     "text": [
      "der Zugang zu Ort Tennisplatz ist verboten.\n"
     ]
    }
   ],
   "source": [
    "ep2.gehezu('Tennisplatz')"
   ]
  },
  {
   "cell_type": "code",
   "execution_count": 105,
   "id": "9b1bd440-d7a9-4e08-879b-d2fb4673fbb5",
   "metadata": {},
   "outputs": [
    {
     "data": {
      "text/plain": [
       "[__main__.EingeschraenktePersonBesser2,\n",
       " __main__.Person2,\n",
       " __main__.Person,\n",
       " __main__.Person,\n",
       " object]"
      ]
     },
     "execution_count": 105,
     "metadata": {},
     "output_type": "execute_result"
    }
   ],
   "source": [
    "EingeschraenktePersonBesser2.mro()"
   ]
  },
  {
   "cell_type": "code",
   "execution_count": null,
   "id": "a0440988-5fd4-4430-a520-bda0956daa2c",
   "metadata": {},
   "outputs": [],
   "source": []
  }
 ],
 "metadata": {
  "kernelspec": {
   "display_name": "Python 3.10",
   "language": "python",
   "name": "python310"
  },
  "language_info": {
   "codemirror_mode": {
    "name": "ipython",
    "version": 3
   },
   "file_extension": ".py",
   "mimetype": "text/x-python",
   "name": "python",
   "nbconvert_exporter": "python",
   "pygments_lexer": "ipython3",
   "version": "3.10.4"
  }
 },
 "nbformat": 4,
 "nbformat_minor": 5
}
