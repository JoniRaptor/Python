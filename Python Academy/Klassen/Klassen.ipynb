{
 "cells": [
  {
   "cell_type": "code",
   "execution_count": 2,
   "id": "d78a4cb0-9db8-42ff-9c32-d84c555756f1",
   "metadata": {},
   "outputs": [],
   "source": [
    "class Auto:  # Klassen immer mit großen Anfangsbuchstaben\n",
    "    # Klassen stellen etwas dar\n",
    "    \"\"\"Das Auto\"\"\"\n",
    "    def __init__(self, marke, farbe):  # Fkt führen etwas aus\n",
    "        self.marke = marke\n",
    "        self.farbe = farbe\n",
    "        self.km_stand = 0\n",
    "    \n",
    "    def Fahre(self, km):\n",
    "        \"\"\"Erhöhe `km_stand` um `km`.\"\"\"\n",
    "        self.km_stand += km"
   ]
  },
  {
   "cell_type": "code",
   "execution_count": 3,
   "id": "aac4d2b1-fe89-478a-abab-1da08476ab3f",
   "metadata": {},
   "outputs": [
    {
     "data": {
      "text/plain": [
       "\u001b[0;31mInit signature:\u001b[0m \u001b[0mAuto\u001b[0m\u001b[0;34m(\u001b[0m\u001b[0mmarke\u001b[0m\u001b[0;34m,\u001b[0m \u001b[0mfarbe\u001b[0m\u001b[0;34m)\u001b[0m\u001b[0;34m\u001b[0m\u001b[0;34m\u001b[0m\u001b[0m\n",
       "\u001b[0;31mDocstring:\u001b[0m      Das Auto\n",
       "\u001b[0;31mType:\u001b[0m           type\n",
       "\u001b[0;31mSubclasses:\u001b[0m     \n"
      ]
     },
     "metadata": {},
     "output_type": "display_data"
    }
   ],
   "source": [
    "Auto?"
   ]
  },
  {
   "cell_type": "code",
   "execution_count": 4,
   "id": "8c07d732-9971-40a1-9e7f-9babc8172a63",
   "metadata": {},
   "outputs": [],
   "source": [
    "a1 = Auto('VW', 'rot')"
   ]
  },
  {
   "cell_type": "code",
   "execution_count": 5,
   "id": "acc4c055-9825-430e-a1e1-c6cadb96972c",
   "metadata": {},
   "outputs": [
    {
     "data": {
      "text/plain": [
       "'VW'"
      ]
     },
     "execution_count": 5,
     "metadata": {},
     "output_type": "execute_result"
    }
   ],
   "source": [
    "a1.marke"
   ]
  },
  {
   "cell_type": "code",
   "execution_count": 6,
   "id": "e8251f5c-c111-43a2-bb24-bc1f21d8a71c",
   "metadata": {},
   "outputs": [
    {
     "data": {
      "text/plain": [
       "'rot'"
      ]
     },
     "execution_count": 6,
     "metadata": {},
     "output_type": "execute_result"
    }
   ],
   "source": [
    "a1.farbe"
   ]
  },
  {
   "cell_type": "code",
   "execution_count": 7,
   "id": "eaa89529-3aef-4571-a96c-3aad776f983e",
   "metadata": {},
   "outputs": [
    {
     "data": {
      "text/plain": [
       "0"
      ]
     },
     "execution_count": 7,
     "metadata": {},
     "output_type": "execute_result"
    }
   ],
   "source": [
    "a1.km_stand"
   ]
  },
  {
   "cell_type": "code",
   "execution_count": 8,
   "id": "1f6e0adf-cdb3-4cc1-9c39-915be263ddee",
   "metadata": {},
   "outputs": [],
   "source": [
    "a1.Fahre(10)"
   ]
  },
  {
   "cell_type": "code",
   "execution_count": 9,
   "id": "71d86703-dd5b-4cd6-87a9-52bf7bb94064",
   "metadata": {},
   "outputs": [
    {
     "data": {
      "text/plain": [
       "10"
      ]
     },
     "execution_count": 9,
     "metadata": {},
     "output_type": "execute_result"
    }
   ],
   "source": [
    "a1.km_stand"
   ]
  },
  {
   "cell_type": "code",
   "execution_count": 10,
   "id": "9a1d1b19-e91b-43d0-85fe-650695841c0d",
   "metadata": {},
   "outputs": [],
   "source": [
    "a1.Fahre(10)"
   ]
  },
  {
   "cell_type": "code",
   "execution_count": 11,
   "id": "580de439-75bb-431c-b46b-4afd9e90f836",
   "metadata": {},
   "outputs": [
    {
     "data": {
      "text/plain": [
       "20"
      ]
     },
     "execution_count": 11,
     "metadata": {},
     "output_type": "execute_result"
    }
   ],
   "source": [
    "a1.km_stand"
   ]
  },
  {
   "cell_type": "code",
   "execution_count": 12,
   "id": "3628d0dd-fe31-4a29-8fce-5cffc44048ac",
   "metadata": {},
   "outputs": [],
   "source": [
    "a2 = Auto('BMW', 'schwarz')"
   ]
  },
  {
   "cell_type": "code",
   "execution_count": 14,
   "id": "5f6a94c4-f981-434f-b222-4f1e61ac881b",
   "metadata": {},
   "outputs": [
    {
     "data": {
      "text/plain": [
       "'BMW'"
      ]
     },
     "execution_count": 14,
     "metadata": {},
     "output_type": "execute_result"
    }
   ],
   "source": [
    "a2.marke"
   ]
  },
  {
   "cell_type": "code",
   "execution_count": 21,
   "id": "df67be6f-e16c-4e38-91c6-1b63dbf3de99",
   "metadata": {},
   "outputs": [
    {
     "data": {
      "text/plain": [
       "{'marke': 'VW', 'farbe': 'rot', 'km_stand': 50}"
      ]
     },
     "execution_count": 21,
     "metadata": {},
     "output_type": "execute_result"
    }
   ],
   "source": [
    "a1.__dict__  # Werte in Dictionary"
   ]
  },
  {
   "cell_type": "code",
   "execution_count": 22,
   "id": "0d705109-6512-4e5f-b5e0-6bd74880eb27",
   "metadata": {},
   "outputs": [
    {
     "data": {
      "text/plain": [
       "<function __main__.Auto.Fahre(self, km)>"
      ]
     },
     "execution_count": 22,
     "metadata": {},
     "output_type": "execute_result"
    }
   ],
   "source": [
    "Auto.Fahre"
   ]
  },
  {
   "cell_type": "code",
   "execution_count": 23,
   "id": "6e2fdf5c-fa6c-49a3-8027-5acf20085e51",
   "metadata": {},
   "outputs": [],
   "source": [
    "Auto.Fahre(a1, 15)"
   ]
  },
  {
   "cell_type": "code",
   "execution_count": 24,
   "id": "0c506f5f-da70-4d8e-9232-e5990370148e",
   "metadata": {},
   "outputs": [
    {
     "data": {
      "text/plain": [
       "65"
      ]
     },
     "execution_count": 24,
     "metadata": {},
     "output_type": "execute_result"
    }
   ],
   "source": [
    "a1.km_stand"
   ]
  },
  {
   "cell_type": "code",
   "execution_count": 25,
   "id": "6e2b2835-cdcf-4bf8-818e-cfe512687719",
   "metadata": {},
   "outputs": [],
   "source": [
    "a1.Fahre(15)"
   ]
  },
  {
   "cell_type": "code",
   "execution_count": 26,
   "id": "5ad117f3-157a-42a2-8bd9-207322a4089a",
   "metadata": {},
   "outputs": [
    {
     "data": {
      "text/plain": [
       "80"
      ]
     },
     "execution_count": 26,
     "metadata": {},
     "output_type": "execute_result"
    }
   ],
   "source": [
    "a1.km_stand"
   ]
  },
  {
   "cell_type": "code",
   "execution_count": 27,
   "id": "5fb3cb56-c601-4eae-8727-35f2afeb5675",
   "metadata": {},
   "outputs": [
    {
     "data": {
      "text/plain": [
       "__main__.Auto"
      ]
     },
     "execution_count": 27,
     "metadata": {},
     "output_type": "execute_result"
    }
   ],
   "source": [
    "type(a1)"
   ]
  },
  {
   "cell_type": "code",
   "execution_count": 28,
   "id": "5b557e9e-dba9-4e7c-9927-13bd3cd427bc",
   "metadata": {},
   "outputs": [
    {
     "data": {
      "text/plain": [
       "type"
      ]
     },
     "execution_count": 28,
     "metadata": {},
     "output_type": "execute_result"
    }
   ],
   "source": [
    "type(Auto)"
   ]
  },
  {
   "cell_type": "code",
   "execution_count": 29,
   "id": "8142aa43-21bf-47e7-a849-9c3dc6586994",
   "metadata": {},
   "outputs": [
    {
     "data": {
      "text/plain": [
       "type"
      ]
     },
     "execution_count": 29,
     "metadata": {},
     "output_type": "execute_result"
    }
   ],
   "source": [
    "type(int)"
   ]
  },
  {
   "cell_type": "code",
   "execution_count": 30,
   "id": "c7b2d381-2f5b-4c31-84ae-11840a214d82",
   "metadata": {},
   "outputs": [
    {
     "data": {
      "text/plain": [
       "type"
      ]
     },
     "execution_count": 30,
     "metadata": {},
     "output_type": "execute_result"
    }
   ],
   "source": [
    "type(float)"
   ]
  },
  {
   "cell_type": "code",
   "execution_count": 35,
   "id": "edb35849-664d-4a8f-ad43-a29e0731c242",
   "metadata": {},
   "outputs": [
    {
     "data": {
      "text/plain": [
       "type"
      ]
     },
     "execution_count": 35,
     "metadata": {},
     "output_type": "execute_result"
    }
   ],
   "source": [
    "type(list)  # Klasse"
   ]
  },
  {
   "cell_type": "code",
   "execution_count": 34,
   "id": "b88798d4-c659-42e1-86e5-c2faf78e96f5",
   "metadata": {},
   "outputs": [
    {
     "data": {
      "text/plain": [
       "1.0"
      ]
     },
     "execution_count": 34,
     "metadata": {},
     "output_type": "execute_result"
    }
   ],
   "source": [
    "float(1)  # Instanz der Klasse float"
   ]
  },
  {
   "cell_type": "code",
   "execution_count": 36,
   "id": "ed5c9b86-93d3-44f7-a9a9-2e07cc3cf208",
   "metadata": {},
   "outputs": [],
   "source": [
    "# jedes Objekt ist Instanz einer Klasse"
   ]
  },
  {
   "cell_type": "code",
   "execution_count": 37,
   "id": "e3c327d6-c3ac-46c2-8a3a-8b53df2a87e3",
   "metadata": {},
   "outputs": [
    {
     "data": {
      "text/plain": [
       "True"
      ]
     },
     "execution_count": 37,
     "metadata": {},
     "output_type": "execute_result"
    }
   ],
   "source": [
    "isinstance(1, int)"
   ]
  },
  {
   "cell_type": "code",
   "execution_count": 38,
   "id": "969d4c3c-35cf-4252-8870-059f06d0bf8c",
   "metadata": {},
   "outputs": [
    {
     "data": {
      "text/plain": [
       "True"
      ]
     },
     "execution_count": 38,
     "metadata": {},
     "output_type": "execute_result"
    }
   ],
   "source": [
    "isinstance(a1, Auto)"
   ]
  },
  {
   "cell_type": "code",
   "execution_count": 39,
   "id": "82b34e13-72fa-4f70-9908-a5c41ec546a3",
   "metadata": {},
   "outputs": [],
   "source": [
    "autos = [Auto(marke, farbe) for marke, farbe in zip('ABC', 'xyz')]"
   ]
  },
  {
   "cell_type": "code",
   "execution_count": 40,
   "id": "1a49b8f1-db1f-4430-ac82-fd16212de741",
   "metadata": {},
   "outputs": [
    {
     "data": {
      "text/plain": [
       "'A'"
      ]
     },
     "execution_count": 40,
     "metadata": {},
     "output_type": "execute_result"
    }
   ],
   "source": [
    "autos[0].marke"
   ]
  },
  {
   "cell_type": "code",
   "execution_count": 41,
   "id": "98dbfdef-1911-4bdc-ad1c-091bd1c5cf2b",
   "metadata": {},
   "outputs": [
    {
     "data": {
      "text/plain": [
       "[<__main__.Auto at 0x7f11c0964160>,\n",
       " <__main__.Auto at 0x7f11c0964640>,\n",
       " <__main__.Auto at 0x7f11c09642e0>]"
      ]
     },
     "execution_count": 41,
     "metadata": {},
     "output_type": "execute_result"
    }
   ],
   "source": [
    "autos"
   ]
  },
  {
   "cell_type": "code",
   "execution_count": 42,
   "id": "b9388f48-e350-4eaf-9ba9-fc03a0fb3973",
   "metadata": {},
   "outputs": [],
   "source": [
    "import random\n",
    "\n",
    "class EinfachesAuto:\n",
    "\n",
    "    \"\"\"Das Auto\"\"\"\n",
    "    \n",
    "    vorgabe_farbe = ['gelb', 'braun', 'pink']\n",
    "    def __init__(self, marke, farbe=None):\n",
    "        self.marke = marke\n",
    "        if farbe is None:\n",
    "            self.farbe = random.choice(self.vorgabe_farbe)\n",
    "        else:\n",
    "            self.farbe = farbe\n",
    "        self.km_stand = 0\n",
    "    \n",
    "    def Fahre(self, km):\n",
    "        \"\"\"Erhöhe `km_stand` um `km`.\"\"\"\n",
    "        self.km_stand += km"
   ]
  },
  {
   "cell_type": "code",
   "execution_count": 45,
   "id": "6ad60552-cf3c-4044-987d-85ff6f50764b",
   "metadata": {},
   "outputs": [],
   "source": [
    "ea1 = EinfachesAuto('Skode')"
   ]
  },
  {
   "cell_type": "code",
   "execution_count": 46,
   "id": "a0102041-6d1d-454b-9e36-a34c8f173f41",
   "metadata": {},
   "outputs": [
    {
     "data": {
      "text/plain": [
       "'gelb'"
      ]
     },
     "execution_count": 46,
     "metadata": {},
     "output_type": "execute_result"
    }
   ],
   "source": [
    "ea1.farbe"
   ]
  },
  {
   "cell_type": "code",
   "execution_count": 47,
   "id": "63ff6bc8-802e-427b-a289-cede73eb247d",
   "metadata": {},
   "outputs": [
    {
     "data": {
      "text/plain": [
       "['gelb', 'braun', 'pink']"
      ]
     },
     "execution_count": 47,
     "metadata": {},
     "output_type": "execute_result"
    }
   ],
   "source": [
    "ea1.vorgabe_farbe"
   ]
  },
  {
   "cell_type": "code",
   "execution_count": 48,
   "id": "ee948cc6-6310-4bd9-9c84-0a0fdd1bd9dd",
   "metadata": {},
   "outputs": [
    {
     "data": {
      "text/plain": [
       "{'marke': 'Skode', 'farbe': 'gelb', 'km_stand': 0}"
      ]
     },
     "execution_count": 48,
     "metadata": {},
     "output_type": "execute_result"
    }
   ],
   "source": [
    "ea1.__dict__"
   ]
  },
  {
   "cell_type": "code",
   "execution_count": 49,
   "id": "e20add7b-a59f-48aa-80ca-02480666d946",
   "metadata": {},
   "outputs": [
    {
     "data": {
      "text/plain": [
       "mappingproxy({'__module__': '__main__',\n",
       "              '__doc__': 'Das Auto',\n",
       "              'vorgabe_farbe': ['gelb', 'braun', 'pink'],\n",
       "              '__init__': <function __main__.EinfachesAuto.__init__(self, marke, farbe=None)>,\n",
       "              'Fahre': <function __main__.EinfachesAuto.Fahre(self, km)>,\n",
       "              '__dict__': <attribute '__dict__' of 'EinfachesAuto' objects>,\n",
       "              '__weakref__': <attribute '__weakref__' of 'EinfachesAuto' objects>})"
      ]
     },
     "execution_count": 49,
     "metadata": {},
     "output_type": "execute_result"
    }
   ],
   "source": [
    "EinfachesAuto.__dict__"
   ]
  },
  {
   "cell_type": "code",
   "execution_count": 54,
   "id": "4bff56be-c7a7-400a-ad3d-b1823a5ef062",
   "metadata": {},
   "outputs": [],
   "source": [
    "ea1.vorgabe_farbe = ['silber', 'gold', 'platin']  # Klasseneig. kann für Instanz überschrieben werden"
   ]
  },
  {
   "cell_type": "code",
   "execution_count": 55,
   "id": "a3f2e486-1e4f-4ab1-9043-b8c74b84c454",
   "metadata": {},
   "outputs": [
    {
     "data": {
      "text/plain": [
       "['silber', 'gold', 'platin']"
      ]
     },
     "execution_count": 55,
     "metadata": {},
     "output_type": "execute_result"
    }
   ],
   "source": [
    "ea1.vorgabe_farbe"
   ]
  },
  {
   "cell_type": "code",
   "execution_count": 56,
   "id": "393c24c4-45a7-4e4f-be0e-b4d27daddfad",
   "metadata": {},
   "outputs": [
    {
     "data": {
      "text/plain": [
       "['gelb', 'braun', 'pink']"
      ]
     },
     "execution_count": 56,
     "metadata": {},
     "output_type": "execute_result"
    }
   ],
   "source": [
    "EinfachesAuto.vorgabe_farbe"
   ]
  },
  {
   "cell_type": "code",
   "execution_count": 57,
   "id": "d1c261d3-f206-4a5a-90e0-0744ebdf13d5",
   "metadata": {},
   "outputs": [
    {
     "data": {
      "text/plain": [
       "{'marke': 'Skode',\n",
       " 'farbe': 'gelb',\n",
       " 'km_stand': 0,\n",
       " 'vorgabe_farbe': ['silber', 'gold', 'platin']}"
      ]
     },
     "execution_count": 57,
     "metadata": {},
     "output_type": "execute_result"
    }
   ],
   "source": [
    "ea1.__dict__"
   ]
  },
  {
   "cell_type": "markdown",
   "id": "b5e9ac5f-b461-4e95-93f7-7208a4e1d73e",
   "metadata": {},
   "source": [
    "# Vererbung"
   ]
  },
  {
   "cell_type": "code",
   "execution_count": 58,
   "id": "5f245b3f-3d46-4dd5-9c83-05430a488326",
   "metadata": {},
   "outputs": [],
   "source": [
    "class BetriebsAuto:\n",
    "    \"\"\"Das Auto\"\"\"\n",
    "    def __init__(self, marke, farbe):\n",
    "        self.marke = marke\n",
    "        self.farbe = farbe\n",
    "        self.km_stand = 0\n",
    "        self.fahrten = []\n",
    "    \n",
    "    def Fahre(self, km):\n",
    "        \"\"\"Erhöhe `km_stand` um `km`.\"\"\"\n",
    "        self.km_stand += km\n",
    "        self.fahrten.append(km)"
   ]
  },
  {
   "cell_type": "code",
   "execution_count": 59,
   "id": "a1485d9e-d43a-4f80-89a0-38d953971c5b",
   "metadata": {},
   "outputs": [],
   "source": [
    "b1 = BetriebsAuto('VW', 'rot')"
   ]
  },
  {
   "cell_type": "code",
   "execution_count": 60,
   "id": "891546d2-1b4e-4fe2-8b3f-87a1dd815ad9",
   "metadata": {},
   "outputs": [],
   "source": [
    "b1.Fahre(10)"
   ]
  },
  {
   "cell_type": "code",
   "execution_count": 61,
   "id": "de94e2a2-1794-4b85-852a-2a94e19ddf59",
   "metadata": {},
   "outputs": [
    {
     "data": {
      "text/plain": [
       "10"
      ]
     },
     "execution_count": 61,
     "metadata": {},
     "output_type": "execute_result"
    }
   ],
   "source": [
    "b1.km_stand"
   ]
  },
  {
   "cell_type": "code",
   "execution_count": 62,
   "id": "fb147b22-afc7-4cb4-888f-e99777fc81cb",
   "metadata": {},
   "outputs": [],
   "source": [
    "b1.Fahre(15)"
   ]
  },
  {
   "cell_type": "code",
   "execution_count": 63,
   "id": "e4910812-0693-4816-88d0-88438568dfce",
   "metadata": {},
   "outputs": [
    {
     "data": {
      "text/plain": [
       "25"
      ]
     },
     "execution_count": 63,
     "metadata": {},
     "output_type": "execute_result"
    }
   ],
   "source": [
    "b1.km_stand"
   ]
  },
  {
   "cell_type": "code",
   "execution_count": 64,
   "id": "327df339-cf3e-494a-9443-a10c3205c5a8",
   "metadata": {},
   "outputs": [
    {
     "data": {
      "text/plain": [
       "[10, 15]"
      ]
     },
     "execution_count": 64,
     "metadata": {},
     "output_type": "execute_result"
    }
   ],
   "source": [
    "b1.fahrten"
   ]
  },
  {
   "cell_type": "code",
   "execution_count": 68,
   "id": "4656777f-7f70-47f4-abd0-19dc1f8d5ed2",
   "metadata": {},
   "outputs": [],
   "source": [
    "class LKW(BetriebsAuto):  # LKW übernimmt alles von Betreibsauto\n",
    "    \n",
    "    def Fahre(self, km):  # überschreibt Fahre Fkt von Betriebsauto\n",
    "        self.km_stand += km*2\n",
    "        self.fahrten.append(km*2)"
   ]
  },
  {
   "cell_type": "code",
   "execution_count": 69,
   "id": "88f71bec-60b8-4648-bc03-840f8efbafc9",
   "metadata": {},
   "outputs": [],
   "source": [
    "L1 = LKW('MAN', 'weiß')"
   ]
  },
  {
   "cell_type": "code",
   "execution_count": 70,
   "id": "a36b5dcc-49ff-4f5d-9e4e-956976a17385",
   "metadata": {},
   "outputs": [],
   "source": [
    "L1.Fahre(10)"
   ]
  },
  {
   "cell_type": "code",
   "execution_count": 71,
   "id": "1f20f991-4194-4f30-84c0-fda2af67e4aa",
   "metadata": {},
   "outputs": [
    {
     "data": {
      "text/plain": [
       "20"
      ]
     },
     "execution_count": 71,
     "metadata": {},
     "output_type": "execute_result"
    }
   ],
   "source": [
    "L1.km_stand"
   ]
  },
  {
   "cell_type": "code",
   "execution_count": 72,
   "id": "052ea280-af2c-477c-8ede-91d9953eaa47",
   "metadata": {},
   "outputs": [
    {
     "data": {
      "text/plain": [
       "[20]"
      ]
     },
     "execution_count": 72,
     "metadata": {},
     "output_type": "execute_result"
    }
   ],
   "source": [
    "L1.fahrten"
   ]
  },
  {
   "cell_type": "code",
   "execution_count": 74,
   "id": "a07c2a2a-7b19-43f0-954f-e0ebb285500f",
   "metadata": {},
   "outputs": [
    {
     "data": {
      "text/plain": [
       "[__main__.LKW, __main__.BetriebsAuto, object]"
      ]
     },
     "execution_count": 74,
     "metadata": {},
     "output_type": "execute_result"
    }
   ],
   "source": [
    "LKW.mro()  # Vererbungspfad"
   ]
  },
  {
   "cell_type": "code",
   "execution_count": 77,
   "id": "e67af34b-faba-4e83-b399-6846ffbff8ae",
   "metadata": {},
   "outputs": [
    {
     "data": {
      "text/plain": [
       "[int, object]"
      ]
     },
     "execution_count": 77,
     "metadata": {},
     "output_type": "execute_result"
    }
   ],
   "source": [
    "int.mro()  # alle klassen basieren in Python auf objekt"
   ]
  },
  {
   "cell_type": "code",
   "execution_count": 78,
   "id": "6ec55695-a078-4aa6-bdc3-b0447b40f16d",
   "metadata": {},
   "outputs": [
    {
     "data": {
      "text/plain": [
       "[list, object]"
      ]
     },
     "execution_count": 78,
     "metadata": {},
     "output_type": "execute_result"
    }
   ],
   "source": [
    "list.mro()"
   ]
  },
  {
   "cell_type": "code",
   "execution_count": 79,
   "id": "a2d893eb-cfad-4938-8349-78f77a562fd9",
   "metadata": {},
   "outputs": [
    {
     "data": {
      "text/plain": [
       "True"
      ]
     },
     "execution_count": 79,
     "metadata": {},
     "output_type": "execute_result"
    }
   ],
   "source": [
    "isinstance(L1, LKW)"
   ]
  },
  {
   "cell_type": "code",
   "execution_count": 80,
   "id": "6bdf6f08-4f98-4653-9d66-f7c036816b97",
   "metadata": {},
   "outputs": [
    {
     "data": {
      "text/plain": [
       "True"
      ]
     },
     "execution_count": 80,
     "metadata": {},
     "output_type": "execute_result"
    }
   ],
   "source": [
    "isinstance(L1, BetriebsAuto)"
   ]
  },
  {
   "cell_type": "code",
   "execution_count": 82,
   "id": "edc03346-d6c6-41db-b2d2-91b91d303a8b",
   "metadata": {},
   "outputs": [
    {
     "data": {
      "text/plain": [
       "True"
      ]
     },
     "execution_count": 82,
     "metadata": {},
     "output_type": "execute_result"
    }
   ],
   "source": [
    "isinstance(L1, object)"
   ]
  },
  {
   "cell_type": "code",
   "execution_count": 83,
   "id": "793559cc-8c31-462a-bc10-ba65cc27e9d8",
   "metadata": {},
   "outputs": [
    {
     "data": {
      "text/plain": [
       "\u001b[0;31mInit signature:\u001b[0m \u001b[0mobject\u001b[0m\u001b[0;34m(\u001b[0m\u001b[0;34m)\u001b[0m\u001b[0;34m\u001b[0m\u001b[0;34m\u001b[0m\u001b[0m\n",
       "\u001b[0;31mDocstring:\u001b[0m     \n",
       "The base class of the class hierarchy.\n",
       "\n",
       "When called, it accepts no arguments and returns a new featureless\n",
       "instance that has no instance attributes and cannot be given any.\n",
       "\u001b[0;31mType:\u001b[0m           type\n",
       "\u001b[0;31mSubclasses:\u001b[0m     type, async_generator, int, bytearray_iterator, bytearray, bytes_iterator, bytes, builtin_function_or_method, callable_iterator, PyCapsule, ...\n"
      ]
     },
     "metadata": {},
     "output_type": "display_data"
    }
   ],
   "source": [
    "object?"
   ]
  },
  {
   "cell_type": "code",
   "execution_count": 84,
   "id": "f33948a0-a16d-41f5-9a1d-2eb5376d1471",
   "metadata": {},
   "outputs": [],
   "source": [
    "class BessererLKW(BetriebsAuto):\n",
    "    \n",
    "    def Fahre(self, km):\n",
    "        super().Fahre(km*2)  # übergibt modifizieren Param an Fkt Fahre der Elternklasse"
   ]
  },
  {
   "cell_type": "code",
   "execution_count": 85,
   "id": "77343683-5333-4037-bceb-6f6d34d43760",
   "metadata": {},
   "outputs": [],
   "source": [
    "L2 = BessererLKW('Scania', 'grün')"
   ]
  },
  {
   "cell_type": "code",
   "execution_count": 86,
   "id": "eb22bc79-142a-43ef-b957-6d4ddef73211",
   "metadata": {},
   "outputs": [
    {
     "data": {
      "text/plain": [
       "0"
      ]
     },
     "execution_count": 86,
     "metadata": {},
     "output_type": "execute_result"
    }
   ],
   "source": [
    "L2.km_stand"
   ]
  },
  {
   "cell_type": "code",
   "execution_count": 87,
   "id": "e6d76112-9f55-49b5-bda7-78ec66f3bba0",
   "metadata": {},
   "outputs": [],
   "source": [
    "L2.Fahre(10)"
   ]
  },
  {
   "cell_type": "code",
   "execution_count": 88,
   "id": "c6cedf03-57e6-423c-9327-ba0f8495786f",
   "metadata": {},
   "outputs": [
    {
     "data": {
      "text/plain": [
       "20"
      ]
     },
     "execution_count": 88,
     "metadata": {},
     "output_type": "execute_result"
    }
   ],
   "source": [
    "L2.km_stand"
   ]
  },
  {
   "cell_type": "markdown",
   "id": "9ee63e10-57af-45f3-bd76-ea326eececd3",
   "metadata": {},
   "source": [
    "## Achtung: wenn Elternklasse angepasst --> auch Kind angepasst"
   ]
  },
  {
   "cell_type": "code",
   "execution_count": 89,
   "id": "d26da0e3-8ffa-43ca-b6a6-fbc5e608789a",
   "metadata": {},
   "outputs": [
    {
     "ename": "RuntimeError",
     "evalue": "super(): no arguments",
     "output_type": "error",
     "traceback": [
      "\u001b[0;31m---------------------------------------------------------------------------\u001b[0m",
      "\u001b[0;31mRuntimeError\u001b[0m                              Traceback (most recent call last)",
      "Input \u001b[0;32mIn [89]\u001b[0m, in \u001b[0;36m<cell line: 1>\u001b[0;34m()\u001b[0m\n\u001b[0;32m----> 1\u001b[0m \u001b[38;5;28;43msuper\u001b[39;49m\u001b[43m(\u001b[49m\u001b[43m)\u001b[49m\n",
      "\u001b[0;31mRuntimeError\u001b[0m: super(): no arguments"
     ]
    }
   ],
   "source": [
    "super()"
   ]
  },
  {
   "cell_type": "code",
   "execution_count": 90,
   "id": "ac6df6f1-791b-4598-ad0a-1fa8da976522",
   "metadata": {},
   "outputs": [
    {
     "data": {
      "text/plain": [
       "\u001b[0;31mInit signature:\u001b[0m \u001b[0msuper\u001b[0m\u001b[0;34m(\u001b[0m\u001b[0mself\u001b[0m\u001b[0;34m,\u001b[0m \u001b[0;34m/\u001b[0m\u001b[0;34m,\u001b[0m \u001b[0;34m*\u001b[0m\u001b[0margs\u001b[0m\u001b[0;34m,\u001b[0m \u001b[0;34m**\u001b[0m\u001b[0mkwargs\u001b[0m\u001b[0;34m)\u001b[0m\u001b[0;34m\u001b[0m\u001b[0;34m\u001b[0m\u001b[0m\n",
       "\u001b[0;31mDocstring:\u001b[0m     \n",
       "super() -> same as super(__class__, <first argument>)\n",
       "super(type) -> unbound super object\n",
       "super(type, obj) -> bound super object; requires isinstance(obj, type)\n",
       "super(type, type2) -> bound super object; requires issubclass(type2, type)\n",
       "Typical use to call a cooperative superclass method:\n",
       "class C(B):\n",
       "    def meth(self, arg):\n",
       "        super().meth(arg)\n",
       "This works for class methods too:\n",
       "class C(B):\n",
       "    @classmethod\n",
       "    def cmeth(cls, arg):\n",
       "        super().cmeth(arg)\n",
       "\u001b[0;31mType:\u001b[0m           type\n",
       "\u001b[0;31mSubclasses:\u001b[0m     \n"
      ]
     },
     "metadata": {},
     "output_type": "display_data"
    }
   ],
   "source": [
    "super?"
   ]
  },
  {
   "cell_type": "markdown",
   "id": "57d6c937-d550-485e-b6cb-5b0ccfcd2b6f",
   "metadata": {},
   "source": [
    "# Operatorüberladung"
   ]
  },
  {
   "cell_type": "code",
   "execution_count": 106,
   "id": "77bf2eb8-73b6-4fd6-9da3-d5dd88c116b0",
   "metadata": {},
   "outputs": [],
   "source": [
    "class AddierbaresAuto:\n",
    "    \"\"\"Auto\"\"\"\n",
    "    \n",
    "    def __init__(self, marke, farbe):\n",
    "        self.marke = marke\n",
    "        self.farbe = farbe\n",
    "        self.km_stand = 0\n",
    "        self.fahrten = []\n",
    "    \n",
    "    def Fahre(self, km):\n",
    "        \"\"\"Erhöhe `km_stand` um `km`.\"\"\"\n",
    "        self.km_stand += km\n",
    "        self.fahrten.append(km)\n",
    "    \n",
    "    def __add__(self, other):  # vorher definierte Operatoren können Überschrieben werden (hier: +)\n",
    "        return AddierbaresAuto(self.marke + other.marke, self.farbe + other.farbe)"
   ]
  },
  {
   "cell_type": "code",
   "execution_count": 107,
   "id": "9b233c18-81c7-429e-bb19-784abf325290",
   "metadata": {},
   "outputs": [],
   "source": [
    "aa1 = AddierbaresAuto('VW', 'rot')\n",
    "aa2 = AddierbaresAuto('BMW', 'schwarz')"
   ]
  },
  {
   "cell_type": "code",
   "execution_count": 108,
   "id": "2a005fbc-089b-44e7-b74f-068f55edb6b5",
   "metadata": {},
   "outputs": [],
   "source": [
    "aa3 = aa1 + aa2"
   ]
  },
  {
   "cell_type": "code",
   "execution_count": 109,
   "id": "1fce22f0-3928-4c0b-b66c-0e1b7340b84a",
   "metadata": {},
   "outputs": [
    {
     "data": {
      "text/plain": [
       "'VWBMW'"
      ]
     },
     "execution_count": 109,
     "metadata": {},
     "output_type": "execute_result"
    }
   ],
   "source": [
    "aa3.marke"
   ]
  },
  {
   "cell_type": "code",
   "execution_count": 110,
   "id": "33fabef9-90f6-4b3f-88ee-50f9ce2a76ee",
   "metadata": {},
   "outputs": [
    {
     "data": {
      "text/plain": [
       "'rotschwarz'"
      ]
     },
     "execution_count": 110,
     "metadata": {},
     "output_type": "execute_result"
    }
   ],
   "source": [
    "aa3.farbe"
   ]
  },
  {
   "cell_type": "code",
   "execution_count": 123,
   "id": "855aad06-f76e-4680-8aa3-b6837d535a69",
   "metadata": {},
   "outputs": [
    {
     "ename": "TypeError",
     "evalue": "'AddierbaresAuto' object is not iterable",
     "output_type": "error",
     "traceback": [
      "\u001b[0;31m---------------------------------------------------------------------------\u001b[0m",
      "\u001b[0;31mTypeError\u001b[0m                                 Traceback (most recent call last)",
      "Input \u001b[0;32mIn [123]\u001b[0m, in \u001b[0;36m<cell line: 1>\u001b[0;34m()\u001b[0m\n\u001b[0;32m----> 1\u001b[0m aa4 \u001b[38;5;241m=\u001b[39m \u001b[38;5;28;43msum\u001b[39;49m\u001b[43m(\u001b[49m\u001b[43maa1\u001b[49m\u001b[43m,\u001b[49m\u001b[43m \u001b[49m\u001b[43maa2\u001b[49m\u001b[43m)\u001b[49m\n",
      "\u001b[0;31mTypeError\u001b[0m: 'AddierbaresAuto' object is not iterable"
     ]
    }
   ],
   "source": [
    "aa4 = sum(aa1, aa2)"
   ]
  },
  {
   "cell_type": "code",
   "execution_count": null,
   "id": "e8d16889-cec9-4fd5-8605-e2412d8e22c5",
   "metadata": {},
   "outputs": [],
   "source": []
  },
  {
   "cell_type": "code",
   "execution_count": 111,
   "id": "520cbddc-1d9c-4112-b251-28be81e4f303",
   "metadata": {},
   "outputs": [
    {
     "data": {
      "text/plain": [
       "\u001b[0;31mSignature:\u001b[0m \u001b[0msum\u001b[0m\u001b[0;34m(\u001b[0m\u001b[0miterable\u001b[0m\u001b[0;34m,\u001b[0m \u001b[0;34m/\u001b[0m\u001b[0;34m,\u001b[0m \u001b[0mstart\u001b[0m\u001b[0;34m=\u001b[0m\u001b[0;36m0\u001b[0m\u001b[0;34m)\u001b[0m\u001b[0;34m\u001b[0m\u001b[0;34m\u001b[0m\u001b[0m\n",
       "\u001b[0;31mDocstring:\u001b[0m\n",
       "Return the sum of a 'start' value (default: 0) plus an iterable of numbers\n",
       "\n",
       "When the iterable is empty, return the start value.\n",
       "This function is intended specifically for use with numeric values and may\n",
       "reject non-numeric types.\n",
       "\u001b[0;31mType:\u001b[0m      builtin_function_or_method\n"
      ]
     },
     "metadata": {},
     "output_type": "display_data"
    }
   ],
   "source": [
    "sum?"
   ]
  },
  {
   "cell_type": "code",
   "execution_count": 112,
   "id": "c59ccc98-6cf8-4cf8-8498-77dfb9b79703",
   "metadata": {},
   "outputs": [],
   "source": [
    "res = sum([aa1, aa2], AddierbaresAuto('',''))"
   ]
  },
  {
   "cell_type": "code",
   "execution_count": 113,
   "id": "90ef8f41-d7cb-410c-b40e-5b83fe4f7dd0",
   "metadata": {},
   "outputs": [
    {
     "data": {
      "text/plain": [
       "True"
      ]
     },
     "execution_count": 113,
     "metadata": {},
     "output_type": "execute_result"
    }
   ],
   "source": [
    "callable(int)"
   ]
  },
  {
   "cell_type": "code",
   "execution_count": 114,
   "id": "a9ba4061-8284-41ee-af91-4eab8745d505",
   "metadata": {},
   "outputs": [
    {
     "data": {
      "text/plain": [
       "type"
      ]
     },
     "execution_count": 114,
     "metadata": {},
     "output_type": "execute_result"
    }
   ],
   "source": [
    "type(int)"
   ]
  },
  {
   "cell_type": "code",
   "execution_count": 115,
   "id": "1a270266-166d-4b12-9511-5ab0e6ec7883",
   "metadata": {},
   "outputs": [
    {
     "data": {
      "text/plain": [
       "<__main__.AddierbaresAuto at 0x7f11a7f6dea0>"
      ]
     },
     "execution_count": 115,
     "metadata": {},
     "output_type": "execute_result"
    }
   ],
   "source": [
    "res"
   ]
  },
  {
   "cell_type": "code",
   "execution_count": 117,
   "id": "fca40e08-5ad3-4cbb-a72b-af5845508be9",
   "metadata": {},
   "outputs": [],
   "source": [
    "L = [1, 2, 3]"
   ]
  },
  {
   "cell_type": "code",
   "execution_count": 118,
   "id": "30fcd83a-5d63-482c-9b0b-ace065391260",
   "metadata": {},
   "outputs": [
    {
     "data": {
      "text/plain": [
       "'[1, 2, 3]'"
      ]
     },
     "execution_count": 118,
     "metadata": {},
     "output_type": "execute_result"
    }
   ],
   "source": [
    "str(L)"
   ]
  },
  {
   "cell_type": "code",
   "execution_count": 119,
   "id": "91311333-3020-4114-bdb9-f2508b1c675e",
   "metadata": {},
   "outputs": [
    {
     "data": {
      "text/plain": [
       "'[1, 2, 3]'"
      ]
     },
     "execution_count": 119,
     "metadata": {},
     "output_type": "execute_result"
    }
   ],
   "source": [
    "repr(L)"
   ]
  },
  {
   "cell_type": "code",
   "execution_count": 120,
   "id": "ea4df366-c3b9-4f04-b7d8-813b35232af3",
   "metadata": {},
   "outputs": [],
   "source": [
    "a = 'ABC'"
   ]
  },
  {
   "cell_type": "code",
   "execution_count": 121,
   "id": "44662f0a-b67b-4107-bc9d-8c44ed137eb4",
   "metadata": {},
   "outputs": [
    {
     "data": {
      "text/plain": [
       "'ABC'"
      ]
     },
     "execution_count": 121,
     "metadata": {},
     "output_type": "execute_result"
    }
   ],
   "source": [
    "str(a)"
   ]
  },
  {
   "cell_type": "code",
   "execution_count": 129,
   "id": "4a9e4574-6e2c-4e04-9630-bff14ed30969",
   "metadata": {},
   "outputs": [
    {
     "data": {
      "text/plain": [
       "\"'ABC'\""
      ]
     },
     "execution_count": 129,
     "metadata": {},
     "output_type": "execute_result"
    }
   ],
   "source": [
    "repr(a)"
   ]
  },
  {
   "cell_type": "code",
   "execution_count": 128,
   "id": "c62e6aa9-db38-486f-8221-0069fdd9ea5f",
   "metadata": {},
   "outputs": [
    {
     "data": {
      "text/plain": [
       "\u001b[0;31mSignature:\u001b[0m \u001b[0mrepr\u001b[0m\u001b[0;34m(\u001b[0m\u001b[0mobj\u001b[0m\u001b[0;34m,\u001b[0m \u001b[0;34m/\u001b[0m\u001b[0;34m)\u001b[0m\u001b[0;34m\u001b[0m\u001b[0;34m\u001b[0m\u001b[0m\n",
       "\u001b[0;31mDocstring:\u001b[0m\n",
       "Return the canonical string representation of the object.\n",
       "\n",
       "For many object types, including most builtins, eval(repr(obj)) == obj.\n",
       "\u001b[0;31mType:\u001b[0m      builtin_function_or_method\n"
      ]
     },
     "metadata": {},
     "output_type": "display_data"
    }
   ],
   "source": [
    "repr?"
   ]
  },
  {
   "cell_type": "code",
   "execution_count": 148,
   "id": "5546f7e9-76fc-4723-9144-fc039ae0c08c",
   "metadata": {},
   "outputs": [],
   "source": [
    "class AddierbaresAutoBesser:\n",
    "    \"\"\"Auto\"\"\"\n",
    "    \n",
    "    def __init__(self, marke, farbe):\n",
    "        self.marke = marke\n",
    "        self.farbe = farbe\n",
    "        self.km_stand = 0\n",
    "        self.fahrten = []\n",
    "    \n",
    "    def Fahre(self, km):\n",
    "        \"\"\"Erhöhe `km_stand` um `km`.\"\"\"\n",
    "        self.km_stand += km\n",
    "        self.fahrten.append(km)\n",
    "    \n",
    "    def __add__(self, other):\n",
    "        return self.__class__(self.marke + other.marke, self.farbe + other.farbe)  # für weitervererung anpassen (Klasse soll auf sich selbst zeigen)\n",
    "    \n",
    "    def __repr__(self):\n",
    "        return f'{self.__class__.__name__}({self.marke!r}, {self.farbe!r})'"
   ]
  },
  {
   "cell_type": "code",
   "execution_count": 143,
   "id": "d7ab962e-a544-4176-82fc-3564fec6b4ba",
   "metadata": {},
   "outputs": [],
   "source": [
    "aa10 = AddierbaresAuto('VW', 'rot')"
   ]
  },
  {
   "cell_type": "code",
   "execution_count": 144,
   "id": "269363b1-96a1-4b54-aa8e-82521a0c5141",
   "metadata": {},
   "outputs": [
    {
     "data": {
      "text/plain": [
       "AddierbaresAuto('VW', 'rot')"
      ]
     },
     "execution_count": 144,
     "metadata": {},
     "output_type": "execute_result"
    }
   ],
   "source": [
    "aa10"
   ]
  },
  {
   "cell_type": "code",
   "execution_count": 145,
   "id": "83d929cb-9143-475a-a467-e3a06e27574c",
   "metadata": {},
   "outputs": [],
   "source": [
    "class AddierbaresAutoBesserKind(AddierbaresAutoBesser):\n",
    "    pass"
   ]
  },
  {
   "cell_type": "code",
   "execution_count": 146,
   "id": "baeb4297-2a79-44a7-bf34-ec24b7f94c42",
   "metadata": {},
   "outputs": [
    {
     "data": {
      "text/plain": [
       "AddierbaresAutoBesserKind('VW', 'rot')"
      ]
     },
     "execution_count": 146,
     "metadata": {},
     "output_type": "execute_result"
    }
   ],
   "source": [
    "AddierbaresAutoBesserKind('VW', 'rot')"
   ]
  },
  {
   "cell_type": "code",
   "execution_count": 147,
   "id": "8d92607d-7216-49ed-9cab-114d04f085fa",
   "metadata": {},
   "outputs": [
    {
     "data": {
      "text/plain": [
       "\"AddierbaresAutoBesserKind('VW', 'rot')\""
      ]
     },
     "execution_count": 147,
     "metadata": {},
     "output_type": "execute_result"
    }
   ],
   "source": [
    "str(AddierbaresAutoBesserKind('VW', 'rot'))"
   ]
  },
  {
   "cell_type": "code",
   "execution_count": 149,
   "id": "7d7da065-53ff-479a-91de-7da55174ad8a",
   "metadata": {},
   "outputs": [
    {
     "data": {
      "text/plain": [
       "[1, 2, 3]"
      ]
     },
     "execution_count": 149,
     "metadata": {},
     "output_type": "execute_result"
    }
   ],
   "source": [
    "L"
   ]
  },
  {
   "cell_type": "code",
   "execution_count": 151,
   "id": "3f3d984d-d383-4565-83e3-2c637a1858e2",
   "metadata": {},
   "outputs": [
    {
     "data": {
      "text/plain": [
       "3"
      ]
     },
     "execution_count": 151,
     "metadata": {},
     "output_type": "execute_result"
    }
   ],
   "source": [
    "L.pop()"
   ]
  },
  {
   "cell_type": "code",
   "execution_count": 152,
   "id": "54a7b71f-695a-4a0f-bace-0f832a525d39",
   "metadata": {},
   "outputs": [
    {
     "data": {
      "text/plain": [
       "1"
      ]
     },
     "execution_count": 152,
     "metadata": {},
     "output_type": "execute_result"
    }
   ],
   "source": [
    "L[0]"
   ]
  },
  {
   "cell_type": "code",
   "execution_count": 153,
   "id": "e354a552-c89b-4352-9aa5-417901643c7a",
   "metadata": {},
   "outputs": [
    {
     "data": {
      "text/plain": [
       "1"
      ]
     },
     "execution_count": 153,
     "metadata": {},
     "output_type": "execute_result"
    }
   ],
   "source": [
    "L.__getitem__(0)"
   ]
  },
  {
   "cell_type": "code",
   "execution_count": null,
   "id": "4473ef74-f9b9-4d11-b014-cd3a82134433",
   "metadata": {},
   "outputs": [],
   "source": []
  }
 ],
 "metadata": {
  "kernelspec": {
   "display_name": "Python 3.10",
   "language": "python",
   "name": "python310"
  },
  "language_info": {
   "codemirror_mode": {
    "name": "ipython",
    "version": 3
   },
   "file_extension": ".py",
   "mimetype": "text/x-python",
   "name": "python",
   "nbconvert_exporter": "python",
   "pygments_lexer": "ipython3",
   "version": "3.10.4"
  }
 },
 "nbformat": 4,
 "nbformat_minor": 5
}
