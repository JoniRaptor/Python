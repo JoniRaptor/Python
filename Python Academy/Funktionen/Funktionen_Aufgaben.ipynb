{
 "cells": [
  {
   "cell_type": "markdown",
   "id": "ba581aaa-1f0d-4e11-a57b-ca3a739f0dd6",
   "metadata": {},
   "source": [
    "# Aufgabe 1"
   ]
  },
  {
   "cell_type": "code",
   "execution_count": 81,
   "id": "22531af5-518c-4b21-9150-36deea4327cf",
   "metadata": {},
   "outputs": [],
   "source": [
    "def zahlen():\n",
    "    for x in range(10):\n",
    "        print('Ausgabe: ', x)"
   ]
  },
  {
   "cell_type": "code",
   "execution_count": 82,
   "id": "9916b679-d6ec-4b8c-91d8-0542d0205c3b",
   "metadata": {},
   "outputs": [
    {
     "name": "stdout",
     "output_type": "stream",
     "text": [
      "Ausgabe:  0\n",
      "Ausgabe:  1\n",
      "Ausgabe:  2\n",
      "Ausgabe:  3\n",
      "Ausgabe:  4\n",
      "Ausgabe:  5\n",
      "Ausgabe:  6\n",
      "Ausgabe:  7\n",
      "Ausgabe:  8\n",
      "Ausgabe:  9\n"
     ]
    }
   ],
   "source": [
    "zahlen()"
   ]
  },
  {
   "cell_type": "markdown",
   "id": "39643b8d-762e-474d-b185-03f84343bfce",
   "metadata": {},
   "source": [
    "# Aufgabe 2"
   ]
  },
  {
   "cell_type": "code",
   "execution_count": 28,
   "id": "0519d94c-fdbc-4747-b507-cb24f73f511a",
   "metadata": {},
   "outputs": [],
   "source": [
    "def doppelt(x):\n",
    "    return x*2"
   ]
  },
  {
   "cell_type": "code",
   "execution_count": 29,
   "id": "509fc259-d7cb-45dd-a47e-74ba74d902a4",
   "metadata": {},
   "outputs": [
    {
     "data": {
      "text/plain": [
       "4"
      ]
     },
     "execution_count": 29,
     "metadata": {},
     "output_type": "execute_result"
    }
   ],
   "source": [
    "doppelt(2)"
   ]
  },
  {
   "cell_type": "markdown",
   "id": "16f5b31b-cb0b-44ef-8d79-08886edb33e5",
   "metadata": {},
   "source": [
    "# Aufgabe 3"
   ]
  },
  {
   "cell_type": "code",
   "execution_count": 31,
   "id": "f9784db8-eee5-49c2-8035-255cfca5af32",
   "metadata": {},
   "outputs": [],
   "source": [
    "def String(x, y):\n",
    "    return x + y"
   ]
  },
  {
   "cell_type": "code",
   "execution_count": 32,
   "id": "8d82d0ba-f249-48a4-90b4-9e20e1397428",
   "metadata": {},
   "outputs": [
    {
     "data": {
      "text/plain": [
       "'xyzabc'"
      ]
     },
     "execution_count": 32,
     "metadata": {},
     "output_type": "execute_result"
    }
   ],
   "source": [
    "String(y='abc', x='xyz')"
   ]
  },
  {
   "cell_type": "markdown",
   "id": "9209d170-4d94-4860-aa40-6dbf97f3f8c8",
   "metadata": {},
   "source": [
    "# Aufgabe 4"
   ]
  },
  {
   "cell_type": "code",
   "execution_count": 35,
   "id": "ef266018-e017-466e-b1da-41be8797e5bd",
   "metadata": {},
   "outputs": [],
   "source": [
    "def arith(x, y, z):\n",
    "    i = 0\n",
    "    if x != 0:\n",
    "        i = i + 1\n",
    "    if y != 0:\n",
    "        i = i + 1\n",
    "    if z != 0:\n",
    "        i = i + 1\n",
    "    return (x+y+z)/i"
   ]
  },
  {
   "cell_type": "code",
   "execution_count": 36,
   "id": "ec6f9384-b071-498c-9f49-4466e3d2bf7a",
   "metadata": {},
   "outputs": [
    {
     "data": {
      "text/plain": [
       "2.0"
      ]
     },
     "execution_count": 36,
     "metadata": {},
     "output_type": "execute_result"
    }
   ],
   "source": [
    "arith(1, 2, 3)"
   ]
  },
  {
   "cell_type": "code",
   "execution_count": 38,
   "id": "73194bee-9a83-41cc-be94-09762a685f54",
   "metadata": {},
   "outputs": [
    {
     "data": {
      "text/plain": [
       "1.5"
      ]
     },
     "execution_count": 38,
     "metadata": {},
     "output_type": "execute_result"
    }
   ],
   "source": [
    "arith(1, 2, 0)"
   ]
  },
  {
   "cell_type": "markdown",
   "id": "fc451041-6935-405e-838b-002d47f8a3fe",
   "metadata": {},
   "source": [
    "# Augabe 5"
   ]
  },
  {
   "cell_type": "code",
   "execution_count": 69,
   "id": "57804177-28b1-4cb2-a280-e23b772ed672",
   "metadata": {},
   "outputs": [],
   "source": [
    "def arith(x, y = None, z = None):\n",
    "    i = 0\n",
    "    if x != None:\n",
    "        i = i + 1\n",
    "    if y != None:\n",
    "        i = i + 1\n",
    "    else: y = 0\n",
    "    if z != None:\n",
    "        i = i + 1\n",
    "    else: z = 0\n",
    "    return (x+y+z)/i"
   ]
  },
  {
   "cell_type": "code",
   "execution_count": 70,
   "id": "ad7407ae-e7c1-4db5-b9a1-2ad3a96c951d",
   "metadata": {},
   "outputs": [
    {
     "data": {
      "text/plain": [
       "2.0"
      ]
     },
     "execution_count": 70,
     "metadata": {},
     "output_type": "execute_result"
    }
   ],
   "source": [
    "arith(1, 2, 3)"
   ]
  },
  {
   "cell_type": "code",
   "execution_count": 71,
   "id": "b4571fb8-7970-4524-8914-826a7786190a",
   "metadata": {},
   "outputs": [
    {
     "data": {
      "text/plain": [
       "1.0"
      ]
     },
     "execution_count": 71,
     "metadata": {},
     "output_type": "execute_result"
    }
   ],
   "source": [
    "arith(1)"
   ]
  },
  {
   "cell_type": "code",
   "execution_count": 72,
   "id": "f95922f5-6521-4db2-827b-2b7a57cb24b8",
   "metadata": {},
   "outputs": [
    {
     "data": {
      "text/plain": [
       "1.5"
      ]
     },
     "execution_count": 72,
     "metadata": {},
     "output_type": "execute_result"
    }
   ],
   "source": [
    "arith(1, 2)"
   ]
  },
  {
   "cell_type": "markdown",
   "id": "e3fe0124-cd9d-466f-beba-c5343d1f1e1d",
   "metadata": {},
   "source": [
    "# Aufgabe 6"
   ]
  },
  {
   "cell_type": "code",
   "execution_count": 73,
   "id": "47bc10e4-c79b-41b2-900e-c268c918304a",
   "metadata": {},
   "outputs": [],
   "source": [
    "import timeit\n",
    "\n",
    "def Zeitmess(func, *args):\n",
    "    start = timeit.default_timer()\n",
    "    func(*args)\n",
    "    end = timeit.default_timer()\n",
    "    return end - start"
   ]
  },
  {
   "cell_type": "code",
   "execution_count": 74,
   "id": "ed07a237-c6d4-48c6-9c7c-b7ade2b043bc",
   "metadata": {},
   "outputs": [
    {
     "data": {
      "text/plain": [
       "2.6114284992218018e-06"
      ]
     },
     "execution_count": 74,
     "metadata": {},
     "output_type": "execute_result"
    }
   ],
   "source": [
    "Zeitmess(arith, 1, 2, 3)"
   ]
  },
  {
   "cell_type": "code",
   "execution_count": 75,
   "id": "93add8fc-3e81-440b-804a-f6744018d659",
   "metadata": {},
   "outputs": [
    {
     "data": {
      "text/plain": [
       "4.8857182264328e-06"
      ]
     },
     "execution_count": 75,
     "metadata": {},
     "output_type": "execute_result"
    }
   ],
   "source": [
    "Zeitmess(arith, 1, 2)"
   ]
  },
  {
   "cell_type": "code",
   "execution_count": 76,
   "id": "76e4887e-b150-47ed-96d9-1c3086a94bf8",
   "metadata": {},
   "outputs": [
    {
     "data": {
      "text/plain": [
       "4.32133674621582e-06"
      ]
     },
     "execution_count": 76,
     "metadata": {},
     "output_type": "execute_result"
    }
   ],
   "source": [
    "Zeitmess(arith, 1)"
   ]
  },
  {
   "cell_type": "code",
   "execution_count": 77,
   "id": "8bd6cc75-a3ab-4f1c-b6fb-76dcc22f1dac",
   "metadata": {},
   "outputs": [
    {
     "data": {
      "text/plain": [
       "2.294778823852539e-06"
      ]
     },
     "execution_count": 77,
     "metadata": {},
     "output_type": "execute_result"
    }
   ],
   "source": [
    "Zeitmess(String, 'abc', 'xyz')"
   ]
  },
  {
   "cell_type": "code",
   "execution_count": 78,
   "id": "1ae6209d-68f3-4057-9069-6a3392ffbe8a",
   "metadata": {},
   "outputs": [
    {
     "data": {
      "text/plain": [
       "0.00011977739632129669"
      ]
     },
     "execution_count": 78,
     "metadata": {},
     "output_type": "execute_result"
    }
   ],
   "source": [
    "Zeitmess(doppelt, 4)"
   ]
  },
  {
   "cell_type": "code",
   "execution_count": 79,
   "id": "461ba0f3-a43e-4d05-adf1-54fefb35bec3",
   "metadata": {},
   "outputs": [
    {
     "name": "stdout",
     "output_type": "stream",
     "text": [
      "0 1 2 3 4 5 6 7 8 9\n"
     ]
    },
    {
     "data": {
      "text/plain": [
       "9.920820593833923e-05"
      ]
     },
     "execution_count": 79,
     "metadata": {},
     "output_type": "execute_result"
    }
   ],
   "source": [
    "Zeitmess(zahlen)"
   ]
  },
  {
   "cell_type": "code",
   "execution_count": null,
   "id": "35fea741-5a39-4938-b76f-6863ef527f5a",
   "metadata": {},
   "outputs": [],
   "source": []
  }
 ],
 "metadata": {
  "kernelspec": {
   "display_name": "Python 3.10",
   "language": "python",
   "name": "python310"
  },
  "language_info": {
   "codemirror_mode": {
    "name": "ipython",
    "version": 3
   },
   "file_extension": ".py",
   "mimetype": "text/x-python",
   "name": "python",
   "nbconvert_exporter": "python",
   "pygments_lexer": "ipython3",
   "version": "3.10.4"
  }
 },
 "nbformat": 4,
 "nbformat_minor": 5
}
