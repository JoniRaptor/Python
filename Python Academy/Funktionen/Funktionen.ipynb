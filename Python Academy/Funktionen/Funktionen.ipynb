{
 "cells": [
  {
   "cell_type": "code",
   "execution_count": 6,
   "id": "a6b3d097-4f00-41d8-80b9-356f26c3a08b",
   "metadata": {},
   "outputs": [],
   "source": [
    "def add(x, y):\n",
    "    \"\"\"Add two objects.\"\"\"  # doc-string\n",
    "    return x + y"
   ]
  },
  {
   "cell_type": "code",
   "execution_count": 7,
   "id": "a6999218-a960-4786-950e-e5038af4ac50",
   "metadata": {},
   "outputs": [
    {
     "data": {
      "text/plain": [
       "\u001b[0;31mSignature:\u001b[0m \u001b[0madd\u001b[0m\u001b[0;34m(\u001b[0m\u001b[0mx\u001b[0m\u001b[0;34m,\u001b[0m \u001b[0my\u001b[0m\u001b[0;34m)\u001b[0m\u001b[0;34m\u001b[0m\u001b[0;34m\u001b[0m\u001b[0m\n",
       "\u001b[0;31mDocstring:\u001b[0m Add two objects.\n",
       "\u001b[0;31mFile:\u001b[0m      /tmp/ipykernel_182764/1391072754.py\n",
       "\u001b[0;31mType:\u001b[0m      function\n"
      ]
     },
     "metadata": {},
     "output_type": "display_data"
    }
   ],
   "source": [
    "add?"
   ]
  },
  {
   "cell_type": "code",
   "execution_count": 8,
   "id": "983a6472-f93f-4ade-a012-3644199d999a",
   "metadata": {},
   "outputs": [
    {
     "data": {
      "text/plain": [
       "3"
      ]
     },
     "execution_count": 8,
     "metadata": {},
     "output_type": "execute_result"
    }
   ],
   "source": [
    "add(1, 2)"
   ]
  },
  {
   "cell_type": "code",
   "execution_count": 9,
   "id": "c4e09579-cf28-4d5f-a99b-7ae70ada50f3",
   "metadata": {},
   "outputs": [
    {
     "name": "stdout",
     "output_type": "stream",
     "text": [
      "Help on function add in module __main__:\n",
      "\n",
      "add(x, y)\n",
      "    Add two objects.\n",
      "\n"
     ]
    }
   ],
   "source": [
    "help(add)"
   ]
  },
  {
   "cell_type": "code",
   "execution_count": 10,
   "id": "ad371489-1e06-4866-8b87-65aa548d3ba2",
   "metadata": {},
   "outputs": [
    {
     "data": {
      "text/plain": [
       "'Add two objects.'"
      ]
     },
     "execution_count": 10,
     "metadata": {},
     "output_type": "execute_result"
    }
   ],
   "source": [
    "add.__doc__"
   ]
  },
  {
   "cell_type": "code",
   "execution_count": 11,
   "id": "051afa88-b993-4a60-b7e1-13cf122e8db7",
   "metadata": {},
   "outputs": [
    {
     "data": {
      "text/plain": [
       "'abcdefg'"
      ]
     },
     "execution_count": 11,
     "metadata": {},
     "output_type": "execute_result"
    }
   ],
   "source": [
    "add('abc', 'defg')"
   ]
  },
  {
   "cell_type": "code",
   "execution_count": 12,
   "id": "d5b2e91b-5d6b-4163-93fa-22a13088699e",
   "metadata": {},
   "outputs": [
    {
     "ename": "TypeError",
     "evalue": "can only concatenate str (not \"int\") to str",
     "output_type": "error",
     "traceback": [
      "\u001b[0;31m---------------------------------------------------------------------------\u001b[0m",
      "\u001b[0;31mTypeError\u001b[0m                                 Traceback (most recent call last)",
      "Input \u001b[0;32mIn [12]\u001b[0m, in \u001b[0;36m<cell line: 1>\u001b[0;34m()\u001b[0m\n\u001b[0;32m----> 1\u001b[0m \u001b[43madd\u001b[49m\u001b[43m(\u001b[49m\u001b[38;5;124;43m'\u001b[39;49m\u001b[38;5;124;43mabc\u001b[39;49m\u001b[38;5;124;43m'\u001b[39;49m\u001b[43m,\u001b[49m\u001b[43m \u001b[49m\u001b[38;5;241;43m2\u001b[39;49m\u001b[43m)\u001b[49m\n",
      "Input \u001b[0;32mIn [6]\u001b[0m, in \u001b[0;36madd\u001b[0;34m(x, y)\u001b[0m\n\u001b[1;32m      1\u001b[0m \u001b[38;5;28;01mdef\u001b[39;00m \u001b[38;5;21madd\u001b[39m(x, y):\n\u001b[1;32m      2\u001b[0m     \u001b[38;5;124;03m\"\"\"Add two objects.\"\"\"\u001b[39;00m  \u001b[38;5;66;03m# doc-string\u001b[39;00m\n\u001b[0;32m----> 3\u001b[0m     \u001b[38;5;28;01mreturn\u001b[39;00m \u001b[43mx\u001b[49m\u001b[43m \u001b[49m\u001b[38;5;241;43m+\u001b[39;49m\u001b[43m \u001b[49m\u001b[43my\u001b[49m\n",
      "\u001b[0;31mTypeError\u001b[0m: can only concatenate str (not \"int\") to str"
     ]
    }
   ],
   "source": [
    "add('abc', 2)"
   ]
  },
  {
   "cell_type": "code",
   "execution_count": 13,
   "id": "3b9f6f65-13d0-4c84-81cc-1b80f91fbeba",
   "metadata": {},
   "outputs": [
    {
     "ename": "TypeError",
     "evalue": "unsupported operand type(s) for +: 'int' and 'str'",
     "output_type": "error",
     "traceback": [
      "\u001b[0;31m---------------------------------------------------------------------------\u001b[0m",
      "\u001b[0;31mTypeError\u001b[0m                                 Traceback (most recent call last)",
      "Input \u001b[0;32mIn [13]\u001b[0m, in \u001b[0;36m<cell line: 1>\u001b[0;34m()\u001b[0m\n\u001b[0;32m----> 1\u001b[0m \u001b[43madd\u001b[49m\u001b[43m(\u001b[49m\u001b[38;5;241;43m2\u001b[39;49m\u001b[43m,\u001b[49m\u001b[43m \u001b[49m\u001b[38;5;124;43m'\u001b[39;49m\u001b[38;5;124;43mabc\u001b[39;49m\u001b[38;5;124;43m'\u001b[39;49m\u001b[43m)\u001b[49m\n",
      "Input \u001b[0;32mIn [6]\u001b[0m, in \u001b[0;36madd\u001b[0;34m(x, y)\u001b[0m\n\u001b[1;32m      1\u001b[0m \u001b[38;5;28;01mdef\u001b[39;00m \u001b[38;5;21madd\u001b[39m(x, y):\n\u001b[1;32m      2\u001b[0m     \u001b[38;5;124;03m\"\"\"Add two objects.\"\"\"\u001b[39;00m  \u001b[38;5;66;03m# doc-string\u001b[39;00m\n\u001b[0;32m----> 3\u001b[0m     \u001b[38;5;28;01mreturn\u001b[39;00m \u001b[43mx\u001b[49m\u001b[43m \u001b[49m\u001b[38;5;241;43m+\u001b[39;49m\u001b[43m \u001b[49m\u001b[43my\u001b[49m\n",
      "\u001b[0;31mTypeError\u001b[0m: unsupported operand type(s) for +: 'int' and 'str'"
     ]
    }
   ],
   "source": [
    "add(2, 'abc')"
   ]
  },
  {
   "cell_type": "code",
   "execution_count": 14,
   "id": "5f5f3fd4-0ec5-47cf-a6c6-921b958f6b1b",
   "metadata": {},
   "outputs": [],
   "source": [
    "def show(text):\n",
    "    print('Ausgaeb: ', text)"
   ]
  },
  {
   "cell_type": "code",
   "execution_count": 15,
   "id": "80c3b4bd-c23d-48ce-a94f-7c2a1d815b62",
   "metadata": {},
   "outputs": [
    {
     "name": "stdout",
     "output_type": "stream",
     "text": [
      "Ausgaeb:  Hallo\n"
     ]
    }
   ],
   "source": [
    "show('Hallo')"
   ]
  },
  {
   "cell_type": "code",
   "execution_count": 16,
   "id": "e3f38a32-6960-415c-8a94-0aaea24a429e",
   "metadata": {},
   "outputs": [
    {
     "name": "stdout",
     "output_type": "stream",
     "text": [
      "Ausgaeb:  Hallo\n"
     ]
    }
   ],
   "source": [
    "res = show('Hallo')"
   ]
  },
  {
   "cell_type": "code",
   "execution_count": 18,
   "id": "bb733ea1-3cb0-417b-945e-7e344b2dc6e4",
   "metadata": {},
   "outputs": [],
   "source": [
    "res"
   ]
  },
  {
   "cell_type": "code",
   "execution_count": 19,
   "id": "74a22105-1926-4c4e-b92c-3a6176ffbc1b",
   "metadata": {},
   "outputs": [],
   "source": [
    "def show(text):\n",
    "    print('Ausgaeb: ', text)\n",
    "    return None"
   ]
  },
  {
   "cell_type": "code",
   "execution_count": 20,
   "id": "7faa0294-7d35-4f36-92c5-2c7a6cee7d19",
   "metadata": {},
   "outputs": [
    {
     "name": "stdout",
     "output_type": "stream",
     "text": [
      "Ausgaeb:  Hallo\n"
     ]
    }
   ],
   "source": [
    "res = show('Hallo')"
   ]
  },
  {
   "cell_type": "code",
   "execution_count": 21,
   "id": "812516ce-f8c8-455b-a7b0-f05865091b83",
   "metadata": {},
   "outputs": [],
   "source": [
    "res"
   ]
  },
  {
   "cell_type": "code",
   "execution_count": 22,
   "id": "306288eb-efe8-4d94-8185-0e0291b14347",
   "metadata": {},
   "outputs": [
    {
     "data": {
      "text/plain": [
       "'abcxyz'"
      ]
     },
     "execution_count": 22,
     "metadata": {},
     "output_type": "execute_result"
    }
   ],
   "source": [
    "add(x='abc', y='xyz')"
   ]
  },
  {
   "cell_type": "code",
   "execution_count": 23,
   "id": "c0729d61-9900-4e97-ae77-99a3d2cb7a95",
   "metadata": {},
   "outputs": [
    {
     "data": {
      "text/plain": [
       "'abcxyz'"
      ]
     },
     "execution_count": 23,
     "metadata": {},
     "output_type": "execute_result"
    }
   ],
   "source": [
    "add(y='xyz', x='abc')"
   ]
  },
  {
   "cell_type": "code",
   "execution_count": 24,
   "id": "208c60e9-fe37-4eaa-b483-b7fd40101f73",
   "metadata": {},
   "outputs": [
    {
     "data": {
      "text/plain": [
       "'xyzabc'"
      ]
     },
     "execution_count": 24,
     "metadata": {},
     "output_type": "execute_result"
    }
   ],
   "source": [
    "add('xyz', 'abc')"
   ]
  },
  {
   "cell_type": "code",
   "execution_count": 25,
   "id": "54e11c6e-becd-49bf-a56e-9dd589a4ce3f",
   "metadata": {},
   "outputs": [
    {
     "ename": "TypeError",
     "evalue": "add() got multiple values for argument 'x'",
     "output_type": "error",
     "traceback": [
      "\u001b[0;31m---------------------------------------------------------------------------\u001b[0m",
      "\u001b[0;31mTypeError\u001b[0m                                 Traceback (most recent call last)",
      "Input \u001b[0;32mIn [25]\u001b[0m, in \u001b[0;36m<cell line: 1>\u001b[0;34m()\u001b[0m\n\u001b[0;32m----> 1\u001b[0m \u001b[43madd\u001b[49m\u001b[43m(\u001b[49m\u001b[38;5;124;43m'\u001b[39;49m\u001b[38;5;124;43mxyz\u001b[39;49m\u001b[38;5;124;43m'\u001b[39;49m\u001b[43m,\u001b[49m\u001b[43m \u001b[49m\u001b[43mx\u001b[49m\u001b[38;5;241;43m=\u001b[39;49m\u001b[38;5;124;43m'\u001b[39;49m\u001b[38;5;124;43mabc\u001b[39;49m\u001b[38;5;124;43m'\u001b[39;49m\u001b[43m)\u001b[49m\n",
      "\u001b[0;31mTypeError\u001b[0m: add() got multiple values for argument 'x'"
     ]
    }
   ],
   "source": [
    "add('xyz', x='abc')"
   ]
  },
  {
   "cell_type": "code",
   "execution_count": 26,
   "id": "14f61f5c-a5d1-4262-8ed3-3d40583130ad",
   "metadata": {},
   "outputs": [
    {
     "data": {
      "text/plain": [
       "'abcxyz'"
      ]
     },
     "execution_count": 26,
     "metadata": {},
     "output_type": "execute_result"
    }
   ],
   "source": [
    "add('abc', y='xyz')"
   ]
  },
  {
   "cell_type": "code",
   "execution_count": 27,
   "id": "79e9beb5-4d8a-425b-bbd4-05e6f5e2261a",
   "metadata": {},
   "outputs": [
    {
     "ename": "SyntaxError",
     "evalue": "positional argument follows keyword argument (1504085855.py, line 1)",
     "output_type": "error",
     "traceback": [
      "\u001b[0;36m  Input \u001b[0;32mIn [27]\u001b[0;36m\u001b[0m\n\u001b[0;31m    add(x='abc', 'xyz')\u001b[0m\n\u001b[0m                      ^\u001b[0m\n\u001b[0;31mSyntaxError\u001b[0m\u001b[0;31m:\u001b[0m positional argument follows keyword argument\n"
     ]
    }
   ],
   "source": [
    "add(x='abc', 'xyz')"
   ]
  },
  {
   "cell_type": "code",
   "execution_count": 28,
   "id": "1a746bb3-454b-45dc-a130-97c42295d684",
   "metadata": {},
   "outputs": [
    {
     "name": "stdout",
     "output_type": "stream",
     "text": [
      "1 2 3\n"
     ]
    }
   ],
   "source": [
    "print(1, 2, 3)"
   ]
  },
  {
   "cell_type": "code",
   "execution_count": 29,
   "id": "70501565-80c4-4b06-83c9-0dbefa822920",
   "metadata": {},
   "outputs": [
    {
     "name": "stdout",
     "output_type": "stream",
     "text": [
      "1, 2, 3\n"
     ]
    }
   ],
   "source": [
    "print(1, 2, 3, sep=', ')"
   ]
  },
  {
   "cell_type": "code",
   "execution_count": 30,
   "id": "f6501af1-efca-4ab8-81cb-bc8c37d73414",
   "metadata": {},
   "outputs": [],
   "source": [
    "def add_optional(x, y=0):  # y ist sgtandardmäßig 0, wenn nicht anders angegeben\n",
    "    return x + y"
   ]
  },
  {
   "cell_type": "code",
   "execution_count": 32,
   "id": "ee77098e-9175-4ac4-94ba-0f3c7f6732c6",
   "metadata": {},
   "outputs": [
    {
     "data": {
      "text/plain": [
       "7"
      ]
     },
     "execution_count": 32,
     "metadata": {},
     "output_type": "execute_result"
    }
   ],
   "source": [
    "add_optional(3, 4)"
   ]
  },
  {
   "cell_type": "code",
   "execution_count": 33,
   "id": "e5ea6df8-8a46-4a57-939f-fc0f9af57b4c",
   "metadata": {},
   "outputs": [
    {
     "data": {
      "text/plain": [
       "6"
      ]
     },
     "execution_count": 33,
     "metadata": {},
     "output_type": "execute_result"
    }
   ],
   "source": [
    "add_optional(6)"
   ]
  },
  {
   "cell_type": "code",
   "execution_count": 34,
   "id": "85d10039-22b5-4172-9227-c7c4f857de1f",
   "metadata": {},
   "outputs": [
    {
     "ename": "TypeError",
     "evalue": "add() missing 1 required positional argument: 'y'",
     "output_type": "error",
     "traceback": [
      "\u001b[0;31m---------------------------------------------------------------------------\u001b[0m",
      "\u001b[0;31mTypeError\u001b[0m                                 Traceback (most recent call last)",
      "Input \u001b[0;32mIn [34]\u001b[0m, in \u001b[0;36m<cell line: 1>\u001b[0;34m()\u001b[0m\n\u001b[0;32m----> 1\u001b[0m \u001b[43madd\u001b[49m\u001b[43m(\u001b[49m\u001b[38;5;241;43m6\u001b[39;49m\u001b[43m)\u001b[49m\n",
      "\u001b[0;31mTypeError\u001b[0m: add() missing 1 required positional argument: 'y'"
     ]
    }
   ],
   "source": [
    "add(6)"
   ]
  },
  {
   "cell_type": "code",
   "execution_count": 35,
   "id": "90cfa779-da7c-429f-91b2-882f807308bd",
   "metadata": {},
   "outputs": [
    {
     "data": {
      "text/plain": [
       "'abcxyz'"
      ]
     },
     "execution_count": 35,
     "metadata": {},
     "output_type": "execute_result"
    }
   ],
   "source": [
    "add_optional('abc', 'xyz')"
   ]
  },
  {
   "cell_type": "code",
   "execution_count": 36,
   "id": "e8f36ac8-51ca-4603-9de3-559a7f66195a",
   "metadata": {},
   "outputs": [
    {
     "ename": "TypeError",
     "evalue": "can only concatenate str (not \"int\") to str",
     "output_type": "error",
     "traceback": [
      "\u001b[0;31m---------------------------------------------------------------------------\u001b[0m",
      "\u001b[0;31mTypeError\u001b[0m                                 Traceback (most recent call last)",
      "Input \u001b[0;32mIn [36]\u001b[0m, in \u001b[0;36m<cell line: 1>\u001b[0;34m()\u001b[0m\n\u001b[0;32m----> 1\u001b[0m \u001b[43madd_optional\u001b[49m\u001b[43m(\u001b[49m\u001b[38;5;124;43m'\u001b[39;49m\u001b[38;5;124;43mabc\u001b[39;49m\u001b[38;5;124;43m'\u001b[39;49m\u001b[43m)\u001b[49m\n",
      "Input \u001b[0;32mIn [30]\u001b[0m, in \u001b[0;36madd_optional\u001b[0;34m(x, y)\u001b[0m\n\u001b[1;32m      1\u001b[0m \u001b[38;5;28;01mdef\u001b[39;00m \u001b[38;5;21madd_optional\u001b[39m(x, y\u001b[38;5;241m=\u001b[39m\u001b[38;5;241m0\u001b[39m):  \u001b[38;5;66;03m# y ist sgtandardmäßig 0, wenn nicht anders angegeben\u001b[39;00m\n\u001b[0;32m----> 2\u001b[0m     \u001b[38;5;28;01mreturn\u001b[39;00m \u001b[43mx\u001b[49m\u001b[43m \u001b[49m\u001b[38;5;241;43m+\u001b[39;49m\u001b[43m \u001b[49m\u001b[43my\u001b[49m\n",
      "\u001b[0;31mTypeError\u001b[0m: can only concatenate str (not \"int\") to str"
     ]
    }
   ],
   "source": [
    "add_optional('abc')"
   ]
  },
  {
   "cell_type": "code",
   "execution_count": 41,
   "id": "4d2341eb-6538-4762-a522-2dd7826224bd",
   "metadata": {},
   "outputs": [],
   "source": [
    "def add_optional_better(x, y=None):\n",
    "    if y is None:\n",
    "        return x  # return beendet die Fkt\n",
    "    return x + y"
   ]
  },
  {
   "cell_type": "code",
   "execution_count": 42,
   "id": "613fc29b-5300-4523-8685-b05b87d0ca98",
   "metadata": {},
   "outputs": [
    {
     "data": {
      "text/plain": [
       "'abc'"
      ]
     },
     "execution_count": 42,
     "metadata": {},
     "output_type": "execute_result"
    }
   ],
   "source": [
    "add_optional_better('abc')"
   ]
  },
  {
   "cell_type": "code",
   "execution_count": 43,
   "id": "b3845943-41f6-4cc9-ab8b-e6ee0757d525",
   "metadata": {},
   "outputs": [
    {
     "data": {
      "text/plain": [
       "[1, 2, 3]"
      ]
     },
     "execution_count": 43,
     "metadata": {},
     "output_type": "execute_result"
    }
   ],
   "source": [
    "add_optional_better([1, 2, 3])"
   ]
  },
  {
   "cell_type": "code",
   "execution_count": 44,
   "id": "09fbaf76-bab0-4601-b220-5c1c7aab4c27",
   "metadata": {},
   "outputs": [
    {
     "data": {
      "text/plain": [
       "3"
      ]
     },
     "execution_count": 44,
     "metadata": {},
     "output_type": "execute_result"
    }
   ],
   "source": [
    "add_optional_better(1, 2)"
   ]
  },
  {
   "cell_type": "code",
   "execution_count": 70,
   "id": "7d2caa1c-e00c-4ed5-a776-bfb261e4a527",
   "metadata": {},
   "outputs": [],
   "source": [
    "def func(*args):  # nimt eine unspezifizierte Anzahl args für Tuple entgegen\n",
    "    print(args)"
   ]
  },
  {
   "cell_type": "code",
   "execution_count": 71,
   "id": "33e07b3c-f4d9-4de4-8c00-07d1f0048f40",
   "metadata": {},
   "outputs": [
    {
     "name": "stdout",
     "output_type": "stream",
     "text": [
      "()\n"
     ]
    }
   ],
   "source": [
    "func()  # gibt leeres Tuple zurück"
   ]
  },
  {
   "cell_type": "code",
   "execution_count": 72,
   "id": "baa40f98-341b-46aa-b3e7-1af78f682c2a",
   "metadata": {},
   "outputs": [
    {
     "name": "stdout",
     "output_type": "stream",
     "text": [
      "(10,)\n"
     ]
    }
   ],
   "source": [
    "func(10)"
   ]
  },
  {
   "cell_type": "code",
   "execution_count": 73,
   "id": "16984c23-56d3-4acf-aa8b-46895c5c1b5a",
   "metadata": {},
   "outputs": [
    {
     "data": {
      "text/plain": [
       "[10]"
      ]
     },
     "execution_count": 73,
     "metadata": {},
     "output_type": "execute_result"
    }
   ],
   "source": [
    "[10]"
   ]
  },
  {
   "cell_type": "code",
   "execution_count": 74,
   "id": "c7fad6b0-b921-4808-9207-41308fc5fbb6",
   "metadata": {},
   "outputs": [
    {
     "data": {
      "text/plain": [
       "10"
      ]
     },
     "execution_count": 74,
     "metadata": {},
     "output_type": "execute_result"
    }
   ],
   "source": [
    "(10)"
   ]
  },
  {
   "cell_type": "code",
   "execution_count": 75,
   "id": "7df72553-653f-4882-b13c-41a710b470b4",
   "metadata": {},
   "outputs": [
    {
     "data": {
      "text/plain": [
       "(10,)"
      ]
     },
     "execution_count": 75,
     "metadata": {},
     "output_type": "execute_result"
    }
   ],
   "source": [
    "(10,)"
   ]
  },
  {
   "cell_type": "code",
   "execution_count": 76,
   "id": "58b5daf6-613d-47cd-a0b9-83c279f62fe3",
   "metadata": {},
   "outputs": [
    {
     "data": {
      "text/plain": [
       "10"
      ]
     },
     "execution_count": 76,
     "metadata": {},
     "output_type": "execute_result"
    }
   ],
   "source": [
    "(((((((((10)))))))))"
   ]
  },
  {
   "cell_type": "code",
   "execution_count": 77,
   "id": "53035f54-f5dd-4b23-95b3-96727184e217",
   "metadata": {},
   "outputs": [
    {
     "data": {
      "text/plain": [
       "(10,)"
      ]
     },
     "execution_count": 77,
     "metadata": {},
     "output_type": "execute_result"
    }
   ],
   "source": [
    "10,"
   ]
  },
  {
   "cell_type": "code",
   "execution_count": 78,
   "id": "ebbb61d5-0569-4a5a-b18a-af599551e800",
   "metadata": {},
   "outputs": [
    {
     "name": "stdout",
     "output_type": "stream",
     "text": [
      "(10, 20)\n"
     ]
    }
   ],
   "source": [
    "func(10, 20)"
   ]
  },
  {
   "cell_type": "code",
   "execution_count": 87,
   "id": "44385fb9-6081-4ead-9134-6c358ded454c",
   "metadata": {},
   "outputs": [],
   "source": [
    "def func(**kwargs):  # erzeugt dictionary\n",
    "    print(kwargs)"
   ]
  },
  {
   "cell_type": "code",
   "execution_count": 88,
   "id": "e1364b35-b98b-463a-b8c9-019f59116780",
   "metadata": {},
   "outputs": [
    {
     "name": "stdout",
     "output_type": "stream",
     "text": [
      "{}\n"
     ]
    }
   ],
   "source": [
    "func()"
   ]
  },
  {
   "cell_type": "code",
   "execution_count": 89,
   "id": "dc241305-6d21-45fe-9ec3-e2fb9b65aa9e",
   "metadata": {},
   "outputs": [
    {
     "name": "stdout",
     "output_type": "stream",
     "text": [
      "{'a': 10}\n"
     ]
    }
   ],
   "source": [
    "func(a=10)"
   ]
  },
  {
   "cell_type": "code",
   "execution_count": 90,
   "id": "7ab6de07-2928-4cc9-857c-9785d428dd85",
   "metadata": {},
   "outputs": [
    {
     "name": "stdout",
     "output_type": "stream",
     "text": [
      "{'a': 10, 'b': 20}\n"
     ]
    }
   ],
   "source": [
    "func(a=10, b=20)"
   ]
  },
  {
   "cell_type": "code",
   "execution_count": 92,
   "id": "1143fdaa-654a-487a-b18c-4451ece0775f",
   "metadata": {},
   "outputs": [
    {
     "ename": "TypeError",
     "evalue": "func() takes 0 positional arguments but 1 was given",
     "output_type": "error",
     "traceback": [
      "\u001b[0;31m---------------------------------------------------------------------------\u001b[0m",
      "\u001b[0;31mTypeError\u001b[0m                                 Traceback (most recent call last)",
      "Input \u001b[0;32mIn [92]\u001b[0m, in \u001b[0;36m<cell line: 1>\u001b[0;34m()\u001b[0m\n\u001b[0;32m----> 1\u001b[0m \u001b[43mfunc\u001b[49m\u001b[43m(\u001b[49m\u001b[38;5;241;43m10\u001b[39;49m\u001b[43m)\u001b[49m\n",
      "\u001b[0;31mTypeError\u001b[0m: func() takes 0 positional arguments but 1 was given"
     ]
    }
   ],
   "source": [
    "func(10)"
   ]
  },
  {
   "cell_type": "code",
   "execution_count": 93,
   "id": "2ff3f18d-52cd-4627-bff5-3177e4f9a1c1",
   "metadata": {},
   "outputs": [],
   "source": [
    "def func(*args, **kwargs):\n",
    "    print(args)\n",
    "    print(kwargs)"
   ]
  },
  {
   "cell_type": "code",
   "execution_count": 94,
   "id": "1def60e3-e390-4962-9c08-1c4ab6e3d728",
   "metadata": {},
   "outputs": [
    {
     "name": "stdout",
     "output_type": "stream",
     "text": [
      "()\n",
      "{}\n"
     ]
    }
   ],
   "source": [
    "func()"
   ]
  },
  {
   "cell_type": "code",
   "execution_count": 95,
   "id": "a649b82b-d991-4d29-827c-ed5ddcfbe332",
   "metadata": {},
   "outputs": [
    {
     "name": "stdout",
     "output_type": "stream",
     "text": [
      "(100, 200, 300)\n",
      "{'x': 1, 'y': 2, 'z': 3}\n"
     ]
    }
   ],
   "source": [
    "func(100, 200, 300, x=1, y=2, z=3)"
   ]
  },
  {
   "cell_type": "code",
   "execution_count": 102,
   "id": "08488c35-2963-403c-95de-5a97de66dd88",
   "metadata": {},
   "outputs": [],
   "source": [
    "def call_func(func, *args, **kwargs):  # Post-Prinzip\n",
    "    print('rufe', func.__name__)\n",
    "    print(args)\n",
    "    print(kwargs)\n",
    "    return func(*args, **kwargs)"
   ]
  },
  {
   "cell_type": "code",
   "execution_count": 103,
   "id": "4545fb53-de5b-4eb9-8e27-e800ed0d81f6",
   "metadata": {},
   "outputs": [
    {
     "name": "stdout",
     "output_type": "stream",
     "text": [
      "rufe add\n",
      "(4, 5)\n",
      "{}\n"
     ]
    },
    {
     "data": {
      "text/plain": [
       "9"
      ]
     },
     "execution_count": 103,
     "metadata": {},
     "output_type": "execute_result"
    }
   ],
   "source": [
    "call_func(add, 4, 5)"
   ]
  },
  {
   "cell_type": "code",
   "execution_count": 104,
   "id": "4d638fb4-6928-43c9-bdd9-e04ac63e20b3",
   "metadata": {},
   "outputs": [
    {
     "name": "stdout",
     "output_type": "stream",
     "text": [
      "rufe add\n",
      "(4,)\n",
      "{'y': 5}\n"
     ]
    },
    {
     "data": {
      "text/plain": [
       "9"
      ]
     },
     "execution_count": 104,
     "metadata": {},
     "output_type": "execute_result"
    }
   ],
   "source": [
    "call_func(add, 4, y=5)"
   ]
  },
  {
   "cell_type": "code",
   "execution_count": 105,
   "id": "90bb7f8c-aa50-45ed-8441-71527484ac6f",
   "metadata": {},
   "outputs": [],
   "source": [
    "t = (4, 5)"
   ]
  },
  {
   "cell_type": "code",
   "execution_count": 106,
   "id": "9ff7feb6-30e6-4c90-a1eb-7a92bc880cd5",
   "metadata": {},
   "outputs": [
    {
     "ename": "TypeError",
     "evalue": "add() missing 1 required positional argument: 'y'",
     "output_type": "error",
     "traceback": [
      "\u001b[0;31m---------------------------------------------------------------------------\u001b[0m",
      "\u001b[0;31mTypeError\u001b[0m                                 Traceback (most recent call last)",
      "Input \u001b[0;32mIn [106]\u001b[0m, in \u001b[0;36m<cell line: 1>\u001b[0;34m()\u001b[0m\n\u001b[0;32m----> 1\u001b[0m \u001b[43madd\u001b[49m\u001b[43m(\u001b[49m\u001b[43mt\u001b[49m\u001b[43m)\u001b[49m\n",
      "\u001b[0;31mTypeError\u001b[0m: add() missing 1 required positional argument: 'y'"
     ]
    }
   ],
   "source": [
    "add(t)"
   ]
  },
  {
   "cell_type": "code",
   "execution_count": 107,
   "id": "c3211981-bea3-4479-835d-aa7b05a904e8",
   "metadata": {},
   "outputs": [
    {
     "data": {
      "text/plain": [
       "9"
      ]
     },
     "execution_count": 107,
     "metadata": {},
     "output_type": "execute_result"
    }
   ],
   "source": [
    "add(*t)"
   ]
  },
  {
   "cell_type": "code",
   "execution_count": 108,
   "id": "68d43f7a-8561-4db2-927d-19059860fc84",
   "metadata": {},
   "outputs": [],
   "source": [
    "L = list(range(2, 10))"
   ]
  },
  {
   "cell_type": "code",
   "execution_count": 109,
   "id": "0e88e71f-4061-46cd-8ce7-ccb27d00e0a6",
   "metadata": {},
   "outputs": [
    {
     "data": {
      "text/plain": [
       "[2, 3, 4, 5, 6, 7, 8, 9]"
      ]
     },
     "execution_count": 109,
     "metadata": {},
     "output_type": "execute_result"
    }
   ],
   "source": [
    "L"
   ]
  },
  {
   "cell_type": "code",
   "execution_count": 110,
   "id": "ee043fe8-2a75-4215-ba11-4858bc5d4bc6",
   "metadata": {},
   "outputs": [
    {
     "name": "stdout",
     "output_type": "stream",
     "text": [
      "[2, 3, 4, 5, 6, 7, 8, 9]\n"
     ]
    }
   ],
   "source": [
    "print(L)"
   ]
  },
  {
   "cell_type": "code",
   "execution_count": 111,
   "id": "f9f051e6-12ff-4719-b4c3-eb9be208f446",
   "metadata": {},
   "outputs": [
    {
     "name": "stdout",
     "output_type": "stream",
     "text": [
      "2 3 4\n"
     ]
    }
   ],
   "source": [
    "print(L[0], L[1], L[2])"
   ]
  },
  {
   "cell_type": "code",
   "execution_count": 112,
   "id": "ece6e839-559f-4bb1-af2c-2215fce96d8c",
   "metadata": {},
   "outputs": [
    {
     "name": "stdout",
     "output_type": "stream",
     "text": [
      "2 3 4 5 6 7 8 9\n"
     ]
    }
   ],
   "source": [
    "print(*L)"
   ]
  },
  {
   "cell_type": "code",
   "execution_count": 113,
   "id": "e6f40d68-a988-41cf-8115-86ba8d930389",
   "metadata": {},
   "outputs": [
    {
     "data": {
      "text/plain": [
       "\u001b[0;31mDocstring:\u001b[0m\n",
       "print(value, ..., sep=' ', end='\\n', file=sys.stdout, flush=False)\n",
       "\n",
       "Prints the values to a stream, or to sys.stdout by default.\n",
       "Optional keyword arguments:\n",
       "file:  a file-like object (stream); defaults to the current sys.stdout.\n",
       "sep:   string inserted between values, default a space.\n",
       "end:   string appended after the last value, default a newline.\n",
       "flush: whether to forcibly flush the stream.\n",
       "\u001b[0;31mType:\u001b[0m      builtin_function_or_method\n"
      ]
     },
     "metadata": {},
     "output_type": "display_data"
    }
   ],
   "source": [
    "print?"
   ]
  },
  {
   "cell_type": "code",
   "execution_count": 115,
   "id": "7d45bc79-fbaa-400b-ab88-1c1dc6cde838",
   "metadata": {},
   "outputs": [
    {
     "name": "stdout",
     "output_type": "stream",
     "text": [
      "2#3#4#5#6#7#8#9\n"
     ]
    }
   ],
   "source": [
    "print(*L, sep='#')"
   ]
  },
  {
   "cell_type": "code",
   "execution_count": 118,
   "id": "0d79e7e3-a21f-487b-b6f2-d3b8a2a45153",
   "metadata": {},
   "outputs": [],
   "source": [
    "opt = {'sep': '#'}"
   ]
  },
  {
   "cell_type": "code",
   "execution_count": 119,
   "id": "ad38580a-4317-4fc5-8644-f914e05725c2",
   "metadata": {},
   "outputs": [
    {
     "name": "stdout",
     "output_type": "stream",
     "text": [
      "2#3#4#5#6#7#8#9\n"
     ]
    }
   ],
   "source": [
    "print(*L, **opt)"
   ]
  },
  {
   "cell_type": "code",
   "execution_count": 120,
   "id": "138aaec6-2026-4acf-aa24-85bdc558ff10",
   "metadata": {},
   "outputs": [],
   "source": [
    "def f1():\n",
    "    return 1"
   ]
  },
  {
   "cell_type": "code",
   "execution_count": 121,
   "id": "38a0b087-0ff6-4d58-8f13-82b80186b2de",
   "metadata": {},
   "outputs": [],
   "source": [
    "def f2():\n",
    "    return 2"
   ]
  },
  {
   "cell_type": "code",
   "execution_count": 122,
   "id": "9ac9dfd5-4a86-48f7-bb90-a6bba43ff6fa",
   "metadata": {},
   "outputs": [],
   "source": [
    "fd = {'a': f1, 'b': f2}"
   ]
  },
  {
   "cell_type": "code",
   "execution_count": 123,
   "id": "b394100d-8128-44ea-825e-c63cbc85916a",
   "metadata": {},
   "outputs": [
    {
     "data": {
      "text/plain": [
       "{'a': <function __main__.f1()>, 'b': <function __main__.f2()>}"
      ]
     },
     "execution_count": 123,
     "metadata": {},
     "output_type": "execute_result"
    }
   ],
   "source": [
    "fd"
   ]
  },
  {
   "cell_type": "code",
   "execution_count": 124,
   "id": "5fdf633b-4f25-4d07-bf91-729c4b52ea86",
   "metadata": {},
   "outputs": [
    {
     "data": {
      "text/plain": [
       "<function __main__.f1()>"
      ]
     },
     "execution_count": 124,
     "metadata": {},
     "output_type": "execute_result"
    }
   ],
   "source": [
    "fd['a']"
   ]
  },
  {
   "cell_type": "code",
   "execution_count": 125,
   "id": "85befecc-b5f8-464e-ad2e-bd8cfe7939a8",
   "metadata": {},
   "outputs": [
    {
     "data": {
      "text/plain": [
       "1"
      ]
     },
     "execution_count": 125,
     "metadata": {},
     "output_type": "execute_result"
    }
   ],
   "source": [
    "fd['a']()"
   ]
  },
  {
   "cell_type": "code",
   "execution_count": 126,
   "id": "3c0c4fd2-42ef-4b12-99a4-4e6951ea70ba",
   "metadata": {},
   "outputs": [
    {
     "data": {
      "text/plain": [
       "2"
      ]
     },
     "execution_count": 126,
     "metadata": {},
     "output_type": "execute_result"
    }
   ],
   "source": [
    "fd['b']()"
   ]
  },
  {
   "cell_type": "code",
   "execution_count": 128,
   "id": "75d6a87d-05b9-4c03-97cf-23aa1c97d5bd",
   "metadata": {},
   "outputs": [],
   "source": [
    "def read_csv(file_name):\n",
    "    return 'csv'\n",
    "\n",
    "def read_xlsx(file_name):\n",
    "    return 'xlsx'\n",
    "\n",
    "def read_txt(file_name):\n",
    "    return 'txt'"
   ]
  },
  {
   "cell_type": "code",
   "execution_count": 129,
   "id": "5d4f70b3-3fd0-425d-8e2f-5e86fbef4308",
   "metadata": {},
   "outputs": [],
   "source": [
    "readers = {'csv': read_csv, 'xlsx': read_xlsx, 'txt': read_txt}"
   ]
  },
  {
   "cell_type": "code",
   "execution_count": 130,
   "id": "8ff34674-090e-402e-af29-781383af46a3",
   "metadata": {},
   "outputs": [],
   "source": [
    "def read_file(file_name, readers=readers):\n",
    "    ext = file_name.split('.')[-1]\n",
    "    return readers[ext](file_name)"
   ]
  },
  {
   "cell_type": "code",
   "execution_count": 131,
   "id": "8e6f0809-444a-4255-99eb-c3e1af1315ca",
   "metadata": {},
   "outputs": [
    {
     "data": {
      "text/plain": [
       "'csv'"
      ]
     },
     "execution_count": 131,
     "metadata": {},
     "output_type": "execute_result"
    }
   ],
   "source": [
    "read_file('data.csv')"
   ]
  },
  {
   "cell_type": "code",
   "execution_count": 132,
   "id": "70a96f0a-3c28-4eef-ad31-b745cef604b4",
   "metadata": {},
   "outputs": [],
   "source": [
    "def zwei():\n",
    "    return 1, 2"
   ]
  },
  {
   "cell_type": "code",
   "execution_count": 133,
   "id": "f9750c8d-6e80-4144-8c8e-5a9fa6c13c3c",
   "metadata": {},
   "outputs": [],
   "source": [
    "a, b = zwei()"
   ]
  },
  {
   "cell_type": "code",
   "execution_count": 134,
   "id": "953283ec-e97f-4910-af37-0b49081a1c94",
   "metadata": {},
   "outputs": [
    {
     "data": {
      "text/plain": [
       "1"
      ]
     },
     "execution_count": 134,
     "metadata": {},
     "output_type": "execute_result"
    }
   ],
   "source": [
    "a"
   ]
  },
  {
   "cell_type": "code",
   "execution_count": 135,
   "id": "2608410a-a825-4b53-b00b-6aa762c5db60",
   "metadata": {},
   "outputs": [
    {
     "data": {
      "text/plain": [
       "2"
      ]
     },
     "execution_count": 135,
     "metadata": {},
     "output_type": "execute_result"
    }
   ],
   "source": [
    "b"
   ]
  },
  {
   "cell_type": "code",
   "execution_count": 136,
   "id": "51475000-66a9-4ff3-994f-615dd9132387",
   "metadata": {},
   "outputs": [
    {
     "data": {
      "text/plain": [
       "(1, 2)"
      ]
     },
     "execution_count": 136,
     "metadata": {},
     "output_type": "execute_result"
    }
   ],
   "source": [
    "zwei()"
   ]
  },
  {
   "cell_type": "code",
   "execution_count": 137,
   "id": "d9e8b109-edba-4f55-af6d-537685aee173",
   "metadata": {},
   "outputs": [
    {
     "data": {
      "text/plain": [
       "(1, 2)"
      ]
     },
     "execution_count": 137,
     "metadata": {},
     "output_type": "execute_result"
    }
   ],
   "source": [
    "1, 2"
   ]
  },
  {
   "cell_type": "code",
   "execution_count": 138,
   "id": "8255f48b-9dd8-4c9c-9315-ab70c92a8803",
   "metadata": {},
   "outputs": [],
   "source": [
    "def limit10(value):\n",
    "    if value > 10:\n",
    "        return 10\n",
    "    return value"
   ]
  },
  {
   "cell_type": "code",
   "execution_count": 139,
   "id": "59d6752d-110d-488e-835c-5929258b48e9",
   "metadata": {},
   "outputs": [
    {
     "data": {
      "text/plain": [
       "10"
      ]
     },
     "execution_count": 139,
     "metadata": {},
     "output_type": "execute_result"
    }
   ],
   "source": [
    "limit10(23)"
   ]
  },
  {
   "cell_type": "code",
   "execution_count": 140,
   "id": "71886d50-773b-4820-b273-40020f9cd9b0",
   "metadata": {},
   "outputs": [
    {
     "data": {
      "text/plain": [
       "2"
      ]
     },
     "execution_count": 140,
     "metadata": {},
     "output_type": "execute_result"
    }
   ],
   "source": [
    "limit10(2)"
   ]
  },
  {
   "cell_type": "code",
   "execution_count": 141,
   "id": "383d30ae-ac0b-434e-b22e-06c7e4b4a8c6",
   "metadata": {},
   "outputs": [],
   "source": [
    "import timeit"
   ]
  },
  {
   "cell_type": "code",
   "execution_count": 142,
   "id": "c569c6e9-ceb1-41f7-a5b4-b8d84dc7c6e3",
   "metadata": {},
   "outputs": [],
   "source": [
    "start = timeit.default_timer()"
   ]
  },
  {
   "cell_type": "code",
   "execution_count": 143,
   "id": "62f3f06b-ad90-4e81-badd-448b37164444",
   "metadata": {},
   "outputs": [
    {
     "data": {
      "text/plain": [
       "10432160.00642484"
      ]
     },
     "execution_count": 143,
     "metadata": {},
     "output_type": "execute_result"
    }
   ],
   "source": [
    "start"
   ]
  },
  {
   "cell_type": "code",
   "execution_count": 144,
   "id": "4a8ddfd9-90a0-41e0-afaf-a4b8ffe047df",
   "metadata": {},
   "outputs": [],
   "source": [
    "end = timeit.default_timer()"
   ]
  },
  {
   "cell_type": "code",
   "execution_count": 145,
   "id": "8712c10d-9af7-4a5f-86e2-d245069678ae",
   "metadata": {},
   "outputs": [
    {
     "data": {
      "text/plain": [
       "10432180.723727738"
      ]
     },
     "execution_count": 145,
     "metadata": {},
     "output_type": "execute_result"
    }
   ],
   "source": [
    "end"
   ]
  },
  {
   "cell_type": "code",
   "execution_count": 146,
   "id": "9384b8fd-28a8-48d7-a489-74e841763bac",
   "metadata": {},
   "outputs": [
    {
     "data": {
      "text/plain": [
       "20.717302897945046"
      ]
     },
     "execution_count": 146,
     "metadata": {},
     "output_type": "execute_result"
    }
   ],
   "source": [
    "end-start"
   ]
  },
  {
   "cell_type": "code",
   "execution_count": 148,
   "id": "89e26d29-8887-4eba-8f96-05952dde1a4f",
   "metadata": {},
   "outputs": [
    {
     "data": {
      "text/plain": [
       "1.0017230715602636"
      ]
     },
     "execution_count": 148,
     "metadata": {},
     "output_type": "execute_result"
    }
   ],
   "source": [
    "import time\n",
    "\n",
    "start = timeit.default_timer()\n",
    "time.sleep(1)\n",
    "end = timeit.default_timer()\n",
    "end - start"
   ]
  },
  {
   "cell_type": "code",
   "execution_count": null,
   "id": "eba6aef6-c014-40e6-afd5-5fe4ac812232",
   "metadata": {},
   "outputs": [],
   "source": []
  }
 ],
 "metadata": {
  "kernelspec": {
   "display_name": "Python 3.10",
   "language": "python",
   "name": "python310"
  },
  "language_info": {
   "codemirror_mode": {
    "name": "ipython",
    "version": 3
   },
   "file_extension": ".py",
   "mimetype": "text/x-python",
   "name": "python",
   "nbconvert_exporter": "python",
   "pygments_lexer": "ipython3",
   "version": "3.10.4"
  }
 },
 "nbformat": 4,
 "nbformat_minor": 5
}
