{
 "cells": [
  {
   "cell_type": "code",
   "execution_count": 8,
   "id": "817a21a8-92bf-4528-a70e-c61f98d1a23a",
   "metadata": {},
   "outputs": [
    {
     "name": "stdout",
     "output_type": "stream",
     "text": [
      "100 121 144 169 196 225 256 289 324 361 400 "
     ]
    }
   ],
   "source": [
    "for x in range(10, 21):  # 1\n",
    "    print(x**2, end=' ')"
   ]
  },
  {
   "cell_type": "code",
   "execution_count": 4,
   "id": "100d927f-be6c-4d0a-911e-f05f45be414a",
   "metadata": {},
   "outputs": [
    {
     "name": "stdout",
     "output_type": "stream",
     "text": [
      "100 121 144 169 196 225 256 289 324 361 400 "
     ]
    }
   ],
   "source": [
    "x = 10  # 2\n",
    "while x <= 20:\n",
    "    print(x**2, end=' ')\n",
    "    x += 1"
   ]
  },
  {
   "cell_type": "code",
   "execution_count": 9,
   "id": "c447c351-f315-4f0f-bfa5-32112b864986",
   "metadata": {},
   "outputs": [
    {
     "name": "stdout",
     "output_type": "stream",
     "text": [
      "100 144 196 256 324 400 "
     ]
    }
   ],
   "source": [
    "for x in range(10, 21):  # 4\n",
    "    if x % 2 == 0:\n",
    "        print(x**2, end=' ')"
   ]
  },
  {
   "cell_type": "code",
   "execution_count": 10,
   "id": "d4ddbcda-1260-45b4-a139-27d70d779bb2",
   "metadata": {},
   "outputs": [
    {
     "name": "stdout",
     "output_type": "stream",
     "text": [
      "100 144 196 256 324 400 "
     ]
    }
   ],
   "source": [
    "for x in range(10, 21, 2):  # 5\n",
    "    print(x**2, end=' ')"
   ]
  },
  {
   "cell_type": "code",
   "execution_count": 11,
   "id": "24710b15-4a9b-42c5-b935-4905cf86b548",
   "metadata": {},
   "outputs": [
    {
     "name": "stdout",
     "output_type": "stream",
     "text": [
      "100 144 196 256 324 400 "
     ]
    }
   ],
   "source": [
    "x = 10  # 5\n",
    "while x <= 20:\n",
    "    print(x**2, end=' ')\n",
    "    x += 2"
   ]
  },
  {
   "cell_type": "code",
   "execution_count": null,
   "id": "55ee2113-0d92-4fb8-abec-c1944f95f800",
   "metadata": {},
   "outputs": [],
   "source": []
  }
 ],
 "metadata": {
  "kernelspec": {
   "display_name": "Python 3.10",
   "language": "python",
   "name": "python310"
  },
  "language_info": {
   "codemirror_mode": {
    "name": "ipython",
    "version": 3
   },
   "file_extension": ".py",
   "mimetype": "text/x-python",
   "name": "python",
   "nbconvert_exporter": "python",
   "pygments_lexer": "ipython3",
   "version": "3.10.4"
  }
 },
 "nbformat": 4,
 "nbformat_minor": 5
}
