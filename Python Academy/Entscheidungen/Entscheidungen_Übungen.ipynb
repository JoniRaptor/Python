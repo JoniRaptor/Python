{
 "cells": [
  {
   "cell_type": "code",
   "execution_count": 13,
   "id": "81d65398-498e-4b6c-84a4-7eb1487267c4",
   "metadata": {},
   "outputs": [
    {
     "name": "stdin",
     "output_type": "stream",
     "text": [
      "Bitte eine Zahl eingeben 1\n"
     ]
    },
    {
     "name": "stdout",
     "output_type": "stream",
     "text": [
      "Ihre Zahl ist größer als 0\n"
     ]
    },
    {
     "name": "stdin",
     "output_type": "stream",
     "text": [
      "Bitte eine Zahl eingeben 3\n"
     ]
    },
    {
     "name": "stdout",
     "output_type": "stream",
     "text": [
      "Ihre Zahl ist größer als 0\n"
     ]
    },
    {
     "name": "stdin",
     "output_type": "stream",
     "text": [
      "Bitte eine Zahl eingeben 0\n"
     ]
    },
    {
     "name": "stdout",
     "output_type": "stream",
     "text": [
      "Ihre Zahl ist gleich 0\n"
     ]
    },
    {
     "name": "stdin",
     "output_type": "stream",
     "text": [
      "Bitte eine Zahl eingeben -5\n"
     ]
    },
    {
     "name": "stdout",
     "output_type": "stream",
     "text": [
      "Ihre Zahl ist kleiner als 0\n"
     ]
    },
    {
     "name": "stdin",
     "output_type": "stream",
     "text": [
      "Bitte eine Zahl eingeben \n"
     ]
    }
   ],
   "source": [
    "# Übung 1\n",
    "\n",
    "while(True):\n",
    "    eingabe = input('Bitte eine Zahl eingeben')\n",
    "    if eingabe == '':\n",
    "        break\n",
    "    zahl = float(eingabe)\n",
    "    grenzwert = 0\n",
    "    if zahl > grenzwert:\n",
    "        print('Ihre Zahl ist größer als ' + str(grenzwert))\n",
    "    elif zahl < grenzwert:\n",
    "        print('Ihre Zahl ist kleiner als ' + str(grenzwert))\n",
    "    else:\n",
    "        print('Ihre Zahl ist gleich ' + str(grenzwert))"
   ]
  },
  {
   "cell_type": "markdown",
   "id": "25d76689-5d2c-41de-9c14-cac5791341f7",
   "metadata": {},
   "source": [
    "# Übung2"
   ]
  },
  {
   "cell_type": "code",
   "execution_count": 24,
   "id": "c18a9b8f-35c3-46fe-918f-df1447755b8e",
   "metadata": {},
   "outputs": [
    {
     "name": "stdin",
     "output_type": "stream",
     "text": [
      "Bitte eine Zahl eingeben 1\n"
     ]
    },
    {
     "name": "stdout",
     "output_type": "stream",
     "text": [
      "Ihre Zahl ist in -1 <= x <= 1\n"
     ]
    },
    {
     "name": "stdin",
     "output_type": "stream",
     "text": [
      "Bitte eine Zahl eingeben -1\n"
     ]
    },
    {
     "name": "stdout",
     "output_type": "stream",
     "text": [
      "Ihre Zahl ist in -1 <= x <= 1\n"
     ]
    },
    {
     "name": "stdin",
     "output_type": "stream",
     "text": [
      "Bitte eine Zahl eingeben 0\n"
     ]
    },
    {
     "name": "stdout",
     "output_type": "stream",
     "text": [
      "Ihre Zahl ist in -1 <= x <= 1\n"
     ]
    },
    {
     "name": "stdin",
     "output_type": "stream",
     "text": [
      "Bitte eine Zahl eingeben -2\n"
     ]
    },
    {
     "name": "stdout",
     "output_type": "stream",
     "text": [
      "Ihre Zahl ist nicht in -1 <= x <= 1\n"
     ]
    },
    {
     "name": "stdin",
     "output_type": "stream",
     "text": [
      "Bitte eine Zahl eingeben 2\n"
     ]
    },
    {
     "name": "stdout",
     "output_type": "stream",
     "text": [
      "Ihre Zahl ist nicht in -1 <= x <= 1\n"
     ]
    },
    {
     "name": "stdin",
     "output_type": "stream",
     "text": [
      "Bitte eine Zahl eingeben \n"
     ]
    }
   ],
   "source": [
    "while(True):\n",
    "    eingabe = input('Bitte eine Zahl eingeben')\n",
    "    if eingabe == '':\n",
    "        break\n",
    "\n",
    "    zahl = float(eingabe)\n",
    "    u_grenz = -1\n",
    "    o_grenz = 1\n",
    "\n",
    "    if zahl <= o_grenz and zahl >= u_grenz:  # boolsche Operatoren\n",
    "        print('Ihre Zahl ist in '+str(u_grenz)+' <= x <= '+str(o_grenz))\n",
    "    else:\n",
    "        print('Ihre Zahl ist nicht in '+str(u_grenz)+' <= x <= '+str(o_grenz))"
   ]
  },
  {
   "cell_type": "code",
   "execution_count": 25,
   "id": "fce23299-7754-476c-9f95-7683a542a5ca",
   "metadata": {},
   "outputs": [
    {
     "name": "stdin",
     "output_type": "stream",
     "text": [
      "Bitte eine Zahl eingeben 1\n"
     ]
    },
    {
     "name": "stdout",
     "output_type": "stream",
     "text": [
      "Ihre Zahl ist in -1 <= x <= 1\n"
     ]
    },
    {
     "name": "stdin",
     "output_type": "stream",
     "text": [
      "Bitte eine Zahl eingeben -1\n"
     ]
    },
    {
     "name": "stdout",
     "output_type": "stream",
     "text": [
      "Ihre Zahl ist in -1 <= x <= 1\n"
     ]
    },
    {
     "name": "stdin",
     "output_type": "stream",
     "text": [
      "Bitte eine Zahl eingeben 0\n"
     ]
    },
    {
     "name": "stdout",
     "output_type": "stream",
     "text": [
      "Ihre Zahl ist in -1 <= x <= 1\n"
     ]
    },
    {
     "name": "stdin",
     "output_type": "stream",
     "text": [
      "Bitte eine Zahl eingeben 2\n"
     ]
    },
    {
     "name": "stdout",
     "output_type": "stream",
     "text": [
      "Ihre Zahl ist nicht in -1 <= x <= 1\n"
     ]
    },
    {
     "name": "stdin",
     "output_type": "stream",
     "text": [
      "Bitte eine Zahl eingeben -2\n"
     ]
    },
    {
     "name": "stdout",
     "output_type": "stream",
     "text": [
      "Ihre Zahl ist nicht in -1 <= x <= 1\n"
     ]
    },
    {
     "name": "stdin",
     "output_type": "stream",
     "text": [
      "Bitte eine Zahl eingeben \n"
     ]
    }
   ],
   "source": [
    "while(True):\n",
    "    eingabe = input('Bitte eine Zahl eingeben')\n",
    "    if eingabe == '':\n",
    "        break\n",
    "\n",
    "    zahl = float(eingabe)\n",
    "    u_grenz = -1\n",
    "    o_grenz = 1\n",
    "\n",
    "    if u_grenz <= zahl <= o_grenz:  # Mehrfachvergleich\n",
    "        print('Ihre Zahl ist in '+str(u_grenz)+' <= x <= '+str(o_grenz))\n",
    "    else:\n",
    "        print('Ihre Zahl ist nicht in '+str(u_grenz)+' <= x <= '+str(o_grenz))"
   ]
  },
  {
   "cell_type": "code",
   "execution_count": null,
   "id": "c9393336-2e86-4331-b639-e157d557a4fa",
   "metadata": {},
   "outputs": [],
   "source": []
  }
 ],
 "metadata": {
  "kernelspec": {
   "display_name": "Python 3.10",
   "language": "python",
   "name": "python310"
  },
  "language_info": {
   "codemirror_mode": {
    "name": "ipython",
    "version": 3
   },
   "file_extension": ".py",
   "mimetype": "text/x-python",
   "name": "python",
   "nbconvert_exporter": "python",
   "pygments_lexer": "ipython3",
   "version": "3.10.4"
  }
 },
 "nbformat": 4,
 "nbformat_minor": 5
}
