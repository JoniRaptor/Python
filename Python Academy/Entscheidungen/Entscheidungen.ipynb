{
 "cells": [
  {
   "cell_type": "code",
   "execution_count": 1,
   "id": "3d374e9a-8d76-4dbd-8bb5-fcb57180bbf4",
   "metadata": {},
   "outputs": [],
   "source": [
    "a = 5\n",
    "b = 6"
   ]
  },
  {
   "cell_type": "code",
   "execution_count": 2,
   "id": "e6f48ecd-9e83-46b9-8225-10b0a7a927ca",
   "metadata": {},
   "outputs": [
    {
     "data": {
      "text/plain": [
       "True"
      ]
     },
     "execution_count": 2,
     "metadata": {},
     "output_type": "execute_result"
    }
   ],
   "source": [
    "a < b"
   ]
  },
  {
   "cell_type": "code",
   "execution_count": 4,
   "id": "7c1078cd-6c3d-4427-9eba-9ef3e20df739",
   "metadata": {},
   "outputs": [
    {
     "name": "stdout",
     "output_type": "stream",
     "text": [
      "kleiner\n"
     ]
    }
   ],
   "source": [
    "if a < b:\n",
    "    print('kleiner')"
   ]
  },
  {
   "cell_type": "code",
   "execution_count": 5,
   "id": "11642fd2-0a9f-4727-af82-fbd6997b69be",
   "metadata": {},
   "outputs": [],
   "source": [
    "a = 50\n",
    "b = 6\n",
    "if a < b:\n",
    "    print('kleiner')"
   ]
  },
  {
   "cell_type": "code",
   "execution_count": 6,
   "id": "20a0813b-40bf-4de4-a5c1-7f45f31845f0",
   "metadata": {},
   "outputs": [
    {
     "data": {
      "text/plain": [
       "False"
      ]
     },
     "execution_count": 6,
     "metadata": {},
     "output_type": "execute_result"
    }
   ],
   "source": [
    "a<b"
   ]
  },
  {
   "cell_type": "code",
   "execution_count": 10,
   "id": "9568dbd0-6d15-41d8-9eb5-9797e5b94903",
   "metadata": {},
   "outputs": [
    {
     "name": "stdout",
     "output_type": "stream",
     "text": [
      "gleich\n"
     ]
    }
   ],
   "source": [
    "a = 50\n",
    "b = 50\n",
    "if a < b:  # kleiner   # Anweisung\n",
    "    print('kleiner')\n",
    "elif a > b:  # 0, 1, 2, 3 ... n\n",
    "    print('größer')\n",
    "else:  #0, 1\n",
    "    print('gleich')"
   ]
  },
  {
   "cell_type": "code",
   "execution_count": 11,
   "id": "7638624d-5932-4e3e-b3ea-a4ae5c783326",
   "metadata": {},
   "outputs": [
    {
     "data": {
      "text/plain": [
       "100"
      ]
     },
     "execution_count": 11,
     "metadata": {},
     "output_type": "execute_result"
    }
   ],
   "source": [
    "a = 5\n",
    "b = 6\n",
    "\n",
    "100 if a < b else 10  # Audruck"
   ]
  },
  {
   "cell_type": "code",
   "execution_count": 12,
   "id": "646a0fe1-2c90-4ef7-982e-3e6d035f77f7",
   "metadata": {},
   "outputs": [],
   "source": [
    "res1 = 100 if a < b else 10  # Audruck"
   ]
  },
  {
   "cell_type": "code",
   "execution_count": 16,
   "id": "1285293c-0ada-4d18-9d2b-c32b361096e6",
   "metadata": {},
   "outputs": [],
   "source": [
    "if a < b:  # Anweisung\n",
    "    res2 = 100\n",
    "else:\n",
    "    res2 = 10"
   ]
  },
  {
   "cell_type": "code",
   "execution_count": 14,
   "id": "76e942c6-4535-44a2-bf08-a79a08a9d734",
   "metadata": {},
   "outputs": [
    {
     "data": {
      "text/plain": [
       "True"
      ]
     },
     "execution_count": 14,
     "metadata": {},
     "output_type": "execute_result"
    }
   ],
   "source": [
    "res1 == res2"
   ]
  },
  {
   "cell_type": "code",
   "execution_count": 17,
   "id": "607bd93b-ad3b-4b69-99e9-2918ab71daab",
   "metadata": {},
   "outputs": [
    {
     "data": {
      "text/plain": [
       "True"
      ]
     },
     "execution_count": 17,
     "metadata": {},
     "output_type": "execute_result"
    }
   ],
   "source": [
    "a = 50\n",
    "b = 6\n",
    "\n",
    "res1 = 100 if a < b else 10  # Anweisung\n",
    "\n",
    "if a < b:  # Ausdruck\n",
    "    res2 = 100\n",
    "else:\n",
    "    res2 = 10\n",
    "\n",
    "res1 == res2"
   ]
  },
  {
   "cell_type": "code",
   "execution_count": 18,
   "id": "7bbb4e09-22a3-4a70-82a4-b8642ab57ffb",
   "metadata": {},
   "outputs": [
    {
     "data": {
      "text/plain": [
       "50"
      ]
     },
     "execution_count": 18,
     "metadata": {},
     "output_type": "execute_result"
    }
   ],
   "source": [
    "a"
   ]
  },
  {
   "cell_type": "code",
   "execution_count": 19,
   "id": "9cf40188-b0aa-4931-80bb-4ae5b863d9c3",
   "metadata": {},
   "outputs": [
    {
     "data": {
      "text/plain": [
       "True"
      ]
     },
     "execution_count": 19,
     "metadata": {},
     "output_type": "execute_result"
    }
   ],
   "source": [
    "0 <= a <= 100"
   ]
  },
  {
   "cell_type": "code",
   "execution_count": 20,
   "id": "b3cce7c9-2270-443e-bf0d-03fd76aeb43d",
   "metadata": {},
   "outputs": [
    {
     "data": {
      "text/plain": [
       "True"
      ]
     },
     "execution_count": 20,
     "metadata": {},
     "output_type": "execute_result"
    }
   ],
   "source": [
    "(0 <= a) and (a <= 100)"
   ]
  },
  {
   "cell_type": "code",
   "execution_count": 21,
   "id": "1566f487-6ee3-4563-aeb6-777d7afaf704",
   "metadata": {},
   "outputs": [
    {
     "data": {
      "text/plain": [
       "True"
      ]
     },
     "execution_count": 21,
     "metadata": {},
     "output_type": "execute_result"
    }
   ],
   "source": [
    "True and True"
   ]
  },
  {
   "cell_type": "code",
   "execution_count": 22,
   "id": "641bad0f-07b7-43c3-bffc-4adda934c354",
   "metadata": {},
   "outputs": [
    {
     "data": {
      "text/plain": [
       "False"
      ]
     },
     "execution_count": 22,
     "metadata": {},
     "output_type": "execute_result"
    }
   ],
   "source": [
    "True and False"
   ]
  },
  {
   "cell_type": "code",
   "execution_count": 23,
   "id": "e6087f32-d39f-4d8d-bbc4-978e7e1821ea",
   "metadata": {
    "tags": []
   },
   "outputs": [
    {
     "data": {
      "text/plain": [
       "False"
      ]
     },
     "execution_count": 23,
     "metadata": {},
     "output_type": "execute_result"
    }
   ],
   "source": [
    "False and True"
   ]
  },
  {
   "cell_type": "code",
   "execution_count": 24,
   "id": "14bd706e-23e1-4a7a-8bbe-da68de9dcfbf",
   "metadata": {},
   "outputs": [
    {
     "data": {
      "text/plain": [
       "False"
      ]
     },
     "execution_count": 24,
     "metadata": {},
     "output_type": "execute_result"
    }
   ],
   "source": [
    "False and False"
   ]
  },
  {
   "cell_type": "markdown",
   "id": "3176b30b-6177-4990-a448-0cead32b5a17",
   "metadata": {},
   "source": [
    "* Wenn 'Antwort' bereits feststeht, dann wird Ausdruck/Befehl nicht weiter ausgeführt (lazy/verzögerte Auswertung)"
   ]
  },
  {
   "cell_type": "code",
   "execution_count": 34,
   "id": "bdceaecf-acc5-4a5b-844b-ca0fa8869cb8",
   "metadata": {},
   "outputs": [
    {
     "data": {
      "text/plain": [
       "False"
      ]
     },
     "execution_count": 34,
     "metadata": {},
     "output_type": "execute_result"
    }
   ],
   "source": [
    "False and print('Hallo')  # AND"
   ]
  },
  {
   "cell_type": "code",
   "execution_count": 26,
   "id": "957e3bd1-ad17-4003-88d4-b82f249946ed",
   "metadata": {},
   "outputs": [
    {
     "name": "stdout",
     "output_type": "stream",
     "text": [
      "Hallo\n"
     ]
    }
   ],
   "source": [
    "True and print('Hallo')"
   ]
  },
  {
   "cell_type": "code",
   "execution_count": 27,
   "id": "613c7e22-788c-471f-b1a3-1a23d2d4caae",
   "metadata": {},
   "outputs": [
    {
     "name": "stdout",
     "output_type": "stream",
     "text": [
      "Hallo\n"
     ]
    }
   ],
   "source": [
    "print('Hallo')"
   ]
  },
  {
   "cell_type": "code",
   "execution_count": 28,
   "id": "2a8c42ee-922d-4c30-8d45-1f2091deb923",
   "metadata": {},
   "outputs": [
    {
     "name": "stdout",
     "output_type": "stream",
     "text": [
      "hallo\n"
     ]
    }
   ],
   "source": [
    "res = print('hallo')"
   ]
  },
  {
   "cell_type": "code",
   "execution_count": 29,
   "id": "eae637c7-a01b-44b1-9b3a-27bba9820732",
   "metadata": {},
   "outputs": [],
   "source": [
    "res"
   ]
  },
  {
   "cell_type": "code",
   "execution_count": 30,
   "id": "75b29a87-ea07-43f2-ac9b-bf17da5d4f3f",
   "metadata": {},
   "outputs": [
    {
     "name": "stdout",
     "output_type": "stream",
     "text": [
      "None\n"
     ]
    }
   ],
   "source": [
    "print(res)"
   ]
  },
  {
   "cell_type": "code",
   "execution_count": 31,
   "id": "754c56ca-6caf-4166-8f3b-cdf6d3126720",
   "metadata": {},
   "outputs": [
    {
     "data": {
      "text/plain": [
       "False"
      ]
     },
     "execution_count": 31,
     "metadata": {},
     "output_type": "execute_result"
    }
   ],
   "source": [
    "bool(None)"
   ]
  },
  {
   "cell_type": "code",
   "execution_count": 35,
   "id": "0cc62423-bf05-4d8d-91cd-89df61dad893",
   "metadata": {},
   "outputs": [
    {
     "data": {
      "text/plain": [
       "False"
      ]
     },
     "execution_count": 35,
     "metadata": {},
     "output_type": "execute_result"
    }
   ],
   "source": [
    "False or False  # OR"
   ]
  },
  {
   "cell_type": "code",
   "execution_count": 33,
   "id": "6142e496-558d-4645-a71f-3d2ab36b1138",
   "metadata": {},
   "outputs": [
    {
     "data": {
      "text/plain": [
       "True"
      ]
     },
     "execution_count": 33,
     "metadata": {},
     "output_type": "execute_result"
    }
   ],
   "source": [
    "False or True"
   ]
  },
  {
   "cell_type": "code",
   "execution_count": 36,
   "id": "06e4985a-ab6a-42b8-a340-4887550bd5d3",
   "metadata": {},
   "outputs": [
    {
     "data": {
      "text/plain": [
       "True"
      ]
     },
     "execution_count": 36,
     "metadata": {},
     "output_type": "execute_result"
    }
   ],
   "source": [
    "True or False"
   ]
  },
  {
   "cell_type": "code",
   "execution_count": 37,
   "id": "d11f5433-47e3-44b6-b3c3-333c04e19642",
   "metadata": {},
   "outputs": [
    {
     "data": {
      "text/plain": [
       "True"
      ]
     },
     "execution_count": 37,
     "metadata": {},
     "output_type": "execute_result"
    }
   ],
   "source": [
    "True or True"
   ]
  },
  {
   "cell_type": "markdown",
   "id": "57e8cb55-9b8b-4dda-9fc9-3d1dfd52c1d2",
   "metadata": {},
   "source": [
    "* Vergleich"
   ]
  },
  {
   "cell_type": "code",
   "execution_count": 38,
   "id": "cc2679d7-209f-4f66-9c08-85af9ca496a2",
   "metadata": {},
   "outputs": [
    {
     "data": {
      "text/plain": [
       "False"
      ]
     },
     "execution_count": 38,
     "metadata": {},
     "output_type": "execute_result"
    }
   ],
   "source": [
    "1 < 1"
   ]
  },
  {
   "cell_type": "code",
   "execution_count": 42,
   "id": "d733a389-75a0-425d-b051-e093f34904a5",
   "metadata": {},
   "outputs": [
    {
     "data": {
      "text/plain": [
       "True"
      ]
     },
     "execution_count": 42,
     "metadata": {},
     "output_type": "execute_result"
    }
   ],
   "source": [
    "1 <= 1"
   ]
  },
  {
   "cell_type": "code",
   "execution_count": 43,
   "id": "3c18522d-b46a-4c95-839c-b4a19ad16ca8",
   "metadata": {},
   "outputs": [
    {
     "data": {
      "text/plain": [
       "True"
      ]
     },
     "execution_count": 43,
     "metadata": {},
     "output_type": "execute_result"
    }
   ],
   "source": [
    "1 == 1"
   ]
  },
  {
   "cell_type": "code",
   "execution_count": 44,
   "id": "524262ca-2045-4ef2-8dd2-be6b85a2b68a",
   "metadata": {},
   "outputs": [
    {
     "ename": "SyntaxError",
     "evalue": "cannot assign to literal here. Maybe you meant '==' instead of '='? (814398681.py, line 1)",
     "output_type": "error",
     "traceback": [
      "\u001b[0;36m  Input \u001b[0;32mIn [44]\u001b[0;36m\u001b[0m\n\u001b[0;31m    1 = 1\u001b[0m\n\u001b[0m    ^\u001b[0m\n\u001b[0;31mSyntaxError\u001b[0m\u001b[0;31m:\u001b[0m cannot assign to literal here. Maybe you meant '==' instead of '='?\n"
     ]
    }
   ],
   "source": [
    "1 = 1"
   ]
  },
  {
   "cell_type": "code",
   "execution_count": 45,
   "id": "248a6238-8026-4e02-ae78-709a8f5115a4",
   "metadata": {},
   "outputs": [
    {
     "data": {
      "text/plain": [
       "True"
      ]
     },
     "execution_count": 45,
     "metadata": {},
     "output_type": "execute_result"
    }
   ],
   "source": [
    "a is a"
   ]
  },
  {
   "cell_type": "code",
   "execution_count": 46,
   "id": "267f4d9d-c5b8-4939-8f4b-49837f048a5f",
   "metadata": {},
   "outputs": [
    {
     "data": {
      "text/plain": [
       "False"
      ]
     },
     "execution_count": 46,
     "metadata": {},
     "output_type": "execute_result"
    }
   ],
   "source": [
    "b is a"
   ]
  },
  {
   "cell_type": "code",
   "execution_count": 47,
   "id": "f5cc0e78-d26e-4bb8-9023-09d915380682",
   "metadata": {},
   "outputs": [
    {
     "data": {
      "text/plain": [
       "False"
      ]
     },
     "execution_count": 47,
     "metadata": {},
     "output_type": "execute_result"
    }
   ],
   "source": [
    "a is b"
   ]
  },
  {
   "cell_type": "code",
   "execution_count": 57,
   "id": "c9fce701-6cf8-4ee4-b40b-80e62290adc4",
   "metadata": {},
   "outputs": [],
   "source": [
    "b = a"
   ]
  },
  {
   "cell_type": "code",
   "execution_count": 49,
   "id": "0ba47336-e1be-4d06-9134-3a8b3248c973",
   "metadata": {},
   "outputs": [
    {
     "data": {
      "text/plain": [
       "True"
      ]
     },
     "execution_count": 49,
     "metadata": {},
     "output_type": "execute_result"
    }
   ],
   "source": [
    "a is b"
   ]
  },
  {
   "cell_type": "code",
   "execution_count": 50,
   "id": "903b153f-59cb-4954-87fd-3056c8a0cb54",
   "metadata": {},
   "outputs": [],
   "source": [
    "x = 12.5\n",
    "y = 12.5"
   ]
  },
  {
   "cell_type": "code",
   "execution_count": 51,
   "id": "7529c05f-70a3-4506-92c9-5a4ddc8be9f9",
   "metadata": {},
   "outputs": [
    {
     "data": {
      "text/plain": [
       "True"
      ]
     },
     "execution_count": 51,
     "metadata": {},
     "output_type": "execute_result"
    }
   ],
   "source": [
    "x == y"
   ]
  },
  {
   "cell_type": "code",
   "execution_count": 52,
   "id": "4253e39d-d0d6-494d-a2f3-6a9495131bbc",
   "metadata": {},
   "outputs": [
    {
     "data": {
      "text/plain": [
       "False"
      ]
     },
     "execution_count": 52,
     "metadata": {},
     "output_type": "execute_result"
    }
   ],
   "source": [
    "x is y"
   ]
  },
  {
   "cell_type": "code",
   "execution_count": 53,
   "id": "e2b5ec89-7c19-4d5d-9598-442800165b0c",
   "metadata": {},
   "outputs": [],
   "source": [
    "z = x"
   ]
  },
  {
   "cell_type": "code",
   "execution_count": 54,
   "id": "face07dd-b797-43f0-947b-7c1ccde5aaf2",
   "metadata": {},
   "outputs": [
    {
     "data": {
      "text/plain": [
       "12.5"
      ]
     },
     "execution_count": 54,
     "metadata": {},
     "output_type": "execute_result"
    }
   ],
   "source": [
    "z"
   ]
  },
  {
   "cell_type": "code",
   "execution_count": 56,
   "id": "8c73a6a3-cee8-4452-a388-98de197954e7",
   "metadata": {},
   "outputs": [
    {
     "data": {
      "text/plain": [
       "True"
      ]
     },
     "execution_count": 56,
     "metadata": {},
     "output_type": "execute_result"
    }
   ],
   "source": [
    "z == y"
   ]
  },
  {
   "cell_type": "code",
   "execution_count": 58,
   "id": "24df1042-67ce-4129-b8b7-29b43c0c672b",
   "metadata": {},
   "outputs": [
    {
     "data": {
      "text/plain": [
       "140578590483120"
      ]
     },
     "execution_count": 58,
     "metadata": {},
     "output_type": "execute_result"
    }
   ],
   "source": [
    "id(x)"
   ]
  },
  {
   "cell_type": "code",
   "execution_count": 59,
   "id": "73fb2ea9-3a6d-493b-a5d3-ead61b4ed536",
   "metadata": {},
   "outputs": [
    {
     "data": {
      "text/plain": [
       "140578590483120"
      ]
     },
     "execution_count": 59,
     "metadata": {},
     "output_type": "execute_result"
    }
   ],
   "source": [
    "id(z)"
   ]
  },
  {
   "cell_type": "code",
   "execution_count": 62,
   "id": "4b76ab5b-5ef1-4bd1-aa88-f16f2f8e823b",
   "metadata": {},
   "outputs": [
    {
     "data": {
      "text/plain": [
       "140578590482928"
      ]
     },
     "execution_count": 62,
     "metadata": {},
     "output_type": "execute_result"
    }
   ],
   "source": [
    "id(y)  # id von y <> id von x/z --> y is a/z = False (Objekt IDs werden verglichen)"
   ]
  },
  {
   "cell_type": "code",
   "execution_count": 63,
   "id": "023b8bd8-06e6-4a97-9020-007029b0abc4",
   "metadata": {},
   "outputs": [
    {
     "data": {
      "text/plain": [
       "True"
      ]
     },
     "execution_count": 63,
     "metadata": {},
     "output_type": "execute_result"
    }
   ],
   "source": [
    "1 != 2"
   ]
  },
  {
   "cell_type": "code",
   "execution_count": 64,
   "id": "cb0fa0ef-0cf7-4d9b-9396-eeec6276a678",
   "metadata": {},
   "outputs": [
    {
     "data": {
      "text/plain": [
       "False"
      ]
     },
     "execution_count": 64,
     "metadata": {},
     "output_type": "execute_result"
    }
   ],
   "source": [
    "1 != 1"
   ]
  },
  {
   "cell_type": "code",
   "execution_count": 65,
   "id": "add18bfe-ed13-4942-ab42-908688d00f8f",
   "metadata": {},
   "outputs": [
    {
     "data": {
      "text/plain": [
       "False"
      ]
     },
     "execution_count": 65,
     "metadata": {},
     "output_type": "execute_result"
    }
   ],
   "source": [
    "not True"
   ]
  },
  {
   "cell_type": "code",
   "execution_count": 66,
   "id": "f054df8b-b12e-4f03-aacf-8289cf5cee8e",
   "metadata": {},
   "outputs": [
    {
     "data": {
      "text/plain": [
       "True"
      ]
     },
     "execution_count": 66,
     "metadata": {},
     "output_type": "execute_result"
    }
   ],
   "source": [
    "not not True"
   ]
  },
  {
   "cell_type": "code",
   "execution_count": 68,
   "id": "f13ffc4f-1de9-44f3-83bc-8bd4eb718826",
   "metadata": {},
   "outputs": [
    {
     "data": {
      "text/plain": [
       "True"
      ]
     },
     "execution_count": 68,
     "metadata": {},
     "output_type": "execute_result"
    }
   ],
   "source": [
    "'a' in 'abc'"
   ]
  },
  {
   "cell_type": "code",
   "execution_count": 69,
   "id": "98162759-52f4-4a2d-915b-fe626f35fb57",
   "metadata": {},
   "outputs": [
    {
     "data": {
      "text/plain": [
       "False"
      ]
     },
     "execution_count": 69,
     "metadata": {},
     "output_type": "execute_result"
    }
   ],
   "source": [
    "'x' in 'abc'"
   ]
  },
  {
   "cell_type": "code",
   "execution_count": 70,
   "id": "319daa89-6cc1-4ea0-b4f1-a9fbb430c8f2",
   "metadata": {},
   "outputs": [
    {
     "data": {
      "text/plain": [
       "True"
      ]
     },
     "execution_count": 70,
     "metadata": {},
     "output_type": "execute_result"
    }
   ],
   "source": [
    "'x' not in 'abc'"
   ]
  },
  {
   "cell_type": "code",
   "execution_count": 71,
   "id": "1095c764-5ce8-4e24-85ed-115bdbbbe637",
   "metadata": {},
   "outputs": [
    {
     "name": "stdin",
     "output_type": "stream",
     "text": [
      "###:  123\n"
     ]
    },
    {
     "data": {
      "text/plain": [
       "'123'"
      ]
     },
     "execution_count": 71,
     "metadata": {},
     "output_type": "execute_result"
    }
   ],
   "source": [
    "input('###: ')"
   ]
  },
  {
   "cell_type": "code",
   "execution_count": 73,
   "id": "106fe654-0df3-460e-a4d7-fae79868c59b",
   "metadata": {},
   "outputs": [
    {
     "name": "stdin",
     "output_type": "stream",
     "text": [
      "Zahl?:  123\n"
     ]
    }
   ],
   "source": [
    "eingabe = input('Zahl?: ')"
   ]
  },
  {
   "cell_type": "code",
   "execution_count": 74,
   "id": "a613c8e6-4157-403a-b76a-61c1f74f1ff8",
   "metadata": {},
   "outputs": [
    {
     "data": {
      "text/plain": [
       "'123'"
      ]
     },
     "execution_count": 74,
     "metadata": {},
     "output_type": "execute_result"
    }
   ],
   "source": [
    "eingabe"
   ]
  },
  {
   "cell_type": "code",
   "execution_count": 88,
   "id": "b148e70b-40b9-4321-b337-9185f2d70d9f",
   "metadata": {},
   "outputs": [
    {
     "data": {
      "text/plain": [
       "'123123'"
      ]
     },
     "execution_count": 88,
     "metadata": {},
     "output_type": "execute_result"
    }
   ],
   "source": [
    "eingabe*2"
   ]
  },
  {
   "cell_type": "code",
   "execution_count": 76,
   "id": "482ccd79-21d5-4b2f-9933-708541bb0044",
   "metadata": {},
   "outputs": [
    {
     "data": {
      "text/plain": [
       "246"
      ]
     },
     "execution_count": 76,
     "metadata": {},
     "output_type": "execute_result"
    }
   ],
   "source": [
    "int(eingabe)*2"
   ]
  },
  {
   "cell_type": "code",
   "execution_count": 79,
   "id": "1fe1f229-28b8-4f9f-b2ae-ba8e58ff27ac",
   "metadata": {},
   "outputs": [
    {
     "data": {
      "text/plain": [
       "123.0"
      ]
     },
     "execution_count": 79,
     "metadata": {},
     "output_type": "execute_result"
    }
   ],
   "source": [
    "float(eingabe)"
   ]
  },
  {
   "cell_type": "code",
   "execution_count": 83,
   "id": "42e8c103-d662-4429-aa21-4be697cc7e8f",
   "metadata": {},
   "outputs": [
    {
     "name": "stdin",
     "output_type": "stream",
     "text": [
      "Zahl?:  123\n"
     ]
    }
   ],
   "source": [
    "zahl = float(input('Zahl?: '))"
   ]
  },
  {
   "cell_type": "code",
   "execution_count": 84,
   "id": "e8dfd4d8-a434-490e-8b16-f3e518f7cb16",
   "metadata": {},
   "outputs": [
    {
     "data": {
      "text/plain": [
       "123.0"
      ]
     },
     "execution_count": 84,
     "metadata": {},
     "output_type": "execute_result"
    }
   ],
   "source": [
    "zahl"
   ]
  },
  {
   "cell_type": "code",
   "execution_count": 89,
   "id": "2261d355-68bf-4e9d-8100-a3b46968d30e",
   "metadata": {},
   "outputs": [
    {
     "data": {
      "text/plain": [
       "246.0"
      ]
     },
     "execution_count": 89,
     "metadata": {},
     "output_type": "execute_result"
    }
   ],
   "source": [
    "zahl*2"
   ]
  },
  {
   "cell_type": "code",
   "execution_count": 86,
   "id": "5f01d116-f006-40ec-80bd-cbefd6818f98",
   "metadata": {},
   "outputs": [
    {
     "name": "stdout",
     "output_type": "stream",
     "text": [
      "123.0\n"
     ]
    }
   ],
   "source": [
    "print(zahl)"
   ]
  },
  {
   "cell_type": "code",
   "execution_count": 87,
   "id": "668015b1-893c-42ce-ac73-146ed7398f54",
   "metadata": {},
   "outputs": [
    {
     "data": {
      "text/plain": [
       "'123.0'"
      ]
     },
     "execution_count": 87,
     "metadata": {},
     "output_type": "execute_result"
    }
   ],
   "source": [
    "str(zahl)"
   ]
  },
  {
   "cell_type": "code",
   "execution_count": 90,
   "id": "2f1e87e8-eb39-4b27-8617-e26ee2054e0f",
   "metadata": {},
   "outputs": [
    {
     "name": "stdout",
     "output_type": "stream",
     "text": [
      "ihre Zahl 123.0 ist in 100 drin\n"
     ]
    }
   ],
   "source": [
    "print(\"ihre Zahl\", zahl, \"ist in 100 drin\")"
   ]
  },
  {
   "cell_type": "code",
   "execution_count": 92,
   "id": "a87bba90-10d4-440d-831c-6fdafbb53d44",
   "metadata": {},
   "outputs": [
    {
     "name": "stdout",
     "output_type": "stream",
     "text": [
      "ihre Zahl 123.0 ist in 100 nicht drin\n"
     ]
    }
   ],
   "source": [
    "print(f\"ihre Zahl {zahl} ist in 100 nicht drin\")"
   ]
  },
  {
   "cell_type": "code",
   "execution_count": null,
   "id": "855a955b-8505-4b9e-b1cc-871290619353",
   "metadata": {},
   "outputs": [],
   "source": []
  }
 ],
 "metadata": {
  "kernelspec": {
   "display_name": "Python 3.10",
   "language": "python",
   "name": "python310"
  },
  "language_info": {
   "codemirror_mode": {
    "name": "ipython",
    "version": 3
   },
   "file_extension": ".py",
   "mimetype": "text/x-python",
   "name": "python",
   "nbconvert_exporter": "python",
   "pygments_lexer": "ipython3",
   "version": "3.10.4"
  }
 },
 "nbformat": 4,
 "nbformat_minor": 5
}
