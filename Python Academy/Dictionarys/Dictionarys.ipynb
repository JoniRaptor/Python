{
 "cells": [
  {
   "cell_type": "code",
   "execution_count": 42,
   "id": "efadadc6-2b16-420b-a57b-06a4567a6961",
   "metadata": {},
   "outputs": [],
   "source": [
    "d = {'a': 100, 'b': 200, 'c': 300}  # den Werten wird ein Schlüssel zugeördnet"
   ]
  },
  {
   "cell_type": "code",
   "execution_count": 43,
   "id": "b88fbb1a-e36f-476d-b30d-7e58fc05f884",
   "metadata": {},
   "outputs": [
    {
     "data": {
      "text/plain": [
       "{'a': 100, 'b': 200, 'c': 300}"
      ]
     },
     "execution_count": 43,
     "metadata": {},
     "output_type": "execute_result"
    }
   ],
   "source": [
    "d"
   ]
  },
  {
   "cell_type": "code",
   "execution_count": 44,
   "id": "4a42fee0-df2b-4fc9-8873-bdb2058235ae",
   "metadata": {},
   "outputs": [
    {
     "data": {
      "text/plain": [
       "100"
      ]
     },
     "execution_count": 44,
     "metadata": {},
     "output_type": "execute_result"
    }
   ],
   "source": [
    "d['a']"
   ]
  },
  {
   "cell_type": "code",
   "execution_count": 45,
   "id": "82544ca7-368b-4a45-8ac6-addb2cee0827",
   "metadata": {},
   "outputs": [
    {
     "data": {
      "text/plain": [
       "3"
      ]
     },
     "execution_count": 45,
     "metadata": {},
     "output_type": "execute_result"
    }
   ],
   "source": [
    "len(d)"
   ]
  },
  {
   "cell_type": "code",
   "execution_count": 46,
   "id": "d8c6fe67-6126-4abf-8618-fc1eed4a7238",
   "metadata": {},
   "outputs": [],
   "source": [
    "d['a'] = 1000"
   ]
  },
  {
   "cell_type": "code",
   "execution_count": 47,
   "id": "b770a1c8-7a61-481d-ab0d-25e3f65e0f40",
   "metadata": {},
   "outputs": [
    {
     "data": {
      "text/plain": [
       "1000"
      ]
     },
     "execution_count": 47,
     "metadata": {},
     "output_type": "execute_result"
    }
   ],
   "source": [
    "d['a']"
   ]
  },
  {
   "cell_type": "code",
   "execution_count": 48,
   "id": "008e493e-e9ae-4aeb-a349-05245ee43415",
   "metadata": {},
   "outputs": [],
   "source": [
    "del d['b']"
   ]
  },
  {
   "cell_type": "code",
   "execution_count": 49,
   "id": "74d3f685-3bd6-49a6-8ea7-38bab7610ee6",
   "metadata": {},
   "outputs": [
    {
     "data": {
      "text/plain": [
       "{'a': 1000, 'c': 300}"
      ]
     },
     "execution_count": 49,
     "metadata": {},
     "output_type": "execute_result"
    }
   ],
   "source": [
    "d"
   ]
  },
  {
   "cell_type": "code",
   "execution_count": 50,
   "id": "1632d650-9efe-4f2d-b31d-1220ad4f62e8",
   "metadata": {},
   "outputs": [],
   "source": [
    "d['b'] = 2000"
   ]
  },
  {
   "cell_type": "code",
   "execution_count": 51,
   "id": "d192bbc3-ce82-43cf-bc8c-7b443abaf2b0",
   "metadata": {},
   "outputs": [
    {
     "data": {
      "text/plain": [
       "{'a': 1000, 'c': 300, 'b': 2000}"
      ]
     },
     "execution_count": 51,
     "metadata": {},
     "output_type": "execute_result"
    }
   ],
   "source": [
    "d"
   ]
  },
  {
   "cell_type": "code",
   "execution_count": 52,
   "id": "fc650b2e-1169-4ea6-b89f-a758961cb943",
   "metadata": {},
   "outputs": [],
   "source": [
    "d['x'] = 3000  # es gibt kein append für Dictionarys"
   ]
  },
  {
   "cell_type": "code",
   "execution_count": 53,
   "id": "36b89814-7902-44c7-b01d-d1a5d3774c41",
   "metadata": {},
   "outputs": [
    {
     "data": {
      "text/plain": [
       "{'a': 1000, 'c': 300, 'b': 2000, 'x': 3000}"
      ]
     },
     "execution_count": 53,
     "metadata": {},
     "output_type": "execute_result"
    }
   ],
   "source": [
    "d"
   ]
  },
  {
   "cell_type": "code",
   "execution_count": 54,
   "id": "5d15dd97-8427-4158-85ff-4fa646ac78c1",
   "metadata": {},
   "outputs": [
    {
     "data": {
      "text/plain": [
       "True"
      ]
     },
     "execution_count": 54,
     "metadata": {},
     "output_type": "execute_result"
    }
   ],
   "source": [
    "'a' in d"
   ]
  },
  {
   "cell_type": "code",
   "execution_count": 55,
   "id": "d9cbcb83-cee7-447c-95e9-bcde2cbd955d",
   "metadata": {},
   "outputs": [
    {
     "data": {
      "text/plain": [
       "False"
      ]
     },
     "execution_count": 55,
     "metadata": {},
     "output_type": "execute_result"
    }
   ],
   "source": [
    "1000 in d  # prüfung geht immer auf Schlüsser, der auf den Wert zeigt"
   ]
  },
  {
   "cell_type": "code",
   "execution_count": 56,
   "id": "9aa11597-2531-47f3-b793-1d1411b45f31",
   "metadata": {},
   "outputs": [
    {
     "data": {
      "text/plain": [
       "dict_keys(['a', 'c', 'b', 'x'])"
      ]
     },
     "execution_count": 56,
     "metadata": {},
     "output_type": "execute_result"
    }
   ],
   "source": [
    "d.keys()"
   ]
  },
  {
   "cell_type": "code",
   "execution_count": 57,
   "id": "a29113ba-2de9-4d15-b463-9fd884308073",
   "metadata": {},
   "outputs": [
    {
     "data": {
      "text/plain": [
       "dict_values([1000, 300, 2000, 3000])"
      ]
     },
     "execution_count": 57,
     "metadata": {},
     "output_type": "execute_result"
    }
   ],
   "source": [
    "d.values()"
   ]
  },
  {
   "cell_type": "code",
   "execution_count": 58,
   "id": "d71283a6-d39f-4e1a-935e-42a2db071d4c",
   "metadata": {},
   "outputs": [
    {
     "data": {
      "text/plain": [
       "dict_items([('a', 1000), ('c', 300), ('b', 2000), ('x', 3000)])"
      ]
     },
     "execution_count": 58,
     "metadata": {},
     "output_type": "execute_result"
    }
   ],
   "source": [
    "d.items()"
   ]
  },
  {
   "cell_type": "code",
   "execution_count": 59,
   "id": "dcc026e8-634d-46fa-8320-9409fce7e374",
   "metadata": {},
   "outputs": [],
   "source": [
    "k = d.keys()"
   ]
  },
  {
   "cell_type": "code",
   "execution_count": 60,
   "id": "744009c5-e9e5-4e30-89fc-1b3e947b70f3",
   "metadata": {},
   "outputs": [
    {
     "data": {
      "text/plain": [
       "dict_keys(['a', 'c', 'b', 'x'])"
      ]
     },
     "execution_count": 60,
     "metadata": {},
     "output_type": "execute_result"
    }
   ],
   "source": [
    "k"
   ]
  },
  {
   "cell_type": "code",
   "execution_count": 61,
   "id": "73941219-4651-4449-af30-b745427bc012",
   "metadata": {},
   "outputs": [],
   "source": [
    "d['y'] = 5000"
   ]
  },
  {
   "cell_type": "code",
   "execution_count": 62,
   "id": "530a928f-20ad-4e98-aece-9bfad88457e3",
   "metadata": {},
   "outputs": [
    {
     "data": {
      "text/plain": [
       "dict_keys(['a', 'c', 'b', 'x', 'y'])"
      ]
     },
     "execution_count": 62,
     "metadata": {},
     "output_type": "execute_result"
    }
   ],
   "source": [
    "k"
   ]
  },
  {
   "cell_type": "code",
   "execution_count": 63,
   "id": "0eae958d-6e76-4846-989e-702407e77743",
   "metadata": {},
   "outputs": [
    {
     "data": {
      "text/plain": [
       "['a', 'c', 'b', 'x', 'y']"
      ]
     },
     "execution_count": 63,
     "metadata": {},
     "output_type": "execute_result"
    }
   ],
   "source": [
    "list(k)"
   ]
  },
  {
   "cell_type": "code",
   "execution_count": 64,
   "id": "6f9e3e84-0949-4b17-8cda-628f4bba1ae1",
   "metadata": {},
   "outputs": [
    {
     "data": {
      "text/plain": [
       "\u001b[0;31mDocstring:\u001b[0m D.clear() -> None.  Remove all items from D.\n",
       "\u001b[0;31mType:\u001b[0m      builtin_function_or_method\n"
      ]
     },
     "metadata": {},
     "output_type": "display_data"
    }
   ],
   "source": [
    "d.clear?"
   ]
  },
  {
   "cell_type": "code",
   "execution_count": 65,
   "id": "581e21d7-2e2e-46e4-b5a5-bb7329064ef3",
   "metadata": {},
   "outputs": [],
   "source": [
    "neu = {'a': 1234, 'ö': 5678}"
   ]
  },
  {
   "cell_type": "code",
   "execution_count": 71,
   "id": "6c671601-5a5f-423a-ac22-666790db45d0",
   "metadata": {},
   "outputs": [],
   "source": [
    "d2 = d.copy()  # erzeugt eine einfache unabhängige Kopie"
   ]
  },
  {
   "cell_type": "code",
   "execution_count": 67,
   "id": "21abbc03-6bf9-451b-8bda-a3f22867cd1a",
   "metadata": {},
   "outputs": [
    {
     "data": {
      "text/plain": [
       "\u001b[0;31mDocstring:\u001b[0m D.copy() -> a shallow copy of D\n",
       "\u001b[0;31mType:\u001b[0m      builtin_function_or_method\n"
      ]
     },
     "metadata": {},
     "output_type": "display_data"
    }
   ],
   "source": [
    "d.copy?"
   ]
  },
  {
   "cell_type": "code",
   "execution_count": 68,
   "id": "c752dd03-1d4f-437e-8562-8a64d7bad6dd",
   "metadata": {},
   "outputs": [
    {
     "data": {
      "text/plain": [
       "{'a': 1000, 'c': 300, 'b': 2000, 'x': 3000, 'y': 5000}"
      ]
     },
     "execution_count": 68,
     "metadata": {},
     "output_type": "execute_result"
    }
   ],
   "source": [
    "d2"
   ]
  },
  {
   "cell_type": "code",
   "execution_count": 69,
   "id": "aaa4b009-6171-4cfa-bf61-c1014a80746c",
   "metadata": {},
   "outputs": [],
   "source": [
    "import copy"
   ]
  },
  {
   "cell_type": "code",
   "execution_count": 70,
   "id": "0da0ea91-cf7e-4130-b0fd-dbabd3fbe2ee",
   "metadata": {},
   "outputs": [
    {
     "data": {
      "text/plain": [
       "\u001b[0;31mSignature:\u001b[0m \u001b[0mcopy\u001b[0m\u001b[0;34m.\u001b[0m\u001b[0mdeepcopy\u001b[0m\u001b[0;34m(\u001b[0m\u001b[0mx\u001b[0m\u001b[0;34m,\u001b[0m \u001b[0mmemo\u001b[0m\u001b[0;34m=\u001b[0m\u001b[0;32mNone\u001b[0m\u001b[0;34m,\u001b[0m \u001b[0m_nil\u001b[0m\u001b[0;34m=\u001b[0m\u001b[0;34m[\u001b[0m\u001b[0;34m]\u001b[0m\u001b[0;34m)\u001b[0m\u001b[0;34m\u001b[0m\u001b[0;34m\u001b[0m\u001b[0m\n",
       "\u001b[0;31mDocstring:\u001b[0m\n",
       "Deep copy operation on arbitrary Python objects.\n",
       "\n",
       "See the module's __doc__ string for more info.\n",
       "\u001b[0;31mFile:\u001b[0m      /opt/mambaforge/envs/python310/lib/python3.10/copy.py\n",
       "\u001b[0;31mType:\u001b[0m      function\n"
      ]
     },
     "metadata": {},
     "output_type": "display_data"
    }
   ],
   "source": [
    "copy.deepcopy?"
   ]
  },
  {
   "cell_type": "code",
   "execution_count": 72,
   "id": "a1e8971a-10f6-4008-bd0f-c6166b3b9445",
   "metadata": {},
   "outputs": [],
   "source": [
    "# erzeugt komplette unabhängige Kopie"
   ]
  },
  {
   "cell_type": "code",
   "execution_count": 73,
   "id": "016c1408-db75-42ea-9e77-7d366733c5ac",
   "metadata": {},
   "outputs": [
    {
     "data": {
      "text/plain": [
       "\u001b[0;31mType:\u001b[0m        module\n",
       "\u001b[0;31mString form:\u001b[0m <module 'copy' from '/opt/mambaforge/envs/python310/lib/python3.10/copy.py'>\n",
       "\u001b[0;31mFile:\u001b[0m        /opt/mambaforge/envs/python310/lib/python3.10/copy.py\n",
       "\u001b[0;31mDocstring:\u001b[0m  \n",
       "Generic (shallow and deep) copying operations.\n",
       "\n",
       "Interface summary:\n",
       "\n",
       "        import copy\n",
       "\n",
       "        x = copy.copy(y)        # make a shallow copy of y\n",
       "        x = copy.deepcopy(y)    # make a deep copy of y\n",
       "\n",
       "For module specific errors, copy.Error is raised.\n",
       "\n",
       "The difference between shallow and deep copying is only relevant for\n",
       "compound objects (objects that contain other objects, like lists or\n",
       "class instances).\n",
       "\n",
       "- A shallow copy constructs a new compound object and then (to the\n",
       "  extent possible) inserts *the same objects* into it that the\n",
       "  original contains.\n",
       "\n",
       "- A deep copy constructs a new compound object and then, recursively,\n",
       "  inserts *copies* into it of the objects found in the original.\n",
       "\n",
       "Two problems often exist with deep copy operations that don't exist\n",
       "with shallow copy operations:\n",
       "\n",
       " a) recursive objects (compound objects that, directly or indirectly,\n",
       "    contain a reference to themselves) may cause a recursive loop\n",
       "\n",
       " b) because deep copy copies *everything* it may copy too much, e.g.\n",
       "    administrative data structures that should be shared even between\n",
       "    copies\n",
       "\n",
       "Python's deep copy operation avoids these problems by:\n",
       "\n",
       " a) keeping a table of objects already copied during the current\n",
       "    copying pass\n",
       "\n",
       " b) letting user-defined classes override the copying operation or the\n",
       "    set of components copied\n",
       "\n",
       "This version does not copy types like module, class, function, method,\n",
       "nor stack trace, stack frame, nor file, socket, window, nor any\n",
       "similar types.\n",
       "\n",
       "Classes can use the same interfaces to control copying that they use\n",
       "to control pickling: they can define methods called __getinitargs__(),\n",
       "__getstate__() and __setstate__().  See the documentation for module\n",
       "\"pickle\" for information on these methods.\n"
      ]
     },
     "metadata": {},
     "output_type": "display_data"
    }
   ],
   "source": [
    "copy?"
   ]
  },
  {
   "cell_type": "code",
   "execution_count": 76,
   "id": "d3247ce8-abc4-4942-b919-64a4720def70",
   "metadata": {},
   "outputs": [
    {
     "data": {
      "text/plain": [
       "True"
      ]
     },
     "execution_count": 76,
     "metadata": {},
     "output_type": "execute_result"
    }
   ],
   "source": [
    "d == d2  # gleiche werte"
   ]
  },
  {
   "cell_type": "code",
   "execution_count": 77,
   "id": "904327f2-44ad-401b-9402-f8a959b0a2e5",
   "metadata": {},
   "outputs": [
    {
     "data": {
      "text/plain": [
       "False"
      ]
     },
     "execution_count": 77,
     "metadata": {},
     "output_type": "execute_result"
    }
   ],
   "source": [
    "d is d2  # nicht gleiche objekte"
   ]
  },
  {
   "cell_type": "code",
   "execution_count": 82,
   "id": "f8819356-d6ea-4223-bdf8-4d20f5449f30",
   "metadata": {},
   "outputs": [],
   "source": [
    "d3 = d  # d3 und d verweisen auf das gleiche Objekt"
   ]
  },
  {
   "cell_type": "code",
   "execution_count": 83,
   "id": "ab312987-b6b3-4fe7-86fa-063369edc384",
   "metadata": {},
   "outputs": [
    {
     "data": {
      "text/plain": [
       "{'a': 1000, 'c': 300, 'b': 2000, 'x': 3000, 'y': 5000}"
      ]
     },
     "execution_count": 83,
     "metadata": {},
     "output_type": "execute_result"
    }
   ],
   "source": [
    "d3"
   ]
  },
  {
   "cell_type": "code",
   "execution_count": 84,
   "id": "dbbf090c-a4c7-4b83-9be5-0d6ec93b2544",
   "metadata": {},
   "outputs": [
    {
     "data": {
      "text/plain": [
       "True"
      ]
     },
     "execution_count": 84,
     "metadata": {},
     "output_type": "execute_result"
    }
   ],
   "source": [
    "d == d3"
   ]
  },
  {
   "cell_type": "code",
   "execution_count": 85,
   "id": "161d1324-4d97-45ad-9063-eeaeb65c8228",
   "metadata": {},
   "outputs": [
    {
     "data": {
      "text/plain": [
       "True"
      ]
     },
     "execution_count": 85,
     "metadata": {},
     "output_type": "execute_result"
    }
   ],
   "source": [
    "d is d3"
   ]
  },
  {
   "cell_type": "code",
   "execution_count": 86,
   "id": "a123e6fa-d916-424f-a1d2-fea9029e8874",
   "metadata": {},
   "outputs": [],
   "source": [
    "a = 1"
   ]
  },
  {
   "cell_type": "code",
   "execution_count": 87,
   "id": "2f4a23c2-be15-4dae-afa1-361fb37c9af0",
   "metadata": {},
   "outputs": [
    {
     "data": {
      "text/plain": [
       "1"
      ]
     },
     "execution_count": 87,
     "metadata": {},
     "output_type": "execute_result"
    }
   ],
   "source": [
    "a"
   ]
  },
  {
   "cell_type": "code",
   "execution_count": 88,
   "id": "8bbdfa0d-0d30-40ff-ace2-97de018b1d64",
   "metadata": {},
   "outputs": [
    {
     "data": {
      "text/plain": [
       "1"
      ]
     },
     "execution_count": 88,
     "metadata": {},
     "output_type": "execute_result"
    }
   ],
   "source": [
    "int('1')"
   ]
  },
  {
   "cell_type": "code",
   "execution_count": 89,
   "id": "4a5e9840-df91-47d7-957a-459bbeab9a6c",
   "metadata": {},
   "outputs": [],
   "source": [
    "b = [1, 2, 3]"
   ]
  },
  {
   "cell_type": "code",
   "execution_count": 90,
   "id": "3b16f007-07c9-40ed-af96-d50d11d48a9f",
   "metadata": {},
   "outputs": [
    {
     "data": {
      "text/plain": [
       "[1, 2, 3]"
      ]
     },
     "execution_count": 90,
     "metadata": {},
     "output_type": "execute_result"
    }
   ],
   "source": [
    "b"
   ]
  },
  {
   "cell_type": "code",
   "execution_count": 91,
   "id": "06e868ad-bbfe-48ed-8e25-e4c8af552b74",
   "metadata": {},
   "outputs": [
    {
     "data": {
      "text/plain": [
       "[1, 2, 3]"
      ]
     },
     "execution_count": 91,
     "metadata": {},
     "output_type": "execute_result"
    }
   ],
   "source": [
    "list(range(1, 4))"
   ]
  },
  {
   "cell_type": "code",
   "execution_count": 92,
   "id": "a14ef551-aca5-485d-b938-a0046114aa3d",
   "metadata": {},
   "outputs": [
    {
     "data": {
      "text/plain": [
       "{'a': 1234, 'ö': 5678}"
      ]
     },
     "execution_count": 92,
     "metadata": {},
     "output_type": "execute_result"
    }
   ],
   "source": [
    "neu"
   ]
  },
  {
   "cell_type": "code",
   "execution_count": 93,
   "id": "9ec066aa-6a56-4faa-bb49-1f8c5ada156f",
   "metadata": {},
   "outputs": [
    {
     "data": {
      "text/plain": [
       "{'a': 1000, 'c': 300, 'b': 2000, 'x': 3000, 'y': 5000}"
      ]
     },
     "execution_count": 93,
     "metadata": {},
     "output_type": "execute_result"
    }
   ],
   "source": [
    "d"
   ]
  },
  {
   "cell_type": "code",
   "execution_count": 94,
   "id": "69f15a6d-6a9d-4a4a-b153-31faf6a67e58",
   "metadata": {},
   "outputs": [
    {
     "data": {
      "text/plain": [
       "{'a': 1000, 'c': 300, 'b': 2000, 'x': 3000, 'y': 5000}"
      ]
     },
     "execution_count": 94,
     "metadata": {},
     "output_type": "execute_result"
    }
   ],
   "source": [
    "d2"
   ]
  },
  {
   "cell_type": "code",
   "execution_count": 95,
   "id": "ff054f45-859b-4b73-9963-8213fb7eace2",
   "metadata": {},
   "outputs": [],
   "source": [
    "d.update(neu)"
   ]
  },
  {
   "cell_type": "code",
   "execution_count": 98,
   "id": "1ae1fba7-5a0e-4b2d-b1c7-cb94eea30cd4",
   "metadata": {},
   "outputs": [
    {
     "data": {
      "text/plain": [
       "{'a': 1234, 'c': 300, 'b': 2000, 'x': 3000, 'y': 5000, 'ö': 5678}"
      ]
     },
     "execution_count": 98,
     "metadata": {},
     "output_type": "execute_result"
    }
   ],
   "source": [
    "d"
   ]
  },
  {
   "cell_type": "code",
   "execution_count": 100,
   "id": "a193cb0d-b718-4208-a8bb-79e0c24aa82b",
   "metadata": {},
   "outputs": [],
   "source": [
    "for k, v in neu.items():\n",
    "    d2[k] = v"
   ]
  },
  {
   "cell_type": "code",
   "execution_count": 101,
   "id": "4ed904da-e2bc-461f-a309-38f14ce8f7d3",
   "metadata": {},
   "outputs": [
    {
     "data": {
      "text/plain": [
       "{'a': 1234, 'c': 300, 'b': 2000, 'x': 3000, 'y': 5000, 'ö': 5678}"
      ]
     },
     "execution_count": 101,
     "metadata": {},
     "output_type": "execute_result"
    }
   ],
   "source": [
    "d"
   ]
  },
  {
   "cell_type": "code",
   "execution_count": 102,
   "id": "acba0644-8306-4f3a-bab7-48a8e5fdc62b",
   "metadata": {},
   "outputs": [
    {
     "data": {
      "text/plain": [
       "\u001b[0;31mDocstring:\u001b[0m\n",
       "D.update([E, ]**F) -> None.  Update D from dict/iterable E and F.\n",
       "If E is present and has a .keys() method, then does:  for k in E: D[k] = E[k]\n",
       "If E is present and lacks a .keys() method, then does:  for k, v in E: D[k] = v\n",
       "In either case, this is followed by: for k in F:  D[k] = F[k]\n",
       "\u001b[0;31mType:\u001b[0m      builtin_function_or_method\n"
      ]
     },
     "metadata": {},
     "output_type": "display_data"
    }
   ],
   "source": [
    "d.update?"
   ]
  },
  {
   "cell_type": "code",
   "execution_count": 103,
   "id": "5dbb82e6-2b70-49cc-a93e-546e79e6c99a",
   "metadata": {},
   "outputs": [
    {
     "data": {
      "text/plain": [
       "{}"
      ]
     },
     "execution_count": 103,
     "metadata": {},
     "output_type": "execute_result"
    }
   ],
   "source": [
    "dict()"
   ]
  },
  {
   "cell_type": "code",
   "execution_count": 105,
   "id": "16d3290e-16ef-42de-9915-c096d2b79169",
   "metadata": {},
   "outputs": [
    {
     "data": {
      "text/plain": [
       "[]"
      ]
     },
     "execution_count": 105,
     "metadata": {},
     "output_type": "execute_result"
    }
   ],
   "source": [
    "list()"
   ]
  },
  {
   "cell_type": "code",
   "execution_count": 106,
   "id": "96013fe8-c436-44bc-a959-ffef06f7d7ee",
   "metadata": {},
   "outputs": [
    {
     "data": {
      "text/plain": [
       "{'a': None, 'b': None, 'c': None}"
      ]
     },
     "execution_count": 106,
     "metadata": {},
     "output_type": "execute_result"
    }
   ],
   "source": [
    "dict.fromkeys('abc')"
   ]
  },
  {
   "cell_type": "code",
   "execution_count": 108,
   "id": "42dc8704-2f65-4239-9d50-202016d834f9",
   "metadata": {},
   "outputs": [
    {
     "data": {
      "text/plain": [
       "{'a': 42, 'b': 42, 'c': 42}"
      ]
     },
     "execution_count": 108,
     "metadata": {},
     "output_type": "execute_result"
    }
   ],
   "source": [
    "dict.fromkeys('abc', 42)"
   ]
  },
  {
   "cell_type": "code",
   "execution_count": 109,
   "id": "3af06e8d-9ca1-45e8-9312-ef5a58e91838",
   "metadata": {},
   "outputs": [],
   "source": [
    "res = {}\n",
    "v = 42\n",
    "for key in 'abc':\n",
    "    res[key] = v"
   ]
  },
  {
   "cell_type": "code",
   "execution_count": 110,
   "id": "e783f521-75f4-426b-a5fa-41cbb9155e7b",
   "metadata": {},
   "outputs": [
    {
     "data": {
      "text/plain": [
       "{'a': 42, 'b': 42, 'c': 42}"
      ]
     },
     "execution_count": 110,
     "metadata": {},
     "output_type": "execute_result"
    }
   ],
   "source": [
    "res"
   ]
  },
  {
   "cell_type": "code",
   "execution_count": 111,
   "id": "bec0aa0b-1a37-4354-99f4-e129ba8ba311",
   "metadata": {},
   "outputs": [],
   "source": [
    "d7 = dict.fromkeys('abc', [])"
   ]
  },
  {
   "cell_type": "code",
   "execution_count": 112,
   "id": "acfe66f2-2ae7-4601-b8e7-6313ed921a10",
   "metadata": {},
   "outputs": [
    {
     "data": {
      "text/plain": [
       "{'a': [], 'b': [], 'c': []}"
      ]
     },
     "execution_count": 112,
     "metadata": {},
     "output_type": "execute_result"
    }
   ],
   "source": [
    "d7"
   ]
  },
  {
   "cell_type": "code",
   "execution_count": 113,
   "id": "b489a74f-28a3-42fc-9f57-f11db947e9c6",
   "metadata": {},
   "outputs": [],
   "source": [
    "d7['a'].append(100)"
   ]
  },
  {
   "cell_type": "code",
   "execution_count": 114,
   "id": "22f0116b-a5ba-46c2-a130-d69fdc0bcb5d",
   "metadata": {},
   "outputs": [
    {
     "data": {
      "text/plain": [
       "{'a': [100], 'b': [100], 'c': [100]}"
      ]
     },
     "execution_count": 114,
     "metadata": {},
     "output_type": "execute_result"
    }
   ],
   "source": [
    "d7"
   ]
  },
  {
   "cell_type": "code",
   "execution_count": 115,
   "id": "6f997a38-14ca-47fb-9e04-1b9cfc845dd4",
   "metadata": {},
   "outputs": [],
   "source": [
    "res2 = {}\n",
    "for key in 'abc':\n",
    "    res2[key] = []"
   ]
  },
  {
   "cell_type": "code",
   "execution_count": 116,
   "id": "4eab764a-3af1-4cea-8de3-95308beffc12",
   "metadata": {},
   "outputs": [
    {
     "data": {
      "text/plain": [
       "{'a': [], 'b': [], 'c': []}"
      ]
     },
     "execution_count": 116,
     "metadata": {},
     "output_type": "execute_result"
    }
   ],
   "source": [
    "res2"
   ]
  },
  {
   "cell_type": "code",
   "execution_count": 117,
   "id": "a177ffda-7455-4c7e-8683-560d785c92d0",
   "metadata": {},
   "outputs": [],
   "source": [
    "res2['a'].append(100)"
   ]
  },
  {
   "cell_type": "code",
   "execution_count": 118,
   "id": "6685b843-5292-4664-bc44-a7525c4b591b",
   "metadata": {},
   "outputs": [
    {
     "data": {
      "text/plain": [
       "{'a': [100], 'b': [], 'c': []}"
      ]
     },
     "execution_count": 118,
     "metadata": {},
     "output_type": "execute_result"
    }
   ],
   "source": [
    "res2"
   ]
  },
  {
   "cell_type": "code",
   "execution_count": 119,
   "id": "39195e42-a8fd-4cb7-9707-fe8c5bfe5e1e",
   "metadata": {},
   "outputs": [
    {
     "data": {
      "text/plain": [
       "{'a': 1234, 'c': 300, 'b': 2000, 'x': 3000, 'y': 5000, 'ö': 5678}"
      ]
     },
     "execution_count": 119,
     "metadata": {},
     "output_type": "execute_result"
    }
   ],
   "source": [
    "d"
   ]
  },
  {
   "cell_type": "code",
   "execution_count": 120,
   "id": "fae15da3-e38d-4f86-9a10-cc8c02a49a08",
   "metadata": {},
   "outputs": [
    {
     "data": {
      "text/plain": [
       "1234"
      ]
     },
     "execution_count": 120,
     "metadata": {},
     "output_type": "execute_result"
    }
   ],
   "source": [
    "d['a']"
   ]
  },
  {
   "cell_type": "code",
   "execution_count": 121,
   "id": "fe77fcbf-8c84-4c84-b591-1b0bda8c6916",
   "metadata": {},
   "outputs": [
    {
     "data": {
      "text/plain": [
       "1234"
      ]
     },
     "execution_count": 121,
     "metadata": {},
     "output_type": "execute_result"
    }
   ],
   "source": [
    "d.get('a')"
   ]
  },
  {
   "cell_type": "code",
   "execution_count": 122,
   "id": "14f73ab2-5929-4d48-b244-562bfcd6cd36",
   "metadata": {},
   "outputs": [
    {
     "ename": "KeyError",
     "evalue": "'aaa'",
     "output_type": "error",
     "traceback": [
      "\u001b[0;31m---------------------------------------------------------------------------\u001b[0m",
      "\u001b[0;31mKeyError\u001b[0m                                  Traceback (most recent call last)",
      "Input \u001b[0;32mIn [122]\u001b[0m, in \u001b[0;36m<cell line: 1>\u001b[0;34m()\u001b[0m\n\u001b[0;32m----> 1\u001b[0m \u001b[43md\u001b[49m\u001b[43m[\u001b[49m\u001b[38;5;124;43m'\u001b[39;49m\u001b[38;5;124;43maaa\u001b[39;49m\u001b[38;5;124;43m'\u001b[39;49m\u001b[43m]\u001b[49m\n",
      "\u001b[0;31mKeyError\u001b[0m: 'aaa'"
     ]
    }
   ],
   "source": [
    "d['aaa']"
   ]
  },
  {
   "cell_type": "code",
   "execution_count": 123,
   "id": "8d1481ca-50ee-49f0-a501-073837778e0a",
   "metadata": {},
   "outputs": [],
   "source": [
    "d.get('aaa')"
   ]
  },
  {
   "cell_type": "code",
   "execution_count": 124,
   "id": "bc96b88c-6af9-4368-b871-3946382a8c6c",
   "metadata": {},
   "outputs": [
    {
     "data": {
      "text/plain": [
       "999"
      ]
     },
     "execution_count": 124,
     "metadata": {},
     "output_type": "execute_result"
    }
   ],
   "source": [
    "d.get('aaa', 999)"
   ]
  },
  {
   "cell_type": "code",
   "execution_count": 125,
   "id": "e1b3ac78-2a84-4e57-98b3-613418721e6d",
   "metadata": {},
   "outputs": [
    {
     "data": {
      "text/plain": [
       "\u001b[0;31mSignature:\u001b[0m \u001b[0md\u001b[0m\u001b[0;34m.\u001b[0m\u001b[0mget\u001b[0m\u001b[0;34m(\u001b[0m\u001b[0mkey\u001b[0m\u001b[0;34m,\u001b[0m \u001b[0mdefault\u001b[0m\u001b[0;34m=\u001b[0m\u001b[0;32mNone\u001b[0m\u001b[0;34m,\u001b[0m \u001b[0;34m/\u001b[0m\u001b[0;34m)\u001b[0m\u001b[0;34m\u001b[0m\u001b[0;34m\u001b[0m\u001b[0m\n",
       "\u001b[0;31mDocstring:\u001b[0m Return the value for key if key is in the dictionary, else default.\n",
       "\u001b[0;31mType:\u001b[0m      builtin_function_or_method\n"
      ]
     },
     "metadata": {},
     "output_type": "display_data"
    }
   ],
   "source": [
    "d.get?"
   ]
  },
  {
   "cell_type": "code",
   "execution_count": 126,
   "id": "3c64213e-92d7-46c6-a9bc-1d1dd1f862af",
   "metadata": {},
   "outputs": [
    {
     "data": {
      "text/plain": [
       "1234"
      ]
     },
     "execution_count": 126,
     "metadata": {},
     "output_type": "execute_result"
    }
   ],
   "source": [
    "d.setdefault('a')"
   ]
  },
  {
   "cell_type": "code",
   "execution_count": 127,
   "id": "da7399d6-2911-421b-b9a8-fcba10737b07",
   "metadata": {},
   "outputs": [
    {
     "data": {
      "text/plain": [
       "1234"
      ]
     },
     "execution_count": 127,
     "metadata": {},
     "output_type": "execute_result"
    }
   ],
   "source": [
    "d.setdefault('a', 999)"
   ]
  },
  {
   "cell_type": "code",
   "execution_count": 128,
   "id": "c9e94836-e66d-4b0c-8139-074373d199fd",
   "metadata": {},
   "outputs": [
    {
     "data": {
      "text/plain": [
       "{'a': 1234, 'c': 300, 'b': 2000, 'x': 3000, 'y': 5000, 'ö': 5678}"
      ]
     },
     "execution_count": 128,
     "metadata": {},
     "output_type": "execute_result"
    }
   ],
   "source": [
    "d"
   ]
  },
  {
   "cell_type": "code",
   "execution_count": 129,
   "id": "30ae27d7-d9b9-4551-8fb8-76429750d780",
   "metadata": {},
   "outputs": [
    {
     "data": {
      "text/plain": [
       "999"
      ]
     },
     "execution_count": 129,
     "metadata": {},
     "output_type": "execute_result"
    }
   ],
   "source": [
    "d.setdefault('aaa', 999)"
   ]
  },
  {
   "cell_type": "code",
   "execution_count": 130,
   "id": "4ea7f035-5996-4b88-b713-5ee6898ebbdc",
   "metadata": {},
   "outputs": [
    {
     "data": {
      "text/plain": [
       "{'a': 1234, 'c': 300, 'b': 2000, 'x': 3000, 'y': 5000, 'ö': 5678, 'aaa': 999}"
      ]
     },
     "execution_count": 130,
     "metadata": {},
     "output_type": "execute_result"
    }
   ],
   "source": [
    "d"
   ]
  },
  {
   "cell_type": "code",
   "execution_count": 131,
   "id": "79e5b584-1094-4920-9eed-5f5fb764db1a",
   "metadata": {
    "tags": []
   },
   "outputs": [
    {
     "data": {
      "text/plain": [
       "\u001b[0;31mSignature:\u001b[0m \u001b[0md\u001b[0m\u001b[0;34m.\u001b[0m\u001b[0msetdefault\u001b[0m\u001b[0;34m(\u001b[0m\u001b[0mkey\u001b[0m\u001b[0;34m,\u001b[0m \u001b[0mdefault\u001b[0m\u001b[0;34m=\u001b[0m\u001b[0;32mNone\u001b[0m\u001b[0;34m,\u001b[0m \u001b[0;34m/\u001b[0m\u001b[0;34m)\u001b[0m\u001b[0;34m\u001b[0m\u001b[0;34m\u001b[0m\u001b[0m\n",
       "\u001b[0;31mDocstring:\u001b[0m\n",
       "Insert key with a value of default if key is not in the dictionary.\n",
       "\n",
       "Return the value for key if key is in the dictionary, else default.\n",
       "\u001b[0;31mType:\u001b[0m      builtin_function_or_method\n"
      ]
     },
     "metadata": {},
     "output_type": "display_data"
    }
   ],
   "source": [
    "d.setdefault?"
   ]
  },
  {
   "cell_type": "code",
   "execution_count": 132,
   "id": "194b441d-9eab-43cf-a54b-4283bbb103d3",
   "metadata": {},
   "outputs": [],
   "source": [
    "d8 = {}"
   ]
  },
  {
   "cell_type": "code",
   "execution_count": 133,
   "id": "8f9ed20c-89e1-4d1a-ac8d-869682698d25",
   "metadata": {},
   "outputs": [],
   "source": [
    "d8.setdefault('a', []).append(1)"
   ]
  },
  {
   "cell_type": "code",
   "execution_count": 134,
   "id": "fc758b22-18c8-4032-8d6b-21ed31e7ff87",
   "metadata": {},
   "outputs": [
    {
     "data": {
      "text/plain": [
       "{'a': [1]}"
      ]
     },
     "execution_count": 134,
     "metadata": {},
     "output_type": "execute_result"
    }
   ],
   "source": [
    "d8"
   ]
  },
  {
   "cell_type": "code",
   "execution_count": 135,
   "id": "8cd17ca7-d602-49c4-9337-c950b6112992",
   "metadata": {},
   "outputs": [],
   "source": [
    "d8.setdefault('a', []).append(2)"
   ]
  },
  {
   "cell_type": "code",
   "execution_count": 136,
   "id": "3ee2db59-21e1-4780-ad6c-be3f077770a0",
   "metadata": {},
   "outputs": [
    {
     "data": {
      "text/plain": [
       "{'a': [1, 2]}"
      ]
     },
     "execution_count": 136,
     "metadata": {},
     "output_type": "execute_result"
    }
   ],
   "source": [
    "d8"
   ]
  },
  {
   "cell_type": "code",
   "execution_count": 137,
   "id": "7c5663d4-aafb-4682-afe2-3906c35b06b2",
   "metadata": {},
   "outputs": [
    {
     "data": {
      "text/plain": [
       "1234"
      ]
     },
     "execution_count": 137,
     "metadata": {},
     "output_type": "execute_result"
    }
   ],
   "source": [
    "d.pop('a')  # braucht key"
   ]
  },
  {
   "cell_type": "code",
   "execution_count": 138,
   "id": "5e7d771f-342c-49ab-bed4-ebd8fe84b7ed",
   "metadata": {},
   "outputs": [
    {
     "data": {
      "text/plain": [
       "{'c': 300, 'b': 2000, 'x': 3000, 'y': 5000, 'ö': 5678, 'aaa': 999}"
      ]
     },
     "execution_count": 138,
     "metadata": {},
     "output_type": "execute_result"
    }
   ],
   "source": [
    "d"
   ]
  },
  {
   "cell_type": "code",
   "execution_count": 139,
   "id": "0ea04ece-2741-466f-840e-249c8016d1fe",
   "metadata": {},
   "outputs": [
    {
     "data": {
      "text/plain": [
       "('aaa', 999)"
      ]
     },
     "execution_count": 139,
     "metadata": {},
     "output_type": "execute_result"
    }
   ],
   "source": [
    "d.popitem()"
   ]
  },
  {
   "cell_type": "code",
   "execution_count": 140,
   "id": "5e56916d-b429-45d0-a296-fd24ac673993",
   "metadata": {},
   "outputs": [
    {
     "data": {
      "text/plain": [
       "\u001b[0;31mSignature:\u001b[0m \u001b[0md\u001b[0m\u001b[0;34m.\u001b[0m\u001b[0mpopitem\u001b[0m\u001b[0;34m(\u001b[0m\u001b[0;34m)\u001b[0m\u001b[0;34m\u001b[0m\u001b[0;34m\u001b[0m\u001b[0m\n",
       "\u001b[0;31mDocstring:\u001b[0m\n",
       "Remove and return a (key, value) pair as a 2-tuple.\n",
       "\n",
       "Pairs are returned in LIFO (last-in, first-out) order.\n",
       "Raises KeyError if the dict is empty.\n",
       "\u001b[0;31mType:\u001b[0m      builtin_function_or_method\n"
      ]
     },
     "metadata": {},
     "output_type": "display_data"
    }
   ],
   "source": [
    "d.popitem?"
   ]
  },
  {
   "cell_type": "code",
   "execution_count": 141,
   "id": "d3188f0a-ad99-4d95-85fc-0e25ca8063d9",
   "metadata": {},
   "outputs": [
    {
     "data": {
      "text/plain": [
       "{}"
      ]
     },
     "execution_count": 141,
     "metadata": {},
     "output_type": "execute_result"
    }
   ],
   "source": [
    "dict()"
   ]
  },
  {
   "cell_type": "code",
   "execution_count": 142,
   "id": "2135cf29-2c10-4f08-84ec-774f2a71c421",
   "metadata": {},
   "outputs": [
    {
     "data": {
      "text/plain": [
       "{'a': 100, 'b': 200, 'c': 300}"
      ]
     },
     "execution_count": 142,
     "metadata": {},
     "output_type": "execute_result"
    }
   ],
   "source": [
    "dict([('a', 100), ('b', 200), ('c', 300)])"
   ]
  },
  {
   "cell_type": "code",
   "execution_count": 145,
   "id": "054a1b13-d44a-499a-97ab-5bf18898d36d",
   "metadata": {},
   "outputs": [
    {
     "data": {
      "text/plain": [
       "{'a': 100, 'b': 200, 'c': 300}"
      ]
     },
     "execution_count": 145,
     "metadata": {},
     "output_type": "execute_result"
    }
   ],
   "source": [
    "keys = 'abc'\n",
    "values = [100, 200, 300]\n",
    "dict(zip(keys, values))"
   ]
  },
  {
   "cell_type": "code",
   "execution_count": 146,
   "id": "16ba1aca-edc0-4914-a76a-ebc15e8d18b5",
   "metadata": {},
   "outputs": [
    {
     "ename": "TypeError",
     "evalue": "unhashable type: 'list'",
     "output_type": "error",
     "traceback": [
      "\u001b[0;31m---------------------------------------------------------------------------\u001b[0m",
      "\u001b[0;31mTypeError\u001b[0m                                 Traceback (most recent call last)",
      "Input \u001b[0;32mIn [146]\u001b[0m, in \u001b[0;36m<cell line: 1>\u001b[0;34m()\u001b[0m\n\u001b[0;32m----> 1\u001b[0m d[[\u001b[38;5;241m1\u001b[39m, \u001b[38;5;241m2\u001b[39m, \u001b[38;5;241m3\u001b[39m]] \u001b[38;5;241m=\u001b[39m \u001b[38;5;241m56\u001b[39m\n",
      "\u001b[0;31mTypeError\u001b[0m: unhashable type: 'list'"
     ]
    }
   ],
   "source": [
    "d[[1, 2, 3]] = 56"
   ]
  },
  {
   "cell_type": "code",
   "execution_count": 147,
   "id": "cf378a38-29f6-450c-bd5a-bd02493e979b",
   "metadata": {},
   "outputs": [],
   "source": [
    "d[(1, 2, 3)] = 56"
   ]
  },
  {
   "cell_type": "code",
   "execution_count": 149,
   "id": "b8c2486e-d2d0-434c-b155-f50d96f76563",
   "metadata": {},
   "outputs": [
    {
     "data": {
      "text/plain": [
       "{'c': 300, 'b': 2000, 'x': 3000, 'y': 5000, 'ö': 5678, (1, 2, 3): 56}"
      ]
     },
     "execution_count": 149,
     "metadata": {},
     "output_type": "execute_result"
    }
   ],
   "source": [
    "d"
   ]
  },
  {
   "cell_type": "code",
   "execution_count": 151,
   "id": "7766dc70-0ba2-40fc-ae0f-f2e37f789f28",
   "metadata": {},
   "outputs": [],
   "source": [
    "# hashable --> veränderlich; unhashable --> unveränderlich"
   ]
  },
  {
   "cell_type": "code",
   "execution_count": 152,
   "id": "531c279b-526c-4685-ad66-c710e1bfa428",
   "metadata": {},
   "outputs": [
    {
     "name": "stdout",
     "output_type": "stream",
     "text": [
      "13.8 ns ± 1.08 ns per loop (mean ± std. dev. of 7 runs, 100,000,000 loops each)\n"
     ]
    }
   ],
   "source": [
    "%timeit 1 + 1"
   ]
  },
  {
   "cell_type": "code",
   "execution_count": 154,
   "id": "5e748876-3bf5-4c0e-9c9e-f5365cf37840",
   "metadata": {},
   "outputs": [],
   "source": [
    "import time"
   ]
  },
  {
   "cell_type": "code",
   "execution_count": 155,
   "id": "51ec3a1a-24e8-45c0-89f5-1f91296b0ef4",
   "metadata": {},
   "outputs": [
    {
     "name": "stdout",
     "output_type": "stream",
     "text": [
      "1 s ± 1.53 ms per loop (mean ± std. dev. of 7 runs, 1 loop each)\n"
     ]
    }
   ],
   "source": [
    "%timeit time.sleep(1)"
   ]
  },
  {
   "cell_type": "code",
   "execution_count": 156,
   "id": "0ba33cfe-4131-4d73-ab89-e10f185ab4e1",
   "metadata": {},
   "outputs": [],
   "source": [
    "# Dictionary ist deutlich schneller durchsuchbar, als Liste, aber brauch deutlich mehr Speicher"
   ]
  },
  {
   "cell_type": "code",
   "execution_count": 157,
   "id": "4cbc776c-b45f-434c-8b0b-1155db763369",
   "metadata": {},
   "outputs": [],
   "source": [
    "import time\n",
    "n = 1000\n",
    "target = n // 2\n",
    "L = list(range(n))\n",
    "d = dict.fromkeys(L)"
   ]
  },
  {
   "cell_type": "code",
   "execution_count": 165,
   "id": "dac9fe49-2c97-4eca-8f32-7478ab38f213",
   "metadata": {},
   "outputs": [
    {
     "name": "stdout",
     "output_type": "stream",
     "text": [
      "5.95 µs ± 770 ns per loop (mean ± std. dev. of 7 runs, 100,000 loops each)\n"
     ]
    }
   ],
   "source": [
    "tl = %timeit -o target in L"
   ]
  },
  {
   "cell_type": "code",
   "execution_count": 166,
   "id": "e259ccbd-7f6a-4cea-8363-ff57be2089b4",
   "metadata": {},
   "outputs": [
    {
     "name": "stdout",
     "output_type": "stream",
     "text": [
      "93.1 ns ± 7.83 ns per loop (mean ± std. dev. of 7 runs, 10,000,000 loops each)\n"
     ]
    }
   ],
   "source": [
    "td = %timeit -o target in d"
   ]
  },
  {
   "cell_type": "code",
   "execution_count": 160,
   "id": "b824e693-5e9f-4718-b6d4-4eaa5b6f3c9b",
   "metadata": {},
   "outputs": [],
   "source": [
    "import sys"
   ]
  },
  {
   "cell_type": "code",
   "execution_count": 161,
   "id": "6de22fc6-fc8a-4292-be5e-d555210789ea",
   "metadata": {},
   "outputs": [
    {
     "data": {
      "text/plain": [
       "8056"
      ]
     },
     "execution_count": 161,
     "metadata": {},
     "output_type": "execute_result"
    }
   ],
   "source": [
    "sys.getsizeof(L)"
   ]
  },
  {
   "cell_type": "code",
   "execution_count": 162,
   "id": "eae4a728-fcc8-4d75-85ea-0a829defc0f1",
   "metadata": {},
   "outputs": [
    {
     "data": {
      "text/plain": [
       "36960"
      ]
     },
     "execution_count": 162,
     "metadata": {},
     "output_type": "execute_result"
    }
   ],
   "source": [
    "sys.getsizeof(d)"
   ]
  },
  {
   "cell_type": "code",
   "execution_count": 163,
   "id": "84153994-f679-4263-9900-7e6f8010426d",
   "metadata": {},
   "outputs": [
    {
     "data": {
      "text/plain": [
       "4.587884806355511"
      ]
     },
     "execution_count": 163,
     "metadata": {},
     "output_type": "execute_result"
    }
   ],
   "source": [
    "sys.getsizeof(d)/sys.getsizeof(L)"
   ]
  },
  {
   "cell_type": "code",
   "execution_count": 164,
   "id": "4db1e962-0f22-4162-a1e8-a84c8e0b418c",
   "metadata": {},
   "outputs": [
    {
     "data": {
      "text/plain": [
       "\u001b[0;31mDocstring:\u001b[0m\n",
       "Time execution of a Python statement or expression\n",
       "\n",
       "Usage, in line mode:\n",
       "  %timeit [-n<N> -r<R> [-t|-c] -q -p<P> -o] statement\n",
       "or in cell mode:\n",
       "  %%timeit [-n<N> -r<R> [-t|-c] -q -p<P> -o] setup_code\n",
       "  code\n",
       "  code...\n",
       "\n",
       "Time execution of a Python statement or expression using the timeit\n",
       "module.  This function can be used both as a line and cell magic:\n",
       "\n",
       "- In line mode you can time a single-line statement (though multiple\n",
       "  ones can be chained with using semicolons).\n",
       "\n",
       "- In cell mode, the statement in the first line is used as setup code\n",
       "  (executed but not timed) and the body of the cell is timed.  The cell\n",
       "  body has access to any variables created in the setup code.\n",
       "\n",
       "Options:\n",
       "-n<N>: execute the given statement <N> times in a loop. If <N> is not\n",
       "provided, <N> is determined so as to get sufficient accuracy.\n",
       "\n",
       "-r<R>: number of repeats <R>, each consisting of <N> loops, and take the\n",
       "best result.\n",
       "Default: 7\n",
       "\n",
       "-t: use time.time to measure the time, which is the default on Unix.\n",
       "This function measures wall time.\n",
       "\n",
       "-c: use time.clock to measure the time, which is the default on\n",
       "Windows and measures wall time. On Unix, resource.getrusage is used\n",
       "instead and returns the CPU user time.\n",
       "\n",
       "-p<P>: use a precision of <P> digits to display the timing result.\n",
       "Default: 3\n",
       "\n",
       "-q: Quiet, do not print result.\n",
       "\n",
       "-o: return a TimeitResult that can be stored in a variable to inspect\n",
       "    the result in more details.\n",
       "\n",
       ".. versionchanged:: 7.3\n",
       "    User variables are no longer expanded,\n",
       "    the magic line is always left unmodified.\n",
       "\n",
       "Examples\n",
       "--------\n",
       "::\n",
       "\n",
       "  In [1]: %timeit pass\n",
       "  8.26 ns ± 0.12 ns per loop (mean ± std. dev. of 7 runs, 100000000 loops each)\n",
       "\n",
       "  In [2]: u = None\n",
       "\n",
       "  In [3]: %timeit u is None\n",
       "  29.9 ns ± 0.643 ns per loop (mean ± std. dev. of 7 runs, 10000000 loops each)\n",
       "\n",
       "  In [4]: %timeit -r 4 u == None\n",
       "\n",
       "  In [5]: import time\n",
       "\n",
       "  In [6]: %timeit -n1 time.sleep(2)\n",
       "\n",
       "The times reported by %timeit will be slightly higher than those\n",
       "reported by the timeit.py script when variables are accessed. This is\n",
       "due to the fact that %timeit executes the statement in the namespace\n",
       "of the shell, compared with timeit.py, which uses a single setup\n",
       "statement to import function or create variables. Generally, the bias\n",
       "does not matter as long as results from timeit.py are not mixed with\n",
       "those from %timeit.\n",
       "\u001b[0;31mFile:\u001b[0m      /opt/mambaforge/envs/python310/lib/python3.10/site-packages/IPython/core/magics/execution.py\n"
      ]
     },
     "metadata": {},
     "output_type": "display_data"
    }
   ],
   "source": [
    "timeit?"
   ]
  },
  {
   "cell_type": "code",
   "execution_count": null,
   "id": "517b8a14-bf91-4176-bd8b-e3baf7996c9f",
   "metadata": {},
   "outputs": [],
   "source": []
  }
 ],
 "metadata": {
  "kernelspec": {
   "display_name": "Python 3.10",
   "language": "python",
   "name": "python310"
  },
  "language_info": {
   "codemirror_mode": {
    "name": "ipython",
    "version": 3
   },
   "file_extension": ".py",
   "mimetype": "text/x-python",
   "name": "python",
   "nbconvert_exporter": "python",
   "pygments_lexer": "ipython3",
   "version": "3.10.4"
  }
 },
 "nbformat": 4,
 "nbformat_minor": 5
}
