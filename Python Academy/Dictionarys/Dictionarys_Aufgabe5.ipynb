{
 "cells": [
  {
   "cell_type": "code",
   "execution_count": 7,
   "id": "07ff49d1-7d11-43ee-bfe7-36e2f470f363",
   "metadata": {},
   "outputs": [],
   "source": [
    "import time\n",
    "n = 1000\n",
    "target = n // 2\n",
    "L = list(range(n))\n",
    "d = dict.fromkeys(L)"
   ]
  },
  {
   "cell_type": "code",
   "execution_count": 8,
   "id": "41fc1142-b754-4d56-92b1-33bc4945470d",
   "metadata": {},
   "outputs": [
    {
     "name": "stdout",
     "output_type": "stream",
     "text": [
      "6.02 µs ± 550 ns per loop (mean ± std. dev. of 7 runs, 100,000 loops each)\n"
     ]
    }
   ],
   "source": [
    "%timeit target in L"
   ]
  },
  {
   "cell_type": "code",
   "execution_count": 9,
   "id": "e8e41d7d-9a11-4e4d-9603-7b215289ec28",
   "metadata": {},
   "outputs": [
    {
     "name": "stdout",
     "output_type": "stream",
     "text": [
      "95.3 ns ± 6.05 ns per loop (mean ± std. dev. of 7 runs, 10,000,000 loops each)\n"
     ]
    }
   ],
   "source": [
    "%timeit target in d"
   ]
  },
  {
   "cell_type": "code",
   "execution_count": 10,
   "id": "f7e1a838-3823-436a-9e0b-46ead5f58af2",
   "metadata": {},
   "outputs": [
    {
     "data": {
      "text/plain": [
       "\u001b[0;31mDocstring:\u001b[0m\n",
       "Time execution of a Python statement or expression\n",
       "\n",
       "Usage, in line mode:\n",
       "  %timeit [-n<N> -r<R> [-t|-c] -q -p<P> -o] statement\n",
       "or in cell mode:\n",
       "  %%timeit [-n<N> -r<R> [-t|-c] -q -p<P> -o] setup_code\n",
       "  code\n",
       "  code...\n",
       "\n",
       "Time execution of a Python statement or expression using the timeit\n",
       "module.  This function can be used both as a line and cell magic:\n",
       "\n",
       "- In line mode you can time a single-line statement (though multiple\n",
       "  ones can be chained with using semicolons).\n",
       "\n",
       "- In cell mode, the statement in the first line is used as setup code\n",
       "  (executed but not timed) and the body of the cell is timed.  The cell\n",
       "  body has access to any variables created in the setup code.\n",
       "\n",
       "Options:\n",
       "-n<N>: execute the given statement <N> times in a loop. If <N> is not\n",
       "provided, <N> is determined so as to get sufficient accuracy.\n",
       "\n",
       "-r<R>: number of repeats <R>, each consisting of <N> loops, and take the\n",
       "best result.\n",
       "Default: 7\n",
       "\n",
       "-t: use time.time to measure the time, which is the default on Unix.\n",
       "This function measures wall time.\n",
       "\n",
       "-c: use time.clock to measure the time, which is the default on\n",
       "Windows and measures wall time. On Unix, resource.getrusage is used\n",
       "instead and returns the CPU user time.\n",
       "\n",
       "-p<P>: use a precision of <P> digits to display the timing result.\n",
       "Default: 3\n",
       "\n",
       "-q: Quiet, do not print result.\n",
       "\n",
       "-o: return a TimeitResult that can be stored in a variable to inspect\n",
       "    the result in more details.\n",
       "\n",
       ".. versionchanged:: 7.3\n",
       "    User variables are no longer expanded,\n",
       "    the magic line is always left unmodified.\n",
       "\n",
       "Examples\n",
       "--------\n",
       "::\n",
       "\n",
       "  In [1]: %timeit pass\n",
       "  8.26 ns ± 0.12 ns per loop (mean ± std. dev. of 7 runs, 100000000 loops each)\n",
       "\n",
       "  In [2]: u = None\n",
       "\n",
       "  In [3]: %timeit u is None\n",
       "  29.9 ns ± 0.643 ns per loop (mean ± std. dev. of 7 runs, 10000000 loops each)\n",
       "\n",
       "  In [4]: %timeit -r 4 u == None\n",
       "\n",
       "  In [5]: import time\n",
       "\n",
       "  In [6]: %timeit -n1 time.sleep(2)\n",
       "\n",
       "The times reported by %timeit will be slightly higher than those\n",
       "reported by the timeit.py script when variables are accessed. This is\n",
       "due to the fact that %timeit executes the statement in the namespace\n",
       "of the shell, compared with timeit.py, which uses a single setup\n",
       "statement to import function or create variables. Generally, the bias\n",
       "does not matter as long as results from timeit.py are not mixed with\n",
       "those from %timeit.\n",
       "\u001b[0;31mFile:\u001b[0m      /opt/mambaforge/envs/python310/lib/python3.10/site-packages/IPython/core/magics/execution.py\n"
      ]
     },
     "metadata": {},
     "output_type": "display_data"
    }
   ],
   "source": [
    "timeit?"
   ]
  },
  {
   "cell_type": "code",
   "execution_count": null,
   "id": "e1b4c1e0-f52c-488e-a6f2-80c92c001506",
   "metadata": {},
   "outputs": [],
   "source": []
  }
 ],
 "metadata": {
  "kernelspec": {
   "display_name": "Python 3.10",
   "language": "python",
   "name": "python310"
  },
  "language_info": {
   "codemirror_mode": {
    "name": "ipython",
    "version": 3
   },
   "file_extension": ".py",
   "mimetype": "text/x-python",
   "name": "python",
   "nbconvert_exporter": "python",
   "pygments_lexer": "ipython3",
   "version": "3.10.4"
  }
 },
 "nbformat": 4,
 "nbformat_minor": 5
}
