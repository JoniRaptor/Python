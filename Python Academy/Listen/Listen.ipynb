{
 "cells": [
  {
   "cell_type": "code",
   "execution_count": 21,
   "id": "3ec90d50-5047-46da-9a53-2d39cb44d7e5",
   "metadata": {},
   "outputs": [],
   "source": [
    "L = list(range(2, 11))"
   ]
  },
  {
   "cell_type": "code",
   "execution_count": 22,
   "id": "800eecf0-e685-463d-a8b1-1c9a6179bab9",
   "metadata": {},
   "outputs": [
    {
     "data": {
      "text/plain": [
       "[2, 3, 4, 5, 6, 7, 8, 9, 10]"
      ]
     },
     "execution_count": 22,
     "metadata": {},
     "output_type": "execute_result"
    }
   ],
   "source": [
    "L"
   ]
  },
  {
   "cell_type": "code",
   "execution_count": 23,
   "id": "e92371eb-8a6d-4e3c-9d2d-46335525f06f",
   "metadata": {},
   "outputs": [
    {
     "data": {
      "text/plain": [
       "7"
      ]
     },
     "execution_count": 23,
     "metadata": {},
     "output_type": "execute_result"
    }
   ],
   "source": [
    "L[5]"
   ]
  },
  {
   "cell_type": "code",
   "execution_count": 24,
   "id": "e023e580-cab4-41df-a54a-893c444751c7",
   "metadata": {},
   "outputs": [],
   "source": [
    "L[3] = 1000  # Listen können modifiziert werden"
   ]
  },
  {
   "cell_type": "code",
   "execution_count": 25,
   "id": "1d7968b4-ab7d-4c14-9e20-cb7a1112207f",
   "metadata": {},
   "outputs": [
    {
     "data": {
      "text/plain": [
       "[2, 3, 4, 1000, 6, 7, 8, 9, 10]"
      ]
     },
     "execution_count": 25,
     "metadata": {},
     "output_type": "execute_result"
    }
   ],
   "source": [
    "L"
   ]
  },
  {
   "cell_type": "code",
   "execution_count": 26,
   "id": "3272adcd-1384-441f-a1cb-fa78a4de32d1",
   "metadata": {},
   "outputs": [
    {
     "data": {
      "text/plain": [
       "[4, 1000]"
      ]
     },
     "execution_count": 26,
     "metadata": {},
     "output_type": "execute_result"
    }
   ],
   "source": [
    "L[2:4]"
   ]
  },
  {
   "cell_type": "code",
   "execution_count": 27,
   "id": "da79ac35-9624-4f2f-83ef-851271f9facf",
   "metadata": {},
   "outputs": [],
   "source": [
    "L[2:4] = [100, 200, 300, 400, 500]"
   ]
  },
  {
   "cell_type": "code",
   "execution_count": 28,
   "id": "809bda8d-7cb1-4591-8e43-33b21295e468",
   "metadata": {},
   "outputs": [
    {
     "data": {
      "text/plain": [
       "[2, 3, 100, 200, 300, 400, 500, 6, 7, 8, 9, 10]"
      ]
     },
     "execution_count": 28,
     "metadata": {},
     "output_type": "execute_result"
    }
   ],
   "source": [
    "L"
   ]
  },
  {
   "cell_type": "code",
   "execution_count": 29,
   "id": "17832ddd-30fe-49b1-b77a-40a76ab0c1de",
   "metadata": {},
   "outputs": [
    {
     "data": {
      "text/plain": [
       "[2, 100, 300, 500, 7, 9]"
      ]
     },
     "execution_count": 29,
     "metadata": {},
     "output_type": "execute_result"
    }
   ],
   "source": [
    "L[::2]"
   ]
  },
  {
   "cell_type": "code",
   "execution_count": 30,
   "id": "611414ae-95ed-4056-919d-ed16664b320a",
   "metadata": {},
   "outputs": [
    {
     "data": {
      "text/plain": [
       "6"
      ]
     },
     "execution_count": 30,
     "metadata": {},
     "output_type": "execute_result"
    }
   ],
   "source": [
    "len(L[::2])"
   ]
  },
  {
   "cell_type": "code",
   "execution_count": 31,
   "id": "7cfb7109-3ae7-4e0f-9f41-5e245c9ec8bd",
   "metadata": {},
   "outputs": [
    {
     "data": {
      "text/plain": [
       "[23, 23, 23, 23, 23, 23]"
      ]
     },
     "execution_count": 31,
     "metadata": {},
     "output_type": "execute_result"
    }
   ],
   "source": [
    "[23]*6"
   ]
  },
  {
   "cell_type": "code",
   "execution_count": 32,
   "id": "4d3279b7-b324-4e6e-9ee6-06ea4f85af42",
   "metadata": {},
   "outputs": [],
   "source": [
    "L[::2] = [23]*len(L[::2])"
   ]
  },
  {
   "cell_type": "code",
   "execution_count": 33,
   "id": "5945521f-288e-44ca-a268-bbfad0869622",
   "metadata": {},
   "outputs": [
    {
     "data": {
      "text/plain": [
       "[23, 3, 23, 200, 23, 400, 23, 6, 23, 8, 23, 10]"
      ]
     },
     "execution_count": 33,
     "metadata": {},
     "output_type": "execute_result"
    }
   ],
   "source": [
    "L"
   ]
  },
  {
   "cell_type": "code",
   "execution_count": 34,
   "id": "74960ac5-4e3a-48d7-9ff9-539f06270ebf",
   "metadata": {},
   "outputs": [],
   "source": [
    "for n in range(0, len(L), 2):\n",
    "    L[n] = 67"
   ]
  },
  {
   "cell_type": "code",
   "execution_count": 192,
   "id": "ab04619f-39f4-4e64-80f3-137fd1bf5b5c",
   "metadata": {},
   "outputs": [
    {
     "data": {
      "text/plain": [
       "[1, 2, 3, 3, 6, 8, 10, 67, 67, 222, 234, 400]"
      ]
     },
     "execution_count": 192,
     "metadata": {},
     "output_type": "execute_result"
    }
   ],
   "source": [
    "L  # range(start, ende, schrittfolge) --> ergebnis: [67, 3, 67, 200, 67, 400, 67, 6, 67, 8, 67, 10]"
   ]
  },
  {
   "cell_type": "code",
   "execution_count": 36,
   "id": "bf85728c-b641-4ffd-926a-061676696b1c",
   "metadata": {},
   "outputs": [],
   "source": [
    "del L[2]"
   ]
  },
  {
   "cell_type": "code",
   "execution_count": 37,
   "id": "53bb0267-647e-4ee9-886f-7c7a31a65e4f",
   "metadata": {},
   "outputs": [
    {
     "data": {
      "text/plain": [
       "[67, 3, 200, 67, 400, 67, 6, 67, 8, 67, 10]"
      ]
     },
     "execution_count": 37,
     "metadata": {},
     "output_type": "execute_result"
    }
   ],
   "source": [
    "L"
   ]
  },
  {
   "cell_type": "code",
   "execution_count": 38,
   "id": "88f3c77d-916e-4abd-b70f-c445162f26a5",
   "metadata": {},
   "outputs": [],
   "source": [
    "del L[2:4]"
   ]
  },
  {
   "cell_type": "code",
   "execution_count": 39,
   "id": "477296fc-3d72-4951-808f-1f2a4ea6f008",
   "metadata": {},
   "outputs": [
    {
     "data": {
      "text/plain": [
       "[67, 3, 400, 67, 6, 67, 8, 67, 10]"
      ]
     },
     "execution_count": 39,
     "metadata": {},
     "output_type": "execute_result"
    }
   ],
   "source": [
    "L"
   ]
  },
  {
   "cell_type": "code",
   "execution_count": 42,
   "id": "edd1a097-616a-4e5f-8201-59cf178396ea",
   "metadata": {},
   "outputs": [],
   "source": [
    "del L[100:150]  # versucht nichtvorhandene Werte zu Löschen --> nichts passiert"
   ]
  },
  {
   "cell_type": "code",
   "execution_count": 43,
   "id": "ff4a25fe-6a0f-4d9c-947a-9f01867ac5df",
   "metadata": {},
   "outputs": [
    {
     "data": {
      "text/plain": [
       "[67, 3, 400, 67, 6, 67, 8, 67, 10]"
      ]
     },
     "execution_count": 43,
     "metadata": {},
     "output_type": "execute_result"
    }
   ],
   "source": [
    "L"
   ]
  },
  {
   "cell_type": "code",
   "execution_count": 44,
   "id": "9b9b608c-be20-46ed-aa12-037c1655a06a",
   "metadata": {},
   "outputs": [
    {
     "data": {
      "text/plain": [
       "\u001b[0;31mSignature:\u001b[0m \u001b[0mL\u001b[0m\u001b[0;34m.\u001b[0m\u001b[0mappend\u001b[0m\u001b[0;34m(\u001b[0m\u001b[0mobject\u001b[0m\u001b[0;34m,\u001b[0m \u001b[0;34m/\u001b[0m\u001b[0;34m)\u001b[0m\u001b[0;34m\u001b[0m\u001b[0;34m\u001b[0m\u001b[0m\n",
       "\u001b[0;31mDocstring:\u001b[0m Append object to the end of the list.\n",
       "\u001b[0;31mType:\u001b[0m      builtin_function_or_method\n"
      ]
     },
     "metadata": {},
     "output_type": "display_data"
    }
   ],
   "source": [
    "L.append?"
   ]
  },
  {
   "cell_type": "code",
   "execution_count": 193,
   "id": "c7271586-b2e2-4d2a-85d1-2537a3128db8",
   "metadata": {},
   "outputs": [],
   "source": [
    "L.append(222)  # hängt ein Element an (jedes Objekt möglich)"
   ]
  },
  {
   "cell_type": "code",
   "execution_count": 59,
   "id": "84a6d9e8-83e9-4edd-a6ca-8b0e8a5ae13d",
   "metadata": {},
   "outputs": [
    {
     "data": {
      "text/plain": [
       "[67, 3, 400, 67, 6, 67, 8, 67, 10, 222, [1, 2, 3], 1, 2, 3, 1, 2, 3, 222]"
      ]
     },
     "execution_count": 59,
     "metadata": {},
     "output_type": "execute_result"
    }
   ],
   "source": [
    "L"
   ]
  },
  {
   "cell_type": "code",
   "execution_count": 60,
   "id": "6ff17f50-ad37-47f6-bd5a-82ea8c3f0834",
   "metadata": {},
   "outputs": [],
   "source": [
    "L.append([1, 2, 3])"
   ]
  },
  {
   "cell_type": "code",
   "execution_count": 67,
   "id": "b9ee44c6-d413-4b9c-bb41-81d5a78a47dd",
   "metadata": {},
   "outputs": [
    {
     "data": {
      "text/plain": [
       "[67, 3, 400, 67, 6, 67, 8, 67, 10, 222, [1, 2, 3], 1, 2, 3, 1, 2, 3]"
      ]
     },
     "execution_count": 67,
     "metadata": {},
     "output_type": "execute_result"
    }
   ],
   "source": [
    "del L[-1]  # kurze Korrektur\n",
    "\n",
    "L"
   ]
  },
  {
   "cell_type": "code",
   "execution_count": 53,
   "id": "8216c44f-7c80-41f5-9df7-051ec11cccb1",
   "metadata": {},
   "outputs": [
    {
     "data": {
      "text/plain": [
       "[1, 2, 3]"
      ]
     },
     "execution_count": 53,
     "metadata": {},
     "output_type": "execute_result"
    }
   ],
   "source": [
    "L[-1]  # verweis auf die Liste ist in der Liste L"
   ]
  },
  {
   "cell_type": "code",
   "execution_count": 52,
   "id": "c7f233cc-e01a-4f11-b482-bebf55f25d39",
   "metadata": {},
   "outputs": [
    {
     "data": {
      "text/plain": [
       "2"
      ]
     },
     "execution_count": 52,
     "metadata": {},
     "output_type": "execute_result"
    }
   ],
   "source": [
    "L[-1][1]  # Listen können verschachtelt werden"
   ]
  },
  {
   "cell_type": "code",
   "execution_count": 194,
   "id": "bf554ac3-3573-450c-b535-b8126da4ef4b",
   "metadata": {},
   "outputs": [],
   "source": [
    "L.extend([1, 2, 3])  # als einzelelemente anhängen --> wenn mehrere Elemente muss übergebenes Objekt iterrierbar sein (z.B. Liste oder String)"
   ]
  },
  {
   "cell_type": "code",
   "execution_count": 57,
   "id": "f5a2f367-efaf-435c-b673-b7c030232725",
   "metadata": {},
   "outputs": [
    {
     "data": {
      "text/plain": [
       "[67, 3, 400, 67, 6, 67, 8, 67, 10, 222, [1, 2, 3], 1, 2, 3, 1, 2, 3]"
      ]
     },
     "execution_count": 57,
     "metadata": {},
     "output_type": "execute_result"
    }
   ],
   "source": [
    "L"
   ]
  },
  {
   "cell_type": "code",
   "execution_count": 65,
   "id": "e6ae0f9a-cf66-4530-b2d2-0f0aa907d081",
   "metadata": {},
   "outputs": [
    {
     "data": {
      "text/plain": [
       "[]"
      ]
     },
     "execution_count": 65,
     "metadata": {},
     "output_type": "execute_result"
    }
   ],
   "source": [
    "L[4:4]"
   ]
  },
  {
   "cell_type": "code",
   "execution_count": 68,
   "id": "f78cb971-6f98-4c5a-a86d-5a380b4a735d",
   "metadata": {},
   "outputs": [],
   "source": [
    "L[4:4] = [234]"
   ]
  },
  {
   "cell_type": "code",
   "execution_count": 69,
   "id": "57db6508-86fd-4b6f-844d-dbe72c79ea55",
   "metadata": {},
   "outputs": [
    {
     "data": {
      "text/plain": [
       "[67, 3, 400, 67, 234, 6, 67, 8, 67, 10, 222, [1, 2, 3], 1, 2, 3, 1, 2, 3]"
      ]
     },
     "execution_count": 69,
     "metadata": {},
     "output_type": "execute_result"
    }
   ],
   "source": [
    "L"
   ]
  },
  {
   "cell_type": "code",
   "execution_count": 70,
   "id": "9117a326-17ef-4e85-9b67-bcb47b6fa7e0",
   "metadata": {},
   "outputs": [],
   "source": [
    "L.insert(4, 98)"
   ]
  },
  {
   "cell_type": "code",
   "execution_count": 71,
   "id": "c2c7f44e-7e29-4c7c-82bd-bc5d3f46dbd0",
   "metadata": {},
   "outputs": [
    {
     "data": {
      "text/plain": [
       "[67, 3, 400, 67, 98, 234, 6, 67, 8, 67, 10, 222, [1, 2, 3], 1, 2, 3, 1, 2, 3]"
      ]
     },
     "execution_count": 71,
     "metadata": {},
     "output_type": "execute_result"
    }
   ],
   "source": [
    "L"
   ]
  },
  {
   "cell_type": "code",
   "execution_count": 75,
   "id": "4496678e-15ab-4aec-8820-b9dc2b8b1d62",
   "metadata": {},
   "outputs": [
    {
     "data": {
      "text/plain": [
       "\u001b[0;31mSignature:\u001b[0m \u001b[0mL\u001b[0m\u001b[0;34m.\u001b[0m\u001b[0minsert\u001b[0m\u001b[0;34m(\u001b[0m\u001b[0mindex\u001b[0m\u001b[0;34m,\u001b[0m \u001b[0mobject\u001b[0m\u001b[0;34m,\u001b[0m \u001b[0;34m/\u001b[0m\u001b[0;34m)\u001b[0m\u001b[0;34m\u001b[0m\u001b[0;34m\u001b[0m\u001b[0m\n",
       "\u001b[0;31mDocstring:\u001b[0m Insert object before index.\n",
       "\u001b[0;31mType:\u001b[0m      builtin_function_or_method\n"
      ]
     },
     "metadata": {},
     "output_type": "display_data"
    }
   ],
   "source": [
    "L.insert?"
   ]
  },
  {
   "cell_type": "code",
   "execution_count": 76,
   "id": "72bd459d-8b91-4980-958e-051b3886d8be",
   "metadata": {},
   "outputs": [],
   "source": [
    "L[-1:] = [L[-1], 500]"
   ]
  },
  {
   "cell_type": "code",
   "execution_count": 78,
   "id": "069a5c7e-6523-4c3e-ac10-9d08f5daf108",
   "metadata": {},
   "outputs": [
    {
     "name": "stdout",
     "output_type": "stream",
     "text": [
      "Pretty printing has been turned OFF\n"
     ]
    },
    {
     "data": {
      "text/plain": [
       "[67, 3, 400, 67, 98, 234, 6, 67, 8, 67, 10, 222, [1, 2, 3], 1, 2, 3, 1, 2, 3, 500]"
      ]
     },
     "execution_count": 78,
     "metadata": {},
     "output_type": "execute_result"
    }
   ],
   "source": [
    "%pprint\n",
    "L"
   ]
  },
  {
   "cell_type": "code",
   "execution_count": 79,
   "id": "eef225ed-a2d3-4b28-904b-cfdf51dbe6ba",
   "metadata": {},
   "outputs": [],
   "source": [
    "L[len(L):] = [600]"
   ]
  },
  {
   "cell_type": "code",
   "execution_count": 80,
   "id": "02f3ae40-7664-4351-8e4b-27c2aedde306",
   "metadata": {},
   "outputs": [
    {
     "data": {
      "text/plain": [
       "[67, 3, 400, 67, 98, 234, 6, 67, 8, 67, 10, 222, [1, 2, 3], 1, 2, 3, 1, 2, 3, 500, 600]"
      ]
     },
     "execution_count": 80,
     "metadata": {},
     "output_type": "execute_result"
    }
   ],
   "source": [
    "L"
   ]
  },
  {
   "cell_type": "code",
   "execution_count": 81,
   "id": "1b443717-7ceb-4683-b4fa-14ff23d40a4c",
   "metadata": {},
   "outputs": [
    {
     "data": {
      "text/plain": [
       "\u001b[0;31mSignature:\u001b[0m \u001b[0mL\u001b[0m\u001b[0;34m.\u001b[0m\u001b[0mclear\u001b[0m\u001b[0;34m(\u001b[0m\u001b[0;34m)\u001b[0m\u001b[0;34m\u001b[0m\u001b[0;34m\u001b[0m\u001b[0m\n",
       "\u001b[0;31mDocstring:\u001b[0m Remove all items from list.\n",
       "\u001b[0;31mType:\u001b[0m      builtin_function_or_method\n"
      ]
     },
     "metadata": {},
     "output_type": "display_data"
    }
   ],
   "source": [
    "L.clear?"
   ]
  },
  {
   "cell_type": "code",
   "execution_count": 90,
   "id": "82047e77-b8cf-49d9-8fd4-ba35f94bd240",
   "metadata": {},
   "outputs": [
    {
     "data": {
      "text/plain": [
       "2"
      ]
     },
     "execution_count": 90,
     "metadata": {},
     "output_type": "execute_result"
    }
   ],
   "source": [
    "L.pop()  # entfernt letztes Element (alternativ in () index angeben) und gibt entferntes Element aus"
   ]
  },
  {
   "cell_type": "code",
   "execution_count": 91,
   "id": "c3a38302-083e-41f1-8fd2-2699156f5257",
   "metadata": {},
   "outputs": [
    {
     "data": {
      "text/plain": [
       "[67, 3, 400, 98, 234, 6, 67, 8, 67, 10, 222, [1, 2, 3], 1, 2, 3, 1]"
      ]
     },
     "execution_count": 91,
     "metadata": {},
     "output_type": "execute_result"
    }
   ],
   "source": [
    "L"
   ]
  },
  {
   "cell_type": "code",
   "execution_count": 92,
   "id": "d7f1dea9-4d25-4487-9bd7-28c4871fc393",
   "metadata": {},
   "outputs": [
    {
     "data": {
      "text/plain": [
       "98"
      ]
     },
     "execution_count": 92,
     "metadata": {},
     "output_type": "execute_result"
    }
   ],
   "source": [
    "L.pop(3)"
   ]
  },
  {
   "cell_type": "code",
   "execution_count": 93,
   "id": "eb67cc38-5dd6-4410-bf5e-02ed6d41a222",
   "metadata": {},
   "outputs": [
    {
     "data": {
      "text/plain": [
       "[67, 3, 400, 234, 6, 67, 8, 67, 10, 222, [1, 2, 3], 1, 2, 3, 1]"
      ]
     },
     "execution_count": 93,
     "metadata": {},
     "output_type": "execute_result"
    }
   ],
   "source": [
    "L"
   ]
  },
  {
   "cell_type": "code",
   "execution_count": 94,
   "id": "ec006f9a-0de8-430b-b5bc-cb8422cc5645",
   "metadata": {},
   "outputs": [],
   "source": [
    "res = L[-1]\n",
    "del L[-1]"
   ]
  },
  {
   "cell_type": "code",
   "execution_count": 95,
   "id": "afd56975-3cef-4aea-8d05-2b87cf21418b",
   "metadata": {},
   "outputs": [
    {
     "data": {
      "text/plain": [
       "1"
      ]
     },
     "execution_count": 95,
     "metadata": {},
     "output_type": "execute_result"
    }
   ],
   "source": [
    "res"
   ]
  },
  {
   "cell_type": "code",
   "execution_count": 96,
   "id": "d933c0de-a8ab-442c-b00a-0c03eb626ff6",
   "metadata": {},
   "outputs": [],
   "source": [
    "L.remove(67)"
   ]
  },
  {
   "cell_type": "code",
   "execution_count": 98,
   "id": "44681317-7f95-40e3-8606-f65f50106a6d",
   "metadata": {},
   "outputs": [
    {
     "data": {
      "text/plain": [
       "[3, 400, 234, 6, 67, 8, 67, 10, 222, [1, 2, 3], 1, 2, 3]"
      ]
     },
     "execution_count": 98,
     "metadata": {},
     "output_type": "execute_result"
    }
   ],
   "source": [
    "L  # entfernt die erste 67 die gefunden wird"
   ]
  },
  {
   "cell_type": "code",
   "execution_count": 99,
   "id": "2c47c30d-a405-4ce6-b045-a0abca721998",
   "metadata": {},
   "outputs": [
    {
     "data": {
      "text/plain": [
       "<list_reverseiterator object at 0x7f75ae672830>"
      ]
     },
     "execution_count": 99,
     "metadata": {},
     "output_type": "execute_result"
    }
   ],
   "source": [
    "reversed(L)"
   ]
  },
  {
   "cell_type": "code",
   "execution_count": 100,
   "id": "db09a786-3be7-4842-b53a-786fd58e697b",
   "metadata": {},
   "outputs": [
    {
     "data": {
      "text/plain": [
       "[3, 2, 1, [1, 2, 3], 222, 10, 67, 8, 67, 6, 234, 400, 3]"
      ]
     },
     "execution_count": 100,
     "metadata": {},
     "output_type": "execute_result"
    }
   ],
   "source": [
    "list(reversed(L))"
   ]
  },
  {
   "cell_type": "code",
   "execution_count": 110,
   "id": "0486c6d5-6f5e-4b94-8196-685514ee1368",
   "metadata": {},
   "outputs": [],
   "source": [
    "res = L.reverse()  # res wird NICHT zu neuer Liste"
   ]
  },
  {
   "cell_type": "code",
   "execution_count": 111,
   "id": "656ed732-a331-4e53-9dc5-10b0e224aa40",
   "metadata": {},
   "outputs": [
    {
     "data": {
      "text/plain": [
       "[3, 2, 1, [1, 2, 3], 222, 10, 67, 8, 67, 6, 234, 400, 3]"
      ]
     },
     "execution_count": 111,
     "metadata": {},
     "output_type": "execute_result"
    }
   ],
   "source": [
    "L"
   ]
  },
  {
   "cell_type": "code",
   "execution_count": 112,
   "id": "f9190f1c-8a4a-4ab9-ba21-f53e36e56712",
   "metadata": {},
   "outputs": [],
   "source": [
    "res"
   ]
  },
  {
   "cell_type": "code",
   "execution_count": 113,
   "id": "7790a596-4847-4d55-89da-ce6d5cf42527",
   "metadata": {},
   "outputs": [
    {
     "name": "stdout",
     "output_type": "stream",
     "text": [
      "None\n"
     ]
    }
   ],
   "source": [
    "print(res)"
   ]
  },
  {
   "cell_type": "code",
   "execution_count": 115,
   "id": "f1f38e60-2664-4d3e-8ebd-531709e7cff8",
   "metadata": {},
   "outputs": [
    {
     "ename": "TypeError",
     "evalue": "'<' not supported between instances of 'list' and 'int'",
     "output_type": "error",
     "traceback": [
      "\u001b[0;31m---------------------------------------------------------------------------\u001b[0m",
      "\u001b[0;31mTypeError\u001b[0m                                 Traceback (most recent call last)",
      "Input \u001b[0;32mIn [115]\u001b[0m, in \u001b[0;36m<cell line: 1>\u001b[0;34m()\u001b[0m\n\u001b[0;32m----> 1\u001b[0m \u001b[38;5;28;43msorted\u001b[39;49m\u001b[43m(\u001b[49m\u001b[43mL\u001b[49m\u001b[43m)\u001b[49m\n",
      "\u001b[0;31mTypeError\u001b[0m: '<' not supported between instances of 'list' and 'int'"
     ]
    }
   ],
   "source": [
    "sorted(L)  # Liste kann nur funktionieren, nur wenn aus gleichen/ähnlichen Typen"
   ]
  },
  {
   "cell_type": "code",
   "execution_count": 116,
   "id": "1ab78cb2-b2c0-4d43-ae15-0ac167aaecc8",
   "metadata": {},
   "outputs": [
    {
     "data": {
      "text/plain": [
       "True"
      ]
     },
     "execution_count": 116,
     "metadata": {},
     "output_type": "execute_result"
    }
   ],
   "source": [
    "1 < 1.5"
   ]
  },
  {
   "cell_type": "code",
   "execution_count": 118,
   "id": "362a2d73-56d3-4c76-8f95-2ca75df8c393",
   "metadata": {},
   "outputs": [
    {
     "ename": "TypeError",
     "evalue": "'<' not supported between instances of 'int' and 'list'",
     "output_type": "error",
     "traceback": [
      "\u001b[0;31m---------------------------------------------------------------------------\u001b[0m",
      "\u001b[0;31mTypeError\u001b[0m                                 Traceback (most recent call last)",
      "Input \u001b[0;32mIn [118]\u001b[0m, in \u001b[0;36m<cell line: 1>\u001b[0;34m()\u001b[0m\n\u001b[0;32m----> 1\u001b[0m \u001b[38;5;241;43m1\u001b[39;49m\u001b[43m \u001b[49m\u001b[38;5;241;43m<\u001b[39;49m\u001b[43m \u001b[49m\u001b[43m[\u001b[49m\u001b[38;5;241;43m1\u001b[39;49m\u001b[43m,\u001b[49m\u001b[43m \u001b[49m\u001b[38;5;241;43m2\u001b[39;49m\u001b[43m,\u001b[49m\u001b[43m \u001b[49m\u001b[38;5;241;43m3\u001b[39;49m\u001b[43m]\u001b[49m\n",
      "\u001b[0;31mTypeError\u001b[0m: '<' not supported between instances of 'int' and 'list'"
     ]
    }
   ],
   "source": [
    "1 < [1, 2, 3]"
   ]
  },
  {
   "cell_type": "code",
   "execution_count": 119,
   "id": "360ee0b7-9dfe-4298-978f-a0f8cfc6ff0a",
   "metadata": {},
   "outputs": [],
   "source": [
    "L.remove([1, 2, 3])"
   ]
  },
  {
   "cell_type": "code",
   "execution_count": 120,
   "id": "9df1d38a-3346-45ad-8de9-af4727621dd3",
   "metadata": {},
   "outputs": [
    {
     "data": {
      "text/plain": [
       "[3, 2, 1, 222, 10, 67, 8, 67, 6, 234, 400, 3]"
      ]
     },
     "execution_count": 120,
     "metadata": {},
     "output_type": "execute_result"
    }
   ],
   "source": [
    "L"
   ]
  },
  {
   "cell_type": "code",
   "execution_count": 121,
   "id": "56b438d1-9d9a-435c-8c35-9c571d4aa771",
   "metadata": {},
   "outputs": [
    {
     "data": {
      "text/plain": [
       "[1, 2, 3, 3, 6, 8, 10, 67, 67, 222, 234, 400]"
      ]
     },
     "execution_count": 121,
     "metadata": {},
     "output_type": "execute_result"
    }
   ],
   "source": [
    "sorted(L)"
   ]
  },
  {
   "cell_type": "code",
   "execution_count": 124,
   "id": "8b4c6bc3-53b9-4ada-a8dc-0a65c3513a39",
   "metadata": {},
   "outputs": [],
   "source": [
    "L.sort()  # gibt keinen neuen wert zurück, sondern ändert nur eigentliche Liste"
   ]
  },
  {
   "cell_type": "code",
   "execution_count": 125,
   "id": "6cb17ff2-fa7d-44a1-a41c-fc412dcabb96",
   "metadata": {},
   "outputs": [
    {
     "data": {
      "text/plain": [
       "[1, 2, 3, 3, 6, 8, 10, 67, 67, 222, 234, 400]"
      ]
     },
     "execution_count": 125,
     "metadata": {},
     "output_type": "execute_result"
    }
   ],
   "source": [
    "L"
   ]
  },
  {
   "cell_type": "code",
   "execution_count": 126,
   "id": "c8c610c5-4ec1-4af0-95f6-baf0aa6e2b5e",
   "metadata": {},
   "outputs": [],
   "source": [
    "unsorted = 'chjdsjhfuehakjljhjHjk'"
   ]
  },
  {
   "cell_type": "code",
   "execution_count": 127,
   "id": "8b3ef23a-d2f9-4bba-a7c5-a8800ce0d3d8",
   "metadata": {},
   "outputs": [
    {
     "data": {
      "text/plain": [
       "['H', 'a', 'c', 'd', 'e', 'f', 'h', 'h', 'h', 'h', 'j', 'j', 'j', 'j', 'j', 'j', 'k', 'k', 'l', 's', 'u']"
      ]
     },
     "execution_count": 127,
     "metadata": {},
     "output_type": "execute_result"
    }
   ],
   "source": [
    "sorted(unsorted)"
   ]
  },
  {
   "cell_type": "code",
   "execution_count": 128,
   "id": "3021f5f3-509a-4266-8328-b80af3cf5927",
   "metadata": {},
   "outputs": [
    {
     "data": {
      "text/plain": [
       "\u001b[0;31mSignature:\u001b[0m \u001b[0msorted\u001b[0m\u001b[0;34m(\u001b[0m\u001b[0miterable\u001b[0m\u001b[0;34m,\u001b[0m \u001b[0;34m/\u001b[0m\u001b[0;34m,\u001b[0m \u001b[0;34m*\u001b[0m\u001b[0;34m,\u001b[0m \u001b[0mkey\u001b[0m\u001b[0;34m=\u001b[0m\u001b[0;32mNone\u001b[0m\u001b[0;34m,\u001b[0m \u001b[0mreverse\u001b[0m\u001b[0;34m=\u001b[0m\u001b[0;32mFalse\u001b[0m\u001b[0;34m)\u001b[0m\u001b[0;34m\u001b[0m\u001b[0;34m\u001b[0m\u001b[0m\n",
       "\u001b[0;31mDocstring:\u001b[0m\n",
       "Return a new list containing all items from the iterable in ascending order.\n",
       "\n",
       "A custom key function can be supplied to customize the sort order, and the\n",
       "reverse flag can be set to request the result in descending order.\n",
       "\u001b[0;31mType:\u001b[0m      builtin_function_or_method\n"
      ]
     },
     "metadata": {},
     "output_type": "display_data"
    }
   ],
   "source": [
    "sorted?"
   ]
  },
  {
   "cell_type": "code",
   "execution_count": 129,
   "id": "e4d2ce63-206d-4cc2-a4fc-e00dd955233c",
   "metadata": {},
   "outputs": [
    {
     "data": {
      "text/plain": [
       "\u001b[0;31mSignature:\u001b[0m \u001b[0mstr\u001b[0m\u001b[0;34m.\u001b[0m\u001b[0mcasefold\u001b[0m\u001b[0;34m(\u001b[0m\u001b[0mself\u001b[0m\u001b[0;34m,\u001b[0m \u001b[0;34m/\u001b[0m\u001b[0;34m)\u001b[0m\u001b[0;34m\u001b[0m\u001b[0;34m\u001b[0m\u001b[0m\n",
       "\u001b[0;31mDocstring:\u001b[0m Return a version of the string suitable for caseless comparisons.\n",
       "\u001b[0;31mType:\u001b[0m      method_descriptor\n"
      ]
     },
     "metadata": {},
     "output_type": "display_data"
    }
   ],
   "source": [
    "str.casefold?"
   ]
  },
  {
   "cell_type": "code",
   "execution_count": 130,
   "id": "83610b6a-9527-43fb-ae35-a79c4fb326f5",
   "metadata": {},
   "outputs": [
    {
     "data": {
      "text/plain": [
       "'a'"
      ]
     },
     "execution_count": 130,
     "metadata": {},
     "output_type": "execute_result"
    }
   ],
   "source": [
    "str.casefold('a')"
   ]
  },
  {
   "cell_type": "code",
   "execution_count": 132,
   "id": "4c787ca1-c452-4dd5-97de-efb0255270bf",
   "metadata": {},
   "outputs": [
    {
     "data": {
      "text/plain": [
       "'a'"
      ]
     },
     "execution_count": 132,
     "metadata": {},
     "output_type": "execute_result"
    }
   ],
   "source": [
    "str.casefold('A')"
   ]
  },
  {
   "cell_type": "code",
   "execution_count": 134,
   "id": "8d56d548-26d0-42a1-8c3a-13bd2da8e43c",
   "metadata": {},
   "outputs": [
    {
     "data": {
      "text/plain": [
       "['a', 'c', 'd', 'e', 'f', 'h', 'h', 'h', 'h', 'H', 'j', 'j', 'j', 'j', 'j', 'j', 'k', 'k', 'l', 's', 'u']"
      ]
     },
     "execution_count": 134,
     "metadata": {},
     "output_type": "execute_result"
    }
   ],
   "source": [
    "sorted(unsorted, key=str.casefold)  # man gibt sorted eine weitere Funktion mit --> erstellt neue Liste, nach der alte Liste sortiert wird"
   ]
  },
  {
   "cell_type": "code",
   "execution_count": 135,
   "id": "1542aa5d-7c51-4324-958d-d71c03721fdd",
   "metadata": {},
   "outputs": [],
   "source": [
    "def my_casefold(value):\n",
    "    print(value)\n",
    "    return value.casefold()"
   ]
  },
  {
   "cell_type": "code",
   "execution_count": 136,
   "id": "8a83e887-e0bd-4e2e-a623-347f3735b4be",
   "metadata": {},
   "outputs": [
    {
     "name": "stdout",
     "output_type": "stream",
     "text": [
      "c\n",
      "h\n",
      "j\n",
      "d\n",
      "s\n",
      "j\n",
      "h\n",
      "f\n",
      "u\n",
      "e\n",
      "h\n",
      "a\n",
      "k\n",
      "j\n",
      "l\n",
      "j\n",
      "h\n",
      "j\n",
      "H\n",
      "j\n",
      "k\n"
     ]
    },
    {
     "data": {
      "text/plain": [
       "['a', 'c', 'd', 'e', 'f', 'h', 'h', 'h', 'h', 'H', 'j', 'j', 'j', 'j', 'j', 'j', 'k', 'k', 'l', 's', 'u']"
      ]
     },
     "execution_count": 136,
     "metadata": {},
     "output_type": "execute_result"
    }
   ],
   "source": [
    "sorted(unsorted, key=my_casefold)"
   ]
  },
  {
   "cell_type": "code",
   "execution_count": 137,
   "id": "1a1bd7bf-7199-48d7-b4d2-2bdbf3a16b31",
   "metadata": {},
   "outputs": [
    {
     "data": {
      "text/plain": [
       "<zip object at 0x7f75ad808340>"
      ]
     },
     "execution_count": 137,
     "metadata": {},
     "output_type": "execute_result"
    }
   ],
   "source": [
    "zip('abc', 'xyc')"
   ]
  },
  {
   "cell_type": "code",
   "execution_count": 139,
   "id": "4f4d4d1b-3fcd-4629-9695-419f9ed07d4a",
   "metadata": {},
   "outputs": [
    {
     "data": {
      "text/plain": [
       "[('a', 'x'), ('b', 'y'), ('c', 'c')]"
      ]
     },
     "execution_count": 139,
     "metadata": {},
     "output_type": "execute_result"
    }
   ],
   "source": [
    "list(zip('abc', 'xyc'))  # beide Strings werden miteinander Kombiniert"
   ]
  },
  {
   "cell_type": "code",
   "execution_count": 141,
   "id": "746fbaf3-6e7e-49c2-80a9-0a9341eb17bf",
   "metadata": {},
   "outputs": [
    {
     "name": "stdout",
     "output_type": "stream",
     "text": [
      "a x\n",
      "b y\n",
      "c c\n"
     ]
    }
   ],
   "source": [
    "for x1, x2 in zip('abc', 'xyc'):  # zip erstellt Liste aus Tupeln --> Tupel kan man entpacken\n",
    "    print(x1, x2)"
   ]
  },
  {
   "cell_type": "code",
   "execution_count": 142,
   "id": "90278ea8-6253-4f84-a8be-bf6575e6dfd5",
   "metadata": {},
   "outputs": [
    {
     "name": "stdout",
     "output_type": "stream",
     "text": [
      "('a', 'x')\n",
      "('b', 'y')\n",
      "('c', 'c')\n"
     ]
    }
   ],
   "source": [
    "for x in zip('abc', 'xyc'):\n",
    "    print(x)"
   ]
  },
  {
   "cell_type": "code",
   "execution_count": 143,
   "id": "c0e0e099-a87d-4db7-898c-239b2bf1359a",
   "metadata": {},
   "outputs": [],
   "source": [
    "a, b = (100, 200)"
   ]
  },
  {
   "cell_type": "code",
   "execution_count": 144,
   "id": "937981d4-ee27-4e11-9c46-6157be7c5e39",
   "metadata": {},
   "outputs": [
    {
     "data": {
      "text/plain": [
       "100"
      ]
     },
     "execution_count": 144,
     "metadata": {},
     "output_type": "execute_result"
    }
   ],
   "source": [
    "a"
   ]
  },
  {
   "cell_type": "code",
   "execution_count": 145,
   "id": "76fdb8a3-b4d2-4b0c-b069-3f98d0534b2c",
   "metadata": {},
   "outputs": [
    {
     "data": {
      "text/plain": [
       "200"
      ]
     },
     "execution_count": 145,
     "metadata": {},
     "output_type": "execute_result"
    }
   ],
   "source": [
    "b"
   ]
  },
  {
   "cell_type": "code",
   "execution_count": 146,
   "id": "cbc14a8c-8f80-465f-947f-1b4ffc91a3c0",
   "metadata": {},
   "outputs": [
    {
     "name": "stdout",
     "output_type": "stream",
     "text": [
      "a x 100\n",
      "b y 200\n",
      "c c 300\n"
     ]
    }
   ],
   "source": [
    "for x1, x2, x3 in zip('abc', 'xyc', [100, 200, 300]):\n",
    "    print(x1, x2, x3)"
   ]
  },
  {
   "cell_type": "code",
   "execution_count": 147,
   "id": "ec82838e-06be-40f3-8758-f6eea18201d2",
   "metadata": {},
   "outputs": [
    {
     "name": "stdout",
     "output_type": "stream",
     "text": [
      "a x 100\n",
      "b y 200\n",
      "c c 300\n"
     ]
    }
   ],
   "source": [
    "for x1, x2, x3 in zip('abcdefg', 'xyc', [100, 200, 300]):\n",
    "    print(x1, x2, x3)"
   ]
  },
  {
   "cell_type": "code",
   "execution_count": 148,
   "id": "297a5fe7-771f-41bd-8c62-595e5fea2e2f",
   "metadata": {},
   "outputs": [
    {
     "name": "stdout",
     "output_type": "stream",
     "text": [
      "a x 100\n",
      "b y 200\n"
     ]
    }
   ],
   "source": [
    "for x1, x2, x3 in zip('abcdefg', 'xyc', [100, 200]):\n",
    "    print(x1, x2, x3)"
   ]
  },
  {
   "cell_type": "code",
   "execution_count": 149,
   "id": "03a76a25-4a65-4fcc-99a9-c57d491cf2cb",
   "metadata": {},
   "outputs": [
    {
     "data": {
      "text/plain": [
       "\u001b[0;31mInit signature:\u001b[0m \u001b[0mzip\u001b[0m\u001b[0;34m(\u001b[0m\u001b[0mself\u001b[0m\u001b[0;34m,\u001b[0m \u001b[0;34m/\u001b[0m\u001b[0;34m,\u001b[0m \u001b[0;34m*\u001b[0m\u001b[0margs\u001b[0m\u001b[0;34m,\u001b[0m \u001b[0;34m**\u001b[0m\u001b[0mkwargs\u001b[0m\u001b[0;34m)\u001b[0m\u001b[0;34m\u001b[0m\u001b[0;34m\u001b[0m\u001b[0m\n",
       "\u001b[0;31mDocstring:\u001b[0m     \n",
       "zip(*iterables, strict=False) --> Yield tuples until an input is exhausted.\n",
       "\n",
       "   >>> list(zip('abcdefg', range(3), range(4)))\n",
       "   [('a', 0, 0), ('b', 1, 1), ('c', 2, 2)]\n",
       "\n",
       "The zip object yields n-length tuples, where n is the number of iterables\n",
       "passed as positional arguments to zip().  The i-th element in every tuple\n",
       "comes from the i-th iterable argument to zip().  This continues until the\n",
       "shortest argument is exhausted.\n",
       "\n",
       "If strict is true and one of the arguments is exhausted before the others,\n",
       "raise a ValueError.\n",
       "\u001b[0;31mType:\u001b[0m           type\n",
       "\u001b[0;31mSubclasses:\u001b[0m     \n"
      ]
     },
     "metadata": {},
     "output_type": "display_data"
    }
   ],
   "source": [
    "zip?"
   ]
  },
  {
   "cell_type": "code",
   "execution_count": 152,
   "id": "5708ecb5-1f59-4518-9447-d26e58ab683c",
   "metadata": {},
   "outputs": [
    {
     "name": "stdout",
     "output_type": "stream",
     "text": [
      "a x 100\n",
      "b y 200\n",
      "c c 300\n"
     ]
    },
    {
     "ename": "ValueError",
     "evalue": "zip() argument 2 is shorter than argument 1",
     "output_type": "error",
     "traceback": [
      "\u001b[0;31m---------------------------------------------------------------------------\u001b[0m",
      "\u001b[0;31mValueError\u001b[0m                                Traceback (most recent call last)",
      "Input \u001b[0;32mIn [152]\u001b[0m, in \u001b[0;36m<cell line: 1>\u001b[0;34m()\u001b[0m\n\u001b[0;32m----> 1\u001b[0m \u001b[38;5;28;01mfor\u001b[39;00m x1, x2, x3 \u001b[38;5;129;01min\u001b[39;00m \u001b[38;5;28mzip\u001b[39m(\u001b[38;5;124m'\u001b[39m\u001b[38;5;124mabcdefg\u001b[39m\u001b[38;5;124m'\u001b[39m, \u001b[38;5;124m'\u001b[39m\u001b[38;5;124mxyc\u001b[39m\u001b[38;5;124m'\u001b[39m, [\u001b[38;5;241m100\u001b[39m, \u001b[38;5;241m200\u001b[39m, \u001b[38;5;241m300\u001b[39m], strict\u001b[38;5;241m=\u001b[39m\u001b[38;5;28;01mTrue\u001b[39;00m):\n\u001b[1;32m      2\u001b[0m     \u001b[38;5;28mprint\u001b[39m(x1, x2, x3)\n",
      "\u001b[0;31mValueError\u001b[0m: zip() argument 2 is shorter than argument 1"
     ]
    }
   ],
   "source": [
    "for x1, x2, x3 in zip('abcdefg', 'xyc', [100, 200, 300], strict=True):\n",
    "    print(x1, x2, x3)"
   ]
  },
  {
   "cell_type": "code",
   "execution_count": 155,
   "id": "676c4e9d-2cf0-4dce-b49e-67581b4c33f0",
   "metadata": {},
   "outputs": [
    {
     "name": "stdout",
     "output_type": "stream",
     "text": [
      "a x 100\n",
      "b y 200\n",
      "c c 300\n"
     ]
    }
   ],
   "source": [
    "for x1, x2, x3 in zip('abc', 'xyc', [100, 200, 300], strict=True):\n",
    "    print(x1, x2, x3)"
   ]
  },
  {
   "cell_type": "code",
   "execution_count": 154,
   "id": "ef269601-c0ee-4ff8-9d01-8eabd9f94a1e",
   "metadata": {},
   "outputs": [],
   "source": [
    "from itertools import zip_longest"
   ]
  },
  {
   "cell_type": "code",
   "execution_count": 158,
   "id": "799c532a-cc97-4086-9ef7-8989c4bb3972",
   "metadata": {},
   "outputs": [
    {
     "name": "stdout",
     "output_type": "stream",
     "text": [
      "a x 100\n",
      "b y 200\n",
      "c c 300\n",
      "d None None\n",
      "e None None\n",
      "f None None\n",
      "g None None\n"
     ]
    }
   ],
   "source": [
    "for x1, x2, x3 in zip_longest('abcdefg', 'xyc', [100, 200, 300]):\n",
    "    print(x1, x2, x3)"
   ]
  },
  {
   "cell_type": "code",
   "execution_count": 160,
   "id": "7a055fea-3fab-441a-99af-a148f5e2d7f8",
   "metadata": {},
   "outputs": [
    {
     "name": "stdout",
     "output_type": "stream",
     "text": [
      "a x 100\n",
      "b y 200\n",
      "c c 300\n",
      "d d 999\n",
      "e 999 999\n",
      "f 999 999\n",
      "g 999 999\n"
     ]
    }
   ],
   "source": [
    "for x1, x2, x3 in zip_longest('abcdefg', 'xycd', [100, 200, 300], fillvalue=999):\n",
    "    print(x1, x2, x3)"
   ]
  },
  {
   "cell_type": "code",
   "execution_count": 162,
   "id": "7147eb7f-ffbf-4297-96ea-373cb7f26319",
   "metadata": {},
   "outputs": [
    {
     "name": "stdout",
     "output_type": "stream",
     "text": [
      "0 a\n",
      "1 b\n",
      "2 c\n"
     ]
    }
   ],
   "source": [
    "for index, value in enumerate('abc'):\n",
    "    print(index, value)"
   ]
  },
  {
   "cell_type": "code",
   "execution_count": 163,
   "id": "0a3df756-f14d-41d3-80bb-d62942dc3f69",
   "metadata": {},
   "outputs": [
    {
     "name": "stdout",
     "output_type": "stream",
     "text": [
      "100 a\n",
      "101 b\n",
      "102 c\n"
     ]
    }
   ],
   "source": [
    "for index, value in enumerate('abc', start=100):\n",
    "    print(index, value)"
   ]
  },
  {
   "cell_type": "code",
   "execution_count": 164,
   "id": "55cf6376-70db-4239-acd1-313b0690f850",
   "metadata": {},
   "outputs": [
    {
     "data": {
      "text/plain": [
       "[1, 2, 3, 3, 6, 8, 10, 67, 67, 222, 234, 400]"
      ]
     },
     "execution_count": 164,
     "metadata": {},
     "output_type": "execute_result"
    }
   ],
   "source": [
    "L"
   ]
  },
  {
   "cell_type": "markdown",
   "id": "098467f0-4757-4ba2-87e5-5f4416c2b226",
   "metadata": {},
   "source": [
    "# Liscomprehension (etwas schneller und Kompakter als Forschleifen)"
   ]
  },
  {
   "cell_type": "code",
   "execution_count": 165,
   "id": "e4053d51-0ac4-4035-a59e-4e614d0a820f",
   "metadata": {},
   "outputs": [
    {
     "data": {
      "text/plain": [
       "[1, 2, 3, 3, 6, 8, 10, 67, 67, 222, 234, 400]"
      ]
     },
     "execution_count": 165,
     "metadata": {},
     "output_type": "execute_result"
    }
   ],
   "source": [
    "L"
   ]
  },
  {
   "cell_type": "code",
   "execution_count": 166,
   "id": "fe9b1cf9-0640-4747-832e-5ff70d3b4cdd",
   "metadata": {},
   "outputs": [
    {
     "data": {
      "text/plain": [
       "[31, 32, 33, 33, 36, 38, 40, 97, 97, 252, 264, 430]"
      ]
     },
     "execution_count": 166,
     "metadata": {},
     "output_type": "execute_result"
    }
   ],
   "source": [
    "[x + 30 for x in L]"
   ]
  },
  {
   "cell_type": "code",
   "execution_count": 169,
   "id": "42d97c7a-e1d7-48a9-9684-1625d6daa89f",
   "metadata": {},
   "outputs": [
    {
     "data": {
      "text/plain": [
       "[31, 32, 33, 33, 36, 38, 40, 97, 97, 252, 264, 430]"
      ]
     },
     "execution_count": 169,
     "metadata": {},
     "output_type": "execute_result"
    }
   ],
   "source": [
    "res = []\n",
    "for x in L:\n",
    "    res.append(x + 30)\n",
    "res"
   ]
  },
  {
   "cell_type": "code",
   "execution_count": 173,
   "id": "5a64c163-3e19-439c-975b-cb7c01ae5a19",
   "metadata": {},
   "outputs": [
    {
     "name": "stdout",
     "output_type": "stream",
     "text": [
      "1.18 µs ± 83.8 ns per loop (mean ± std. dev. of 7 runs, 1,000,000 loops each)\n"
     ]
    }
   ],
   "source": [
    "%%timeit\n",
    "\n",
    "res1 = [x + 30 for x in L]"
   ]
  },
  {
   "cell_type": "code",
   "execution_count": 174,
   "id": "cce57212-9877-450b-8b71-e0a421a9fba7",
   "metadata": {},
   "outputs": [
    {
     "name": "stdout",
     "output_type": "stream",
     "text": [
      "1.44 µs ± 62.2 ns per loop (mean ± std. dev. of 7 runs, 1,000,000 loops each)\n"
     ]
    }
   ],
   "source": [
    "%%timeit\n",
    "\n",
    "res2 = []\n",
    "for x in L:\n",
    "    res2.append(x + 30)"
   ]
  },
  {
   "cell_type": "code",
   "execution_count": 175,
   "id": "ca136df9-d9c4-4f52-ac85-4c202f509ea8",
   "metadata": {},
   "outputs": [
    {
     "data": {
      "text/plain": [
       "True"
      ]
     },
     "execution_count": 175,
     "metadata": {},
     "output_type": "execute_result"
    }
   ],
   "source": [
    "res1 == res2"
   ]
  },
  {
   "cell_type": "code",
   "execution_count": 180,
   "id": "b5ad3544-e658-457c-8ca9-ef50a68ec08d",
   "metadata": {},
   "outputs": [],
   "source": [
    "res1 = [x + 30 for x in L if x > 10]  # alle Elemente + 30, die in Liste L, wo Elemet > 10"
   ]
  },
  {
   "cell_type": "code",
   "execution_count": 177,
   "id": "65205ac7-7d97-483f-9667-a1c47d2a1546",
   "metadata": {},
   "outputs": [],
   "source": [
    "res2 = []\n",
    "for x in L:\n",
    "    if x > 10:\n",
    "        res2.append(x + 30)"
   ]
  },
  {
   "cell_type": "code",
   "execution_count": 181,
   "id": "ffcf7354-c8b5-482f-8e75-77f4d7afacef",
   "metadata": {},
   "outputs": [
    {
     "data": {
      "text/plain": [
       "True"
      ]
     },
     "execution_count": 181,
     "metadata": {},
     "output_type": "execute_result"
    }
   ],
   "source": [
    "res1 == res2"
   ]
  },
  {
   "cell_type": "code",
   "execution_count": 184,
   "id": "32071bea-da56-42ec-b982-403d25978b70",
   "metadata": {},
   "outputs": [],
   "source": [
    "res1 = [(x, y) for x in range(10, 41, 10) for y in range(100, 301, 100)]"
   ]
  },
  {
   "cell_type": "code",
   "execution_count": 187,
   "id": "29dfd22f-e725-49e7-9fbb-965e6e57fce1",
   "metadata": {},
   "outputs": [
    {
     "data": {
      "text/plain": [
       "True"
      ]
     },
     "execution_count": 187,
     "metadata": {},
     "output_type": "execute_result"
    }
   ],
   "source": [
    "res2 = []\n",
    "for x in range(10, 41, 10):\n",
    "    for y in range(100, 301, 100):\n",
    "        res2.append((x, y))\n",
    "res1 == res2"
   ]
  },
  {
   "cell_type": "code",
   "execution_count": 189,
   "id": "1b2d4692-abd8-48b9-8fe3-5674fe6aba00",
   "metadata": {},
   "outputs": [],
   "source": [
    "# List ist lazy; Range ist eager"
   ]
  },
  {
   "cell_type": "code",
   "execution_count": 195,
   "id": "2b226ad8-ecdf-4a5c-9b4b-cf9543f2880c",
   "metadata": {},
   "outputs": [],
   "source": [
    "from string import ascii_lowercase"
   ]
  },
  {
   "cell_type": "code",
   "execution_count": 196,
   "id": "bd16c7fe-472b-4494-9b3e-4ec5659e6007",
   "metadata": {},
   "outputs": [
    {
     "data": {
      "text/plain": [
       "['a', 'b', 'c', 'd', 'e', 'f', 'g', 'h', 'i', 'j', 'k', 'l', 'm', 'n', 'o', 'p', 'q', 'r', 's', 't', 'u', 'v', 'w', 'x', 'y', 'z']"
      ]
     },
     "execution_count": 196,
     "metadata": {},
     "output_type": "execute_result"
    }
   ],
   "source": [
    "list(ascii_lowercase)"
   ]
  },
  {
   "cell_type": "code",
   "execution_count": null,
   "id": "29bdb252-4f18-4937-9a7b-87d4c16f0f8f",
   "metadata": {},
   "outputs": [],
   "source": []
  }
 ],
 "metadata": {
  "kernelspec": {
   "display_name": "Python 3.10",
   "language": "python",
   "name": "python310"
  },
  "language_info": {
   "codemirror_mode": {
    "name": "ipython",
    "version": 3
   },
   "file_extension": ".py",
   "mimetype": "text/x-python",
   "name": "python",
   "nbconvert_exporter": "python",
   "pygments_lexer": "ipython3",
   "version": "3.10.4"
  }
 },
 "nbformat": 4,
 "nbformat_minor": 5
}
