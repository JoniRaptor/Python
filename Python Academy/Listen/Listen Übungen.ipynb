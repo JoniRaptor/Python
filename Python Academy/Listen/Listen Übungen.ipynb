{
 "cells": [
  {
   "cell_type": "code",
   "execution_count": 151,
   "id": "20d42ecf-523c-47b0-b45a-ff0af9bce4e8",
   "metadata": {
    "tags": []
   },
   "outputs": [],
   "source": [
    "L = list(range(1, 13))"
   ]
  },
  {
   "cell_type": "code",
   "execution_count": 152,
   "id": "98546ecb-5a71-401f-b636-0ff3120afe8e",
   "metadata": {
    "tags": []
   },
   "outputs": [],
   "source": [
    "L[0] = 13"
   ]
  },
  {
   "cell_type": "code",
   "execution_count": 153,
   "id": "0b5dc634-52da-44ad-9ffb-94b62e04f7b5",
   "metadata": {},
   "outputs": [
    {
     "data": {
      "text/plain": [
       "[13, 2, 3, 4, 5, 6, 7, 8, 9, 10, 11, 12]"
      ]
     },
     "execution_count": 153,
     "metadata": {},
     "output_type": "execute_result"
    }
   ],
   "source": [
    "L"
   ]
  },
  {
   "cell_type": "code",
   "execution_count": 154,
   "id": "ec7a335b-3dcd-4df9-9de2-c756fd042a30",
   "metadata": {},
   "outputs": [],
   "source": [
    "del L[1: 6]"
   ]
  },
  {
   "cell_type": "code",
   "execution_count": 155,
   "id": "9cc3cb99-b0e7-4259-96e3-80b09e6c47b3",
   "metadata": {},
   "outputs": [
    {
     "data": {
      "text/plain": [
       "[13, 7, 8, 9, 10, 11, 12]"
      ]
     },
     "execution_count": 155,
     "metadata": {},
     "output_type": "execute_result"
    }
   ],
   "source": [
    "L"
   ]
  },
  {
   "cell_type": "code",
   "execution_count": 156,
   "id": "1b5f6a9a-4c88-4783-b309-66e0d330cee7",
   "metadata": {},
   "outputs": [],
   "source": [
    "L[2:5] = [1, 2, 3, 4, 5, 6, 7, 8]"
   ]
  },
  {
   "cell_type": "code",
   "execution_count": 157,
   "id": "6a4e8dc2-8fab-4680-9761-0844706790fa",
   "metadata": {},
   "outputs": [
    {
     "data": {
      "text/plain": [
       "[13, 7, 1, 2, 3, 4, 5, 6, 7, 8, 11, 12]"
      ]
     },
     "execution_count": 157,
     "metadata": {},
     "output_type": "execute_result"
    }
   ],
   "source": [
    "L"
   ]
  },
  {
   "cell_type": "markdown",
   "id": "148ec29a-d2de-4c7b-894a-78dbce62ab35",
   "metadata": {},
   "source": [
    "# Übung 3"
   ]
  },
  {
   "cell_type": "code",
   "execution_count": 158,
   "id": "27ee9ae2-d75b-46d2-ba15-61026a22fdf9",
   "metadata": {},
   "outputs": [],
   "source": [
    "for x in range(0, 5):\n",
    "    L.append(x)"
   ]
  },
  {
   "cell_type": "code",
   "execution_count": 159,
   "id": "4ab13f21-076a-4446-b038-92743896ec94",
   "metadata": {},
   "outputs": [
    {
     "data": {
      "text/plain": [
       "[13, 7, 1, 2, 3, 4, 5, 6, 7, 8, 11, 12, 0, 1, 2, 3, 4]"
      ]
     },
     "execution_count": 159,
     "metadata": {},
     "output_type": "execute_result"
    }
   ],
   "source": [
    "L"
   ]
  },
  {
   "cell_type": "code",
   "execution_count": 160,
   "id": "f4e03f59-1383-4a16-acb0-a51549468bb3",
   "metadata": {},
   "outputs": [],
   "source": [
    "L.extend([0, 1, 2, 3, 4])"
   ]
  },
  {
   "cell_type": "code",
   "execution_count": 161,
   "id": "7c68334e-7b89-4b06-833a-c111da04c7f6",
   "metadata": {},
   "outputs": [
    {
     "data": {
      "text/plain": [
       "[13, 7, 1, 2, 3, 4, 5, 6, 7, 8, 11, 12, 0, 1, 2, 3, 4, 0, 1, 2, 3, 4]"
      ]
     },
     "execution_count": 161,
     "metadata": {},
     "output_type": "execute_result"
    }
   ],
   "source": [
    "L"
   ]
  },
  {
   "cell_type": "code",
   "execution_count": 162,
   "id": "572bcdf8-9721-4e00-9e51-f958f29ebdf9",
   "metadata": {},
   "outputs": [],
   "source": [
    "del L[-1]"
   ]
  },
  {
   "cell_type": "code",
   "execution_count": 163,
   "id": "da6a931c-9672-481b-916f-64926476d0b6",
   "metadata": {},
   "outputs": [
    {
     "data": {
      "text/plain": [
       "[13, 7, 1, 2, 3, 4, 5, 6, 7, 8, 11, 12, 0, 1, 2, 3, 4, 0, 1, 2, 3]"
      ]
     },
     "execution_count": 163,
     "metadata": {},
     "output_type": "execute_result"
    }
   ],
   "source": [
    "L"
   ]
  },
  {
   "cell_type": "code",
   "execution_count": 164,
   "id": "8df2612c-8928-4718-8459-3140d7dca592",
   "metadata": {},
   "outputs": [
    {
     "data": {
      "text/plain": [
       "3"
      ]
     },
     "execution_count": 164,
     "metadata": {},
     "output_type": "execute_result"
    }
   ],
   "source": [
    "L.pop()"
   ]
  },
  {
   "cell_type": "code",
   "execution_count": 165,
   "id": "03a0e84f-96ae-4855-b40b-a4c6b761d984",
   "metadata": {},
   "outputs": [
    {
     "data": {
      "text/plain": [
       "[13, 7, 1, 2, 3, 4, 5, 6, 7, 8, 11, 12, 0, 1, 2, 3, 4, 0, 1, 2]"
      ]
     },
     "execution_count": 165,
     "metadata": {},
     "output_type": "execute_result"
    }
   ],
   "source": [
    "L"
   ]
  },
  {
   "cell_type": "code",
   "execution_count": 166,
   "id": "baec054b-1fe9-4156-b637-6a87c00cbd35",
   "metadata": {},
   "outputs": [
    {
     "data": {
      "text/plain": [
       "[13, 7, 1, 2, 3, 4, 5, 6, 7, 8, 11, 12, 0, 1, 2, 3, 4, 0, 1]"
      ]
     },
     "execution_count": 166,
     "metadata": {},
     "output_type": "execute_result"
    }
   ],
   "source": [
    "L[-1:] = []  # alternativ, wenn man kein neues Objekt erzeugen will: L[:] = L[:-1]\n",
    "\n",
    "L"
   ]
  },
  {
   "cell_type": "markdown",
   "id": "803fae59-447e-48fe-935d-45fa5b58f57b",
   "metadata": {},
   "source": [
    "# Übung 5"
   ]
  },
  {
   "cell_type": "code",
   "execution_count": 167,
   "id": "869071cb-d64a-4455-866e-7d8342bd71d7",
   "metadata": {},
   "outputs": [
    {
     "data": {
      "text/plain": [
       "[1, 0, 4, 3, 2, 1, 0, 12, 11, 8, 7, 6, 5, 4, 3, 2, 1, 7, 13]"
      ]
     },
     "execution_count": 167,
     "metadata": {},
     "output_type": "execute_result"
    }
   ],
   "source": [
    "list(reversed(L))"
   ]
  },
  {
   "cell_type": "markdown",
   "id": "1f0dd67b-669f-45d4-8817-9938cdeefbc0",
   "metadata": {},
   "source": [
    "# Übung 6"
   ]
  },
  {
   "cell_type": "code",
   "execution_count": 168,
   "id": "37cac0b8-8c6f-49e5-bf95-1d7876765c20",
   "metadata": {},
   "outputs": [],
   "source": [
    "F = []\n",
    "for (x, y) in zip(L, list(reversed(L))):\n",
    "    F.append([x, y])"
   ]
  },
  {
   "cell_type": "code",
   "execution_count": 169,
   "id": "6292addb-37b6-42ad-9984-0aa0bc95f562",
   "metadata": {},
   "outputs": [
    {
     "data": {
      "text/plain": [
       "[[13, 1],\n",
       " [7, 0],\n",
       " [1, 4],\n",
       " [2, 3],\n",
       " [3, 2],\n",
       " [4, 1],\n",
       " [5, 0],\n",
       " [6, 12],\n",
       " [7, 11],\n",
       " [8, 8],\n",
       " [11, 7],\n",
       " [12, 6],\n",
       " [0, 5],\n",
       " [1, 4],\n",
       " [2, 3],\n",
       " [3, 2],\n",
       " [4, 1],\n",
       " [0, 7],\n",
       " [1, 13]]"
      ]
     },
     "execution_count": 169,
     "metadata": {},
     "output_type": "execute_result"
    }
   ],
   "source": [
    "F"
   ]
  },
  {
   "cell_type": "markdown",
   "id": "61af5efc-cf62-4ad3-8f00-f81830ded757",
   "metadata": {},
   "source": [
    "# Übung 7"
   ]
  },
  {
   "cell_type": "code",
   "execution_count": 170,
   "id": "11b4215c-e594-4be4-b55e-713788a7e3d0",
   "metadata": {},
   "outputs": [],
   "source": [
    "G = [x * 10 for x in L]"
   ]
  },
  {
   "cell_type": "code",
   "execution_count": 171,
   "id": "3b43c0d8-566b-47af-abc0-dfb430c9fb99",
   "metadata": {},
   "outputs": [
    {
     "data": {
      "text/plain": [
       "[130, 70, 10, 20, 30, 40, 50, 60, 70, 80, 110, 120, 0, 10, 20, 30, 40, 0, 10]"
      ]
     },
     "execution_count": 171,
     "metadata": {},
     "output_type": "execute_result"
    }
   ],
   "source": [
    "G"
   ]
  },
  {
   "cell_type": "code",
   "execution_count": 172,
   "id": "353878e8-5b91-48de-8cf7-0cb460440a0e",
   "metadata": {},
   "outputs": [],
   "source": [
    "G = []\n",
    "\n",
    "for x in L:\n",
    "    G.append(x * 10)"
   ]
  },
  {
   "cell_type": "code",
   "execution_count": 173,
   "id": "16962d68-6940-44af-872a-07e27d12ba0e",
   "metadata": {},
   "outputs": [
    {
     "data": {
      "text/plain": [
       "[130, 70, 10, 20, 30, 40, 50, 60, 70, 80, 110, 120, 0, 10, 20, 30, 40, 0, 10]"
      ]
     },
     "execution_count": 173,
     "metadata": {},
     "output_type": "execute_result"
    }
   ],
   "source": [
    "G"
   ]
  },
  {
   "cell_type": "markdown",
   "id": "67bcd6ef-8e01-4e9e-9c8e-4af906a9655c",
   "metadata": {},
   "source": [
    "# Übung 8"
   ]
  },
  {
   "cell_type": "code",
   "execution_count": 174,
   "id": "a0d7a4c7-7201-44f0-bd78-f98348b7daa8",
   "metadata": {},
   "outputs": [],
   "source": [
    "def geradeungerade(value):\n",
    "    return value % 2"
   ]
  },
  {
   "cell_type": "code",
   "execution_count": 175,
   "id": "4a0f1597-dbdd-428c-bd02-9525e90f4f36",
   "metadata": {},
   "outputs": [
    {
     "data": {
      "text/plain": [
       "[2, 4, 6, 8, 12, 0, 2, 4, 0, 13, 7, 1, 3, 5, 7, 11, 1, 3, 1]"
      ]
     },
     "execution_count": 175,
     "metadata": {},
     "output_type": "execute_result"
    }
   ],
   "source": [
    "sorted(L, key=geradeungerade)"
   ]
  },
  {
   "cell_type": "code",
   "execution_count": 176,
   "id": "9382388b-081b-46c3-bdda-94e40a782f38",
   "metadata": {},
   "outputs": [],
   "source": [
    "def geradeungerade2(value):\n",
    "    return value % 2, value"
   ]
  },
  {
   "cell_type": "code",
   "execution_count": 177,
   "id": "26212442-3a29-46f5-a82c-f9f2aeefdfd9",
   "metadata": {},
   "outputs": [
    {
     "data": {
      "text/plain": [
       "[0, 0, 2, 2, 4, 4, 6, 8, 12, 1, 1, 1, 3, 3, 5, 7, 7, 11, 13]"
      ]
     },
     "execution_count": 177,
     "metadata": {},
     "output_type": "execute_result"
    }
   ],
   "source": [
    "sorted(L, key=geradeungerade2)"
   ]
  },
  {
   "cell_type": "code",
   "execution_count": 178,
   "id": "a4bc8593-7da1-4ec2-94b2-5326b5b6f553",
   "metadata": {},
   "outputs": [
    {
     "data": {
      "text/plain": [
       "(1, 1)"
      ]
     },
     "execution_count": 178,
     "metadata": {},
     "output_type": "execute_result"
    }
   ],
   "source": [
    "geradeungerade2(1)"
   ]
  },
  {
   "cell_type": "code",
   "execution_count": 179,
   "id": "d79f2ff8-ae15-4c91-b82d-601f837bc96b",
   "metadata": {},
   "outputs": [
    {
     "data": {
      "text/plain": [
       "(0, 2)"
      ]
     },
     "execution_count": 179,
     "metadata": {},
     "output_type": "execute_result"
    }
   ],
   "source": [
    "geradeungerade2(2)"
   ]
  },
  {
   "cell_type": "code",
   "execution_count": 181,
   "id": "a231457e-e1fd-483b-9919-bc36bef344af",
   "metadata": {},
   "outputs": [
    {
     "data": {
      "text/plain": [
       "[0, 0, 2, 2, 4, 4, 6, 8, 12, 1, 1, 1, 3, 3, 5, 7, 7, 11, 13]"
      ]
     },
     "execution_count": 181,
     "metadata": {},
     "output_type": "execute_result"
    }
   ],
   "source": [
    "sorted(L, key=lambda x: (x % 2, x))"
   ]
  },
  {
   "cell_type": "code",
   "execution_count": null,
   "id": "83185695-c8d3-43a8-a262-830dd9d15ec6",
   "metadata": {},
   "outputs": [],
   "source": []
  }
 ],
 "metadata": {
  "kernelspec": {
   "display_name": "Python 3.10",
   "language": "python",
   "name": "python310"
  },
  "language_info": {
   "codemirror_mode": {
    "name": "ipython",
    "version": 3
   },
   "file_extension": ".py",
   "mimetype": "text/x-python",
   "name": "python",
   "nbconvert_exporter": "python",
   "pygments_lexer": "ipython3",
   "version": "3.10.4"
  }
 },
 "nbformat": 4,
 "nbformat_minor": 5
}
