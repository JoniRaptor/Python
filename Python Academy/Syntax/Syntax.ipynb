{
 "cells": [
  {
   "cell_type": "markdown",
   "id": "a9b41c32-3694-41d4-9863-558d8db760aa",
   "metadata": {},
   "source": [
    "# Kommentare"
   ]
  },
  {
   "cell_type": "code",
   "execution_count": 1,
   "id": "186ebe7f-5096-42a1-a65f-4779616a3889",
   "metadata": {},
   "outputs": [],
   "source": [
    "# Kommentar"
   ]
  },
  {
   "cell_type": "code",
   "execution_count": 2,
   "id": "c08c6f54-a06a-432c-a913-6ea0c73a31a8",
   "metadata": {},
   "outputs": [
    {
     "data": {
      "text/plain": [
       "2"
      ]
     },
     "execution_count": 2,
     "metadata": {},
     "output_type": "execute_result"
    }
   ],
   "source": [
    "1 + 1  # Kommentar"
   ]
  },
  {
   "cell_type": "code",
   "execution_count": 4,
   "id": "b728ee3d-80d4-462b-b386-7ff77703cba5",
   "metadata": {},
   "outputs": [],
   "source": [
    "1+1;"
   ]
  },
  {
   "cell_type": "code",
   "execution_count": 5,
   "id": "337212e8-fdf8-4b26-b1b4-8020c988c418",
   "metadata": {},
   "outputs": [],
   "source": [
    "res = 1+1"
   ]
  },
  {
   "cell_type": "code",
   "execution_count": 6,
   "id": "4cd4696e-df43-48e6-9bb4-7d4c5e34c1f5",
   "metadata": {},
   "outputs": [
    {
     "data": {
      "text/plain": [
       "2"
      ]
     },
     "execution_count": 6,
     "metadata": {},
     "output_type": "execute_result"
    }
   ],
   "source": [
    "res"
   ]
  },
  {
   "cell_type": "markdown",
   "id": "8a489e9f-4d4c-4325-a4c3-93ddc62af33c",
   "metadata": {},
   "source": [
    "# Einrückungen"
   ]
  },
  {
   "cell_type": "code",
   "execution_count": 11,
   "id": "209e57d5-7886-4b2d-9b36-afe9758109b4",
   "metadata": {},
   "outputs": [
    {
     "name": "stdout",
     "output_type": "stream",
     "text": [
      "1\n",
      "2\n",
      "3\n"
     ]
    }
   ],
   "source": [
    "for x in [1, 2, 3]:  # nach : Einrückung (4 Leerzeichen)\n",
    "    print(x)"
   ]
  },
  {
   "cell_type": "code",
   "execution_count": 14,
   "id": "1c6923cc-58a5-42c2-a0e7-35fa4a751e49",
   "metadata": {},
   "outputs": [
    {
     "name": "stdout",
     "output_type": "stream",
     "text": [
      "1\n",
      "2\n",
      "3\n",
      "Ende\n"
     ]
    }
   ],
   "source": [
    "for x in [1, 2, 3]:\n",
    "    print(x)\n",
    "print('Ende')"
   ]
  },
  {
   "cell_type": "code",
   "execution_count": 15,
   "id": "cd03e988-b973-47a7-b446-03f4a0a6b4a8",
   "metadata": {},
   "outputs": [
    {
     "name": "stdout",
     "output_type": "stream",
     "text": [
      "1\n",
      "Ende\n",
      "2\n",
      "Ende\n",
      "3\n",
      "Ende\n"
     ]
    }
   ],
   "source": [
    "for x in [1, 2, 3]:\n",
    "    print(x)\n",
    "    print('Ende')"
   ]
  },
  {
   "cell_type": "markdown",
   "id": "4f8c3381-84b9-4370-a587-623bff31ad8f",
   "metadata": {},
   "source": [
    "# Zeilenumbrüche"
   ]
  },
  {
   "cell_type": "code",
   "execution_count": 16,
   "id": "ab1cd315-f579-4ade-8fe2-48436eadd755",
   "metadata": {},
   "outputs": [
    {
     "data": {
      "text/plain": [
       "'t1t2t3'"
      ]
     },
     "execution_count": 16,
     "metadata": {},
     "output_type": "execute_result"
    }
   ],
   "source": [
    "'t1' 't2' 't3'"
   ]
  },
  {
   "cell_type": "code",
   "execution_count": 18,
   "id": "52cf02e9-327f-44b8-9773-1e83f5ffa01b",
   "metadata": {},
   "outputs": [
    {
     "data": {
      "text/plain": [
       "'t1t2t3'"
      ]
     },
     "execution_count": 18,
     "metadata": {},
     "output_type": "execute_result"
    }
   ],
   "source": [
    "'t1' \\\n",
    "'t2' \\\n",
    "'t3'"
   ]
  },
  {
   "cell_type": "code",
   "execution_count": 19,
   "id": "dac4aae9-26a7-4568-b08b-b005260845ec",
   "metadata": {},
   "outputs": [
    {
     "ename": "SyntaxError",
     "evalue": "unexpected character after line continuation character (118588515.py, line 2)",
     "output_type": "error",
     "traceback": [
      "\u001b[0;36m  Input \u001b[0;32mIn [19]\u001b[0;36m\u001b[0m\n\u001b[0;31m    't2' \\\u001b[0m\n\u001b[0m           \n^\u001b[0m\n\u001b[0;31mSyntaxError\u001b[0m\u001b[0;31m:\u001b[0m unexpected character after line continuation character\n"
     ]
    }
   ],
   "source": [
    "'t1' \\\n",
    "'t2' \\ \n",
    "'t3'"
   ]
  },
  {
   "cell_type": "code",
   "execution_count": 20,
   "id": "2f8be6a7-dae4-4dbc-a04a-ead7c2c57bae",
   "metadata": {},
   "outputs": [
    {
     "data": {
      "text/plain": [
       "'t1t2t3'"
      ]
     },
     "execution_count": 20,
     "metadata": {},
     "output_type": "execute_result"
    }
   ],
   "source": [
    "('t1'\n",
    "'t2'\n",
    "'t3')"
   ]
  },
  {
   "cell_type": "code",
   "execution_count": 21,
   "id": "63cf5ce8-b9fb-4bdc-ba5a-762c9afde8c9",
   "metadata": {},
   "outputs": [
    {
     "data": {
      "text/plain": [
       "[1, 2, 3]"
      ]
     },
     "execution_count": 21,
     "metadata": {},
     "output_type": "execute_result"
    }
   ],
   "source": [
    "[1, 2, 3]"
   ]
  },
  {
   "cell_type": "code",
   "execution_count": 22,
   "id": "0b89f938-412e-451f-ac9b-49a12483156f",
   "metadata": {},
   "outputs": [
    {
     "data": {
      "text/plain": [
       "[1, 2, 3]"
      ]
     },
     "execution_count": 22,
     "metadata": {},
     "output_type": "execute_result"
    }
   ],
   "source": [
    "[1,\n",
    " 2,\n",
    " 3]"
   ]
  },
  {
   "cell_type": "code",
   "execution_count": 23,
   "id": "80106363-5a20-41eb-8364-b846f99aa0c6",
   "metadata": {},
   "outputs": [
    {
     "data": {
      "text/plain": [
       "[1, 3]"
      ]
     },
     "execution_count": 23,
     "metadata": {},
     "output_type": "execute_result"
    }
   ],
   "source": [
    "[1,\n",
    " # 2,\n",
    " 3]"
   ]
  },
  {
   "cell_type": "code",
   "execution_count": 24,
   "id": "c2c94229-8f81-4d19-80ec-0b52a92af7b9",
   "metadata": {},
   "outputs": [
    {
     "data": {
      "text/plain": [
       "9"
      ]
     },
     "execution_count": 24,
     "metadata": {},
     "output_type": "execute_result"
    }
   ],
   "source": [
    "(1+2)*3"
   ]
  },
  {
   "cell_type": "code",
   "execution_count": 25,
   "id": "10fa3f1d-b5c5-4e3a-abb2-a97e74d01875",
   "metadata": {},
   "outputs": [
    {
     "data": {
      "text/plain": [
       "7"
      ]
     },
     "execution_count": 25,
     "metadata": {},
     "output_type": "execute_result"
    }
   ],
   "source": [
    "1+2*3"
   ]
  },
  {
   "cell_type": "markdown",
   "id": "f8c17beb-06d9-4a9b-9860-dc8a01cf20ae",
   "metadata": {},
   "source": [
    "# Groß- und Kleinschreibung"
   ]
  },
  {
   "cell_type": "code",
   "execution_count": 26,
   "id": "117a58e4-391d-40b2-9ab7-281191601ba8",
   "metadata": {},
   "outputs": [],
   "source": [
    "a = 10\n",
    "A =100"
   ]
  },
  {
   "cell_type": "code",
   "execution_count": 27,
   "id": "0d1256c8-075f-45bb-abb0-28988c5479d3",
   "metadata": {},
   "outputs": [
    {
     "data": {
      "text/plain": [
       "10"
      ]
     },
     "execution_count": 27,
     "metadata": {},
     "output_type": "execute_result"
    }
   ],
   "source": [
    "a"
   ]
  },
  {
   "cell_type": "code",
   "execution_count": 28,
   "id": "c4b1cd38-23fd-4745-9501-5008efbdaf52",
   "metadata": {},
   "outputs": [
    {
     "data": {
      "text/plain": [
       "100"
      ]
     },
     "execution_count": 28,
     "metadata": {},
     "output_type": "execute_result"
    }
   ],
   "source": [
    "A"
   ]
  },
  {
   "cell_type": "markdown",
   "id": "799c2765-2682-4603-8a9c-fc27b6f201c2",
   "metadata": {},
   "source": [
    "# Strings"
   ]
  },
  {
   "cell_type": "code",
   "execution_count": 29,
   "id": "c2af62f1-23e8-424a-9287-0e74b4c419d9",
   "metadata": {},
   "outputs": [
    {
     "data": {
      "text/plain": [
       "'abc'"
      ]
     },
     "execution_count": 29,
     "metadata": {},
     "output_type": "execute_result"
    }
   ],
   "source": [
    "'abc'"
   ]
  },
  {
   "cell_type": "code",
   "execution_count": 30,
   "id": "e138b099-022c-4146-9039-9e3451b130e3",
   "metadata": {},
   "outputs": [
    {
     "data": {
      "text/plain": [
       "'abc'"
      ]
     },
     "execution_count": 30,
     "metadata": {},
     "output_type": "execute_result"
    }
   ],
   "source": [
    "\"abc\""
   ]
  },
  {
   "cell_type": "code",
   "execution_count": 31,
   "id": "4e2a1243-adcb-4e03-9d3c-f14d2ec5303c",
   "metadata": {},
   "outputs": [
    {
     "data": {
      "text/plain": [
       "'Er sagte: \"Hallo!\".'"
      ]
     },
     "execution_count": 31,
     "metadata": {},
     "output_type": "execute_result"
    }
   ],
   "source": [
    "'Er sagte: \"Hallo!\".'"
   ]
  },
  {
   "cell_type": "code",
   "execution_count": 32,
   "id": "ae8bbc3c-efd0-4011-939f-7ae1899f8056",
   "metadata": {},
   "outputs": [
    {
     "ename": "SyntaxError",
     "evalue": "invalid syntax (3134793220.py, line 1)",
     "output_type": "error",
     "traceback": [
      "\u001b[0;36m  Input \u001b[0;32mIn [32]\u001b[0;36m\u001b[0m\n\u001b[0;31m    'Er sagte: 'Hallo!'.'\u001b[0m\n\u001b[0m                ^\u001b[0m\n\u001b[0;31mSyntaxError\u001b[0m\u001b[0;31m:\u001b[0m invalid syntax\n"
     ]
    }
   ],
   "source": [
    "'Er sagte: 'Hallo!'.'"
   ]
  },
  {
   "cell_type": "code",
   "execution_count": 33,
   "id": "b09ca0a8-8579-4f96-8632-1e2c43ed5887",
   "metadata": {},
   "outputs": [
    {
     "data": {
      "text/plain": [
       "'Er sagte:\"Hallo!\".'"
      ]
     },
     "execution_count": 33,
     "metadata": {},
     "output_type": "execute_result"
    }
   ],
   "source": [
    "\"Er sagte:\\\"Hallo!\\\".\""
   ]
  },
  {
   "cell_type": "code",
   "execution_count": 34,
   "id": "001c1c1d-b58d-4e5c-90a6-c5bf44c7f545",
   "metadata": {},
   "outputs": [],
   "source": [
    "s = \"\"\"Zeile 1\n",
    "Zeile 2\n",
    "\n",
    "Zeile 4\n",
    "\"\"\""
   ]
  },
  {
   "cell_type": "code",
   "execution_count": 35,
   "id": "3d5ddbca-88c2-41f1-b7de-54cbb6d0d969",
   "metadata": {},
   "outputs": [
    {
     "data": {
      "text/plain": [
       "'Zeile 1\\nZeile 2\\n\\nZeile 4\\n'"
      ]
     },
     "execution_count": 35,
     "metadata": {},
     "output_type": "execute_result"
    }
   ],
   "source": [
    "s"
   ]
  },
  {
   "cell_type": "code",
   "execution_count": 36,
   "id": "7012872a-abc6-48d3-9543-eb75f7868dce",
   "metadata": {},
   "outputs": [
    {
     "name": "stdout",
     "output_type": "stream",
     "text": [
      "Zeile 1\n",
      "Zeile 2\n",
      "\n",
      "Zeile 4\n",
      "\n"
     ]
    }
   ],
   "source": [
    "print(s)"
   ]
  },
  {
   "cell_type": "code",
   "execution_count": null,
   "id": "6a93b06f-b051-4d64-b825-c0a78389ac06",
   "metadata": {},
   "outputs": [],
   "source": []
  }
 ],
 "metadata": {
  "kernelspec": {
   "display_name": "Python 3.10",
   "language": "python",
   "name": "python310"
  },
  "language_info": {
   "codemirror_mode": {
    "name": "ipython",
    "version": 3
   },
   "file_extension": ".py",
   "mimetype": "text/x-python",
   "name": "python",
   "nbconvert_exporter": "python",
   "pygments_lexer": "ipython3",
   "version": "3.10.4"
  }
 },
 "nbformat": 4,
 "nbformat_minor": 5
}
