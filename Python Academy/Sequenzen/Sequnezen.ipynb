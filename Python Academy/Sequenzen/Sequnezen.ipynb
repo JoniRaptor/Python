{
 "cells": [
  {
   "cell_type": "code",
   "execution_count": 1,
   "id": "21700929-c215-4e39-8fc9-1dfeb61c147b",
   "metadata": {},
   "outputs": [],
   "source": [
    "s = 'hdgfihsbgjhsdbgfhjueqbg'"
   ]
  },
  {
   "cell_type": "code",
   "execution_count": 2,
   "id": "c6bcfade-2527-4126-96a0-ccf611fc97a7",
   "metadata": {},
   "outputs": [
    {
     "data": {
      "text/plain": [
       "'hdgfihsbgjhsdbgfhjueqbg'"
      ]
     },
     "execution_count": 2,
     "metadata": {},
     "output_type": "execute_result"
    }
   ],
   "source": [
    "s"
   ]
  },
  {
   "cell_type": "code",
   "execution_count": 7,
   "id": "7700e0c8-d5af-45b6-87cb-e3ff3d81a235",
   "metadata": {},
   "outputs": [
    {
     "data": {
      "text/plain": [
       "True"
      ]
     },
     "execution_count": 7,
     "metadata": {},
     "output_type": "execute_result"
    }
   ],
   "source": [
    "'h' in s  # in geht überall, wo mehrere Elemente"
   ]
  },
  {
   "cell_type": "code",
   "execution_count": 4,
   "id": "74e4c0f2-a6eb-47e9-b46f-dd9b83006266",
   "metadata": {},
   "outputs": [
    {
     "data": {
      "text/plain": [
       "False"
      ]
     },
     "execution_count": 4,
     "metadata": {},
     "output_type": "execute_result"
    }
   ],
   "source": [
    "'abc' in s"
   ]
  },
  {
   "cell_type": "code",
   "execution_count": 5,
   "id": "b3445ea5-ee10-468b-9e9b-5a7d6eb2f220",
   "metadata": {},
   "outputs": [],
   "source": [
    "t = (1, 2, 3)"
   ]
  },
  {
   "cell_type": "code",
   "execution_count": 6,
   "id": "192175b3-30b8-42d3-83d4-1c8a81f530f2",
   "metadata": {},
   "outputs": [
    {
     "data": {
      "text/plain": [
       "True"
      ]
     },
     "execution_count": 6,
     "metadata": {},
     "output_type": "execute_result"
    }
   ],
   "source": [
    "1 in t"
   ]
  },
  {
   "cell_type": "code",
   "execution_count": 8,
   "id": "7cfeec51-2162-475b-bc34-c6be99a8ee10",
   "metadata": {},
   "outputs": [
    {
     "data": {
      "text/plain": [
       "False"
      ]
     },
     "execution_count": 8,
     "metadata": {},
     "output_type": "execute_result"
    }
   ],
   "source": [
    "(1, 2) in t"
   ]
  },
  {
   "cell_type": "code",
   "execution_count": 10,
   "id": "dc0d17e2-1fc2-4f11-bb55-4c2bc35239f7",
   "metadata": {},
   "outputs": [
    {
     "data": {
      "text/plain": [
       "False"
      ]
     },
     "execution_count": 10,
     "metadata": {},
     "output_type": "execute_result"
    }
   ],
   "source": [
    "'ac' in s"
   ]
  },
  {
   "cell_type": "code",
   "execution_count": 11,
   "id": "6f958223-baf0-4023-9983-8fdc5564b535",
   "metadata": {},
   "outputs": [
    {
     "data": {
      "text/plain": [
       "True"
      ]
     },
     "execution_count": 11,
     "metadata": {},
     "output_type": "execute_result"
    }
   ],
   "source": [
    "'ac' not in s"
   ]
  },
  {
   "cell_type": "code",
   "execution_count": 12,
   "id": "1a5f6434-c17c-4fca-b8d8-6346fe592ef7",
   "metadata": {},
   "outputs": [
    {
     "data": {
      "text/plain": [
       "True"
      ]
     },
     "execution_count": 12,
     "metadata": {},
     "output_type": "execute_result"
    }
   ],
   "source": [
    "s in s"
   ]
  },
  {
   "cell_type": "code",
   "execution_count": 13,
   "id": "3f1ffe57-5959-4ddd-95be-9c5eebdd9748",
   "metadata": {},
   "outputs": [
    {
     "data": {
      "text/plain": [
       "'hdgfihsbgjhsdbgfhjueqbghdgfihsbgjhsdbgfhjueqbg'"
      ]
     },
     "execution_count": 13,
     "metadata": {},
     "output_type": "execute_result"
    }
   ],
   "source": [
    "s + s"
   ]
  },
  {
   "cell_type": "code",
   "execution_count": 14,
   "id": "f8a8b738-738b-4852-9ba4-7e118bb7cd3d",
   "metadata": {},
   "outputs": [
    {
     "data": {
      "text/plain": [
       "(1, 2, 3, 1, 2, 3)"
      ]
     },
     "execution_count": 14,
     "metadata": {},
     "output_type": "execute_result"
    }
   ],
   "source": [
    "t + t"
   ]
  },
  {
   "cell_type": "code",
   "execution_count": 15,
   "id": "f20b9fef-471e-487f-b60b-3c38106b7e47",
   "metadata": {},
   "outputs": [
    {
     "data": {
      "text/plain": [
       "'hdgfihsbgjhsdbgfhjueqbghdgfihsbgjhsdbgfhjueqbghdgfihsbgjhsdbgfhjueqbg'"
      ]
     },
     "execution_count": 15,
     "metadata": {},
     "output_type": "execute_result"
    }
   ],
   "source": [
    "s * 3"
   ]
  },
  {
   "cell_type": "code",
   "execution_count": 18,
   "id": "d7eefdca-43d3-44b1-b2c1-c045fd8195bf",
   "metadata": {},
   "outputs": [
    {
     "data": {
      "text/plain": [
       "'################################################################################'"
      ]
     },
     "execution_count": 18,
     "metadata": {},
     "output_type": "execute_result"
    }
   ],
   "source": [
    "'#' * 80"
   ]
  },
  {
   "cell_type": "code",
   "execution_count": 19,
   "id": "ced14985-d64a-4fc8-b435-8a4a60f8bc8f",
   "metadata": {},
   "outputs": [
    {
     "data": {
      "text/plain": [
       "'h'"
      ]
     },
     "execution_count": 19,
     "metadata": {},
     "output_type": "execute_result"
    }
   ],
   "source": [
    "s[0]"
   ]
  },
  {
   "cell_type": "code",
   "execution_count": 20,
   "id": "3aba74d8-8086-4261-bb2b-683ade466e4f",
   "metadata": {},
   "outputs": [
    {
     "data": {
      "text/plain": [
       "'d'"
      ]
     },
     "execution_count": 20,
     "metadata": {},
     "output_type": "execute_result"
    }
   ],
   "source": [
    "s[1]"
   ]
  },
  {
   "cell_type": "code",
   "execution_count": 22,
   "id": "02337268-8898-4173-9677-5cedf8bea468",
   "metadata": {},
   "outputs": [
    {
     "data": {
      "text/plain": [
       "'g'"
      ]
     },
     "execution_count": 22,
     "metadata": {},
     "output_type": "execute_result"
    }
   ],
   "source": [
    "s[-1]  # letztes Element"
   ]
  },
  {
   "cell_type": "code",
   "execution_count": 26,
   "id": "5f0c2b62-d478-480e-979f-a2e552ebd9e6",
   "metadata": {},
   "outputs": [
    {
     "data": {
      "text/plain": [
       "'g'"
      ]
     },
     "execution_count": 26,
     "metadata": {},
     "output_type": "execute_result"
    }
   ],
   "source": [
    "s[len(s) - 1]"
   ]
  },
  {
   "cell_type": "code",
   "execution_count": 25,
   "id": "fc14f1fd-2736-40b4-906b-b6786c744149",
   "metadata": {},
   "outputs": [
    {
     "ename": "IndexError",
     "evalue": "string index out of range",
     "output_type": "error",
     "traceback": [
      "\u001b[0;31m---------------------------------------------------------------------------\u001b[0m",
      "\u001b[0;31mIndexError\u001b[0m                                Traceback (most recent call last)",
      "Input \u001b[0;32mIn [25]\u001b[0m, in \u001b[0;36m<cell line: 1>\u001b[0;34m()\u001b[0m\n\u001b[0;32m----> 1\u001b[0m \u001b[43ms\u001b[49m\u001b[43m[\u001b[49m\u001b[38;5;28;43mlen\u001b[39;49m\u001b[43m(\u001b[49m\u001b[43ms\u001b[49m\u001b[43m)\u001b[49m\u001b[43m]\u001b[49m\n",
      "\u001b[0;31mIndexError\u001b[0m: string index out of range"
     ]
    }
   ],
   "source": [
    "s[len(s)]"
   ]
  },
  {
   "cell_type": "code",
   "execution_count": 27,
   "id": "6d0944fa-68b2-485d-bc60-9c510730b557",
   "metadata": {},
   "outputs": [
    {
     "data": {
      "text/plain": [
       "'b'"
      ]
     },
     "execution_count": 27,
     "metadata": {},
     "output_type": "execute_result"
    }
   ],
   "source": [
    "s[-2]"
   ]
  },
  {
   "cell_type": "code",
   "execution_count": 29,
   "id": "2c24bf0f-74a0-44e1-8a1b-7cd876165d68",
   "metadata": {},
   "outputs": [
    {
     "data": {
      "text/plain": [
       "'gf'"
      ]
     },
     "execution_count": 29,
     "metadata": {},
     "output_type": "execute_result"
    }
   ],
   "source": [
    "s[2:4]  # slicing (bereich rausgenommen)"
   ]
  },
  {
   "cell_type": "code",
   "execution_count": 30,
   "id": "ed77d7ce-6e2d-4303-9924-180a151e3696",
   "metadata": {},
   "outputs": [
    {
     "data": {
      "text/plain": [
       "'hdgfihsbgjhsdbgfhjueqbg'"
      ]
     },
     "execution_count": 30,
     "metadata": {},
     "output_type": "execute_result"
    }
   ],
   "source": [
    "s"
   ]
  },
  {
   "cell_type": "code",
   "execution_count": 32,
   "id": "5cd333c3-ae81-46f6-8ff1-25974bccc573",
   "metadata": {},
   "outputs": [
    {
     "data": {
      "text/plain": [
       "'gfih'"
      ]
     },
     "execution_count": 32,
     "metadata": {},
     "output_type": "execute_result"
    }
   ],
   "source": [
    "s[2:6]  # Bereich 3-6"
   ]
  },
  {
   "cell_type": "code",
   "execution_count": 34,
   "id": "f3c16464-9a66-42ec-883d-165fff8a6560",
   "metadata": {},
   "outputs": [
    {
     "data": {
      "text/plain": [
       "'hdgf'"
      ]
     },
     "execution_count": 34,
     "metadata": {},
     "output_type": "execute_result"
    }
   ],
   "source": [
    "s[:4]  # alles bis 4"
   ]
  },
  {
   "cell_type": "code",
   "execution_count": 37,
   "id": "1bba0c7d-f8f4-4e33-bf84-1badbdab3b3e",
   "metadata": {},
   "outputs": [
    {
     "data": {
      "text/plain": [
       "'ihsbgjhsdbgfhjueqbg'"
      ]
     },
     "execution_count": 37,
     "metadata": {},
     "output_type": "execute_result"
    }
   ],
   "source": [
    "s[4:]  # alles ab 5"
   ]
  },
  {
   "cell_type": "code",
   "execution_count": 38,
   "id": "3ffdf2c8-d1dd-4984-8c35-beb305c140d4",
   "metadata": {},
   "outputs": [
    {
     "data": {
      "text/plain": [
       "True"
      ]
     },
     "execution_count": 38,
     "metadata": {},
     "output_type": "execute_result"
    }
   ],
   "source": [
    "s[:4] + s[4:] == s"
   ]
  },
  {
   "cell_type": "code",
   "execution_count": 39,
   "id": "6bd0fd51-599a-414f-b99e-1b37a9d71ccd",
   "metadata": {},
   "outputs": [],
   "source": [
    "assert 1 == 1"
   ]
  },
  {
   "cell_type": "code",
   "execution_count": 40,
   "id": "79f3aaee-24fd-4977-aba9-c22bc07f2be5",
   "metadata": {},
   "outputs": [
    {
     "ename": "AssertionError",
     "evalue": "",
     "output_type": "error",
     "traceback": [
      "\u001b[0;31m---------------------------------------------------------------------------\u001b[0m",
      "\u001b[0;31mAssertionError\u001b[0m                            Traceback (most recent call last)",
      "Input \u001b[0;32mIn [40]\u001b[0m, in \u001b[0;36m<cell line: 1>\u001b[0;34m()\u001b[0m\n\u001b[0;32m----> 1\u001b[0m \u001b[38;5;28;01massert\u001b[39;00m \u001b[38;5;241m2\u001b[39m \u001b[38;5;241m==\u001b[39m \u001b[38;5;241m1\u001b[39m\n",
      "\u001b[0;31mAssertionError\u001b[0m: "
     ]
    }
   ],
   "source": [
    "assert 2 == 1"
   ]
  },
  {
   "cell_type": "code",
   "execution_count": 42,
   "id": "8141bc8f-dfa4-4512-8e1d-f6984204bc74",
   "metadata": {},
   "outputs": [
    {
     "ename": "AssertionError",
     "evalue": "",
     "output_type": "error",
     "traceback": [
      "\u001b[0;31m---------------------------------------------------------------------------\u001b[0m",
      "\u001b[0;31mAssertionError\u001b[0m                            Traceback (most recent call last)",
      "Input \u001b[0;32mIn [42]\u001b[0m, in \u001b[0;36m<cell line: 1>\u001b[0;34m()\u001b[0m\n\u001b[0;32m----> 1\u001b[0m \u001b[38;5;28;01massert\u001b[39;00m s[:\u001b[38;5;241m5\u001b[39m] \u001b[38;5;241m+\u001b[39m s[\u001b[38;5;241m4\u001b[39m:] \u001b[38;5;241m==\u001b[39m s\n",
      "\u001b[0;31mAssertionError\u001b[0m: "
     ]
    }
   ],
   "source": [
    "assert s[:5] + s[4:] == s"
   ]
  },
  {
   "cell_type": "code",
   "execution_count": 50,
   "id": "f1ad595b-033a-43bd-be19-19177faf9e04",
   "metadata": {},
   "outputs": [
    {
     "name": "stdout",
     "output_type": "stream",
     "text": [
      "0  hdgfihsbgjhsdbgfhjueqbg\n",
      "1 h dgfihsbgjhsdbgfhjueqbg\n",
      "2 hd gfihsbgjhsdbgfhjueqbg\n",
      "3 hdg fihsbgjhsdbgfhjueqbg\n",
      "4 hdgf ihsbgjhsdbgfhjueqbg\n",
      "5 hdgfi hsbgjhsdbgfhjueqbg\n",
      "6 hdgfih sbgjhsdbgfhjueqbg\n",
      "7 hdgfihs bgjhsdbgfhjueqbg\n",
      "8 hdgfihsb gjhsdbgfhjueqbg\n",
      "9 hdgfihsbg jhsdbgfhjueqbg\n",
      "10 hdgfihsbgj hsdbgfhjueqbg\n",
      "11 hdgfihsbgjh sdbgfhjueqbg\n",
      "12 hdgfihsbgjhs dbgfhjueqbg\n",
      "13 hdgfihsbgjhsd bgfhjueqbg\n",
      "14 hdgfihsbgjhsdb gfhjueqbg\n",
      "15 hdgfihsbgjhsdbg fhjueqbg\n",
      "16 hdgfihsbgjhsdbgf hjueqbg\n",
      "17 hdgfihsbgjhsdbgfh jueqbg\n",
      "18 hdgfihsbgjhsdbgfhj ueqbg\n",
      "19 hdgfihsbgjhsdbgfhju eqbg\n",
      "20 hdgfihsbgjhsdbgfhjue qbg\n",
      "21 hdgfihsbgjhsdbgfhjueq bg\n",
      "22 hdgfihsbgjhsdbgfhjueqb g\n",
      "23 hdgfihsbgjhsdbgfhjueqbg \n",
      "24 hdgfihsbgjhsdbgfhjueqbg \n",
      "25 hdgfihsbgjhsdbgfhjueqbg \n",
      "26 hdgfihsbgjhsdbgfhjueqbg \n",
      "27 hdgfihsbgjhsdbgfhjueqbg \n",
      "28 hdgfihsbgjhsdbgfhjueqbg \n",
      "29 hdgfihsbgjhsdbgfhjueqbg \n",
      "30 hdgfihsbgjhsdbgfhjueqbg \n",
      "31 hdgfihsbgjhsdbgfhjueqbg \n",
      "32 hdgfihsbgjhsdbgfhjueqbg \n",
      "33 hdgfihsbgjhsdbgfhjueqbg \n",
      "34 hdgfihsbgjhsdbgfhjueqbg \n",
      "35 hdgfihsbgjhsdbgfhjueqbg \n",
      "36 hdgfihsbgjhsdbgfhjueqbg \n",
      "37 hdgfihsbgjhsdbgfhjueqbg \n",
      "38 hdgfihsbgjhsdbgfhjueqbg \n",
      "39 hdgfihsbgjhsdbgfhjueqbg \n",
      "40 hdgfihsbgjhsdbgfhjueqbg \n",
      "41 hdgfihsbgjhsdbgfhjueqbg \n",
      "42 hdgfihsbgjhsdbgfhjueqbg \n",
      "43 hdgfihsbgjhsdbgfhjueqbg \n",
      "44 hdgfihsbgjhsdbgfhjueqbg \n",
      "45 hdgfihsbgjhsdbgfhjueqbg \n",
      "46 hdgfihsbgjhsdbgfhjueqbg \n",
      "47 hdgfihsbgjhsdbgfhjueqbg \n",
      "48 hdgfihsbgjhsdbgfhjueqbg \n",
      "49 hdgfihsbgjhsdbgfhjueqbg \n"
     ]
    }
   ],
   "source": [
    "for n in range(50):\n",
    "    assert s[:n] + s[n:] == s  # assert: wenn Bedingung nicht stimmt, wird über Exception abgefangen\n",
    "    print(f'{n} {s[:n]} {s[n:]}')"
   ]
  },
  {
   "cell_type": "code",
   "execution_count": 60,
   "id": "30cbc8c6-d60d-4d2c-9571-1271fe07bfe7",
   "metadata": {},
   "outputs": [
    {
     "name": "stdout",
     "output_type": "stream",
     "text": [
      "  0                           hdgfihsbgjhsdbgfhjueqbg\n",
      "  1 h                         dgfihsbgjhsdbgfhjueqbg\n",
      "  2 hd                        gfihsbgjhsdbgfhjueqbg\n",
      "  3 hdg                       fihsbgjhsdbgfhjueqbg\n",
      "  4 hdgf                      ihsbgjhsdbgfhjueqbg\n",
      "  5 hdgfi                     hsbgjhsdbgfhjueqbg\n",
      "  6 hdgfih                    sbgjhsdbgfhjueqbg\n",
      "  7 hdgfihs                   bgjhsdbgfhjueqbg\n",
      "  8 hdgfihsb                  gjhsdbgfhjueqbg\n",
      "  9 hdgfihsbg                 jhsdbgfhjueqbg\n",
      " 10 hdgfihsbgj                hsdbgfhjueqbg\n",
      " 11 hdgfihsbgjh               sdbgfhjueqbg\n",
      " 12 hdgfihsbgjhs              dbgfhjueqbg\n",
      " 13 hdgfihsbgjhsd             bgfhjueqbg\n",
      " 14 hdgfihsbgjhsdb            gfhjueqbg\n",
      " 15 hdgfihsbgjhsdbg           fhjueqbg\n",
      " 16 hdgfihsbgjhsdbgf          hjueqbg\n",
      " 17 hdgfihsbgjhsdbgfh         jueqbg\n",
      " 18 hdgfihsbgjhsdbgfhj        ueqbg\n",
      " 19 hdgfihsbgjhsdbgfhju       eqbg\n",
      " 20 hdgfihsbgjhsdbgfhjue      qbg\n",
      " 21 hdgfihsbgjhsdbgfhjueq     bg\n",
      " 22 hdgfihsbgjhsdbgfhjueqb    g\n",
      " 23 hdgfihsbgjhsdbgfhjueqbg   \n",
      " 24 hdgfihsbgjhsdbgfhjueqbg   \n",
      " 25 hdgfihsbgjhsdbgfhjueqbg   \n",
      " 26 hdgfihsbgjhsdbgfhjueqbg   \n",
      " 27 hdgfihsbgjhsdbgfhjueqbg   \n",
      " 28 hdgfihsbgjhsdbgfhjueqbg   \n",
      " 29 hdgfihsbgjhsdbgfhjueqbg   \n",
      " 30 hdgfihsbgjhsdbgfhjueqbg   \n",
      " 31 hdgfihsbgjhsdbgfhjueqbg   \n",
      " 32 hdgfihsbgjhsdbgfhjueqbg   \n",
      " 33 hdgfihsbgjhsdbgfhjueqbg   \n",
      " 34 hdgfihsbgjhsdbgfhjueqbg   \n",
      " 35 hdgfihsbgjhsdbgfhjueqbg   \n",
      " 36 hdgfihsbgjhsdbgfhjueqbg   \n",
      " 37 hdgfihsbgjhsdbgfhjueqbg   \n",
      " 38 hdgfihsbgjhsdbgfhjueqbg   \n",
      " 39 hdgfihsbgjhsdbgfhjueqbg   \n",
      " 40 hdgfihsbgjhsdbgfhjueqbg   \n",
      " 41 hdgfihsbgjhsdbgfhjueqbg   \n",
      " 42 hdgfihsbgjhsdbgfhjueqbg   \n",
      " 43 hdgfihsbgjhsdbgfhjueqbg   \n",
      " 44 hdgfihsbgjhsdbgfhjueqbg   \n",
      " 45 hdgfihsbgjhsdbgfhjueqbg   \n",
      " 46 hdgfihsbgjhsdbgfhjueqbg   \n",
      " 47 hdgfihsbgjhsdbgfhjueqbg   \n",
      " 48 hdgfihsbgjhsdbgfhjueqbg   \n",
      " 49 hdgfihsbgjhsdbgfhjueqbg   \n"
     ]
    }
   ],
   "source": [
    "for n in range(50):\n",
    "    assert s[:n] + s[n:] == s\n",
    "    print(f'{n: 3d} {s[:n]:25s} {s[n:]}')"
   ]
  },
  {
   "cell_type": "code",
   "execution_count": 62,
   "id": "ba9e7bff-4a5a-4493-a0a5-4d000598c3bd",
   "metadata": {},
   "outputs": [
    {
     "ename": "IndexError",
     "evalue": "string index out of range",
     "output_type": "error",
     "traceback": [
      "\u001b[0;31m---------------------------------------------------------------------------\u001b[0m",
      "\u001b[0;31mIndexError\u001b[0m                                Traceback (most recent call last)",
      "Input \u001b[0;32mIn [62]\u001b[0m, in \u001b[0;36m<cell line: 1>\u001b[0;34m()\u001b[0m\n\u001b[0;32m----> 1\u001b[0m \u001b[43ms\u001b[49m\u001b[43m[\u001b[49m\u001b[38;5;241;43m50\u001b[39;49m\u001b[43m]\u001b[49m\n",
      "\u001b[0;31mIndexError\u001b[0m: string index out of range"
     ]
    }
   ],
   "source": [
    "s[50]"
   ]
  },
  {
   "cell_type": "code",
   "execution_count": 64,
   "id": "7e73de8f-94f2-41c7-b916-d06fc762f13e",
   "metadata": {},
   "outputs": [
    {
     "data": {
      "text/plain": [
       "''"
      ]
     },
     "execution_count": 64,
     "metadata": {},
     "output_type": "execute_result"
    }
   ],
   "source": [
    "s[50:55]  # Beim slicing muss bereich nicht unbedingt existieren"
   ]
  },
  {
   "cell_type": "code",
   "execution_count": 65,
   "id": "2bbf4ca4-935f-49f3-8e4c-94f57fb7ff7e",
   "metadata": {},
   "outputs": [
    {
     "data": {
      "text/plain": [
       "'hdgfihsbgjhsdbgfhjueqbg'"
      ]
     },
     "execution_count": 65,
     "metadata": {},
     "output_type": "execute_result"
    }
   ],
   "source": [
    "s[:50]"
   ]
  },
  {
   "cell_type": "code",
   "execution_count": 68,
   "id": "35660174-844c-4c1c-afb6-f76fec39aacb",
   "metadata": {},
   "outputs": [
    {
     "data": {
      "text/plain": [
       "'gis'"
      ]
     },
     "execution_count": 68,
     "metadata": {},
     "output_type": "execute_result"
    }
   ],
   "source": [
    "s[2:8:2]  # [vorn:hinten:Abstand]"
   ]
  },
  {
   "cell_type": "code",
   "execution_count": 67,
   "id": "e343af82-2048-4528-8e46-d5d91123f0ba",
   "metadata": {},
   "outputs": [
    {
     "data": {
      "text/plain": [
       "'hdgfihsbgjhsdbgfhjueqbg'"
      ]
     },
     "execution_count": 67,
     "metadata": {},
     "output_type": "execute_result"
    }
   ],
   "source": [
    "s"
   ]
  },
  {
   "cell_type": "code",
   "execution_count": 70,
   "id": "2520d6bb-081f-40f7-9756-ce4e29bd7f25",
   "metadata": {},
   "outputs": [
    {
     "data": {
      "text/plain": [
       "'gbqeujhfgbdshjgbshifgdh'"
      ]
     },
     "execution_count": 70,
     "metadata": {},
     "output_type": "execute_result"
    }
   ],
   "source": [
    "s[::-1]  # geht in umgekehrter reihenfolge vor"
   ]
  },
  {
   "cell_type": "code",
   "execution_count": 72,
   "id": "84f01d79-d857-4cc7-a641-d905c8406657",
   "metadata": {},
   "outputs": [
    {
     "data": {
      "text/plain": [
       "''"
      ]
     },
     "execution_count": 72,
     "metadata": {},
     "output_type": "execute_result"
    }
   ],
   "source": [
    "s[2:8:-1]  # ist beim Ende (8) bevor er überhaupt angefangen hat"
   ]
  },
  {
   "cell_type": "code",
   "execution_count": 73,
   "id": "bbc6780f-ab04-41ad-9c57-9d5aa6b7f99c",
   "metadata": {},
   "outputs": [
    {
     "data": {
      "text/plain": [
       "'bshifg'"
      ]
     },
     "execution_count": 73,
     "metadata": {},
     "output_type": "execute_result"
    }
   ],
   "source": [
    "s[2:8][::-1]"
   ]
  },
  {
   "cell_type": "code",
   "execution_count": 74,
   "id": "7aa5603b-4a0d-4cb6-b209-f5972cbd9496",
   "metadata": {},
   "outputs": [
    {
     "data": {
      "text/plain": [
       "23"
      ]
     },
     "execution_count": 74,
     "metadata": {},
     "output_type": "execute_result"
    }
   ],
   "source": [
    "len(s)"
   ]
  },
  {
   "cell_type": "code",
   "execution_count": 75,
   "id": "51e5883d-87a8-4839-9925-499f11edb982",
   "metadata": {},
   "outputs": [
    {
     "data": {
      "text/plain": [
       "'b'"
      ]
     },
     "execution_count": 75,
     "metadata": {},
     "output_type": "execute_result"
    }
   ],
   "source": [
    "min(s)"
   ]
  },
  {
   "cell_type": "code",
   "execution_count": 76,
   "id": "49e758f3-fc7e-4993-9715-b0cc4c2bbcf0",
   "metadata": {},
   "outputs": [
    {
     "data": {
      "text/plain": [
       "'u'"
      ]
     },
     "execution_count": 76,
     "metadata": {},
     "output_type": "execute_result"
    }
   ],
   "source": [
    "max(s)"
   ]
  },
  {
   "cell_type": "code",
   "execution_count": 78,
   "id": "22768608-f005-4673-9583-4aa84feb79e1",
   "metadata": {},
   "outputs": [
    {
     "data": {
      "text/plain": [
       "4"
      ]
     },
     "execution_count": 78,
     "metadata": {},
     "output_type": "execute_result"
    }
   ],
   "source": [
    "s.count('g')"
   ]
  },
  {
   "cell_type": "code",
   "execution_count": 79,
   "id": "415e9f8e-ce68-4bcd-96ea-d2be981ef277",
   "metadata": {},
   "outputs": [],
   "source": [
    "s2 = 'dergaerdere'"
   ]
  },
  {
   "cell_type": "code",
   "execution_count": 86,
   "id": "566efb5f-1942-46ab-97f1-44701008fd66",
   "metadata": {},
   "outputs": [
    {
     "data": {
      "text/plain": [
       "3"
      ]
     },
     "execution_count": 86,
     "metadata": {},
     "output_type": "execute_result"
    }
   ],
   "source": [
    "s2.count('e', 3)"
   ]
  },
  {
   "cell_type": "code",
   "execution_count": 87,
   "id": "3bea1495-aa4b-41cb-b76a-d78884333c96",
   "metadata": {},
   "outputs": [
    {
     "data": {
      "text/plain": [
       "0"
      ]
     },
     "execution_count": 87,
     "metadata": {},
     "output_type": "execute_result"
    }
   ],
   "source": [
    "s2.count('e', 3, 5)  # zwischen 4-5"
   ]
  },
  {
   "cell_type": "code",
   "execution_count": 83,
   "id": "77d14630-deb0-48b1-83d9-896680dc7b05",
   "metadata": {},
   "outputs": [
    {
     "data": {
      "text/plain": [
       "\u001b[0;31mDocstring:\u001b[0m\n",
       "S.count(sub[, start[, end]]) -> int\n",
       "\n",
       "Return the number of non-overlapping occurrences of substring sub in\n",
       "string S[start:end].  Optional arguments start and end are\n",
       "interpreted as in slice notation.\n",
       "\u001b[0;31mType:\u001b[0m      builtin_function_or_method\n"
      ]
     },
     "metadata": {},
     "output_type": "display_data"
    }
   ],
   "source": [
    "s2.count?"
   ]
  },
  {
   "cell_type": "code",
   "execution_count": 88,
   "id": "3ec3a8cb-7ac8-4e38-b5a1-173d5fd72b5c",
   "metadata": {},
   "outputs": [
    {
     "data": {
      "text/plain": [
       "1"
      ]
     },
     "execution_count": 88,
     "metadata": {},
     "output_type": "execute_result"
    }
   ],
   "source": [
    "s2.index('e')"
   ]
  },
  {
   "cell_type": "code",
   "execution_count": 89,
   "id": "96d5da1a-126c-437f-9ad3-d864de11c58c",
   "metadata": {},
   "outputs": [
    {
     "data": {
      "text/plain": [
       "5"
      ]
     },
     "execution_count": 89,
     "metadata": {},
     "output_type": "execute_result"
    }
   ],
   "source": [
    "s2.index('e', 3)"
   ]
  },
  {
   "cell_type": "code",
   "execution_count": 90,
   "id": "e2fd8f9d-f99a-4b73-a8e6-4169cb653e04",
   "metadata": {},
   "outputs": [
    {
     "ename": "ValueError",
     "evalue": "substring not found",
     "output_type": "error",
     "traceback": [
      "\u001b[0;31m---------------------------------------------------------------------------\u001b[0m",
      "\u001b[0;31mValueError\u001b[0m                                Traceback (most recent call last)",
      "Input \u001b[0;32mIn [90]\u001b[0m, in \u001b[0;36m<cell line: 1>\u001b[0;34m()\u001b[0m\n\u001b[0;32m----> 1\u001b[0m \u001b[43ms2\u001b[49m\u001b[38;5;241;43m.\u001b[39;49m\u001b[43mindex\u001b[49m\u001b[43m(\u001b[49m\u001b[38;5;124;43m'\u001b[39;49m\u001b[38;5;124;43me\u001b[39;49m\u001b[38;5;124;43m'\u001b[39;49m\u001b[43m,\u001b[49m\u001b[43m \u001b[49m\u001b[38;5;241;43m3\u001b[39;49m\u001b[43m,\u001b[49m\u001b[43m \u001b[49m\u001b[38;5;241;43m5\u001b[39;49m\u001b[43m)\u001b[49m\n",
      "\u001b[0;31mValueError\u001b[0m: substring not found"
     ]
    }
   ],
   "source": [
    "s2.index('e', 3, 5)"
   ]
  },
  {
   "cell_type": "code",
   "execution_count": null,
   "id": "c2f627d3-40f0-4b22-bc36-101b39fac2b4",
   "metadata": {},
   "outputs": [],
   "source": []
  }
 ],
 "metadata": {
  "kernelspec": {
   "display_name": "Python 3.10",
   "language": "python",
   "name": "python310"
  },
  "language_info": {
   "codemirror_mode": {
    "name": "ipython",
    "version": 3
   },
   "file_extension": ".py",
   "mimetype": "text/x-python",
   "name": "python",
   "nbconvert_exporter": "python",
   "pygments_lexer": "ipython3",
   "version": "3.10.4"
  }
 },
 "nbformat": 4,
 "nbformat_minor": 5
}
