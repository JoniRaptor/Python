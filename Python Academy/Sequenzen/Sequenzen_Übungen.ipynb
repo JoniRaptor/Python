{
 "cells": [
  {
   "cell_type": "code",
   "execution_count": 18,
   "id": "6b6aa7a0-df7a-4a6c-bd9a-ce26292cd0f8",
   "metadata": {},
   "outputs": [],
   "source": [
    "t = (1, 2, 3, 4.5, 5.4, 'abc', 'def', 'x')  # 1"
   ]
  },
  {
   "cell_type": "code",
   "execution_count": 3,
   "id": "9954e1e1-de5e-40f0-af4c-6136ff6d2f9c",
   "metadata": {},
   "outputs": [
    {
     "data": {
      "text/plain": [
       "2"
      ]
     },
     "execution_count": 3,
     "metadata": {},
     "output_type": "execute_result"
    }
   ],
   "source": [
    "t[1]"
   ]
  },
  {
   "cell_type": "code",
   "execution_count": 57,
   "id": "132287fa-4faf-480a-a739-63cbc4866a15",
   "metadata": {},
   "outputs": [
    {
     "data": {
      "text/plain": [
       "(2, 3, 4.5, 5.4, 'abc', 'def')"
      ]
     },
     "execution_count": 57,
     "metadata": {},
     "output_type": "execute_result"
    }
   ],
   "source": [
    "t[1: -1]"
   ]
  },
  {
   "cell_type": "markdown",
   "id": "b1ae8974-4776-48e2-b7cd-947b75f425e1",
   "metadata": {},
   "source": [
    "# 2"
   ]
  },
  {
   "cell_type": "code",
   "execution_count": 58,
   "id": "a1281340-12d5-4e2d-b813-836ff39fcc13",
   "metadata": {},
   "outputs": [],
   "source": [
    "t2 = t*3"
   ]
  },
  {
   "cell_type": "code",
   "execution_count": 59,
   "id": "18d897d8-c1a2-423b-96c8-b54ab0d8a8c7",
   "metadata": {},
   "outputs": [
    {
     "name": "stdout",
     "output_type": "stream",
     "text": [
      "(1, 2, 3, 4.5, 5.4, 'abc', 'def', 'x', 1, 2, 3, 4.5, 5.4, 'abc', 'def', 'x', 1, 2, 3, 4.5, 5.4, 'abc', 'def', 'x')\n"
     ]
    }
   ],
   "source": [
    "print(t2)"
   ]
  },
  {
   "cell_type": "code",
   "execution_count": 51,
   "id": "87375afb-0a7c-4487-8b75-e1e0fda62b78",
   "metadata": {},
   "outputs": [],
   "source": [
    "t3 = tuple()\n",
    "\n",
    "for i in range(3):\n",
    "    t3 += t"
   ]
  },
  {
   "cell_type": "code",
   "execution_count": 52,
   "id": "e6c876f4-eea2-4192-94d5-e2840b34998e",
   "metadata": {},
   "outputs": [
    {
     "name": "stdout",
     "output_type": "stream",
     "text": [
      "(1, 2, 3, 4.5, 5.4, 'abc', 'def', 'x', 1, 2, 3, 4.5, 5.4, 'abc', 'def', 'x', 1, 2, 3, 4.5, 5.4, 'abc', 'def', 'x')\n"
     ]
    }
   ],
   "source": [
    "print(t3)"
   ]
  },
  {
   "cell_type": "markdown",
   "id": "c642fc47-70f9-4610-9054-2a12cfef15b8",
   "metadata": {},
   "source": [
    "# 3"
   ]
  },
  {
   "cell_type": "code",
   "execution_count": 53,
   "id": "7e6a2d34-fd2f-404c-b721-95c37b9ec28c",
   "metadata": {},
   "outputs": [],
   "source": [
    "t4 = t3[::-1]"
   ]
  },
  {
   "cell_type": "code",
   "execution_count": 54,
   "id": "d96f41b9-2e5e-4056-8efe-fc020fbadb17",
   "metadata": {},
   "outputs": [
    {
     "name": "stdout",
     "output_type": "stream",
     "text": [
      "('x', 'def', 'abc', 5.4, 4.5, 3, 2, 1, 'x', 'def', 'abc', 5.4, 4.5, 3, 2, 1, 'x', 'def', 'abc', 5.4, 4.5, 3, 2, 1)\n"
     ]
    }
   ],
   "source": [
    "print(t4)"
   ]
  },
  {
   "cell_type": "markdown",
   "id": "d3dcac71-354c-4bf3-9297-7c392fa90222",
   "metadata": {},
   "source": [
    "# 4"
   ]
  },
  {
   "cell_type": "code",
   "execution_count": 62,
   "id": "ab052917-3ece-4c55-874c-98ccf2aa549d",
   "metadata": {},
   "outputs": [],
   "source": [
    "t5 = t3[1::2]"
   ]
  },
  {
   "cell_type": "code",
   "execution_count": 63,
   "id": "faeb7951-80e9-4a31-a7a0-0004298da842",
   "metadata": {},
   "outputs": [
    {
     "name": "stdout",
     "output_type": "stream",
     "text": [
      "(2, 4.5, 'abc', 'x', 2, 4.5, 'abc', 'x', 2, 4.5, 'abc', 'x')\n"
     ]
    }
   ],
   "source": [
    "print(t5)"
   ]
  },
  {
   "cell_type": "code",
   "execution_count": 56,
   "id": "a4619a97-dbfe-49ec-a731-31bad40ab34c",
   "metadata": {},
   "outputs": [
    {
     "data": {
      "text/plain": [
       "False"
      ]
     },
     "execution_count": 56,
     "metadata": {},
     "output_type": "execute_result"
    }
   ],
   "source": [
    "4 in t  # 5"
   ]
  },
  {
   "cell_type": "code",
   "execution_count": 29,
   "id": "1c4bb5aa-25b8-4abc-8040-be4d0c291f86",
   "metadata": {},
   "outputs": [
    {
     "data": {
      "text/plain": [
       "True"
      ]
     },
     "execution_count": 29,
     "metadata": {},
     "output_type": "execute_result"
    }
   ],
   "source": [
    "3 in t"
   ]
  },
  {
   "cell_type": "code",
   "execution_count": 30,
   "id": "b6aeeeba-b8a6-492f-8561-4d3c646dc8db",
   "metadata": {},
   "outputs": [
    {
     "data": {
      "text/plain": [
       "True"
      ]
     },
     "execution_count": 30,
     "metadata": {},
     "output_type": "execute_result"
    }
   ],
   "source": [
    "'x' in t"
   ]
  },
  {
   "cell_type": "code",
   "execution_count": 44,
   "id": "be73753d-5b69-470b-955d-0cba0e184d8d",
   "metadata": {},
   "outputs": [
    {
     "data": {
      "text/plain": [
       "tuple"
      ]
     },
     "execution_count": 44,
     "metadata": {},
     "output_type": "execute_result"
    }
   ],
   "source": [
    "type(t)"
   ]
  },
  {
   "cell_type": "code",
   "execution_count": 50,
   "id": "b4a24185-c27c-4313-95b2-26735aeaf5c2",
   "metadata": {},
   "outputs": [
    {
     "data": {
      "text/plain": [
       "tuple"
      ]
     },
     "execution_count": 50,
     "metadata": {},
     "output_type": "execute_result"
    }
   ],
   "source": [
    "t3 = tuple()\n",
    "type(t3)"
   ]
  },
  {
   "cell_type": "code",
   "execution_count": 55,
   "id": "117c9ffa-4553-4a02-be99-04706b03f333",
   "metadata": {},
   "outputs": [
    {
     "data": {
      "text/plain": [
       "type"
      ]
     },
     "execution_count": 55,
     "metadata": {},
     "output_type": "execute_result"
    }
   ],
   "source": [
    "type(tuple)"
   ]
  },
  {
   "cell_type": "code",
   "execution_count": 60,
   "id": "52a65ab8-05df-45a3-a577-aeb1602954d0",
   "metadata": {},
   "outputs": [
    {
     "name": "stdout",
     "output_type": "stream",
     "text": [
      "Pretty printing has been turned OFF\n"
     ]
    }
   ],
   "source": [
    "%pprint"
   ]
  },
  {
   "cell_type": "code",
   "execution_count": 61,
   "id": "25e90094-4bae-4f19-a0e5-bd32c9a23899",
   "metadata": {},
   "outputs": [
    {
     "name": "stdout",
     "output_type": "stream",
     "text": [
      "Pretty printing has been turned ON\n"
     ]
    }
   ],
   "source": [
    "%pprint"
   ]
  },
  {
   "cell_type": "code",
   "execution_count": null,
   "id": "87bf7ada-1ec2-47a7-800b-f7dbb4e82f46",
   "metadata": {},
   "outputs": [],
   "source": []
  }
 ],
 "metadata": {
  "kernelspec": {
   "display_name": "Python 3.10",
   "language": "python",
   "name": "python310"
  },
  "language_info": {
   "codemirror_mode": {
    "name": "ipython",
    "version": 3
   },
   "file_extension": ".py",
   "mimetype": "text/x-python",
   "name": "python",
   "nbconvert_exporter": "python",
   "pygments_lexer": "ipython3",
   "version": "3.10.4"
  }
 },
 "nbformat": 4,
 "nbformat_minor": 5
}
