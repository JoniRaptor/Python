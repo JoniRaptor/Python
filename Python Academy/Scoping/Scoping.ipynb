{
 "cells": [
  {
   "cell_type": "markdown",
   "id": "16a5699b-aaa1-4d9b-b16e-e8d60f2313e7",
   "metadata": {},
   "source": [
    "## LGB\n",
    "\n",
    "* Local\n",
    "* Global\n",
    "* Builtin -- reihenfolge von oben nach unten"
   ]
  },
  {
   "cell_type": "code",
   "execution_count": 1,
   "id": "b52ff1d6-476e-45f6-a44a-69de099db520",
   "metadata": {},
   "outputs": [
    {
     "data": {
      "text/plain": [
       "['ArithmeticError',\n",
       " 'AssertionError',\n",
       " 'AttributeError',\n",
       " 'BaseException',\n",
       " 'BlockingIOError',\n",
       " 'BrokenPipeError',\n",
       " 'BufferError',\n",
       " 'BytesWarning',\n",
       " 'ChildProcessError',\n",
       " 'ConnectionAbortedError',\n",
       " 'ConnectionError',\n",
       " 'ConnectionRefusedError',\n",
       " 'ConnectionResetError',\n",
       " 'DeprecationWarning',\n",
       " 'EOFError',\n",
       " 'Ellipsis',\n",
       " 'EncodingWarning',\n",
       " 'EnvironmentError',\n",
       " 'Exception',\n",
       " 'False',\n",
       " 'FileExistsError',\n",
       " 'FileNotFoundError',\n",
       " 'FloatingPointError',\n",
       " 'FutureWarning',\n",
       " 'GeneratorExit',\n",
       " 'IOError',\n",
       " 'ImportError',\n",
       " 'ImportWarning',\n",
       " 'IndentationError',\n",
       " 'IndexError',\n",
       " 'InterruptedError',\n",
       " 'IsADirectoryError',\n",
       " 'KeyError',\n",
       " 'KeyboardInterrupt',\n",
       " 'LookupError',\n",
       " 'MemoryError',\n",
       " 'ModuleNotFoundError',\n",
       " 'NameError',\n",
       " 'None',\n",
       " 'NotADirectoryError',\n",
       " 'NotImplemented',\n",
       " 'NotImplementedError',\n",
       " 'OSError',\n",
       " 'OverflowError',\n",
       " 'PendingDeprecationWarning',\n",
       " 'PermissionError',\n",
       " 'ProcessLookupError',\n",
       " 'RecursionError',\n",
       " 'ReferenceError',\n",
       " 'ResourceWarning',\n",
       " 'RuntimeError',\n",
       " 'RuntimeWarning',\n",
       " 'StopAsyncIteration',\n",
       " 'StopIteration',\n",
       " 'SyntaxError',\n",
       " 'SyntaxWarning',\n",
       " 'SystemError',\n",
       " 'SystemExit',\n",
       " 'TabError',\n",
       " 'TimeoutError',\n",
       " 'True',\n",
       " 'TypeError',\n",
       " 'UnboundLocalError',\n",
       " 'UnicodeDecodeError',\n",
       " 'UnicodeEncodeError',\n",
       " 'UnicodeError',\n",
       " 'UnicodeTranslateError',\n",
       " 'UnicodeWarning',\n",
       " 'UserWarning',\n",
       " 'ValueError',\n",
       " 'Warning',\n",
       " 'ZeroDivisionError',\n",
       " '__IPYTHON__',\n",
       " '__build_class__',\n",
       " '__debug__',\n",
       " '__doc__',\n",
       " '__import__',\n",
       " '__loader__',\n",
       " '__name__',\n",
       " '__package__',\n",
       " '__spec__',\n",
       " 'abs',\n",
       " 'aiter',\n",
       " 'all',\n",
       " 'anext',\n",
       " 'any',\n",
       " 'ascii',\n",
       " 'bin',\n",
       " 'bool',\n",
       " 'breakpoint',\n",
       " 'bytearray',\n",
       " 'bytes',\n",
       " 'callable',\n",
       " 'chr',\n",
       " 'classmethod',\n",
       " 'compile',\n",
       " 'complex',\n",
       " 'copyright',\n",
       " 'credits',\n",
       " 'delattr',\n",
       " 'dict',\n",
       " 'dir',\n",
       " 'display',\n",
       " 'divmod',\n",
       " 'enumerate',\n",
       " 'eval',\n",
       " 'exec',\n",
       " 'execfile',\n",
       " 'filter',\n",
       " 'float',\n",
       " 'format',\n",
       " 'frozenset',\n",
       " 'get_ipython',\n",
       " 'getattr',\n",
       " 'globals',\n",
       " 'hasattr',\n",
       " 'hash',\n",
       " 'help',\n",
       " 'hex',\n",
       " 'id',\n",
       " 'input',\n",
       " 'int',\n",
       " 'isinstance',\n",
       " 'issubclass',\n",
       " 'iter',\n",
       " 'len',\n",
       " 'license',\n",
       " 'list',\n",
       " 'locals',\n",
       " 'map',\n",
       " 'max',\n",
       " 'memoryview',\n",
       " 'min',\n",
       " 'next',\n",
       " 'object',\n",
       " 'oct',\n",
       " 'open',\n",
       " 'ord',\n",
       " 'pow',\n",
       " 'print',\n",
       " 'property',\n",
       " 'range',\n",
       " 'repr',\n",
       " 'reversed',\n",
       " 'round',\n",
       " 'runfile',\n",
       " 'set',\n",
       " 'setattr',\n",
       " 'slice',\n",
       " 'sorted',\n",
       " 'staticmethod',\n",
       " 'str',\n",
       " 'sum',\n",
       " 'super',\n",
       " 'tuple',\n",
       " 'type',\n",
       " 'vars',\n",
       " 'zip']"
      ]
     },
     "execution_count": 1,
     "metadata": {},
     "output_type": "execute_result"
    }
   ],
   "source": [
    "dir(__builtin__)"
   ]
  },
  {
   "cell_type": "code",
   "execution_count": 4,
   "id": "4a92aa54-ab37-4295-84a0-863bf8c7b0e5",
   "metadata": {},
   "outputs": [],
   "source": [
    "def outer(arg1):\n",
    "    def inner(arg2):\n",
    "        return arg1 + arg2  # sucht cih arg1 von außen\n",
    "    return inner(10)"
   ]
  },
  {
   "cell_type": "code",
   "execution_count": 5,
   "id": "aa898cde-eb30-48d9-946f-924c59c2e763",
   "metadata": {},
   "outputs": [
    {
     "data": {
      "text/plain": [
       "17"
      ]
     },
     "execution_count": 5,
     "metadata": {},
     "output_type": "execute_result"
    }
   ],
   "source": [
    "outer(7)"
   ]
  },
  {
   "cell_type": "markdown",
   "id": "fd062add-b775-41f2-a407-a611d64086fe",
   "metadata": {},
   "source": [
    "## LGB\n",
    "\n",
    "* Local\n",
    "* Enclosing\n",
    "* Global\n",
    "* Builtin"
   ]
  },
  {
   "cell_type": "code",
   "execution_count": 11,
   "id": "2abed1f3-5b08-4139-a3b8-666f68c4e49d",
   "metadata": {},
   "outputs": [],
   "source": [
    "def outer(arg1):\n",
    "    def inner(arg2):\n",
    "        return arg1 + arg2  # sucht cih arg1 von außen\n",
    "    return inner"
   ]
  },
  {
   "cell_type": "code",
   "execution_count": 12,
   "id": "5a548990-14f6-4b5b-aa4e-d51d4307b2eb",
   "metadata": {},
   "outputs": [],
   "source": [
    "i10 = outer(10)  # Functionfactory"
   ]
  },
  {
   "cell_type": "code",
   "execution_count": 13,
   "id": "06f78555-0ceb-4577-8587-70cc1986f9c4",
   "metadata": {},
   "outputs": [
    {
     "data": {
      "text/plain": [
       "function"
      ]
     },
     "execution_count": 16,
     "metadata": {},
     "output_type": "execute_result"
    }
   ],
   "source": [
    "type(i10)"
   ]
  },
  {
   "cell_type": "code",
   "execution_count": 14,
   "id": "00e1c92e-33cb-48c5-b2c9-377a60facb64",
   "metadata": {},
   "outputs": [
    {
     "data": {
      "text/plain": [
       "17"
      ]
     },
     "execution_count": 17,
     "metadata": {},
     "output_type": "execute_result"
    }
   ],
   "source": [
    "i10(7)"
   ]
  },
  {
   "cell_type": "code",
   "execution_count": 19,
   "id": "51fe2ad4-7490-41ae-90f9-3348c52d6640",
   "metadata": {},
   "outputs": [
    {
     "data": {
      "text/plain": [
       "10"
      ]
     },
     "execution_count": 19,
     "metadata": {},
     "output_type": "execute_result"
    }
   ],
   "source": [
    "i10.__closure__[0].cell_contents"
   ]
  },
  {
   "cell_type": "code",
   "execution_count": 20,
   "id": "d975eebf-48fc-4619-9f03-eb902f15f67b",
   "metadata": {},
   "outputs": [],
   "source": [
    "funcs = {k: outer(n) for k, n in zip('abc', range(1, 4))}"
   ]
  },
  {
   "cell_type": "code",
   "execution_count": 21,
   "id": "16e44875-d105-4fd8-9775-5132510800ce",
   "metadata": {},
   "outputs": [
    {
     "data": {
      "text/plain": [
       "{'a': <function __main__.outer.<locals>.inner(arg2)>,\n",
       " 'b': <function __main__.outer.<locals>.inner(arg2)>,\n",
       " 'c': <function __main__.outer.<locals>.inner(arg2)>}"
      ]
     },
     "execution_count": 21,
     "metadata": {},
     "output_type": "execute_result"
    }
   ],
   "source": [
    "funcs"
   ]
  },
  {
   "cell_type": "code",
   "execution_count": 22,
   "id": "5ce30897-9151-4f0d-90aa-8112edc0268e",
   "metadata": {},
   "outputs": [
    {
     "data": {
      "text/plain": [
       "<function __main__.outer.<locals>.inner(arg2)>"
      ]
     },
     "execution_count": 22,
     "metadata": {},
     "output_type": "execute_result"
    }
   ],
   "source": [
    "funcs['a']"
   ]
  },
  {
   "cell_type": "code",
   "execution_count": 23,
   "id": "f0cea3c6-3b5e-44a9-8342-2c3307eee02c",
   "metadata": {},
   "outputs": [
    {
     "data": {
      "text/plain": [
       "11"
      ]
     },
     "execution_count": 23,
     "metadata": {},
     "output_type": "execute_result"
    }
   ],
   "source": [
    "funcs['a'](10)"
   ]
  },
  {
   "cell_type": "code",
   "execution_count": 24,
   "id": "3e8043ec-c4bf-4694-ada5-e53671587f11",
   "metadata": {},
   "outputs": [
    {
     "data": {
      "text/plain": [
       "12"
      ]
     },
     "execution_count": 24,
     "metadata": {},
     "output_type": "execute_result"
    }
   ],
   "source": [
    "funcs['b'](10)"
   ]
  },
  {
   "cell_type": "code",
   "execution_count": 25,
   "id": "e52b33b3-1a7a-4c58-bdaa-b30ccef78951",
   "metadata": {},
   "outputs": [],
   "source": [
    "def func():\n",
    "    x = 5\n",
    "    def inner():\n",
    "        x = 6\n",
    "    inner()\n",
    "    return x"
   ]
  },
  {
   "cell_type": "code",
   "execution_count": 26,
   "id": "a7dd56b3-4d46-4224-bb7f-e4cb4d5b118b",
   "metadata": {},
   "outputs": [
    {
     "data": {
      "text/plain": [
       "5"
      ]
     },
     "execution_count": 26,
     "metadata": {},
     "output_type": "execute_result"
    }
   ],
   "source": [
    "func()"
   ]
  },
  {
   "cell_type": "code",
   "execution_count": 27,
   "id": "9286ad37-7b7d-4668-83d3-c54ef3cb6381",
   "metadata": {},
   "outputs": [],
   "source": [
    "def func2():\n",
    "    x = 5\n",
    "    def inner():\n",
    "        x = 6\n",
    "        return x\n",
    "    x = inner()\n",
    "    return x"
   ]
  },
  {
   "cell_type": "code",
   "execution_count": 28,
   "id": "aed44e4d-2e11-4427-8744-716055c3b523",
   "metadata": {},
   "outputs": [
    {
     "data": {
      "text/plain": [
       "6"
      ]
     },
     "execution_count": 28,
     "metadata": {},
     "output_type": "execute_result"
    }
   ],
   "source": [
    "func2()"
   ]
  },
  {
   "cell_type": "code",
   "execution_count": 29,
   "id": "56a73639-6bb3-4146-bb3a-73181c3bd6e6",
   "metadata": {},
   "outputs": [],
   "source": [
    "def func3():\n",
    "    x = 5\n",
    "    def inner():\n",
    "        nonlocal x\n",
    "        x = 6\n",
    "    inner()\n",
    "    return x"
   ]
  },
  {
   "cell_type": "code",
   "execution_count": 30,
   "id": "3fa288fe-73ea-463c-8d43-5660096336c1",
   "metadata": {},
   "outputs": [
    {
     "data": {
      "text/plain": [
       "6"
      ]
     },
     "execution_count": 30,
     "metadata": {},
     "output_type": "execute_result"
    }
   ],
   "source": [
    "func3()"
   ]
  },
  {
   "cell_type": "code",
   "execution_count": null,
   "id": "b830bf18-c4fe-4727-bb2f-798c61092310",
   "metadata": {},
   "outputs": [],
   "source": []
  }
 ],
 "metadata": {
  "kernelspec": {
   "display_name": "Python 3.10",
   "language": "python",
   "name": "python310"
  },
  "language_info": {
   "codemirror_mode": {
    "name": "ipython",
    "version": 3
   },
   "file_extension": ".py",
   "mimetype": "text/x-python",
   "name": "python",
   "nbconvert_exporter": "python",
   "pygments_lexer": "ipython3",
   "version": "3.10.4"
  }
 },
 "nbformat": 4,
 "nbformat_minor": 5
}
