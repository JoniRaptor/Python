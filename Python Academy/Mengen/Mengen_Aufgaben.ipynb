{
 "cells": [
  {
   "cell_type": "markdown",
   "id": "d72d3169-8a60-4a2f-a680-2faaf3b86dd9",
   "metadata": {},
   "source": [
    "# Aufgabe 1"
   ]
  },
  {
   "cell_type": "code",
   "execution_count": 2,
   "id": "af812685-5552-432e-8840-8746574c116d",
   "metadata": {},
   "outputs": [],
   "source": [
    "B = {'Obelix', 'Idefix', 'Miraculix', 'Max'}\n",
    "F = {'Asterix', 'Idefix', 'Miraculix', 'Moritz'}"
   ]
  },
  {
   "cell_type": "code",
   "execution_count": 55,
   "id": "ca640197-bdfb-4022-99aa-2e0788720f1e",
   "metadata": {},
   "outputs": [
    {
     "data": {
      "text/plain": [
       "{'Miraculix', 'Idefix'}"
      ]
     },
     "execution_count": 55,
     "metadata": {},
     "output_type": "execute_result"
    }
   ],
   "source": [
    "B & F"
   ]
  },
  {
   "cell_type": "code",
   "execution_count": 4,
   "id": "ef8420bc-62e1-4662-ace0-d6c7042cc4b5",
   "metadata": {},
   "outputs": [
    {
     "data": {
      "text/plain": [
       "{'Max', 'Obelix'}"
      ]
     },
     "execution_count": 4,
     "metadata": {},
     "output_type": "execute_result"
    }
   ],
   "source": [
    "B - F"
   ]
  },
  {
   "cell_type": "code",
   "execution_count": 6,
   "id": "8dcfc8c3-5c1f-40b2-b2d9-4cd44b94c96f",
   "metadata": {},
   "outputs": [
    {
     "data": {
      "text/plain": [
       "{'Asterix', 'Moritz'}"
      ]
     },
     "execution_count": 6,
     "metadata": {},
     "output_type": "execute_result"
    }
   ],
   "source": [
    "F - B"
   ]
  },
  {
   "cell_type": "code",
   "execution_count": 11,
   "id": "8c93c08b-549a-4bc2-9aa9-ccb33dba1cb4",
   "metadata": {},
   "outputs": [
    {
     "data": {
      "text/plain": [
       "{'Asterix', 'Idefix', 'Max', 'Miraculix', 'Moritz', 'Obelix'}"
      ]
     },
     "execution_count": 11,
     "metadata": {},
     "output_type": "execute_result"
    }
   ],
   "source": [
    "F | B"
   ]
  },
  {
   "cell_type": "markdown",
   "id": "41bfe42e-70bc-4e6b-b362-d9645d2620b5",
   "metadata": {},
   "source": [
    "# Aufgabe 2"
   ]
  },
  {
   "cell_type": "code",
   "execution_count": 8,
   "id": "53e2fc52-d3b8-4a69-aeb9-e3caf492a5ec",
   "metadata": {},
   "outputs": [],
   "source": [
    "s3 = {'Max', 'Miraculix'}"
   ]
  },
  {
   "cell_type": "code",
   "execution_count": 56,
   "id": "c6c3e1a7-be71-4c79-ac05-0546f291a583",
   "metadata": {},
   "outputs": [
    {
     "data": {
      "text/plain": [
       "False"
      ]
     },
     "execution_count": 56,
     "metadata": {},
     "output_type": "execute_result"
    }
   ],
   "source": [
    "s3 < F"
   ]
  },
  {
   "cell_type": "code",
   "execution_count": 57,
   "id": "b34b7795-0324-4f7a-8c7f-f55042f62fa0",
   "metadata": {},
   "outputs": [
    {
     "data": {
      "text/plain": [
       "True"
      ]
     },
     "execution_count": 57,
     "metadata": {},
     "output_type": "execute_result"
    }
   ],
   "source": [
    "s3 < B"
   ]
  },
  {
   "cell_type": "markdown",
   "id": "131d0fc8-e9fc-4ad0-8b76-fbccdedfaa18",
   "metadata": {},
   "source": [
    "# Aufgabe 3"
   ]
  },
  {
   "cell_type": "code",
   "execution_count": 68,
   "id": "ec7eb57a-f1b1-456f-8334-4dfc3d5884d8",
   "metadata": {},
   "outputs": [],
   "source": [
    "s4 = {'Gandalf', 'Checo Perez', 'Sebastian Vettel'}"
   ]
  },
  {
   "cell_type": "code",
   "execution_count": 69,
   "id": "edcb2dc9-75ff-4f58-a85a-70b32463f316",
   "metadata": {},
   "outputs": [
    {
     "data": {
      "text/plain": [
       "{'Sebastian Vettel', 'Gandalf', 'Checo Perez'}"
      ]
     },
     "execution_count": 69,
     "metadata": {},
     "output_type": "execute_result"
    }
   ],
   "source": [
    "s4"
   ]
  },
  {
   "cell_type": "code",
   "execution_count": 82,
   "id": "2d177241-75d9-4c39-9f7f-7c6588a1973a",
   "metadata": {},
   "outputs": [],
   "source": [
    "F_static = frozenset(F)  # frozenset sind hashable Mengen\n",
    "s4_static = frozenset(s4)\n",
    "s5 = {F_static, s4_static}"
   ]
  },
  {
   "cell_type": "code",
   "execution_count": 83,
   "id": "9c742da7-4622-42f8-a7b2-12397dd3dfb4",
   "metadata": {},
   "outputs": [
    {
     "data": {
      "text/plain": [
       "{frozenset({'Asterix', 'Miraculix', 'Idefix', 'Moritz'}), frozenset({'Sebastian Vettel', 'Gandalf', 'Checo Perez'})}"
      ]
     },
     "execution_count": 83,
     "metadata": {},
     "output_type": "execute_result"
    }
   ],
   "source": [
    "s5"
   ]
  },
  {
   "cell_type": "code",
   "execution_count": 86,
   "id": "646c36ac-ebbe-41f5-8d19-3b9619b9bd32",
   "metadata": {},
   "outputs": [],
   "source": [
    "s6 = {F_static}"
   ]
  },
  {
   "cell_type": "code",
   "execution_count": 87,
   "id": "e805bb55-5da3-4d6b-a9fd-14958ab304a6",
   "metadata": {},
   "outputs": [
    {
     "data": {
      "text/plain": [
       "{frozenset({'Asterix', 'Miraculix', 'Idefix', 'Moritz'})}"
      ]
     },
     "execution_count": 87,
     "metadata": {},
     "output_type": "execute_result"
    }
   ],
   "source": [
    "s6 & s5"
   ]
  },
  {
   "cell_type": "markdown",
   "id": "d87a2c04-7cec-42a0-8c24-6da6196a3aed",
   "metadata": {},
   "source": [
    "# Aufgabe 4"
   ]
  },
  {
   "cell_type": "code",
   "execution_count": 43,
   "id": "1521ed50-2418-448d-969f-3da863acab4d",
   "metadata": {},
   "outputs": [],
   "source": [
    "n = 100\n",
    "target = n // 2\n",
    "L = list(range(n))\n",
    "d = dict.fromkeys(L)\n",
    "s = set(range(n))"
   ]
  },
  {
   "cell_type": "code",
   "execution_count": 32,
   "id": "72dc3410-9467-4405-9eac-463fe7a6ed2d",
   "metadata": {},
   "outputs": [],
   "source": [
    "import time"
   ]
  },
  {
   "cell_type": "code",
   "execution_count": 54,
   "id": "0eb60a07-7737-41ed-9d7f-7dac79257ae7",
   "metadata": {},
   "outputs": [
    {
     "name": "stdout",
     "output_type": "stream",
     "text": [
      "596 ns ± 30.1 ns per loop (mean ± std. dev. of 7 runs, 1,000,000 loops each)\n"
     ]
    }
   ],
   "source": [
    "tl = %timeit -o target in L"
   ]
  },
  {
   "cell_type": "code",
   "execution_count": 44,
   "id": "ff3acbe2-e84e-48f6-a6fb-8d65405e701b",
   "metadata": {},
   "outputs": [
    {
     "name": "stdout",
     "output_type": "stream",
     "text": [
      "69.5 ns ± 4.33 ns per loop (mean ± std. dev. of 7 runs, 10,000,000 loops each)\n"
     ]
    }
   ],
   "source": [
    "td = %timeit -o target in d"
   ]
  },
  {
   "cell_type": "code",
   "execution_count": 47,
   "id": "790be8b1-a322-4288-96b4-ebb203d96ebb",
   "metadata": {},
   "outputs": [
    {
     "name": "stdout",
     "output_type": "stream",
     "text": [
      "64.2 ns ± 3.93 ns per loop (mean ± std. dev. of 7 runs, 10,000,000 loops each)\n"
     ]
    }
   ],
   "source": [
    "ts = %timeit -o target in s"
   ]
  },
  {
   "cell_type": "code",
   "execution_count": 49,
   "id": "a545b034-36a5-40a2-b4dc-b2b6f6816629",
   "metadata": {},
   "outputs": [
    {
     "data": {
      "text/plain": [
       "8.53053139267227"
      ]
     },
     "execution_count": 49,
     "metadata": {},
     "output_type": "execute_result"
    }
   ],
   "source": [
    "tl.average / td.average"
   ]
  },
  {
   "cell_type": "code",
   "execution_count": 50,
   "id": "e6f1c8f4-dc63-440f-a75c-b15328241554",
   "metadata": {},
   "outputs": [
    {
     "data": {
      "text/plain": [
       "0.9229120523236246"
      ]
     },
     "execution_count": 50,
     "metadata": {},
     "output_type": "execute_result"
    }
   ],
   "source": [
    "ts.average / td.average"
   ]
  },
  {
   "cell_type": "code",
   "execution_count": 51,
   "id": "8e8a5b00-31f0-4768-8a1b-44e0d76ecf35",
   "metadata": {},
   "outputs": [
    {
     "data": {
      "text/plain": [
       "1.083526862047462"
      ]
     },
     "execution_count": 51,
     "metadata": {},
     "output_type": "execute_result"
    }
   ],
   "source": [
    "td.average / ts.average"
   ]
  },
  {
   "cell_type": "code",
   "execution_count": 52,
   "id": "55c98f88-79c7-46e3-83e6-405c42c8ac93",
   "metadata": {},
   "outputs": [
    {
     "data": {
      "text/plain": [
       "9.24305991149955"
      ]
     },
     "execution_count": 52,
     "metadata": {},
     "output_type": "execute_result"
    }
   ],
   "source": [
    "tl.average / ts.average"
   ]
  },
  {
   "cell_type": "code",
   "execution_count": 53,
   "id": "48c9dcec-676c-4e07-9928-c78b02f6d00f",
   "metadata": {},
   "outputs": [
    {
     "data": {
      "text/plain": [
       "0.10818928034382554"
      ]
     },
     "execution_count": 53,
     "metadata": {},
     "output_type": "execute_result"
    }
   ],
   "source": [
    "ts.average / tl.average"
   ]
  },
  {
   "cell_type": "code",
   "execution_count": 37,
   "id": "1890ff3f-49d9-464f-84a2-2d84e36ffab3",
   "metadata": {},
   "outputs": [
    {
     "name": "stdout",
     "output_type": "stream",
     "text": [
      "Pretty printing has been turned OFF\n"
     ]
    }
   ],
   "source": [
    "%pprint"
   ]
  },
  {
   "cell_type": "code",
   "execution_count": 42,
   "id": "304159cb-cee6-4293-a1e0-b75d0b21508c",
   "metadata": {},
   "outputs": [
    {
     "data": {
      "text/plain": [
       "{0, 1, 2, 3, 4, 5, 6, 7, 8, 9, 10, 11, 12, 13, 14, 15, 16, 17, 18, 19, 20, 21, 22, 23, 24, 25, 26, 27, 28, 29, 30, 31, 32, 33, 34, 35, 36, 37, 38, 39, 40, 41, 42, 43, 44, 45, 46, 47, 48, 49, 50, 51, 52, 53, 54, 55, 56, 57, 58, 59, 60, 61, 62, 63, 64, 65, 66, 67, 68, 69, 70, 71, 72, 73, 74, 75, 76, 77, 78, 79, 80, 81, 82, 83, 84, 85, 86, 87, 88, 89, 90, 91, 92, 93, 94, 95, 96, 97, 98, 99}"
      ]
     },
     "execution_count": 42,
     "metadata": {},
     "output_type": "execute_result"
    }
   ],
   "source": [
    "s"
   ]
  },
  {
   "cell_type": "code",
   "execution_count": null,
   "id": "63451cef-b74c-4ca6-a820-baf4e897fb67",
   "metadata": {},
   "outputs": [],
   "source": []
  }
 ],
 "metadata": {
  "kernelspec": {
   "display_name": "Python 3.10",
   "language": "python",
   "name": "python310"
  },
  "language_info": {
   "codemirror_mode": {
    "name": "ipython",
    "version": 3
   },
   "file_extension": ".py",
   "mimetype": "text/x-python",
   "name": "python",
   "nbconvert_exporter": "python",
   "pygments_lexer": "ipython3",
   "version": "3.10.4"
  }
 },
 "nbformat": 4,
 "nbformat_minor": 5
}
