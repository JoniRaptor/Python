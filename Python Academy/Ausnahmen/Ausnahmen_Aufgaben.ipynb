{
 "cells": [
  {
   "cell_type": "markdown",
   "id": "9dc6d522-2db8-45f1-b530-cf378b656b72",
   "metadata": {},
   "source": [
    "# Aufgabe 1"
   ]
  },
  {
   "cell_type": "code",
   "execution_count": 4,
   "id": "69e82549-16e4-4a35-9476-8c4601461068",
   "metadata": {},
   "outputs": [],
   "source": [
    "class Auto:\n",
    "    def __init__(self, nummer, farbe):\n",
    "        pass"
   ]
  },
  {
   "cell_type": "code",
   "execution_count": 5,
   "id": "0b74fd64-f3c6-4bb5-a573-9e2838f29222",
   "metadata": {},
   "outputs": [],
   "source": [
    "a1 = Auto(123, 'rot')"
   ]
  },
  {
   "cell_type": "code",
   "execution_count": 6,
   "id": "a4d66daf-8b51-410d-9292-a6d95c0b99a0",
   "metadata": {},
   "outputs": [
    {
     "ename": "AttributeError",
     "evalue": "'Auto' object has no attribute 'farbe'",
     "output_type": "error",
     "traceback": [
      "\u001b[0;31m---------------------------------------------------------------------------\u001b[0m",
      "\u001b[0;31mAttributeError\u001b[0m                            Traceback (most recent call last)",
      "Input \u001b[0;32mIn [6]\u001b[0m, in \u001b[0;36m<cell line: 1>\u001b[0;34m()\u001b[0m\n\u001b[0;32m----> 1\u001b[0m \u001b[43ma1\u001b[49m\u001b[38;5;241;43m.\u001b[39;49m\u001b[43mfarbe\u001b[49m\n",
      "\u001b[0;31mAttributeError\u001b[0m: 'Auto' object has no attribute 'farbe'"
     ]
    }
   ],
   "source": [
    "a1.farbe"
   ]
  },
  {
   "cell_type": "markdown",
   "id": "3fd35cc5-99bb-439b-9ccf-ca33d38e6e5e",
   "metadata": {},
   "source": [
    "# Aufgabe 2"
   ]
  },
  {
   "cell_type": "code",
   "execution_count": 7,
   "id": "fe083345-69be-476c-82a0-5bdb5e4727ab",
   "metadata": {},
   "outputs": [
    {
     "name": "stdout",
     "output_type": "stream",
     "text": [
      "die Farbe ist nicht definiert\n"
     ]
    }
   ],
   "source": [
    "try:\n",
    "    a1.farbe\n",
    "except AttributeError:\n",
    "    print('die Farbe ist nicht definiert')"
   ]
  },
  {
   "cell_type": "markdown",
   "id": "e55914b3-233e-454c-90e0-6f4c6904c2c8",
   "metadata": {},
   "source": [
    "# Aufgabe 3"
   ]
  },
  {
   "cell_type": "code",
   "execution_count": 8,
   "id": "bf53aa1f-b110-4e22-a1c4-677af898e2ee",
   "metadata": {},
   "outputs": [
    {
     "name": "stdout",
     "output_type": "stream",
     "text": [
      "die Farbe ist nicht definiert\n",
      "Fertig\n"
     ]
    }
   ],
   "source": [
    "try:\n",
    "    a1.farbe\n",
    "except AttributeError:\n",
    "    print('die Farbe ist nicht definiert')\n",
    "finally:\n",
    "    print('Fertig')"
   ]
  },
  {
   "cell_type": "markdown",
   "id": "e2a183c2-7db5-4712-8972-8df4745b53b8",
   "metadata": {},
   "source": [
    "# Aufgabe 4"
   ]
  },
  {
   "cell_type": "code",
   "execution_count": 47,
   "id": "4c8a9d2f-9181-4e08-ad6c-5d93c4cdf6e5",
   "metadata": {},
   "outputs": [
    {
     "name": "stdout",
     "output_type": "stream",
     "text": [
      "der Index liegt außerhalb der Liste\n"
     ]
    }
   ],
   "source": [
    "L = list(range(0, 5))\n",
    "try:\n",
    "    L[7]\n",
    "except IndexError:\n",
    "    print('der Index liegt außerhalb der Liste')"
   ]
  },
  {
   "cell_type": "markdown",
   "id": "cf2f30ff-4da2-4a9b-933a-6643455790c3",
   "metadata": {},
   "source": [
    "# Aufgabe 5"
   ]
  },
  {
   "cell_type": "code",
   "execution_count": 25,
   "id": "71a52828-b005-4650-80fa-74f4815ee73d",
   "metadata": {},
   "outputs": [
    {
     "name": "stdout",
     "output_type": "stream",
     "text": [
      "100\n",
      "None\n",
      "100\n"
     ]
    },
    {
     "ename": "KeyError",
     "evalue": "'x'",
     "output_type": "error",
     "traceback": [
      "\u001b[0;31m---------------------------------------------------------------------------\u001b[0m",
      "\u001b[0;31mKeyError\u001b[0m                                  Traceback (most recent call last)",
      "Input \u001b[0;32mIn [25]\u001b[0m, in \u001b[0;36m<cell line: 5>\u001b[0;34m()\u001b[0m\n\u001b[1;32m      3\u001b[0m \u001b[38;5;28mprint\u001b[39m(my_dict\u001b[38;5;241m.\u001b[39mget(\u001b[38;5;124m'\u001b[39m\u001b[38;5;124mx\u001b[39m\u001b[38;5;124m'\u001b[39m))\n\u001b[1;32m      4\u001b[0m \u001b[38;5;28mprint\u001b[39m(my_dict[\u001b[38;5;124m'\u001b[39m\u001b[38;5;124ma\u001b[39m\u001b[38;5;124m'\u001b[39m])\n\u001b[0;32m----> 5\u001b[0m \u001b[38;5;28mprint\u001b[39m(\u001b[43mmy_dict\u001b[49m\u001b[43m[\u001b[49m\u001b[38;5;124;43m'\u001b[39;49m\u001b[38;5;124;43mx\u001b[39;49m\u001b[38;5;124;43m'\u001b[39;49m\u001b[43m]\u001b[49m)\n",
      "\u001b[0;31mKeyError\u001b[0m: 'x'"
     ]
    }
   ],
   "source": [
    "my_dict = {'a': 100, 'b': 200}\n",
    "print(my_dict.get('a'))\n",
    "print(my_dict.get('x'))\n",
    "print(my_dict['a'])\n",
    "print(my_dict['x'])"
   ]
  },
  {
   "cell_type": "code",
   "execution_count": 23,
   "id": "df2f96d6-18f0-4e73-a2e2-9bf546f2196b",
   "metadata": {},
   "outputs": [
    {
     "data": {
      "text/plain": [
       "\u001b[0;31mSignature:\u001b[0m \u001b[0mmy_dict\u001b[0m\u001b[0;34m.\u001b[0m\u001b[0mget\u001b[0m\u001b[0;34m(\u001b[0m\u001b[0mkey\u001b[0m\u001b[0;34m,\u001b[0m \u001b[0mdefault\u001b[0m\u001b[0;34m=\u001b[0m\u001b[0;32mNone\u001b[0m\u001b[0;34m,\u001b[0m \u001b[0;34m/\u001b[0m\u001b[0;34m)\u001b[0m\u001b[0;34m\u001b[0m\u001b[0;34m\u001b[0m\u001b[0m\n",
       "\u001b[0;31mDocstring:\u001b[0m Return the value for key if key is in the dictionary, else default.\n",
       "\u001b[0;31mType:\u001b[0m      builtin_function_or_method\n"
      ]
     },
     "metadata": {},
     "output_type": "display_data"
    }
   ],
   "source": [
    "my_dict.get?"
   ]
  },
  {
   "cell_type": "code",
   "execution_count": 48,
   "id": "f9b981e1-4577-4c71-8e18-090adb1e9912",
   "metadata": {},
   "outputs": [],
   "source": [
    "def my_get(dictionary, key, default = None):\n",
    "    try:\n",
    "        return dictionary[key]\n",
    "    except KeyError:\n",
    "        return default"
   ]
  },
  {
   "cell_type": "code",
   "execution_count": 49,
   "id": "2b016fe1-5698-4fd7-92a5-94ef1005710d",
   "metadata": {},
   "outputs": [
    {
     "data": {
      "text/plain": [
       "100"
      ]
     },
     "execution_count": 49,
     "metadata": {},
     "output_type": "execute_result"
    }
   ],
   "source": [
    "my_get(my_dict, 'a')"
   ]
  },
  {
   "cell_type": "code",
   "execution_count": 50,
   "id": "e5eaba23-9924-440b-9d3b-4fea4d206bbf",
   "metadata": {},
   "outputs": [],
   "source": [
    "my_get(my_dict, 'x')"
   ]
  },
  {
   "cell_type": "code",
   "execution_count": 53,
   "id": "98408670-a308-450f-b04d-5e9da2927767",
   "metadata": {},
   "outputs": [
    {
     "data": {
      "text/plain": [
       "999"
      ]
     },
     "execution_count": 53,
     "metadata": {},
     "output_type": "execute_result"
    }
   ],
   "source": [
    "my_get(my_dict, 'x', 999)"
   ]
  },
  {
   "cell_type": "code",
   "execution_count": 55,
   "id": "d9c3150f-046f-4ea5-a8f7-0af0b1deff7e",
   "metadata": {},
   "outputs": [],
   "source": [
    "def my_get2(dictionary, key, default = None):\n",
    "    if key in dictionary:\n",
    "        return dictionary[key]\n",
    "    return default"
   ]
  },
  {
   "cell_type": "code",
   "execution_count": 56,
   "id": "1a693bd2-4c84-41a4-a794-af542580f024",
   "metadata": {},
   "outputs": [
    {
     "data": {
      "text/plain": [
       "100"
      ]
     },
     "execution_count": 56,
     "metadata": {},
     "output_type": "execute_result"
    }
   ],
   "source": [
    "my_get2(my_dict, 'a')"
   ]
  },
  {
   "cell_type": "markdown",
   "id": "6bf177f5-08da-4ce4-9320-a510ea003374",
   "metadata": {},
   "source": [
    "# Aufgabe 6"
   ]
  },
  {
   "cell_type": "code",
   "execution_count": 43,
   "id": "ef023be9-7e98-4f65-a4a4-38fb95b0e585",
   "metadata": {},
   "outputs": [],
   "source": [
    "class PositiveOnly(Exception):\n",
    "    pass"
   ]
  },
  {
   "cell_type": "code",
   "execution_count": 57,
   "id": "6d7d3235-845c-4e3c-9245-a613a7b93f22",
   "metadata": {},
   "outputs": [],
   "source": [
    "def testneg(a):\n",
    "    if a < 0:\n",
    "        raise PositiveOnly(f'{a} ist eine negative Zahl')\n",
    "    else:\n",
    "        print(a)"
   ]
  },
  {
   "cell_type": "code",
   "execution_count": 58,
   "id": "c6b54659-726e-4bed-ba04-ef73d259fc36",
   "metadata": {},
   "outputs": [
    {
     "name": "stdout",
     "output_type": "stream",
     "text": [
      "0\n"
     ]
    }
   ],
   "source": [
    "testneg(0)"
   ]
  },
  {
   "cell_type": "code",
   "execution_count": 59,
   "id": "b94fa469-e8aa-47ca-85b7-d6794efa8df4",
   "metadata": {},
   "outputs": [
    {
     "ename": "PositiveOnly",
     "evalue": "-4 ist eine negative Zahl",
     "output_type": "error",
     "traceback": [
      "\u001b[0;31m---------------------------------------------------------------------------\u001b[0m",
      "\u001b[0;31mPositiveOnly\u001b[0m                              Traceback (most recent call last)",
      "Input \u001b[0;32mIn [59]\u001b[0m, in \u001b[0;36m<cell line: 1>\u001b[0;34m()\u001b[0m\n\u001b[0;32m----> 1\u001b[0m \u001b[43mtestneg\u001b[49m\u001b[43m(\u001b[49m\u001b[38;5;241;43m-\u001b[39;49m\u001b[38;5;241;43m4\u001b[39;49m\u001b[43m)\u001b[49m\n",
      "Input \u001b[0;32mIn [57]\u001b[0m, in \u001b[0;36mtestneg\u001b[0;34m(a)\u001b[0m\n\u001b[1;32m      1\u001b[0m \u001b[38;5;28;01mdef\u001b[39;00m \u001b[38;5;21mtestneg\u001b[39m(a):\n\u001b[1;32m      2\u001b[0m     \u001b[38;5;28;01mif\u001b[39;00m a \u001b[38;5;241m<\u001b[39m \u001b[38;5;241m0\u001b[39m:\n\u001b[0;32m----> 3\u001b[0m         \u001b[38;5;28;01mraise\u001b[39;00m PositiveOnly(\u001b[38;5;124mf\u001b[39m\u001b[38;5;124m'\u001b[39m\u001b[38;5;132;01m{\u001b[39;00ma\u001b[38;5;132;01m}\u001b[39;00m\u001b[38;5;124m ist eine negative Zahl\u001b[39m\u001b[38;5;124m'\u001b[39m)\n\u001b[1;32m      4\u001b[0m     \u001b[38;5;28;01melse\u001b[39;00m:\n\u001b[1;32m      5\u001b[0m         \u001b[38;5;28mprint\u001b[39m(a)\n",
      "\u001b[0;31mPositiveOnly\u001b[0m: -4 ist eine negative Zahl"
     ]
    }
   ],
   "source": [
    "testneg(-4)"
   ]
  },
  {
   "cell_type": "code",
   "execution_count": null,
   "id": "627cb65e-cc1a-4fa7-bc45-aaafabd770e4",
   "metadata": {},
   "outputs": [],
   "source": []
  }
 ],
 "metadata": {
  "kernelspec": {
   "display_name": "Python 3.10",
   "language": "python",
   "name": "python310"
  },
  "language_info": {
   "codemirror_mode": {
    "name": "ipython",
    "version": 3
   },
   "file_extension": ".py",
   "mimetype": "text/x-python",
   "name": "python",
   "nbconvert_exporter": "python",
   "pygments_lexer": "ipython3",
   "version": "3.10.4"
  }
 },
 "nbformat": 4,
 "nbformat_minor": 5
}
