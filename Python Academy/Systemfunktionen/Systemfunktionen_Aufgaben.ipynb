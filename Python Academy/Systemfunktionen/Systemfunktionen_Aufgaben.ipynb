{
 "cells": [
  {
   "cell_type": "markdown",
   "id": "a2f5ace4-7ec0-4624-a3f6-16281ed27b0a",
   "metadata": {},
   "source": [
    "# Aufgabe 1"
   ]
  },
  {
   "cell_type": "code",
   "execution_count": 2,
   "id": "c5eb3c3a-34e6-4ae5-a28e-fa62ac6838da",
   "metadata": {},
   "outputs": [],
   "source": [
    "import os"
   ]
  },
  {
   "cell_type": "code",
   "execution_count": 7,
   "id": "c4c8048c-bdc3-4625-9ee3-d9539c2e27b3",
   "metadata": {},
   "outputs": [
    {
     "data": {
      "text/plain": [
       "'/home/user15/data'"
      ]
     },
     "execution_count": 7,
     "metadata": {},
     "output_type": "execute_result"
    }
   ],
   "source": [
    "os.getcwd()"
   ]
  },
  {
   "cell_type": "code",
   "execution_count": 8,
   "id": "99436943-055a-44b8-bc5f-2f25d0d9a422",
   "metadata": {},
   "outputs": [],
   "source": [
    "import sys"
   ]
  },
  {
   "cell_type": "markdown",
   "id": "a1261fd1-a477-4111-b226-024ca9eaadad",
   "metadata": {},
   "source": [
    "# Aufgabe 2"
   ]
  },
  {
   "cell_type": "code",
   "execution_count": 27,
   "id": "b1d88c7e-c52d-4b36-8a41-452ef9a76590",
   "metadata": {},
   "outputs": [
    {
     "data": {
      "text/plain": [
       "'3.10.4 | packaged by conda-forge | (main, Mar 24 2022, 17:38:57) [GCC 10.3.0]'"
      ]
     },
     "execution_count": 27,
     "metadata": {},
     "output_type": "execute_result"
    }
   ],
   "source": [
    "sys.version"
   ]
  },
  {
   "cell_type": "markdown",
   "id": "5125dc1d-3443-4d55-91fb-a10fae2bf371",
   "metadata": {},
   "source": [
    "# Aufabe 3"
   ]
  },
  {
   "cell_type": "code",
   "execution_count": 28,
   "id": "3fe736b9-6a25-4b20-be30-544e7b9b7a7e",
   "metadata": {},
   "outputs": [],
   "source": [
    "os.chdir('./hello')"
   ]
  },
  {
   "cell_type": "code",
   "execution_count": 29,
   "id": "69dff9dd-4763-4d66-8444-14159556cb9c",
   "metadata": {},
   "outputs": [
    {
     "data": {
      "text/plain": [
       "'/home/user15/data/hello'"
      ]
     },
     "execution_count": 29,
     "metadata": {},
     "output_type": "execute_result"
    }
   ],
   "source": [
    "os.getcwd()"
   ]
  },
  {
   "cell_type": "code",
   "execution_count": 20,
   "id": "adbf430b-bd22-4a51-b257-f4fe5dd018d9",
   "metadata": {},
   "outputs": [
    {
     "data": {
      "text/plain": [
       "['utils', '.ipynb_checkpoints', '__pycache__', 'World.py']"
      ]
     },
     "execution_count": 20,
     "metadata": {},
     "output_type": "execute_result"
    }
   ],
   "source": [
    "os.listdir()"
   ]
  },
  {
   "cell_type": "code",
   "execution_count": 32,
   "id": "3908a089-8012-4236-a9dc-fdd399e4fc63",
   "metadata": {},
   "outputs": [],
   "source": [
    "os.chdir('/home/user15/data')"
   ]
  },
  {
   "cell_type": "markdown",
   "id": "895f00df-c6b1-47d9-b18a-41f372a1a384",
   "metadata": {},
   "source": [
    "# Aufgabe 4"
   ]
  },
  {
   "cell_type": "code",
   "execution_count": 17,
   "id": "6065bda2-40a8-4dad-955f-3807f788d54e",
   "metadata": {},
   "outputs": [
    {
     "data": {
      "text/plain": [
       "'/home/user15/data/Systemfunktionen'"
      ]
     },
     "execution_count": 17,
     "metadata": {},
     "output_type": "execute_result"
    }
   ],
   "source": [
    "os.path.join(os.getcwd(), 'Systemfunktionen')"
   ]
  },
  {
   "cell_type": "markdown",
   "id": "fdfd7318-f2d3-415f-8e7d-2ec6f1db1db3",
   "metadata": {},
   "source": [
    "# Aufgabe 5"
   ]
  },
  {
   "cell_type": "code",
   "execution_count": 22,
   "id": "fac4af58-5408-4572-ac22-510560d41465",
   "metadata": {},
   "outputs": [],
   "source": [
    "p = '/home/user15/data/hello'"
   ]
  },
  {
   "cell_type": "code",
   "execution_count": 23,
   "id": "bed84540-0ee2-419d-853a-07b89cd8c71f",
   "metadata": {},
   "outputs": [
    {
     "data": {
      "text/plain": [
       "False"
      ]
     },
     "execution_count": 23,
     "metadata": {},
     "output_type": "execute_result"
    }
   ],
   "source": [
    "os.path.isfile(p)"
   ]
  },
  {
   "cell_type": "code",
   "execution_count": 24,
   "id": "364b2b61-6ddc-48a6-9a49-aa91f7bbafbf",
   "metadata": {},
   "outputs": [
    {
     "data": {
      "text/plain": [
       "True"
      ]
     },
     "execution_count": 24,
     "metadata": {},
     "output_type": "execute_result"
    }
   ],
   "source": [
    "os.path.isdir(p)"
   ]
  },
  {
   "cell_type": "markdown",
   "id": "852c443b-76a3-499b-ab52-0dc541d340e0",
   "metadata": {},
   "source": [
    "# Aufgabe 6"
   ]
  },
  {
   "cell_type": "code",
   "execution_count": 35,
   "id": "5304881e-79e8-4e5f-9016-b43428acc723",
   "metadata": {},
   "outputs": [],
   "source": [
    "import shutil, time"
   ]
  },
  {
   "cell_type": "code",
   "execution_count": 34,
   "id": "60d41b90-cee2-4d72-aea2-f0a5204bcd31",
   "metadata": {},
   "outputs": [
    {
     "data": {
      "text/plain": [
       "'/home/user15/data/hello/data.txt'"
      ]
     },
     "execution_count": 34,
     "metadata": {},
     "output_type": "execute_result"
    }
   ],
   "source": [
    "shutil.copy('./data.txt', '/home/user15/data/hello')"
   ]
  },
  {
   "cell_type": "markdown",
   "id": "49504c57-33ba-4829-94bb-a9a2d9ea32e1",
   "metadata": {},
   "source": [
    "# Aufgabe 7"
   ]
  },
  {
   "cell_type": "code",
   "execution_count": 37,
   "id": "a2b58097-bbe3-411e-a55e-2695874f1c3a",
   "metadata": {},
   "outputs": [],
   "source": [
    "currenttime = time.time()"
   ]
  },
  {
   "cell_type": "code",
   "execution_count": 40,
   "id": "b19f5739-170e-46b9-add6-ef8dd56b2c47",
   "metadata": {},
   "outputs": [
    {
     "name": "stdout",
     "output_type": "stream",
     "text": [
      "Untitled.ipynb\n",
      "Entscheidungen_Übungen.ipynb\n",
      "Entscheidungen.ipynb\n",
      "source.zip\n",
      "IO.ipynb\n",
      "Scoping.ipynb\n",
      "Mengen_Aufgaben.ipynb\n",
      "Funktionen_Aufgaben.ipynb\n",
      "Mengen.ipynb\n",
      "Listen Übungen.ipynb\n",
      "IO_Aufgabe3.txt\n",
      "String_Aufgaben.py\n",
      "Anweisungen.ipynb\n",
      "Schleifen_Übungen.ipynb\n",
      "Generatoren_Iteratoren.ipynb\n",
      "Systemfunktionen_Aufgaben.ipynb\n",
      "Sequenzen_Übungen.ipynb\n",
      "Schleifen.ipynb\n",
      "liste.pcl\n",
      "String_Aufgaben.ipynb\n",
      "Systemfunktionen.ipynb\n",
      "Sequnezen.ipynb\n",
      "Objekte.ipynb\n",
      "scoping.py\n",
      "Helloworld.py\n",
      "show_sys_path.py\n",
      "data2.txt\n",
      "Pakete.ipynb\n",
      "Schleifen_Übung_3.py\n",
      "Dictionarys.ipynb\n",
      "Syntax.ipynb\n",
      "Klassen_Aufgaben.ipynb\n",
      "Generatoren_Augaben.ipynb\n",
      "Funktionen.ipynb\n",
      "Dictionarys_Aufgabe5.ipynb\n",
      "Ausnahmen.ipynb\n",
      "Ausnahmen_Aufgaben.ipynb\n",
      "Datentypen.ipynb\n",
      "IO_Aufgabe7.py\n",
      "IO_Aufgaben.ipynb\n",
      "Dictionary_Aufgaben.py\n",
      "Pakete_Aufgaben.py\n",
      "Strings.ipynb\n",
      "Einführung.ipynb\n",
      "Klassen.ipynb\n",
      "data.txt\n",
      "Listen.ipynb\n",
      "Untitled.ipynb\n",
      "IO.ipynb\n",
      "Scoping.ipynb\n",
      "Funktionen_Aufgaben.ipynb\n"
     ]
    },
    {
     "ename": "FileNotFoundError",
     "evalue": "[Errno 2] No such file or directory: 'systemfunktionen.ipynb'",
     "output_type": "error",
     "traceback": [
      "\u001b[0;31m---------------------------------------------------------------------------\u001b[0m",
      "\u001b[0;31mFileNotFoundError\u001b[0m                         Traceback (most recent call last)",
      "Input \u001b[0;32mIn [40]\u001b[0m, in \u001b[0;36m<cell line: 5>\u001b[0;34m()\u001b[0m\n\u001b[1;32m      6\u001b[0m \u001b[38;5;28;01mfor\u001b[39;00m file \u001b[38;5;129;01min\u001b[39;00m files:\n\u001b[1;32m      7\u001b[0m     filr \u001b[38;5;241m=\u001b[39m join(root, file)\n\u001b[0;32m----> 8\u001b[0m     \u001b[38;5;28;01mif\u001b[39;00m \u001b[43mgetatime\u001b[49m\u001b[43m(\u001b[49m\u001b[43mfile\u001b[49m\u001b[43m)\u001b[49m \u001b[38;5;241m-\u001b[39m now \u001b[38;5;241m<\u001b[39m \u001b[38;5;241m86_400\u001b[39m:\n\u001b[1;32m      9\u001b[0m         \u001b[38;5;28mprint\u001b[39m(file)\n",
      "File \u001b[0;32m/opt/mambaforge/envs/python310/lib/python3.10/genericpath.py:60\u001b[0m, in \u001b[0;36mgetatime\u001b[0;34m(filename)\u001b[0m\n\u001b[1;32m     58\u001b[0m \u001b[38;5;28;01mdef\u001b[39;00m \u001b[38;5;21mgetatime\u001b[39m(filename):\n\u001b[1;32m     59\u001b[0m     \u001b[38;5;124;03m\"\"\"Return the last access time of a file, reported by os.stat().\"\"\"\u001b[39;00m\n\u001b[0;32m---> 60\u001b[0m     \u001b[38;5;28;01mreturn\u001b[39;00m \u001b[43mos\u001b[49m\u001b[38;5;241;43m.\u001b[39;49m\u001b[43mstat\u001b[49m\u001b[43m(\u001b[49m\u001b[43mfilename\u001b[49m\u001b[43m)\u001b[49m\u001b[38;5;241m.\u001b[39mst_atime\n",
      "\u001b[0;31mFileNotFoundError\u001b[0m: [Errno 2] No such file or directory: 'systemfunktionen.ipynb'"
     ]
    }
   ],
   "source": [
    "import os\n",
    "from os.path import join, getatime\n",
    "import time\n",
    "now = time.time()\n",
    "for root, dirs, files in os.walk('.'):\n",
    "    for file in files:\n",
    "        filr = join(root, file)\n",
    "        if getatime(file) - now < 86_400:\n",
    "            print(file)"
   ]
  },
  {
   "cell_type": "code",
   "execution_count": null,
   "id": "c24cf211-896a-4063-a059-3d917d717cd7",
   "metadata": {},
   "outputs": [],
   "source": []
  }
 ],
 "metadata": {
  "kernelspec": {
   "display_name": "Python 3.10",
   "language": "python",
   "name": "python310"
  },
  "language_info": {
   "codemirror_mode": {
    "name": "ipython",
    "version": 3
   },
   "file_extension": ".py",
   "mimetype": "text/x-python",
   "name": "python",
   "nbconvert_exporter": "python",
   "pygments_lexer": "ipython3",
   "version": "3.10.4"
  }
 },
 "nbformat": 4,
 "nbformat_minor": 5
}
