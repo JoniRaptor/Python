{
 "cells": [
  {
   "cell_type": "code",
   "execution_count": 1,
   "id": "f189b8a2-a823-4d9a-9abc-e84ad582e83c",
   "metadata": {},
   "outputs": [],
   "source": [
    "import sys"
   ]
  },
  {
   "cell_type": "code",
   "execution_count": 2,
   "id": "897791ab-717a-4d9a-8d7c-de3e50d16530",
   "metadata": {},
   "outputs": [
    {
     "data": {
      "text/plain": [
       "96"
      ]
     },
     "execution_count": 2,
     "metadata": {},
     "output_type": "execute_result"
    }
   ],
   "source": [
    "len(dir(sys))"
   ]
  },
  {
   "cell_type": "code",
   "execution_count": 3,
   "id": "8240146b-7319-4e6a-aebe-f4a371193844",
   "metadata": {},
   "outputs": [
    {
     "data": {
      "text/plain": [
       "''"
      ]
     },
     "execution_count": 3,
     "metadata": {},
     "output_type": "execute_result"
    }
   ],
   "source": [
    "sys.abiflags"
   ]
  },
  {
   "cell_type": "code",
   "execution_count": 4,
   "id": "5d759661-348f-42ab-86e1-1409c329211d",
   "metadata": {},
   "outputs": [
    {
     "data": {
      "text/plain": [
       "1013"
      ]
     },
     "execution_count": 4,
     "metadata": {},
     "output_type": "execute_result"
    }
   ],
   "source": [
    "sys.api_version"
   ]
  },
  {
   "cell_type": "code",
   "execution_count": 5,
   "id": "4215e3de-d5c7-4041-8273-58e49ed407dd",
   "metadata": {},
   "outputs": [
    {
     "data": {
      "text/plain": [
       "['/opt/mambaforge/envs/python310/lib/python3.10/site-packages/ipykernel_launcher.py',\n",
       " '-f',\n",
       " '/home/user15/.local/share/jupyter/runtime/kernel-83f53106-3824-4901-ac6e-586c5e8bdf97.json']"
      ]
     },
     "execution_count": 5,
     "metadata": {},
     "output_type": "execute_result"
    }
   ],
   "source": [
    "sys.argv"
   ]
  },
  {
   "cell_type": "code",
   "execution_count": 6,
   "id": "2c99b1f2-0807-4586-bca8-444da0e763c1",
   "metadata": {},
   "outputs": [
    {
     "data": {
      "text/plain": [
       "'/opt/mambaforge/envs/python310'"
      ]
     },
     "execution_count": 6,
     "metadata": {},
     "output_type": "execute_result"
    }
   ],
   "source": [
    "sys.prefix"
   ]
  },
  {
   "cell_type": "code",
   "execution_count": 7,
   "id": "bd7810f8-49c1-42d1-91f9-80662972f7ad",
   "metadata": {},
   "outputs": [
    {
     "data": {
      "text/plain": [
       "('_abc',\n",
       " '_ast',\n",
       " '_codecs',\n",
       " '_collections',\n",
       " '_functools',\n",
       " '_imp',\n",
       " '_io',\n",
       " '_locale',\n",
       " '_operator',\n",
       " '_signal',\n",
       " '_sre',\n",
       " '_stat',\n",
       " '_string',\n",
       " '_symtable',\n",
       " '_thread',\n",
       " '_tracemalloc',\n",
       " '_warnings',\n",
       " '_weakref',\n",
       " 'atexit',\n",
       " 'builtins',\n",
       " 'errno',\n",
       " 'faulthandler',\n",
       " 'gc',\n",
       " 'itertools',\n",
       " 'marshal',\n",
       " 'posix',\n",
       " 'pwd',\n",
       " 'sys',\n",
       " 'time',\n",
       " 'xxsubtype')"
      ]
     },
     "execution_count": 7,
     "metadata": {},
     "output_type": "execute_result"
    }
   ],
   "source": [
    "sys.builtin_module_names"
   ]
  },
  {
   "cell_type": "code",
   "execution_count": 8,
   "id": "d8f108bd-18f8-4b5f-b02f-b456da886955",
   "metadata": {},
   "outputs": [
    {
     "data": {
      "text/plain": [
       "\u001b[0;31mType:\u001b[0m        module\n",
       "\u001b[0;31mString form:\u001b[0m <module 'sys' (built-in)>\n",
       "\u001b[0;31mDocstring:\u001b[0m  \n",
       "This module provides access to some objects used or maintained by the\n",
       "interpreter and to functions that interact strongly with the interpreter.\n",
       "\n",
       "Dynamic objects:\n",
       "\n",
       "argv -- command line arguments; argv[0] is the script pathname if known\n",
       "path -- module search path; path[0] is the script directory, else ''\n",
       "modules -- dictionary of loaded modules\n",
       "\n",
       "displayhook -- called to show results in an interactive session\n",
       "excepthook -- called to handle any uncaught exception other than SystemExit\n",
       "  To customize printing in an interactive session or to install a custom\n",
       "  top-level exception handler, assign other functions to replace these.\n",
       "\n",
       "stdin -- standard input file object; used by input()\n",
       "stdout -- standard output file object; used by print()\n",
       "stderr -- standard error object; used for error messages\n",
       "  By assigning other file objects (or objects that behave like files)\n",
       "  to these, it is possible to redirect all of the interpreter's I/O.\n",
       "\n",
       "last_type -- type of last uncaught exception\n",
       "last_value -- value of last uncaught exception\n",
       "last_traceback -- traceback of last uncaught exception\n",
       "  These three are only available in an interactive session after a\n",
       "  traceback has been printed.\n",
       "\n",
       "Static objects:\n",
       "\n",
       "builtin_module_names -- tuple of module names built into this interpreter\n",
       "copyright -- copyright notice pertaining to this interpreter\n",
       "exec_prefix -- prefix used to find the machine-specific Python library\n",
       "executable -- absolute path of the executable binary of the Python interpreter\n",
       "float_info -- a named tuple with information about the float implementation.\n",
       "float_repr_style -- string indicating the style of repr() output for floats\n",
       "hash_info -- a named tuple with information about the hash algorithm.\n",
       "hexversion -- version information encoded as a single integer\n",
       "implementation -- Python implementation information.\n",
       "int_info -- a named tuple with information about the int implementation.\n",
       "maxsize -- the largest supported length of containers.\n",
       "maxunicode -- the value of the largest Unicode code point\n",
       "platform -- platform identifier\n",
       "prefix -- prefix used to find the Python library\n",
       "thread_info -- a named tuple with information about the thread implementation.\n",
       "version -- the version of this interpreter as a string\n",
       "version_info -- version information as a named tuple\n",
       "__stdin__ -- the original stdin; don't touch!\n",
       "__stdout__ -- the original stdout; don't touch!\n",
       "__stderr__ -- the original stderr; don't touch!\n",
       "__displayhook__ -- the original displayhook; don't touch!\n",
       "__excepthook__ -- the original excepthook; don't touch!\n",
       "\n",
       "Functions:\n",
       "\n",
       "displayhook() -- print an object to the screen, and save it in builtins._\n",
       "excepthook() -- print an exception and its traceback to sys.stderr\n",
       "exc_info() -- return thread-safe information about the current exception\n",
       "exit() -- exit the interpreter by raising SystemExit\n",
       "getdlopenflags() -- returns flags to be used for dlopen() calls\n",
       "getprofile() -- get the global profiling function\n",
       "getrefcount() -- return the reference count for an object (plus one :-)\n",
       "getrecursionlimit() -- return the max recursion depth for the interpreter\n",
       "getsizeof() -- return the size of an object in bytes\n",
       "gettrace() -- get the global debug tracing function\n",
       "setdlopenflags() -- set the flags to be used for dlopen() calls\n",
       "setprofile() -- set the global profiling function\n",
       "setrecursionlimit() -- set the max recursion depth for the interpreter\n",
       "settrace() -- set the global debug tracing function\n"
      ]
     },
     "metadata": {},
     "output_type": "display_data"
    }
   ],
   "source": [
    "sys??"
   ]
  },
  {
   "cell_type": "code",
   "execution_count": 9,
   "id": "01499490-9c43-4bae-bb9e-95347c3000b9",
   "metadata": {},
   "outputs": [
    {
     "data": {
      "text/plain": [
       "'little'"
      ]
     },
     "execution_count": 9,
     "metadata": {},
     "output_type": "execute_result"
    }
   ],
   "source": [
    "sys.byteorder"
   ]
  },
  {
   "cell_type": "code",
   "execution_count": 10,
   "id": "282e376b-2a19-43cc-9db8-74cbbe1da478",
   "metadata": {},
   "outputs": [
    {
     "data": {
      "text/plain": [
       "False"
      ]
     },
     "execution_count": 10,
     "metadata": {},
     "output_type": "execute_result"
    }
   ],
   "source": [
    "sys.dont_write_bytecode"
   ]
  },
  {
   "cell_type": "code",
   "execution_count": 13,
   "id": "6f43b540-d5bb-4e93-91c9-252025126db7",
   "metadata": {},
   "outputs": [
    {
     "data": {
      "text/plain": [
       "'/opt/mambaforge/envs/python310/bin/python'"
      ]
     },
     "execution_count": 13,
     "metadata": {},
     "output_type": "execute_result"
    }
   ],
   "source": [
    "sys.executable"
   ]
  },
  {
   "cell_type": "code",
   "execution_count": 15,
   "id": "c987f2d3-6793-4daf-89b0-d7e79155973a",
   "metadata": {},
   "outputs": [
    {
     "ename": "AttributeError",
     "evalue": "module 'sys' has no attribute 'getcheckinterval'",
     "output_type": "error",
     "traceback": [
      "\u001b[0;31m---------------------------------------------------------------------------\u001b[0m",
      "\u001b[0;31mAttributeError\u001b[0m                            Traceback (most recent call last)",
      "Input \u001b[0;32mIn [15]\u001b[0m, in \u001b[0;36m<cell line: 1>\u001b[0;34m()\u001b[0m\n\u001b[0;32m----> 1\u001b[0m \u001b[43msys\u001b[49m\u001b[38;5;241;43m.\u001b[39;49m\u001b[43mgetcheckinterval\u001b[49m()\n",
      "\u001b[0;31mAttributeError\u001b[0m: module 'sys' has no attribute 'getcheckinterval'"
     ]
    }
   ],
   "source": [
    "sys.getcheckinterval()"
   ]
  },
  {
   "cell_type": "code",
   "execution_count": 17,
   "id": "edf84205-5071-45d3-aa94-5ba94c9aab70",
   "metadata": {},
   "outputs": [
    {
     "data": {
      "text/plain": [
       "0.005"
      ]
     },
     "execution_count": 17,
     "metadata": {},
     "output_type": "execute_result"
    }
   ],
   "source": [
    "sys.getswitchinterval()"
   ]
  },
  {
   "cell_type": "code",
   "execution_count": 18,
   "id": "74b4ad62-c72e-42bc-8f32-828c221e4aa0",
   "metadata": {},
   "outputs": [
    {
     "data": {
      "text/plain": [
       "3000"
      ]
     },
     "execution_count": 18,
     "metadata": {},
     "output_type": "execute_result"
    }
   ],
   "source": [
    "sys.getrecursionlimit()"
   ]
  },
  {
   "cell_type": "code",
   "execution_count": 19,
   "id": "68621e45-8806-448a-97c0-15c70078d5e6",
   "metadata": {},
   "outputs": [
    {
     "data": {
      "text/plain": [
       "11857"
      ]
     },
     "execution_count": 19,
     "metadata": {},
     "output_type": "execute_result"
    }
   ],
   "source": [
    "sys.getrefcount(1)"
   ]
  },
  {
   "cell_type": "code",
   "execution_count": 20,
   "id": "54cf7115-de87-4d95-98d9-fad7dc86bf77",
   "metadata": {},
   "outputs": [
    {
     "data": {
      "text/plain": [
       "946"
      ]
     },
     "execution_count": 20,
     "metadata": {},
     "output_type": "execute_result"
    }
   ],
   "source": [
    "len(sys.modules)"
   ]
  },
  {
   "cell_type": "code",
   "execution_count": 21,
   "id": "2c854a47-d397-4b89-8a7b-25cc08815069",
   "metadata": {},
   "outputs": [
    {
     "data": {
      "text/plain": [
       "True"
      ]
     },
     "execution_count": 21,
     "metadata": {},
     "output_type": "execute_result"
    }
   ],
   "source": [
    "'sys' in sys.modules"
   ]
  },
  {
   "cell_type": "code",
   "execution_count": 22,
   "id": "de5f26c4-2de6-4a51-af7b-fa700a4d7ecf",
   "metadata": {},
   "outputs": [
    {
     "data": {
      "text/plain": [
       "['/home/user15/data',\n",
       " '/opt/mambaforge/envs/python310/lib/python310.zip',\n",
       " '/opt/mambaforge/envs/python310/lib/python3.10',\n",
       " '/opt/mambaforge/envs/python310/lib/python3.10/lib-dynload',\n",
       " '',\n",
       " '/opt/mambaforge/envs/python310/lib/python3.10/site-packages']"
      ]
     },
     "execution_count": 22,
     "metadata": {},
     "output_type": "execute_result"
    }
   ],
   "source": [
    "sys.path"
   ]
  },
  {
   "cell_type": "code",
   "execution_count": 23,
   "id": "64f566eb-cc9d-4210-96b3-d0e906769ee2",
   "metadata": {},
   "outputs": [
    {
     "data": {
      "text/plain": [
       "'linux'"
      ]
     },
     "execution_count": 23,
     "metadata": {},
     "output_type": "execute_result"
    }
   ],
   "source": [
    "sys.platform"
   ]
  },
  {
   "cell_type": "code",
   "execution_count": 24,
   "id": "8734e623-0f17-4d5a-ae3f-a76efed3d78d",
   "metadata": {},
   "outputs": [
    {
     "data": {
      "text/plain": [
       "'3.10.4 | packaged by conda-forge | (main, Mar 24 2022, 17:38:57) [GCC 10.3.0]'"
      ]
     },
     "execution_count": 24,
     "metadata": {},
     "output_type": "execute_result"
    }
   ],
   "source": [
    "sys.version"
   ]
  },
  {
   "cell_type": "code",
   "execution_count": 25,
   "id": "4e3f4555-da23-4916-b88e-8bfe2d7b857b",
   "metadata": {},
   "outputs": [
    {
     "data": {
      "text/plain": [
       "sys.version_info(major=3, minor=10, micro=4, releaselevel='final', serial=0)"
      ]
     },
     "execution_count": 25,
     "metadata": {},
     "output_type": "execute_result"
    }
   ],
   "source": [
    "sys.version_info"
   ]
  },
  {
   "cell_type": "code",
   "execution_count": 26,
   "id": "652c82ef-82dd-4eb0-9069-03c8f12de8b4",
   "metadata": {},
   "outputs": [
    {
     "data": {
      "text/plain": [
       "3"
      ]
     },
     "execution_count": 26,
     "metadata": {},
     "output_type": "execute_result"
    }
   ],
   "source": [
    "sys.version_info.major"
   ]
  },
  {
   "cell_type": "code",
   "execution_count": 27,
   "id": "12ad526c-7035-4ad8-ae28-eb78ef3d53a9",
   "metadata": {},
   "outputs": [
    {
     "data": {
      "text/plain": [
       "sys.thread_info(name='pthread', lock='semaphore', version='NPTL 2.31')"
      ]
     },
     "execution_count": 27,
     "metadata": {},
     "output_type": "execute_result"
    }
   ],
   "source": [
    "sys.thread_info"
   ]
  },
  {
   "cell_type": "code",
   "execution_count": 28,
   "id": "a5c68ee7-e347-42d3-8e44-04b7ca42efe1",
   "metadata": {},
   "outputs": [],
   "source": [
    "import os"
   ]
  },
  {
   "cell_type": "code",
   "execution_count": 29,
   "id": "3a437838-33a5-481b-b5d7-b8307488b226",
   "metadata": {},
   "outputs": [
    {
     "data": {
      "text/plain": [
       "354"
      ]
     },
     "execution_count": 29,
     "metadata": {},
     "output_type": "execute_result"
    }
   ],
   "source": [
    "len(dir(os))"
   ]
  },
  {
   "cell_type": "code",
   "execution_count": 30,
   "id": "4611ba44-dd96-4fff-9c6e-7669c48f018f",
   "metadata": {},
   "outputs": [
    {
     "data": {
      "text/plain": [
       "'/home/user15/data'"
      ]
     },
     "execution_count": 30,
     "metadata": {},
     "output_type": "execute_result"
    }
   ],
   "source": [
    "os.getcwd()"
   ]
  },
  {
   "cell_type": "code",
   "execution_count": 31,
   "id": "6191b176-d8bb-45b5-b681-092b2d84df45",
   "metadata": {},
   "outputs": [
    {
     "data": {
      "text/plain": [
       "\u001b[0;31mSignature:\u001b[0m \u001b[0mos\u001b[0m\u001b[0;34m.\u001b[0m\u001b[0mchdir\u001b[0m\u001b[0;34m(\u001b[0m\u001b[0mpath\u001b[0m\u001b[0;34m)\u001b[0m\u001b[0;34m\u001b[0m\u001b[0;34m\u001b[0m\u001b[0m\n",
       "\u001b[0;31mDocstring:\u001b[0m\n",
       "Change the current working directory to the specified path.\n",
       "\n",
       "path may always be specified as a string.\n",
       "On some platforms, path may also be specified as an open file descriptor.\n",
       "  If this functionality is unavailable, using it raises an exception.\n",
       "\u001b[0;31mType:\u001b[0m      builtin_function_or_method\n"
      ]
     },
     "metadata": {},
     "output_type": "display_data"
    }
   ],
   "source": [
    "os.chdir?"
   ]
  },
  {
   "cell_type": "code",
   "execution_count": 32,
   "id": "596c39d5-90aa-4ee5-b218-3c56dc9b17a7",
   "metadata": {},
   "outputs": [
    {
     "data": {
      "text/plain": [
       "8"
      ]
     },
     "execution_count": 32,
     "metadata": {},
     "output_type": "execute_result"
    }
   ],
   "source": [
    "os.cpu_count()"
   ]
  },
  {
   "cell_type": "code",
   "execution_count": 33,
   "id": "f2c9e414-731e-42f3-b01b-7cd7f724696d",
   "metadata": {},
   "outputs": [
    {
     "data": {
      "text/plain": [
       "'/dev/null'"
      ]
     },
     "execution_count": 33,
     "metadata": {},
     "output_type": "execute_result"
    }
   ],
   "source": [
    "os.devnull"
   ]
  },
  {
   "cell_type": "code",
   "execution_count": 34,
   "id": "ea4c34ed-5b7d-4e7b-a22a-b264c19db5fd",
   "metadata": {},
   "outputs": [
    {
     "data": {
      "text/plain": [
       "environ{'USER': 'user15',\n",
       "        'JUPYTERHUB_OAUTH_SCOPES': '[\"access:servers!server=user15/\", \"access:servers!user=user15\"]',\n",
       "        'JUPYTERHUB_HOST': '',\n",
       "        'JUPYTERHUB_USER': 'user15',\n",
       "        'HOME': '/home/user15',\n",
       "        'JUPYTERHUB_SERVICE_URL': 'http://127.0.0.1:44923/ba-ss-2022-02/user/user15/',\n",
       "        'JUPYTERHUB_OAUTH_CALLBACK_URL': '/ba-ss-2022-02/user/user15/oauth_callback',\n",
       "        'JUPYTERHUB_API_URL': 'http://127.0.0.1:8081/ba-ss-2022-02/hub/api',\n",
       "        'JUPYTERHUB_ROOT_DIR': '~/data',\n",
       "        'JUPYTERHUB_CLIENT_ID': 'jupyterhub-user-user15',\n",
       "        'PATH': '/opt/mambaforge/envs/python310/bin:/opt/mambaforge/condabin:/usr/local/bin:/usr/bin:/bin:/usr/local/games:/usr/games',\n",
       "        'JUPYTERHUB_ACTIVITY_URL': 'http://127.0.0.1:8081/ba-ss-2022-02/hub/api/users/user15/activity',\n",
       "        'LANG': 'C.UTF-8',\n",
       "        'SHELL': '/bin/bash',\n",
       "        'JUPYTERHUB_ADMIN_ACCESS': '1',\n",
       "        'JUPYTERHUB_SERVICE_PREFIX': '/ba-ss-2022-02/user/user15/',\n",
       "        'LC_ALL': 'C.UTF-8',\n",
       "        'JUPYTERHUB_API_TOKEN': 'f0bbd0aa174442fb8642324f5a620ddb',\n",
       "        'PWD': '/home/user15',\n",
       "        'JUPYTERHUB_SERVER_NAME': '',\n",
       "        'JUPYTERHUB_BASE_URL': '/ba-ss-2022-02/',\n",
       "        'JUPYTERHUB_DEFAULT_URL': '/lab',\n",
       "        'JPY_API_TOKEN': 'f0bbd0aa174442fb8642324f5a620ddb',\n",
       "        'JUPYTERHUB_SINGLEUSER_APP': 'jupyter_server.serverapp.ServerApp',\n",
       "        'PYDEVD_USE_FRAME_EVAL': 'NO',\n",
       "        'PYTHONUNBUFFERED': '1',\n",
       "        'JPY_PARENT_PID': '300',\n",
       "        'TERM': 'xterm-color',\n",
       "        'CLICOLOR': '1',\n",
       "        'PAGER': 'cat',\n",
       "        'GIT_PAGER': 'cat',\n",
       "        'MPLBACKEND': 'module://matplotlib_inline.backend_inline'}"
      ]
     },
     "execution_count": 34,
     "metadata": {},
     "output_type": "execute_result"
    }
   ],
   "source": [
    "os.environ"
   ]
  },
  {
   "cell_type": "code",
   "execution_count": 36,
   "id": "98351c95-9611-46e3-9471-a5a37bfe83c6",
   "metadata": {},
   "outputs": [
    {
     "data": {
      "text/plain": [
       "['Entscheidungen_Übungen.ipynb',\n",
       " 'Entscheidungen.ipynb',\n",
       " 'source.zip',\n",
       " 'IO.ipynb',\n",
       " 'Scoping.ipynb',\n",
       " 'Mengen_Aufgaben.ipynb',\n",
       " 'Funktionen_Aufgaben.ipynb',\n",
       " 'Mengen.ipynb',\n",
       " '.virtual_documents',\n",
       " 'Listen Übungen.ipynb',\n",
       " 'IO_Aufgabe3.txt',\n",
       " 'String_Aufgaben.py',\n",
       " 'Anweisungen.ipynb',\n",
       " 'materials',\n",
       " 'listmath',\n",
       " 'Schleifen_Übungen.ipynb',\n",
       " 'hello',\n",
       " 'Generatoren_Iteratoren.ipynb',\n",
       " 'Sequenzen_Übungen.ipynb',\n",
       " 'Schleifen.ipynb',\n",
       " 'liste.pcl',\n",
       " 'generatoren',\n",
       " 'String_Aufgaben.ipynb',\n",
       " 'Systemfunktionen.ipynb',\n",
       " 'Sequnezen.ipynb',\n",
       " '.ipynb_checkpoints',\n",
       " 'Objekte.ipynb',\n",
       " 'scoping.py',\n",
       " 'Helloworld.py',\n",
       " 'show_sys_path.py',\n",
       " 'data2.txt',\n",
       " 'Pakete.ipynb',\n",
       " 'Schleifen_Übung_3.py',\n",
       " 'Dictionarys.ipynb',\n",
       " 'Syntax.ipynb',\n",
       " 'Klassen_Aufgaben.ipynb',\n",
       " 'io',\n",
       " 'Generatoren_Augaben.ipynb',\n",
       " 'Funktionen.ipynb',\n",
       " 'Dictionarys_Aufgabe5.ipynb',\n",
       " 'Ausnahmen.ipynb',\n",
       " 'Ausnahmen_Aufgaben.ipynb',\n",
       " 'shared',\n",
       " 'Datentypen.ipynb',\n",
       " 'IO_Aufgabe7.py',\n",
       " 'IO_Aufgaben.ipynb',\n",
       " 'Dictionary_Aufgaben.py',\n",
       " 'Pakete_Aufgaben.py',\n",
       " 'Strings.ipynb',\n",
       " 'Einführung.ipynb',\n",
       " 'Klassen.ipynb',\n",
       " 'data.txt',\n",
       " 'Listen.ipynb']"
      ]
     },
     "execution_count": 36,
     "metadata": {},
     "output_type": "execute_result"
    }
   ],
   "source": [
    "os.listdir()"
   ]
  },
  {
   "cell_type": "code",
   "execution_count": 37,
   "id": "1d653be2-cb1f-448a-8d5e-e5fc879effa5",
   "metadata": {},
   "outputs": [
    {
     "data": {
      "text/plain": [
       "\u001b[0;31mSignature:\u001b[0m \u001b[0mos\u001b[0m\u001b[0;34m.\u001b[0m\u001b[0mwalk\u001b[0m\u001b[0;34m(\u001b[0m\u001b[0mtop\u001b[0m\u001b[0;34m,\u001b[0m \u001b[0mtopdown\u001b[0m\u001b[0;34m=\u001b[0m\u001b[0;32mTrue\u001b[0m\u001b[0;34m,\u001b[0m \u001b[0monerror\u001b[0m\u001b[0;34m=\u001b[0m\u001b[0;32mNone\u001b[0m\u001b[0;34m,\u001b[0m \u001b[0mfollowlinks\u001b[0m\u001b[0;34m=\u001b[0m\u001b[0;32mFalse\u001b[0m\u001b[0;34m)\u001b[0m\u001b[0;34m\u001b[0m\u001b[0;34m\u001b[0m\u001b[0m\n",
       "\u001b[0;31mDocstring:\u001b[0m\n",
       "Directory tree generator.\n",
       "\n",
       "For each directory in the directory tree rooted at top (including top\n",
       "itself, but excluding '.' and '..'), yields a 3-tuple\n",
       "\n",
       "    dirpath, dirnames, filenames\n",
       "\n",
       "dirpath is a string, the path to the directory.  dirnames is a list of\n",
       "the names of the subdirectories in dirpath (excluding '.' and '..').\n",
       "filenames is a list of the names of the non-directory files in dirpath.\n",
       "Note that the names in the lists are just names, with no path components.\n",
       "To get a full path (which begins with top) to a file or directory in\n",
       "dirpath, do os.path.join(dirpath, name).\n",
       "\n",
       "If optional arg 'topdown' is true or not specified, the triple for a\n",
       "directory is generated before the triples for any of its subdirectories\n",
       "(directories are generated top down).  If topdown is false, the triple\n",
       "for a directory is generated after the triples for all of its\n",
       "subdirectories (directories are generated bottom up).\n",
       "\n",
       "When topdown is true, the caller can modify the dirnames list in-place\n",
       "(e.g., via del or slice assignment), and walk will only recurse into the\n",
       "subdirectories whose names remain in dirnames; this can be used to prune the\n",
       "search, or to impose a specific order of visiting.  Modifying dirnames when\n",
       "topdown is false has no effect on the behavior of os.walk(), since the\n",
       "directories in dirnames have already been generated by the time dirnames\n",
       "itself is generated. No matter the value of topdown, the list of\n",
       "subdirectories is retrieved before the tuples for the directory and its\n",
       "subdirectories are generated.\n",
       "\n",
       "By default errors from the os.scandir() call are ignored.  If\n",
       "optional arg 'onerror' is specified, it should be a function; it\n",
       "will be called with one argument, an OSError instance.  It can\n",
       "report the error to continue with the walk, or raise the exception\n",
       "to abort the walk.  Note that the filename is available as the\n",
       "filename attribute of the exception object.\n",
       "\n",
       "By default, os.walk does not follow symbolic links to subdirectories on\n",
       "systems that support them.  In order to get this functionality, set the\n",
       "optional argument 'followlinks' to true.\n",
       "\n",
       "Caution:  if you pass a relative pathname for top, don't change the\n",
       "current working directory between resumptions of walk.  walk never\n",
       "changes the current directory, and assumes that the client doesn't\n",
       "either.\n",
       "\n",
       "Example:\n",
       "\n",
       "import os\n",
       "from os.path import join, getsize\n",
       "for root, dirs, files in os.walk('python/Lib/email'):\n",
       "    print(root, \"consumes\", end=\"\")\n",
       "    print(sum(getsize(join(root, name)) for name in files), end=\"\")\n",
       "    print(\"bytes in\", len(files), \"non-directory files\")\n",
       "    if 'CVS' in dirs:\n",
       "        dirs.remove('CVS')  # don't visit CVS directories\n",
       "\u001b[0;31mFile:\u001b[0m      /opt/mambaforge/envs/python310/lib/python3.10/os.py\n",
       "\u001b[0;31mType:\u001b[0m      function\n"
      ]
     },
     "metadata": {},
     "output_type": "display_data"
    }
   ],
   "source": [
    "os.walk?"
   ]
  },
  {
   "cell_type": "code",
   "execution_count": 38,
   "id": "9d632966-a774-4170-b8b5-d847ddfe378f",
   "metadata": {},
   "outputs": [
    {
     "data": {
      "text/plain": [
       "'a/b'"
      ]
     },
     "execution_count": 38,
     "metadata": {},
     "output_type": "execute_result"
    }
   ],
   "source": [
    "os.path.join('a', 'b')"
   ]
  },
  {
   "cell_type": "code",
   "execution_count": 39,
   "id": "b5aea6f3-1aac-4b60-9ce7-535c8a5e8c1c",
   "metadata": {},
   "outputs": [],
   "source": [
    "p = 'C:\\tmp'"
   ]
  },
  {
   "cell_type": "code",
   "execution_count": 40,
   "id": "bab756b4-3328-4ba1-831c-4355d702b009",
   "metadata": {},
   "outputs": [
    {
     "data": {
      "text/plain": [
       "'C:\\tmp'"
      ]
     },
     "execution_count": 40,
     "metadata": {},
     "output_type": "execute_result"
    }
   ],
   "source": [
    "p"
   ]
  },
  {
   "cell_type": "code",
   "execution_count": 41,
   "id": "e6a5611f-a26e-4811-bca0-495317fb2a86",
   "metadata": {},
   "outputs": [
    {
     "name": "stdout",
     "output_type": "stream",
     "text": [
      "C:\tmp\n"
     ]
    }
   ],
   "source": [
    "print(p)"
   ]
  },
  {
   "cell_type": "code",
   "execution_count": 42,
   "id": "946bf4b3-1b15-4480-be3f-8f2c5665b4f8",
   "metadata": {},
   "outputs": [
    {
     "name": "stdout",
     "output_type": "stream",
     "text": [
      "C:\\tmp\n"
     ]
    }
   ],
   "source": [
    "print('C:\\\\tmp')"
   ]
  },
  {
   "cell_type": "code",
   "execution_count": 45,
   "id": "bda69694-5fd3-4499-af3c-ec9a9d5edd4d",
   "metadata": {},
   "outputs": [
    {
     "name": "stdout",
     "output_type": "stream",
     "text": [
      "C:\\tmp\n"
     ]
    }
   ],
   "source": [
    "print(r'C:\\tmp')  # r --> Raw_String für Windows pfade"
   ]
  },
  {
   "cell_type": "code",
   "execution_count": 46,
   "id": "df3833b1-60b6-463d-8d43-da9b371cc90d",
   "metadata": {},
   "outputs": [],
   "source": [
    "from pathlib import Path"
   ]
  },
  {
   "cell_type": "code",
   "execution_count": 48,
   "id": "0eb6d780-c4ef-472b-8383-b224af0c4be3",
   "metadata": {},
   "outputs": [],
   "source": [
    "p = Path()"
   ]
  },
  {
   "cell_type": "code",
   "execution_count": 49,
   "id": "5c1ef17f-810e-487c-b2d5-564a217b6544",
   "metadata": {},
   "outputs": [
    {
     "data": {
      "text/plain": [
       "PosixPath('.')"
      ]
     },
     "execution_count": 49,
     "metadata": {},
     "output_type": "execute_result"
    }
   ],
   "source": [
    "p"
   ]
  },
  {
   "cell_type": "code",
   "execution_count": 50,
   "id": "01b0a2ff-7083-4a29-b214-387f765b352a",
   "metadata": {},
   "outputs": [
    {
     "data": {
      "text/plain": [
       "PosixPath('/home/user15/data')"
      ]
     },
     "execution_count": 50,
     "metadata": {},
     "output_type": "execute_result"
    }
   ],
   "source": [
    "p.resolve()"
   ]
  },
  {
   "cell_type": "code",
   "execution_count": 52,
   "id": "713fa4f8-7db8-49d8-9f5d-b975da89274d",
   "metadata": {},
   "outputs": [
    {
     "data": {
      "text/plain": [
       "PosixPath('/home/user15/data/xyz')"
      ]
     },
     "execution_count": 52,
     "metadata": {},
     "output_type": "execute_result"
    }
   ],
   "source": [
    "p.resolve() / 'xyz'"
   ]
  },
  {
   "cell_type": "code",
   "execution_count": 53,
   "id": "ca199ac8-3454-4de0-a4e4-b55da910681b",
   "metadata": {},
   "outputs": [
    {
     "data": {
      "text/plain": [
       "108"
      ]
     },
     "execution_count": 53,
     "metadata": {},
     "output_type": "execute_result"
    }
   ],
   "source": [
    "len(dir(p))"
   ]
  },
  {
   "cell_type": "code",
   "execution_count": 54,
   "id": "670871b0-d40e-4f6d-b39f-92176f8c9368",
   "metadata": {},
   "outputs": [],
   "source": [
    "import shutil"
   ]
  },
  {
   "cell_type": "code",
   "execution_count": 55,
   "id": "e8e33381-5319-433b-90d1-1af70acfdb14",
   "metadata": {},
   "outputs": [
    {
     "data": {
      "text/plain": [
       "\u001b[0;31mSignature:\u001b[0m \u001b[0mshutil\u001b[0m\u001b[0;34m.\u001b[0m\u001b[0mcopy\u001b[0m\u001b[0;34m(\u001b[0m\u001b[0msrc\u001b[0m\u001b[0;34m,\u001b[0m \u001b[0mdst\u001b[0m\u001b[0;34m,\u001b[0m \u001b[0;34m*\u001b[0m\u001b[0;34m,\u001b[0m \u001b[0mfollow_symlinks\u001b[0m\u001b[0;34m=\u001b[0m\u001b[0;32mTrue\u001b[0m\u001b[0;34m)\u001b[0m\u001b[0;34m\u001b[0m\u001b[0;34m\u001b[0m\u001b[0m\n",
       "\u001b[0;31mDocstring:\u001b[0m\n",
       "Copy data and mode bits (\"cp src dst\"). Return the file's destination.\n",
       "\n",
       "The destination may be a directory.\n",
       "\n",
       "If follow_symlinks is false, symlinks won't be followed. This\n",
       "resembles GNU's \"cp -P src dst\".\n",
       "\n",
       "If source and destination are the same file, a SameFileError will be\n",
       "raised.\n",
       "\u001b[0;31mFile:\u001b[0m      /opt/mambaforge/envs/python310/lib/python3.10/shutil.py\n",
       "\u001b[0;31mType:\u001b[0m      function\n"
      ]
     },
     "metadata": {},
     "output_type": "display_data"
    }
   ],
   "source": [
    "shutil.copy?"
   ]
  },
  {
   "cell_type": "code",
   "execution_count": 56,
   "id": "629acff2-9532-4311-92dd-faff4fe45a5c",
   "metadata": {},
   "outputs": [
    {
     "name": "stdout",
     "output_type": "stream",
     "text": [
      "Usage: cp [OPTION]... [-T] SOURCE DEST\n",
      "  or:  cp [OPTION]... SOURCE... DIRECTORY\n",
      "  or:  cp [OPTION]... -t DIRECTORY SOURCE...\n",
      "Copy SOURCE to DEST, or multiple SOURCE(s) to DIRECTORY.\n",
      "\n",
      "Mandatory arguments to long options are mandatory for short options too.\n",
      "  -a, --archive                same as -dR --preserve=all\n",
      "      --attributes-only        don't copy the file data, just the attributes\n",
      "      --backup[=CONTROL]       make a backup of each existing destination file\n",
      "  -b                           like --backup but does not accept an argument\n",
      "      --copy-contents          copy contents of special files when recursive\n",
      "  -d                           same as --no-dereference --preserve=links\n",
      "  -f, --force                  if an existing destination file cannot be\n",
      "                                 opened, remove it and try again (this option\n",
      "                                 is ignored when the -n option is also used)\n",
      "  -i, --interactive            prompt before overwrite (overrides a previous -n\n",
      "                                  option)\n",
      "  -H                           follow command-line symbolic links in SOURCE\n",
      "  -l, --link                   hard link files instead of copying\n",
      "  -L, --dereference            always follow symbolic links in SOURCE\n",
      "  -n, --no-clobber             do not overwrite an existing file (overrides\n",
      "                                 a previous -i option)\n",
      "  -P, --no-dereference         never follow symbolic links in SOURCE\n",
      "  -p                           same as --preserve=mode,ownership,timestamps\n",
      "      --preserve[=ATTR_LIST]   preserve the specified attributes (default:\n",
      "                                 mode,ownership,timestamps), if possible\n",
      "                                 additional attributes: context, links, xattr,\n",
      "                                 all\n",
      "      --no-preserve=ATTR_LIST  don't preserve the specified attributes\n",
      "      --parents                use full source file name under DIRECTORY\n",
      "  -R, -r, --recursive          copy directories recursively\n",
      "      --reflink[=WHEN]         control clone/CoW copies. See below\n",
      "      --remove-destination     remove each existing destination file before\n",
      "                                 attempting to open it (contrast with --force)\n",
      "      --sparse=WHEN            control creation of sparse files. See below\n",
      "      --strip-trailing-slashes  remove any trailing slashes from each SOURCE\n",
      "                                 argument\n",
      "  -s, --symbolic-link          make symbolic links instead of copying\n",
      "  -S, --suffix=SUFFIX          override the usual backup suffix\n",
      "  -t, --target-directory=DIRECTORY  copy all SOURCE arguments into DIRECTORY\n",
      "  -T, --no-target-directory    treat DEST as a normal file\n",
      "  -u, --update                 copy only when the SOURCE file is newer\n",
      "                                 than the destination file or when the\n",
      "                                 destination file is missing\n",
      "  -v, --verbose                explain what is being done\n",
      "  -x, --one-file-system        stay on this file system\n",
      "  -Z                           set SELinux security context of destination\n",
      "                                 file to default type\n",
      "      --context[=CTX]          like -Z, or if CTX is specified then set the\n",
      "                                 SELinux or SMACK security context to CTX\n",
      "      --help     display this help and exit\n",
      "      --version  output version information and exit\n",
      "\n",
      "By default, sparse SOURCE files are detected by a crude heuristic and the\n",
      "corresponding DEST file is made sparse as well.  That is the behavior\n",
      "selected by --sparse=auto.  Specify --sparse=always to create a sparse DEST\n",
      "file whenever the SOURCE file contains a long enough sequence of zero bytes.\n",
      "Use --sparse=never to inhibit creation of sparse files.\n",
      "\n",
      "When --reflink[=always] is specified, perform a lightweight copy, where the\n",
      "data blocks are copied only when modified.  If this is not possible the copy\n",
      "fails, or if --reflink=auto is specified, fall back to a standard copy.\n",
      "Use --reflink=never to ensure a standard copy is performed.\n",
      "\n",
      "The backup suffix is '~', unless set with --suffix or SIMPLE_BACKUP_SUFFIX.\n",
      "The version control method may be selected via the --backup option or through\n",
      "the VERSION_CONTROL environment variable.  Here are the values:\n",
      "\n",
      "  none, off       never make backups (even if --backup is given)\n",
      "  numbered, t     make numbered backups\n",
      "  existing, nil   numbered if numbered backups exist, simple otherwise\n",
      "  simple, never   always make simple backups\n",
      "\n",
      "As a special case, cp makes a backup of SOURCE when the force and backup\n",
      "options are given and SOURCE and DEST are the same name for an existing,\n",
      "regular file.\n",
      "\n",
      "GNU coreutils online help: <https://www.gnu.org/software/coreutils/>\n",
      "Report any translation bugs to <https://translationproject.org/team/>\n",
      "Full documentation <https://www.gnu.org/software/coreutils/cp>\n",
      "or available locally via: info '(coreutils) cp invocation'\n"
     ]
    }
   ],
   "source": [
    "!cp --help"
   ]
  },
  {
   "cell_type": "code",
   "execution_count": 58,
   "id": "b84fe4ab-223d-4705-8212-cec6709414fe",
   "metadata": {},
   "outputs": [
    {
     "data": {
      "text/plain": [
       "'/opt/mambaforge/envs/python310/bin/python'"
      ]
     },
     "execution_count": 58,
     "metadata": {},
     "output_type": "execute_result"
    }
   ],
   "source": [
    "shutil.which('python')"
   ]
  },
  {
   "cell_type": "code",
   "execution_count": null,
   "id": "55e90edd-f48b-4225-9e5a-5ab4fc838e4f",
   "metadata": {},
   "outputs": [],
   "source": []
  }
 ],
 "metadata": {
  "kernelspec": {
   "display_name": "Python 3.10",
   "language": "python",
   "name": "python310"
  },
  "language_info": {
   "codemirror_mode": {
    "name": "ipython",
    "version": 3
   },
   "file_extension": ".py",
   "mimetype": "text/x-python",
   "name": "python",
   "nbconvert_exporter": "python",
   "pygments_lexer": "ipython3",
   "version": "3.10.4"
  }
 },
 "nbformat": 4,
 "nbformat_minor": 5
}
