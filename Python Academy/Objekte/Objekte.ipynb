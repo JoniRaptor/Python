{
 "cells": [
  {
   "cell_type": "code",
   "execution_count": 1,
   "id": "7fe71d3c-8acd-4164-a409-b58684d2960b",
   "metadata": {},
   "outputs": [],
   "source": [
    "L1 = [1, 2, 3]\n",
    "L2 = [1, 2, 3]"
   ]
  },
  {
   "cell_type": "code",
   "execution_count": 4,
   "id": "f09b3d67-ec52-4b96-839a-325a17392d6e",
   "metadata": {},
   "outputs": [
    {
     "data": {
      "text/plain": [
       "True"
      ]
     },
     "execution_count": 4,
     "metadata": {},
     "output_type": "execute_result"
    }
   ],
   "source": [
    "L1 == L2  # gleicher Inhalt"
   ]
  },
  {
   "cell_type": "code",
   "execution_count": 6,
   "id": "046e6ba0-7d24-41a3-a3f2-d4cb9d20dea5",
   "metadata": {},
   "outputs": [
    {
     "data": {
      "text/plain": [
       "False"
      ]
     },
     "execution_count": 6,
     "metadata": {},
     "output_type": "execute_result"
    }
   ],
   "source": [
    "L1 is L2  # nicht gleiches Objekt (id)"
   ]
  },
  {
   "cell_type": "code",
   "execution_count": 7,
   "id": "c6c547c6-06d7-49dc-9e1b-137ce7d54e59",
   "metadata": {},
   "outputs": [
    {
     "data": {
      "text/plain": [
       "139642877567232"
      ]
     },
     "execution_count": 7,
     "metadata": {},
     "output_type": "execute_result"
    }
   ],
   "source": [
    "id(L1)"
   ]
  },
  {
   "cell_type": "code",
   "execution_count": 8,
   "id": "9607b472-fe9c-4855-9e93-38ac9f348baf",
   "metadata": {},
   "outputs": [
    {
     "data": {
      "text/plain": [
       "139642877567040"
      ]
     },
     "execution_count": 8,
     "metadata": {},
     "output_type": "execute_result"
    }
   ],
   "source": [
    "id(L2)"
   ]
  },
  {
   "cell_type": "code",
   "execution_count": 9,
   "id": "a5986646-3747-40f6-b131-8a2221430e73",
   "metadata": {},
   "outputs": [],
   "source": [
    "L3 = L2  # L3 verweist auf gleiches Objekt, wie L2"
   ]
  },
  {
   "cell_type": "code",
   "execution_count": 10,
   "id": "977e4f3e-02bd-4bc0-98f9-f72fc9c445a2",
   "metadata": {},
   "outputs": [
    {
     "data": {
      "text/plain": [
       "[1, 100, 3]"
      ]
     },
     "execution_count": 17,
     "metadata": {},
     "output_type": "execute_result"
    }
   ],
   "source": [
    "L3"
   ]
  },
  {
   "cell_type": "code",
   "execution_count": 11,
   "id": "c3c61cc1-76eb-4435-83d3-d5e9103808b5",
   "metadata": {},
   "outputs": [
    {
     "data": {
      "text/plain": [
       "True"
      ]
     },
     "execution_count": 18,
     "metadata": {},
     "output_type": "execute_result"
    }
   ],
   "source": [
    "L2 is L3"
   ]
  },
  {
   "cell_type": "code",
   "execution_count": 12,
   "id": "707f3b44-9a91-4975-bc0a-c8441c2cf7f7",
   "metadata": {},
   "outputs": [
    {
     "data": {
      "text/plain": [
       "139642877567040"
      ]
     },
     "execution_count": 19,
     "metadata": {},
     "output_type": "execute_result"
    }
   ],
   "source": [
    "id(L3)"
   ]
  },
  {
   "cell_type": "code",
   "execution_count": 23,
   "id": "143c79c1-ea94-4cf0-9bda-2d2856ade344",
   "metadata": {},
   "outputs": [],
   "source": [
    "L3[1] = 100  # objekt auf das L3 zeigt wird verändert --> mit L2 wird auch dieses veränderte Objekt aufgerufen"
   ]
  },
  {
   "cell_type": "code",
   "execution_count": 14,
   "id": "58454351-84ba-40c6-a8a7-f61312933ad7",
   "metadata": {},
   "outputs": [
    {
     "data": {
      "text/plain": [
       "[1, 100, 3]"
      ]
     },
     "execution_count": 21,
     "metadata": {},
     "output_type": "execute_result"
    }
   ],
   "source": [
    "L3  # L2 und L3 nur andere 'Namen' für das gleiche Objekt"
   ]
  },
  {
   "cell_type": "code",
   "execution_count": 15,
   "id": "901b78c7-2a57-4680-9a28-bfc6cce74aed",
   "metadata": {},
   "outputs": [
    {
     "data": {
      "text/plain": [
       "[1, 100, 3]"
      ]
     },
     "execution_count": 22,
     "metadata": {},
     "output_type": "execute_result"
    }
   ],
   "source": [
    "L2"
   ]
  },
  {
   "cell_type": "code",
   "execution_count": 24,
   "id": "85d2b316-e7f2-4731-8a5e-d69167276214",
   "metadata": {},
   "outputs": [],
   "source": [
    "n = None"
   ]
  },
  {
   "cell_type": "code",
   "execution_count": 25,
   "id": "e88a0c0c-1a61-4322-946b-3571cb44dc1c",
   "metadata": {},
   "outputs": [
    {
     "data": {
      "text/plain": [
       "True"
      ]
     },
     "execution_count": 25,
     "metadata": {},
     "output_type": "execute_result"
    }
   ],
   "source": [
    "n is None"
   ]
  },
  {
   "cell_type": "code",
   "execution_count": 26,
   "id": "4a583800-f7bb-42e4-a6b2-8e625393c484",
   "metadata": {},
   "outputs": [
    {
     "data": {
      "text/plain": [
       "True"
      ]
     },
     "execution_count": 26,
     "metadata": {},
     "output_type": "execute_result"
    }
   ],
   "source": [
    "n == None"
   ]
  },
  {
   "cell_type": "code",
   "execution_count": 27,
   "id": "bdb91231-87d4-4cb5-8832-d12cdca7ef24",
   "metadata": {},
   "outputs": [],
   "source": [
    "class A:\n",
    "    \n",
    "    def __eq__(self, other):\n",
    "        return True"
   ]
  },
  {
   "cell_type": "code",
   "execution_count": 28,
   "id": "70f7def1-fe1a-4712-b16a-deda8a9f54ae",
   "metadata": {},
   "outputs": [],
   "source": [
    "a = A()"
   ]
  },
  {
   "cell_type": "code",
   "execution_count": 29,
   "id": "b9834469-7eec-4792-90e1-276fcb95477a",
   "metadata": {},
   "outputs": [
    {
     "data": {
      "text/plain": [
       "True"
      ]
     },
     "execution_count": 29,
     "metadata": {},
     "output_type": "execute_result"
    }
   ],
   "source": [
    "a == None"
   ]
  },
  {
   "cell_type": "code",
   "execution_count": 30,
   "id": "89ec94e4-922a-479a-b0f5-d1d1fca676de",
   "metadata": {},
   "outputs": [
    {
     "data": {
      "text/plain": [
       "False"
      ]
     },
     "execution_count": 30,
     "metadata": {},
     "output_type": "execute_result"
    }
   ],
   "source": [
    "a is None"
   ]
  },
  {
   "cell_type": "code",
   "execution_count": 31,
   "id": "d240e4be-2a89-4b1e-bf13-c09bae7f2dc9",
   "metadata": {},
   "outputs": [
    {
     "data": {
      "text/plain": [
       "139642877322688"
      ]
     },
     "execution_count": 31,
     "metadata": {},
     "output_type": "execute_result"
    }
   ],
   "source": [
    "id(a)"
   ]
  },
  {
   "cell_type": "code",
   "execution_count": 32,
   "id": "a07848e2-5a88-4620-a69e-642a345a7803",
   "metadata": {},
   "outputs": [
    {
     "data": {
      "text/plain": [
       "__main__.A"
      ]
     },
     "execution_count": 32,
     "metadata": {},
     "output_type": "execute_result"
    }
   ],
   "source": [
    "type(a)"
   ]
  },
  {
   "cell_type": "code",
   "execution_count": 33,
   "id": "1afcea98-1685-4c2e-b0bf-08307b14b531",
   "metadata": {},
   "outputs": [
    {
     "data": {
      "text/plain": [
       "True"
      ]
     },
     "execution_count": 33,
     "metadata": {},
     "output_type": "execute_result"
    }
   ],
   "source": [
    "isinstance(a, A)"
   ]
  },
  {
   "cell_type": "code",
   "execution_count": 34,
   "id": "a50d67b8-dd97-4cb8-8a99-25bb4ac51fa1",
   "metadata": {},
   "outputs": [
    {
     "data": {
      "text/plain": [
       "False"
      ]
     },
     "execution_count": 34,
     "metadata": {},
     "output_type": "execute_result"
    }
   ],
   "source": [
    "import sys\n",
    "\n",
    "isinstance(sys, A)"
   ]
  },
  {
   "cell_type": "code",
   "execution_count": 35,
   "id": "cac0b4b9-0976-4091-9c2f-d6b00db1e2ae",
   "metadata": {},
   "outputs": [],
   "source": [
    "import types"
   ]
  },
  {
   "cell_type": "code",
   "execution_count": 36,
   "id": "c3b75742-0817-4a2a-9548-2cf31fd822de",
   "metadata": {},
   "outputs": [
    {
     "data": {
      "text/plain": [
       "True"
      ]
     },
     "execution_count": 36,
     "metadata": {},
     "output_type": "execute_result"
    }
   ],
   "source": [
    "isinstance(sys, types.ModuleType)"
   ]
  },
  {
   "cell_type": "code",
   "execution_count": 37,
   "id": "713e19d4-52a5-4107-a0cc-340466502657",
   "metadata": {},
   "outputs": [
    {
     "data": {
      "text/plain": [
       "94172186204160"
      ]
     },
     "execution_count": 37,
     "metadata": {},
     "output_type": "execute_result"
    }
   ],
   "source": [
    "id(None)"
   ]
  },
  {
   "cell_type": "code",
   "execution_count": 38,
   "id": "3f5f1641-4e66-4503-9213-1496adcdedde",
   "metadata": {},
   "outputs": [
    {
     "data": {
      "text/plain": [
       "94172186204160"
      ]
     },
     "execution_count": 38,
     "metadata": {},
     "output_type": "execute_result"
    }
   ],
   "source": [
    "id(None)"
   ]
  },
  {
   "cell_type": "code",
   "execution_count": 39,
   "id": "5a83bafd-6f1f-48a6-898b-06de692dfc67",
   "metadata": {},
   "outputs": [
    {
     "data": {
      "text/plain": [
       "True"
      ]
     },
     "execution_count": 39,
     "metadata": {},
     "output_type": "execute_result"
    }
   ],
   "source": [
    "isinstance(A, object)"
   ]
  },
  {
   "cell_type": "code",
   "execution_count": 41,
   "id": "4d8f07de-1352-4cdb-b9d4-0706e58e4dab",
   "metadata": {},
   "outputs": [
    {
     "data": {
      "text/plain": [
       "True"
      ]
     },
     "execution_count": 41,
     "metadata": {},
     "output_type": "execute_result"
    }
   ],
   "source": [
    "isinstance(True, int)"
   ]
  },
  {
   "cell_type": "code",
   "execution_count": 42,
   "id": "e258d3f5-9575-40f0-857f-d16d9b7d75ef",
   "metadata": {},
   "outputs": [
    {
     "data": {
      "text/plain": [
       "bool"
      ]
     },
     "execution_count": 42,
     "metadata": {},
     "output_type": "execute_result"
    }
   ],
   "source": [
    "type(True)"
   ]
  },
  {
   "cell_type": "code",
   "execution_count": 43,
   "id": "ddc3b2f4-0e02-4b55-a7ef-e53fa58c144b",
   "metadata": {},
   "outputs": [
    {
     "data": {
      "text/plain": [
       "[bool, int, object]"
      ]
     },
     "execution_count": 43,
     "metadata": {},
     "output_type": "execute_result"
    }
   ],
   "source": [
    "bool.mro()"
   ]
  },
  {
   "cell_type": "code",
   "execution_count": 44,
   "id": "3f465d6c-aeb9-495b-a4cf-ee9d1c50ae4b",
   "metadata": {},
   "outputs": [
    {
     "data": {
      "text/plain": [
       "2"
      ]
     },
     "execution_count": 44,
     "metadata": {},
     "output_type": "execute_result"
    }
   ],
   "source": [
    "True + True"
   ]
  },
  {
   "cell_type": "code",
   "execution_count": 45,
   "id": "1d6059ff-e805-4c9e-92a0-22b98fce9812",
   "metadata": {},
   "outputs": [
    {
     "data": {
      "text/plain": [
       "0"
      ]
     },
     "execution_count": 45,
     "metadata": {},
     "output_type": "execute_result"
    }
   ],
   "source": [
    "False + False"
   ]
  },
  {
   "cell_type": "code",
   "execution_count": 46,
   "id": "aca0b649-fc79-459c-a17e-7c1e11073f92",
   "metadata": {},
   "outputs": [
    {
     "ename": "SyntaxError",
     "evalue": "cannot assign to True (1145126834.py, line 1)",
     "output_type": "error",
     "traceback": [
      "\u001b[0;36m  Input \u001b[0;32mIn [46]\u001b[0;36m\u001b[0m\n\u001b[0;31m    True, False = False, True\u001b[0m\n\u001b[0m    ^\u001b[0m\n\u001b[0;31mSyntaxError\u001b[0m\u001b[0;31m:\u001b[0m cannot assign to True\n"
     ]
    }
   ],
   "source": [
    "True, False = False, True"
   ]
  },
  {
   "cell_type": "code",
   "execution_count": 47,
   "id": "f91121e0-aedc-4d60-a20d-7fae1af37273",
   "metadata": {},
   "outputs": [
    {
     "data": {
      "text/plain": [
       "'<__main__.A object at 0x7f01241925c0>'"
      ]
     },
     "execution_count": 47,
     "metadata": {},
     "output_type": "execute_result"
    }
   ],
   "source": [
    "str(a)"
   ]
  },
  {
   "cell_type": "code",
   "execution_count": 48,
   "id": "feba1cf5-c7cd-4fa7-9dfd-17137869048f",
   "metadata": {},
   "outputs": [
    {
     "data": {
      "text/plain": [
       "'<__main__.A object at 0x7f01241925c0>'"
      ]
     },
     "execution_count": 48,
     "metadata": {},
     "output_type": "execute_result"
    }
   ],
   "source": [
    "repr(a)"
   ]
  },
  {
   "cell_type": "code",
   "execution_count": 49,
   "id": "0cfa7562-ec75-4f1b-bd26-fef05950a2ee",
   "metadata": {},
   "outputs": [],
   "source": [
    "s = 'abc'"
   ]
  },
  {
   "cell_type": "code",
   "execution_count": 50,
   "id": "0b01d9bc-2184-4bf6-a955-a88229c01880",
   "metadata": {},
   "outputs": [
    {
     "data": {
      "text/plain": [
       "'abc'"
      ]
     },
     "execution_count": 50,
     "metadata": {},
     "output_type": "execute_result"
    }
   ],
   "source": [
    "str(s)"
   ]
  },
  {
   "cell_type": "code",
   "execution_count": 51,
   "id": "b75dbdf8-5bfe-496c-aa7b-34a9e46a49c0",
   "metadata": {},
   "outputs": [
    {
     "data": {
      "text/plain": [
       "\"'abc'\""
      ]
     },
     "execution_count": 51,
     "metadata": {},
     "output_type": "execute_result"
    }
   ],
   "source": [
    "repr(s)"
   ]
  },
  {
   "cell_type": "code",
   "execution_count": 54,
   "id": "962326cd-2c01-4f26-8261-ed4230859f29",
   "metadata": {},
   "outputs": [
    {
     "data": {
      "text/plain": [
       "2"
      ]
     },
     "execution_count": 54,
     "metadata": {},
     "output_type": "execute_result"
    }
   ],
   "source": [
    "eval('1 + 1')  # potentiell gefährlich --> vermeiden"
   ]
  },
  {
   "cell_type": "code",
   "execution_count": 55,
   "id": "86480a6d-c164-445c-9e4f-dc0e26417981",
   "metadata": {},
   "outputs": [
    {
     "data": {
      "text/plain": [
       "'abcxyz'"
      ]
     },
     "execution_count": 55,
     "metadata": {},
     "output_type": "execute_result"
    }
   ],
   "source": [
    "eval('s + \"xyz\"')"
   ]
  },
  {
   "cell_type": "code",
   "execution_count": 56,
   "id": "f2dd9c6c-193a-4a29-a050-78d0396081ca",
   "metadata": {},
   "outputs": [
    {
     "data": {
      "text/plain": [
       "\u001b[0;31mSignature:\u001b[0m \u001b[0mexec\u001b[0m\u001b[0;34m(\u001b[0m\u001b[0msource\u001b[0m\u001b[0;34m,\u001b[0m \u001b[0mglobals\u001b[0m\u001b[0;34m=\u001b[0m\u001b[0;32mNone\u001b[0m\u001b[0;34m,\u001b[0m \u001b[0mlocals\u001b[0m\u001b[0;34m=\u001b[0m\u001b[0;32mNone\u001b[0m\u001b[0;34m,\u001b[0m \u001b[0;34m/\u001b[0m\u001b[0;34m)\u001b[0m\u001b[0;34m\u001b[0m\u001b[0;34m\u001b[0m\u001b[0m\n",
       "\u001b[0;31mDocstring:\u001b[0m\n",
       "Execute the given source in the context of globals and locals.\n",
       "\n",
       "The source may be a string representing one or more Python statements\n",
       "or a code object as returned by compile().\n",
       "The globals must be a dictionary and locals can be any mapping,\n",
       "defaulting to the current globals and locals.\n",
       "If only globals is given, locals defaults to it.\n",
       "\u001b[0;31mType:\u001b[0m      builtin_function_or_method\n"
      ]
     },
     "metadata": {},
     "output_type": "display_data"
    }
   ],
   "source": [
    "exec?"
   ]
  },
  {
   "cell_type": "markdown",
   "id": "8b2f7959-be5c-46b5-aa14-9831f02eaa3f",
   "metadata": {},
   "source": [
    "# Namen für Objekte"
   ]
  },
  {
   "cell_type": "code",
   "execution_count": 57,
   "id": "b2cc1504-8e5a-4110-aee7-3a92c150452c",
   "metadata": {},
   "outputs": [],
   "source": [
    "q_1 = 12"
   ]
  },
  {
   "cell_type": "code",
   "execution_count": 59,
   "id": "9502e556-171f-49df-a731-770e9b456f0c",
   "metadata": {},
   "outputs": [
    {
     "data": {
      "text/plain": [
       "'abcxyz'"
      ]
     },
     "execution_count": 59,
     "metadata": {},
     "output_type": "execute_result"
    }
   ],
   "source": [
    "_  # letzter Rückgabewert"
   ]
  },
  {
   "cell_type": "code",
   "execution_count": 60,
   "id": "812a1735-daee-444b-ac08-217fef6ab154",
   "metadata": {},
   "outputs": [],
   "source": [
    "über = 12"
   ]
  },
  {
   "cell_type": "code",
   "execution_count": 61,
   "id": "2a43ba79-f7b3-4af5-b7d5-4b6f5b4401fe",
   "metadata": {},
   "outputs": [
    {
     "data": {
      "text/plain": [
       "12"
      ]
     },
     "execution_count": 61,
     "metadata": {},
     "output_type": "execute_result"
    }
   ],
   "source": [
    "über"
   ]
  },
  {
   "cell_type": "code",
   "execution_count": 62,
   "id": "1cffb644-7761-40fb-a532-795ec4dd3c7a",
   "metadata": {},
   "outputs": [
    {
     "ename": "SyntaxError",
     "evalue": "invalid decimal literal (359330730.py, line 1)",
     "output_type": "error",
     "traceback": [
      "\u001b[0;36m  Input \u001b[0;32mIn [62]\u001b[0;36m\u001b[0m\n\u001b[0;31m    1_q = 13\u001b[0m\n\u001b[0m     ^\u001b[0m\n\u001b[0;31mSyntaxError\u001b[0m\u001b[0;31m:\u001b[0m invalid decimal literal\n"
     ]
    }
   ],
   "source": [
    "1_q = 13"
   ]
  },
  {
   "cell_type": "code",
   "execution_count": 67,
   "id": "3cf3d43a-8c1b-42c0-aae7-949e299b9efa",
   "metadata": {},
   "outputs": [],
   "source": [
    "snake_case = 100"
   ]
  },
  {
   "cell_type": "code",
   "execution_count": 68,
   "id": "6206738d-bb02-4716-9167-0f48db7751d2",
   "metadata": {},
   "outputs": [],
   "source": [
    "class CamelCase:  # generell für Klassen\n",
    "    pass"
   ]
  },
  {
   "cell_type": "code",
   "execution_count": 69,
   "id": "875e584d-4322-4f5d-9c0b-20f83297ab6f",
   "metadata": {},
   "outputs": [],
   "source": [
    "UPPERCASE = 100  # generell für Konstanten"
   ]
  },
  {
   "cell_type": "code",
   "execution_count": 73,
   "id": "57027488-4d77-459f-bb0d-3d8703647775",
   "metadata": {},
   "outputs": [
    {
     "ename": "SyntaxError",
     "evalue": "invalid syntax (3228538321.py, line 1)",
     "output_type": "error",
     "traceback": [
      "\u001b[0;36m  Input \u001b[0;32mIn [73]\u001b[0;36m\u001b[0m\n\u001b[0;31m    for = 5  # grün und fett --> Python Schlüsselwort\u001b[0m\n\u001b[0m        ^\u001b[0m\n\u001b[0;31mSyntaxError\u001b[0m\u001b[0;31m:\u001b[0m invalid syntax\n"
     ]
    }
   ],
   "source": [
    "for = 5  # grün und fett --> Python Schlüsselwort"
   ]
  },
  {
   "cell_type": "code",
   "execution_count": 74,
   "id": "36cdc1f0-ea46-49e7-b96d-6cbc94a2be99",
   "metadata": {},
   "outputs": [
    {
     "data": {
      "text/plain": [
       "<function sum(iterable, /, start=0)>"
      ]
     },
     "execution_count": 74,
     "metadata": {},
     "output_type": "execute_result"
    }
   ],
   "source": [
    "sum  # grün und nicht fett --> eingebaute Fkt"
   ]
  },
  {
   "cell_type": "code",
   "execution_count": 77,
   "id": "264d39c3-0dbf-4e99-8752-dfcf347161a5",
   "metadata": {},
   "outputs": [],
   "source": [
    "import keyword"
   ]
  },
  {
   "cell_type": "code",
   "execution_count": 78,
   "id": "259482d6-245f-42fb-b803-f6ae6f1e8465",
   "metadata": {},
   "outputs": [
    {
     "data": {
      "text/plain": [
       "['False',\n",
       " 'None',\n",
       " 'True',\n",
       " 'and',\n",
       " 'as',\n",
       " 'assert',\n",
       " 'async',\n",
       " 'await',\n",
       " 'break',\n",
       " 'class',\n",
       " 'continue',\n",
       " 'def',\n",
       " 'del',\n",
       " 'elif',\n",
       " 'else',\n",
       " 'except',\n",
       " 'finally',\n",
       " 'for',\n",
       " 'from',\n",
       " 'global',\n",
       " 'if',\n",
       " 'import',\n",
       " 'in',\n",
       " 'is',\n",
       " 'lambda',\n",
       " 'nonlocal',\n",
       " 'not',\n",
       " 'or',\n",
       " 'pass',\n",
       " 'raise',\n",
       " 'return',\n",
       " 'try',\n",
       " 'while',\n",
       " 'with',\n",
       " 'yield']"
      ]
     },
     "execution_count": 78,
     "metadata": {},
     "output_type": "execute_result"
    }
   ],
   "source": [
    "keyword.kwlist"
   ]
  },
  {
   "cell_type": "code",
   "execution_count": 79,
   "id": "e8947568-9372-4320-a87e-281a8649e62d",
   "metadata": {},
   "outputs": [
    {
     "data": {
      "text/plain": [
       "35"
      ]
     },
     "execution_count": 79,
     "metadata": {},
     "output_type": "execute_result"
    }
   ],
   "source": [
    "len(keyword.kwlist)"
   ]
  },
  {
   "cell_type": "code",
   "execution_count": 84,
   "id": "5fae7d5d-0e21-474d-93c4-d12a662c8b27",
   "metadata": {},
   "outputs": [],
   "source": [
    "def append(value, lst=[]):  # ungünstig weil (siehe unten)\n",
    "    lst.append(value)\n",
    "    return lst"
   ]
  },
  {
   "cell_type": "code",
   "execution_count": 85,
   "id": "e5a7b029-df60-4a23-90a2-e3a2b138e878",
   "metadata": {},
   "outputs": [
    {
     "data": {
      "text/plain": [
       "[10]"
      ]
     },
     "execution_count": 85,
     "metadata": {},
     "output_type": "execute_result"
    }
   ],
   "source": [
    "append(10)"
   ]
  },
  {
   "cell_type": "code",
   "execution_count": 91,
   "id": "53179071-ce01-49d2-aaa6-6ef6621071ed",
   "metadata": {},
   "outputs": [
    {
     "data": {
      "text/plain": [
       "[20]"
      ]
     },
     "execution_count": 91,
     "metadata": {},
     "output_type": "execute_result"
    }
   ],
   "source": [
    "append(20)  # keine neue Liste erzeugt, sondern lst wird geändert"
   ]
  },
  {
   "cell_type": "code",
   "execution_count": 92,
   "id": "d1d4407a-0ab1-4ccd-84e1-c6259299b69f",
   "metadata": {},
   "outputs": [],
   "source": [
    "def append(value, lst=None):  #besser\n",
    "    if lst == None:\n",
    "        lst = []\n",
    "    lst.append(value)\n",
    "    return lst"
   ]
  },
  {
   "cell_type": "code",
   "execution_count": 93,
   "id": "0319e7b5-b4eb-4758-af5d-6e6069b1f9d3",
   "metadata": {},
   "outputs": [
    {
     "data": {
      "text/plain": [
       "[10]"
      ]
     },
     "execution_count": 93,
     "metadata": {},
     "output_type": "execute_result"
    }
   ],
   "source": [
    "append(10)"
   ]
  },
  {
   "cell_type": "code",
   "execution_count": 95,
   "id": "f9a4cf4d-cb97-43c7-a4f8-84870a1fd383",
   "metadata": {},
   "outputs": [
    {
     "data": {
      "text/plain": [
       "[20]"
      ]
     },
     "execution_count": 95,
     "metadata": {},
     "output_type": "execute_result"
    }
   ],
   "source": [
    "append(20) # erzeugt immer neue Liste, wenn keine besthende als Parameter übergeben"
   ]
  },
  {
   "cell_type": "code",
   "execution_count": null,
   "id": "f8e96116-4cca-499a-afae-11f0193751ac",
   "metadata": {},
   "outputs": [],
   "source": []
  }
 ],
 "metadata": {
  "kernelspec": {
   "display_name": "Python 3.10",
   "language": "python",
   "name": "python310"
  },
  "language_info": {
   "codemirror_mode": {
    "name": "ipython",
    "version": 3
   },
   "file_extension": ".py",
   "mimetype": "text/x-python",
   "name": "python",
   "nbconvert_exporter": "python",
   "pygments_lexer": "ipython3",
   "version": "3.10.4"
  }
 },
 "nbformat": 4,
 "nbformat_minor": 5
}
