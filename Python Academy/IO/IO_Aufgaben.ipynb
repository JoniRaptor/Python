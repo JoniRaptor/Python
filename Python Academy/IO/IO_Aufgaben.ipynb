{
 "cells": [
  {
   "cell_type": "markdown",
   "id": "c768be3f-3e90-4b03-8ad6-bc6b30886721",
   "metadata": {},
   "source": [
    "# Aufgabe 1"
   ]
  },
  {
   "cell_type": "code",
   "execution_count": 1,
   "id": "34c28838-16bb-4fb9-9dc1-b9e58519a42f",
   "metadata": {},
   "outputs": [
    {
     "name": "stdin",
     "output_type": "stream",
     "text": [
      "Name:  Jonas\n"
     ]
    }
   ],
   "source": [
    "eingabe = input('Name: ')"
   ]
  },
  {
   "cell_type": "code",
   "execution_count": 2,
   "id": "12df12c2-5299-4ab4-912c-a1375398d4f8",
   "metadata": {},
   "outputs": [
    {
     "data": {
      "text/plain": [
       "'Jonas'"
      ]
     },
     "execution_count": 2,
     "metadata": {},
     "output_type": "execute_result"
    }
   ],
   "source": [
    "eingabe"
   ]
  },
  {
   "cell_type": "markdown",
   "id": "8486a17a-3392-4457-a984-e8ba1fafcc56",
   "metadata": {},
   "source": [
    "# Aufgabe 2"
   ]
  },
  {
   "cell_type": "code",
   "execution_count": 43,
   "id": "7ebe44b5-dd3f-497a-bf1a-69a6936ba30e",
   "metadata": {},
   "outputs": [
    {
     "name": "stdin",
     "output_type": "stream",
     "text": [
      "Name: x\n"
     ]
    },
    {
     "name": "stdout",
     "output_type": "stream",
     "text": [
      "x\n"
     ]
    },
    {
     "name": "stdin",
     "output_type": "stream",
     "text": [
      "Name: y\n"
     ]
    },
    {
     "name": "stdout",
     "output_type": "stream",
     "text": [
      "y\n"
     ]
    },
    {
     "name": "stdin",
     "output_type": "stream",
     "text": [
      "Name: z\n"
     ]
    },
    {
     "name": "stdout",
     "output_type": "stream",
     "text": [
      "z\n"
     ]
    },
    {
     "name": "stdin",
     "output_type": "stream",
     "text": [
      "Name: end\n"
     ]
    }
   ],
   "source": [
    "x = True\n",
    "while True:\n",
    "    eingabe = input('Name:')\n",
    "    if eingabe == 'end':\n",
    "        break\n",
    "    print(eingabe)"
   ]
  },
  {
   "cell_type": "markdown",
   "id": "9b36dcda-9e83-4e91-8165-55ac607a803a",
   "metadata": {},
   "source": [
    "# Aufgabe 3"
   ]
  },
  {
   "cell_type": "code",
   "execution_count": 44,
   "id": "4f8329f9-cdf5-4b4d-8707-ff3a9aeee475",
   "metadata": {},
   "outputs": [],
   "source": [
    "L = list(range(1, 11))\n",
    "with open('IO_Aufgabe3.txt', 'w') as fobj:\n",
    "    for line in L:\n",
    "        fobj.write(f\"{line:3d}\\n\")"
   ]
  },
  {
   "cell_type": "markdown",
   "id": "fd90314e-0f55-4451-aa04-69397e2698a7",
   "metadata": {},
   "source": [
    "# Aufgabe 4"
   ]
  },
  {
   "cell_type": "code",
   "execution_count": 54,
   "id": "b0c91c63-be90-4f8a-bec7-0d8d9ca51c24",
   "metadata": {},
   "outputs": [],
   "source": [
    "with open('IO_Aufgabe3.txt') as fobj:\n",
    "    x = fobj.read()"
   ]
  },
  {
   "cell_type": "code",
   "execution_count": 55,
   "id": "d5275cf0-815c-4353-84e3-a6a169b4d069",
   "metadata": {},
   "outputs": [
    {
     "data": {
      "text/plain": [
       "'  1\\n  2\\n  3\\n  4\\n  5\\n  6\\n  7\\n  8\\n  9\\n 10\\n'"
      ]
     },
     "execution_count": 55,
     "metadata": {},
     "output_type": "execute_result"
    }
   ],
   "source": [
    "x"
   ]
  },
  {
   "cell_type": "code",
   "execution_count": 56,
   "id": "2030e044-3bf6-4b38-b8a4-091919fa44f8",
   "metadata": {},
   "outputs": [],
   "source": [
    "with open('IO_Aufgabe3.txt') as fobj:\n",
    "    y = fobj.readlines()"
   ]
  },
  {
   "cell_type": "code",
   "execution_count": 57,
   "id": "145381fd-581c-4ec7-9995-6fd02d2f669b",
   "metadata": {},
   "outputs": [
    {
     "data": {
      "text/plain": [
       "['  1\\n',\n",
       " '  2\\n',\n",
       " '  3\\n',\n",
       " '  4\\n',\n",
       " '  5\\n',\n",
       " '  6\\n',\n",
       " '  7\\n',\n",
       " '  8\\n',\n",
       " '  9\\n',\n",
       " ' 10\\n']"
      ]
     },
     "execution_count": 57,
     "metadata": {},
     "output_type": "execute_result"
    }
   ],
   "source": [
    "y"
   ]
  },
  {
   "cell_type": "markdown",
   "id": "37d4271f-ffaa-4416-84f0-bc872eee016a",
   "metadata": {},
   "source": [
    "# Aufgabe 5"
   ]
  },
  {
   "cell_type": "code",
   "execution_count": 58,
   "id": "f775c8ab-daec-4175-b86f-d65f9703ab26",
   "metadata": {},
   "outputs": [],
   "source": [
    "with open('IO_Aufgabe3.txt') as fobj:\n",
    "    x = fobj.read()"
   ]
  },
  {
   "cell_type": "markdown",
   "id": "638d9dfd-1516-4db1-8f99-7eb5fbfc5e49",
   "metadata": {},
   "source": [
    "# Aufgabe 6"
   ]
  },
  {
   "cell_type": "code",
   "execution_count": 59,
   "id": "e9a686e3-02e9-4833-8de8-956c3a5db1bc",
   "metadata": {},
   "outputs": [],
   "source": [
    "import pickle"
   ]
  },
  {
   "cell_type": "code",
   "execution_count": 60,
   "id": "72b3906f-ec47-4889-9a3a-e38c43d4f164",
   "metadata": {},
   "outputs": [],
   "source": [
    "L2 = [1, 2, 3]"
   ]
  },
  {
   "cell_type": "code",
   "execution_count": 63,
   "id": "a3c387c0-8b9d-497a-b8a5-1ba98754bc71",
   "metadata": {},
   "outputs": [],
   "source": [
    "with open('IO_Aufgabe3.txt', 'wb') as file:\n",
    "    pickle.dump(L2, file)"
   ]
  },
  {
   "cell_type": "code",
   "execution_count": 66,
   "id": "be23fda3-bb52-4fcb-ac52-5a9d30efca00",
   "metadata": {},
   "outputs": [
    {
     "name": "stdout",
     "output_type": "stream",
     "text": [
      "[1, 2, 3]\n"
     ]
    }
   ],
   "source": [
    "with open('IO_Aufgabe3.txt', 'rb') as file:\n",
    "    print(pickle.load(file))"
   ]
  },
  {
   "cell_type": "markdown",
   "id": "f54f32b2-94b3-4534-ac25-bfb4d7ce3f9c",
   "metadata": {},
   "source": [
    "# Aufgabe 7"
   ]
  },
  {
   "cell_type": "code",
   "execution_count": 40,
   "id": "2351c27d-b6c2-49a7-9ef7-e9d5c2f1e5f6",
   "metadata": {},
   "outputs": [
    {
     "name": "stdout",
     "output_type": "stream",
     "text": [
      "Object `argparse` not found.\n"
     ]
    }
   ],
   "source": [
    "argparse?"
   ]
  },
  {
   "cell_type": "code",
   "execution_count": 67,
   "id": "29587e40-2d22-4315-be75-769477f2dac3",
   "metadata": {},
   "outputs": [],
   "source": [
    "import shelve"
   ]
  },
  {
   "cell_type": "code",
   "execution_count": 68,
   "id": "89c0b341-7399-43ee-8db3-469c43ca0f37",
   "metadata": {},
   "outputs": [
    {
     "data": {
      "text/plain": [
       "\u001b[0;31mType:\u001b[0m        module\n",
       "\u001b[0;31mString form:\u001b[0m <module 'shelve' from '/opt/mambaforge/envs/python310/lib/python3.10/shelve.py'>\n",
       "\u001b[0;31mFile:\u001b[0m        /opt/mambaforge/envs/python310/lib/python3.10/shelve.py\n",
       "\u001b[0;31mDocstring:\u001b[0m  \n",
       "Manage shelves of pickled objects.\n",
       "\n",
       "A \"shelf\" is a persistent, dictionary-like object.  The difference\n",
       "with dbm databases is that the values (not the keys!) in a shelf can\n",
       "be essentially arbitrary Python objects -- anything that the \"pickle\"\n",
       "module can handle.  This includes most class instances, recursive data\n",
       "types, and objects containing lots of shared sub-objects.  The keys\n",
       "are ordinary strings.\n",
       "\n",
       "To summarize the interface (key is a string, data is an arbitrary\n",
       "object):\n",
       "\n",
       "        import shelve\n",
       "        d = shelve.open(filename) # open, with (g)dbm filename -- no suffix\n",
       "\n",
       "        d[key] = data   # store data at key (overwrites old data if\n",
       "                        # using an existing key)\n",
       "        data = d[key]   # retrieve a COPY of the data at key (raise\n",
       "                        # KeyError if no such key) -- NOTE that this\n",
       "                        # access returns a *copy* of the entry!\n",
       "        del d[key]      # delete data stored at key (raises KeyError\n",
       "                        # if no such key)\n",
       "        flag = key in d # true if the key exists\n",
       "        list = d.keys() # a list of all existing keys (slow!)\n",
       "\n",
       "        d.close()       # close it\n",
       "\n",
       "Dependent on the implementation, closing a persistent dictionary may\n",
       "or may not be necessary to flush changes to disk.\n",
       "\n",
       "Normally, d[key] returns a COPY of the entry.  This needs care when\n",
       "mutable entries are mutated: for example, if d[key] is a list,\n",
       "        d[key].append(anitem)\n",
       "does NOT modify the entry d[key] itself, as stored in the persistent\n",
       "mapping -- it only modifies the copy, which is then immediately\n",
       "discarded, so that the append has NO effect whatsoever.  To append an\n",
       "item to d[key] in a way that will affect the persistent mapping, use:\n",
       "        data = d[key]\n",
       "        data.append(anitem)\n",
       "        d[key] = data\n",
       "\n",
       "To avoid the problem with mutable entries, you may pass the keyword\n",
       "argument writeback=True in the call to shelve.open.  When you use:\n",
       "        d = shelve.open(filename, writeback=True)\n",
       "then d keeps a cache of all entries you access, and writes them all back\n",
       "to the persistent mapping when you call d.close().  This ensures that\n",
       "such usage as d[key].append(anitem) works as intended.\n",
       "\n",
       "However, using keyword argument writeback=True may consume vast amount\n",
       "of memory for the cache, and it may make d.close() very slow, if you\n",
       "access many of d's entries after opening it in this way: d has no way to\n",
       "check which of the entries you access are mutable and/or which ones you\n",
       "actually mutate, so it must cache, and write back at close, all of the\n",
       "entries that you access.  You can call d.sync() to write back all the\n",
       "entries in the cache, and empty the cache (d.sync() also synchronizes\n",
       "the persistent dictionary on disk, if feasible).\n"
      ]
     },
     "metadata": {},
     "output_type": "display_data"
    }
   ],
   "source": [
    "shelve?"
   ]
  },
  {
   "cell_type": "markdown",
   "id": "c0c13400-a2f7-453f-8981-c919e9518bcd",
   "metadata": {},
   "source": [
    "## siehe IO_Aufgabe7.py"
   ]
  },
  {
   "cell_type": "code",
   "execution_count": null,
   "id": "4c7f8616-f71a-4785-9917-c4fecebdca42",
   "metadata": {},
   "outputs": [],
   "source": []
  }
 ],
 "metadata": {
  "kernelspec": {
   "display_name": "Python 3.10",
   "language": "python",
   "name": "python310"
  },
  "language_info": {
   "codemirror_mode": {
    "name": "ipython",
    "version": 3
   },
   "file_extension": ".py",
   "mimetype": "text/x-python",
   "name": "python",
   "nbconvert_exporter": "python",
   "pygments_lexer": "ipython3",
   "version": "3.10.4"
  }
 },
 "nbformat": 4,
 "nbformat_minor": 5
}
