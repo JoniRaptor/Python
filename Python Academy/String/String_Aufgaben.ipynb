{
 "cells": [
  {
   "cell_type": "code",
   "execution_count": 3,
   "id": "fcc28ed2-bbda-4625-8dd3-fafe662cc5b5",
   "metadata": {},
   "outputs": [
    {
     "data": {
      "text/plain": [
       "'!!!!!!!!!!!!!!!!das soll in der Mitte stehen!!!!!!!!!!!!!!!!'"
      ]
     },
     "execution_count": 3,
     "metadata": {},
     "output_type": "execute_result"
    }
   ],
   "source": [
    "'das soll in der Mitte stehen'.center(60, '!')"
   ]
  },
  {
   "cell_type": "markdown",
   "id": "e89f48aa-9135-44a5-ad22-2a184fba0852",
   "metadata": {},
   "source": [
    "# Aufgabe 2"
   ]
  },
  {
   "cell_type": "code",
   "execution_count": 4,
   "id": "86180982-1ee2-4a7c-af41-b69726f4a8b1",
   "metadata": {},
   "outputs": [
    {
     "data": {
      "text/plain": [
       "True"
      ]
     },
     "execution_count": 4,
     "metadata": {},
     "output_type": "execute_result"
    }
   ],
   "source": [
    "'1000'.isdecimal()"
   ]
  },
  {
   "cell_type": "code",
   "execution_count": 6,
   "id": "1dc996cb-22b0-43d0-9fed-ef167bf34b01",
   "metadata": {},
   "outputs": [
    {
     "data": {
      "text/plain": [
       "True"
      ]
     },
     "execution_count": 6,
     "metadata": {},
     "output_type": "execute_result"
    }
   ],
   "source": [
    "'100'.isnumeric()"
   ]
  },
  {
   "cell_type": "code",
   "execution_count": 7,
   "id": "04aed4e2-2796-4220-b88f-d81daf853eb3",
   "metadata": {},
   "outputs": [
    {
     "data": {
      "text/plain": [
       "True"
      ]
     },
     "execution_count": 7,
     "metadata": {},
     "output_type": "execute_result"
    }
   ],
   "source": [
    "'abc'.isalpha()"
   ]
  },
  {
   "cell_type": "code",
   "execution_count": 8,
   "id": "807dda4a-9787-438f-8142-6767ee81e482",
   "metadata": {},
   "outputs": [
    {
     "data": {
      "text/plain": [
       "False"
      ]
     },
     "execution_count": 8,
     "metadata": {},
     "output_type": "execute_result"
    }
   ],
   "source": [
    "'abc'.isdecimal()"
   ]
  },
  {
   "cell_type": "markdown",
   "id": "2dc4ede6-40f8-49bd-af9e-0f9c5f672924",
   "metadata": {},
   "source": [
    "# Aufgabe 3"
   ]
  },
  {
   "cell_type": "code",
   "execution_count": 9,
   "id": "93df482f-1985-4bf6-ae00-7c93ecaa3935",
   "metadata": {},
   "outputs": [],
   "source": [
    "s = 'Das ist ein Satz!'"
   ]
  },
  {
   "cell_type": "code",
   "execution_count": 10,
   "id": "8496ad99-fc12-4257-a797-c136bc31644f",
   "metadata": {},
   "outputs": [],
   "source": [
    "L = s.split()"
   ]
  },
  {
   "cell_type": "code",
   "execution_count": 11,
   "id": "399c204f-7871-4e1d-acad-d44f311296ff",
   "metadata": {},
   "outputs": [
    {
     "data": {
      "text/plain": [
       "['Das', 'ist', 'ein', 'Satz!']"
      ]
     },
     "execution_count": 11,
     "metadata": {},
     "output_type": "execute_result"
    }
   ],
   "source": [
    "L"
   ]
  },
  {
   "cell_type": "code",
   "execution_count": 12,
   "id": "c1b1d7ca-749d-4aff-b407-20a4e526cbb4",
   "metadata": {},
   "outputs": [
    {
     "data": {
      "text/plain": [
       "'Das_ist_ein_Satz!'"
      ]
     },
     "execution_count": 12,
     "metadata": {},
     "output_type": "execute_result"
    }
   ],
   "source": [
    "'_'.join(L)"
   ]
  },
  {
   "cell_type": "markdown",
   "id": "642947d8-5b23-4446-b373-0b9ea785ca28",
   "metadata": {},
   "source": [
    "# Aufgabe 4"
   ]
  },
  {
   "cell_type": "code",
   "execution_count": 41,
   "id": "7f6a8bdf-e25a-489d-88cc-197741d57b97",
   "metadata": {},
   "outputs": [],
   "source": [
    "template = '''Herr/Frau {name:s},\n",
    "\n",
    "Sie Schulden uns noch {schulden:.2f}€.\n",
    "Bitte zahlen sie {schulden:.2f}€ an den angehangenen acount.\n",
    "Ansonsten bleiben ihre Schulden von {schulden:.2f}€ bestehen.'''"
   ]
  },
  {
   "cell_type": "code",
   "execution_count": 42,
   "id": "1a8850f1-e1d1-4ec6-92ac-77f62c4ae797",
   "metadata": {},
   "outputs": [],
   "source": [
    "name = 'Mustermann'\n",
    "schulden = 500.5"
   ]
  },
  {
   "cell_type": "code",
   "execution_count": 43,
   "id": "49e8fad3-8d2f-4c78-bcf6-d1e5eec88af8",
   "metadata": {},
   "outputs": [
    {
     "name": "stdout",
     "output_type": "stream",
     "text": [
      "Herr/Frau Mustermann,\n",
      "\n",
      "Sie Schulden uns noch 500.50€.\n",
      "Bitte zahlen sie 500.50€ an den angehangenen acount.\n",
      "Ansonsten bleiben ihre Schulden von 500.50€ bestehen.\n"
     ]
    }
   ],
   "source": [
    "print(template.format(**{'name': name, 'schulden': schulden}))"
   ]
  },
  {
   "cell_type": "code",
   "execution_count": null,
   "id": "7358df13-7c54-43d4-be35-437122613eb0",
   "metadata": {},
   "outputs": [],
   "source": []
  }
 ],
 "metadata": {
  "kernelspec": {
   "display_name": "Python 3.10",
   "language": "python",
   "name": "python310"
  },
  "language_info": {
   "codemirror_mode": {
    "name": "ipython",
    "version": 3
   },
   "file_extension": ".py",
   "mimetype": "text/x-python",
   "name": "python",
   "nbconvert_exporter": "python",
   "pygments_lexer": "ipython3",
   "version": "3.10.4"
  }
 },
 "nbformat": 4,
 "nbformat_minor": 5
}
