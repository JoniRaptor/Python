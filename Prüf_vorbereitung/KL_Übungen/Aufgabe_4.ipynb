{
 "cells": [
  {
   "cell_type": "code",
   "execution_count": 24,
   "id": "192684e5-b2f2-4770-b38f-4e20e0df4650",
   "metadata": {},
   "outputs": [],
   "source": [
    "import sys"
   ]
  },
  {
   "cell_type": "code",
   "execution_count": 25,
   "id": "b935e684-6a6e-4a92-a4cd-07330030c656",
   "metadata": {},
   "outputs": [],
   "source": [
    "sys.path.append('/home/user15/data/KL_Übungen')"
   ]
  },
  {
   "cell_type": "code",
   "execution_count": 27,
   "id": "19370979-9151-4fd3-a668-e06c50bb208b",
   "metadata": {},
   "outputs": [],
   "source": [
    "from klausurpackages import my_module"
   ]
  },
  {
   "cell_type": "code",
   "execution_count": 28,
   "id": "a7128b76-fc74-43b9-aaa3-edd7087d74db",
   "metadata": {},
   "outputs": [
    {
     "data": {
      "text/plain": [
       "([0.07330604878866975,\n",
       "  0.1661575819631842,\n",
       "  0.6995403090391857,\n",
       "  3.739693717843958,\n",
       "  4.6548452940121825,\n",
       "  5.800609928703754,\n",
       "  2.8739261867333927,\n",
       "  7.213831740018356,\n",
       "  5.326744862838446,\n",
       "  6.4738431697340655,\n",
       "  9.391058372638053,\n",
       "  1.6948694982714723,\n",
       "  1.5140093076206513,\n",
       "  4.430058552698293,\n",
       "  10.852231279914546,\n",
       "  0.8270875691175572,\n",
       "  2.751993939849164,\n",
       "  0.950355329431521,\n",
       "  3.2673577026468132,\n",
       "  15.357127440374532],\n",
       " [0.8014226821067756,\n",
       "  1.800580523229894,\n",
       "  2.9428426511704133,\n",
       "  3.273789345607889,\n",
       "  3.2432474181215083,\n",
       "  2.2899099772482145,\n",
       "  6.851536185480562,\n",
       "  6.9884182899511025,\n",
       "  2.47894007512006,\n",
       "  8.064819056138258,\n",
       "  4.65542320269743,\n",
       "  3.5560225045761187,\n",
       "  3.1884934811256436,\n",
       "  2.25747312715163,\n",
       "  3.781204549788254,\n",
       "  2.845477430116926,\n",
       "  15.630578767457608,\n",
       "  15.883654177194524,\n",
       "  17.848028970597163,\n",
       "  12.3861418864545])"
      ]
     },
     "execution_count": 28,
     "metadata": {},
     "output_type": "execute_result"
    }
   ],
   "source": [
    "my_module.read_file('coords.txt')"
   ]
  },
  {
   "cell_type": "code",
   "execution_count": 29,
   "id": "3d8eb7f8-e29c-4117-a59c-bdfe280a0104",
   "metadata": {},
   "outputs": [],
   "source": [
    "%load_ext autoreload"
   ]
  },
  {
   "cell_type": "code",
   "execution_count": 31,
   "id": "ec72fbb3-cf82-4e8e-a11b-b527d7e26d7e",
   "metadata": {},
   "outputs": [
    {
     "data": {
      "text/plain": [
       "\u001b[0;31mDocstring:\u001b[0m\n",
       "%autoreload => Reload modules automatically\n",
       "\n",
       "%autoreload\n",
       "Reload all modules (except those excluded by %aimport) automatically\n",
       "now.\n",
       "\n",
       "%autoreload 0\n",
       "Disable automatic reloading.\n",
       "\n",
       "%autoreload 1\n",
       "Reload all modules imported with %aimport every time before executing\n",
       "the Python code typed.\n",
       "\n",
       "%autoreload 2\n",
       "Reload all modules (except those excluded by %aimport) every time\n",
       "before executing the Python code typed.\n",
       "\n",
       "Reloading Python modules in a reliable way is in general\n",
       "difficult, and unexpected things may occur. %autoreload tries to\n",
       "work around common pitfalls by replacing function code objects and\n",
       "parts of classes previously in the module with new versions. This\n",
       "makes the following things to work:\n",
       "\n",
       "- Functions and classes imported via 'from xxx import foo' are upgraded\n",
       "  to new versions when 'xxx' is reloaded.\n",
       "\n",
       "- Methods and properties of classes are upgraded on reload, so that\n",
       "  calling 'c.foo()' on an object 'c' created before the reload causes\n",
       "  the new code for 'foo' to be executed.\n",
       "\n",
       "Some of the known remaining caveats are:\n",
       "\n",
       "- Replacing code objects does not always succeed: changing a @property\n",
       "  in a class to an ordinary method or a method to a member variable\n",
       "  can cause problems (but in old objects only).\n",
       "\n",
       "- Functions that are removed (eg. via monkey-patching) from a module\n",
       "  before it is reloaded are not upgraded.\n",
       "\n",
       "- C extension modules cannot be reloaded, and so cannot be\n",
       "  autoreloaded.\n",
       "\u001b[0;31mFile:\u001b[0m      /opt/mambaforge/envs/python310/lib/python3.10/site-packages/IPython/extensions/autoreload.py\n"
      ]
     },
     "metadata": {},
     "output_type": "display_data"
    }
   ],
   "source": [
    "%autoreload?"
   ]
  },
  {
   "cell_type": "code",
   "execution_count": null,
   "id": "e6b047a2-e879-4bc2-9b54-9499b3a90fba",
   "metadata": {},
   "outputs": [],
   "source": []
  }
 ],
 "metadata": {
  "kernelspec": {
   "display_name": "Python 3.10",
   "language": "python",
   "name": "python310"
  },
  "language_info": {
   "codemirror_mode": {
    "name": "ipython",
    "version": 3
   },
   "file_extension": ".py",
   "mimetype": "text/x-python",
   "name": "python",
   "nbconvert_exporter": "python",
   "pygments_lexer": "ipython3",
   "version": "3.10.4"
  }
 },
 "nbformat": 4,
 "nbformat_minor": 5
}
