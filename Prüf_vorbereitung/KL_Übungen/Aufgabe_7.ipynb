{
 "cells": [
  {
   "cell_type": "code",
   "execution_count": 1,
   "id": "16a75343-df0f-4c1e-9c50-d51c70238257",
   "metadata": {},
   "outputs": [],
   "source": [
    "def read_file(file_name):\n",
    "    \"\"\"Read collums into two lists of floats\"\"\"\n",
    "    xs = []\n",
    "    ys = []\n",
    "    with open(file_name) as fobj:\n",
    "        next(fobj)\n",
    "        for line in fobj:\n",
    "            if line.strip():\n",
    "                x, y = [float(value) for value in line.split(', ')]\n",
    "                xs.append(x)\n",
    "                ys.append(y)\n",
    "        return xs, ys"
   ]
  },
  {
   "cell_type": "code",
   "execution_count": 6,
   "id": "3cb07edb-4dc7-4c46-acf0-930e40ced618",
   "metadata": {},
   "outputs": [],
   "source": [
    "from math import sqrt"
   ]
  },
  {
   "cell_type": "code",
   "execution_count": 2,
   "id": "2bf8a362-3d97-4545-8d8d-b3911426ed93",
   "metadata": {},
   "outputs": [],
   "source": [
    "class Coord:\n",
    "    def __init__(self, x, y):\n",
    "        self.x = x\n",
    "        self.y = y\n",
    "        self.dist = sqrt(x**2 + y**2)\n",
    "\n",
    "    # Aufgabe 6\n",
    "    def __repr__(self):\n",
    "        return f'{self.__class__.__name__}{self.x, self.x}'"
   ]
  },
  {
   "cell_type": "code",
   "execution_count": 9,
   "id": "4e8ffa43-f752-4e6d-b5b9-3a4c19bdb7da",
   "metadata": {},
   "outputs": [],
   "source": [
    "def Coords_list_file(filename):\n",
    "    C = []\n",
    "    L1, L2 = read_file(filename)\n",
    "    for x, y in zip(L1, L2):\n",
    "        C.append(Coord(x, y))\n",
    "    return C"
   ]
  },
  {
   "cell_type": "code",
   "execution_count": 10,
   "id": "eccf3bf4-f18f-447c-ba96-1861cda8adf1",
   "metadata": {},
   "outputs": [
    {
     "data": {
      "text/plain": [
       "[Coord(0.07330604878866975, 0.07330604878866975),\n",
       " Coord(0.1661575819631842, 0.1661575819631842),\n",
       " Coord(0.6995403090391857, 0.6995403090391857),\n",
       " Coord(3.739693717843958, 3.739693717843958),\n",
       " Coord(4.6548452940121825, 4.6548452940121825),\n",
       " Coord(5.800609928703754, 5.800609928703754),\n",
       " Coord(2.8739261867333927, 2.8739261867333927),\n",
       " Coord(7.213831740018356, 7.213831740018356),\n",
       " Coord(5.326744862838446, 5.326744862838446),\n",
       " Coord(6.4738431697340655, 6.4738431697340655),\n",
       " Coord(9.391058372638053, 9.391058372638053),\n",
       " Coord(1.6948694982714723, 1.6948694982714723),\n",
       " Coord(1.5140093076206513, 1.5140093076206513),\n",
       " Coord(4.430058552698293, 4.430058552698293),\n",
       " Coord(10.852231279914546, 10.852231279914546),\n",
       " Coord(0.8270875691175572, 0.8270875691175572),\n",
       " Coord(2.751993939849164, 2.751993939849164),\n",
       " Coord(0.950355329431521, 0.950355329431521),\n",
       " Coord(3.2673577026468132, 3.2673577026468132),\n",
       " Coord(15.357127440374532, 15.357127440374532)]"
      ]
     },
     "execution_count": 10,
     "metadata": {},
     "output_type": "execute_result"
    }
   ],
   "source": [
    "Coords_list_file('coords.txt')"
   ]
  },
  {
   "cell_type": "code",
   "execution_count": null,
   "id": "df33f364-d43e-4c40-acd2-3151a6d26aa2",
   "metadata": {},
   "outputs": [],
   "source": []
  }
 ],
 "metadata": {
  "kernelspec": {
   "display_name": "Python 3.10",
   "language": "python",
   "name": "python310"
  },
  "language_info": {
   "codemirror_mode": {
    "name": "ipython",
    "version": 3
   },
   "file_extension": ".py",
   "mimetype": "text/x-python",
   "name": "python",
   "nbconvert_exporter": "python",
   "pygments_lexer": "ipython3",
   "version": "3.10.4"
  }
 },
 "nbformat": 4,
 "nbformat_minor": 5
}
