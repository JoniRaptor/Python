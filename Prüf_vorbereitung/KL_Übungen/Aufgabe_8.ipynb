{
 "cells": [
  {
   "cell_type": "code",
   "execution_count": 2,
   "id": "9da14634-79cd-4b8c-afde-07338dad1e60",
   "metadata": {},
   "outputs": [],
   "source": [
    "from math import sqrt"
   ]
  },
  {
   "cell_type": "code",
   "execution_count": 3,
   "id": "d2e32284-ea1c-4db5-9d7d-d3252568112a",
   "metadata": {},
   "outputs": [],
   "source": [
    "class Coord:\n",
    "    def __init__(self, x, y):\n",
    "        self.x = x\n",
    "        self.y = y\n",
    "        self.dist = sqrt(x**2 + y**2)\n",
    "\n",
    "    # Aufgabe 6\n",
    "    def __repr__(self):\n",
    "        return f'{self.__class__.__name__}{self.x, self.y}'\n",
    "\n",
    "    # Aufgabe 8\n",
    "    def __add__(self, coor):\n",
    "        return Coord(self.x + coor.x, self.y + coor.y)"
   ]
  },
  {
   "cell_type": "code",
   "execution_count": 4,
   "id": "687a9398-0f69-4ee1-90b1-3583325c780a",
   "metadata": {},
   "outputs": [
    {
     "data": {
      "text/plain": [
       "Coord(9, 5)"
      ]
     },
     "execution_count": 4,
     "metadata": {},
     "output_type": "execute_result"
    }
   ],
   "source": [
    "coord1 = Coord(2, 3)\n",
    "coord2 = Coord(7, 2)\n",
    "coord1 + coord2"
   ]
  },
  {
   "cell_type": "code",
   "execution_count": null,
   "id": "c54493a1-a0b4-4e4a-9ee1-58d2934c4a8e",
   "metadata": {},
   "outputs": [],
   "source": []
  }
 ],
 "metadata": {
  "kernelspec": {
   "display_name": "Python 3.10",
   "language": "python",
   "name": "python310"
  },
  "language_info": {
   "codemirror_mode": {
    "name": "ipython",
    "version": 3
   },
   "file_extension": ".py",
   "mimetype": "text/x-python",
   "name": "python",
   "nbconvert_exporter": "python",
   "pygments_lexer": "ipython3",
   "version": "3.10.4"
  }
 },
 "nbformat": 4,
 "nbformat_minor": 5
}
