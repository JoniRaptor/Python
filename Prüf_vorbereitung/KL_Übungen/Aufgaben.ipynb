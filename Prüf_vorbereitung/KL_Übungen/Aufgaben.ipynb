{
 "cells": [
  {
   "cell_type": "code",
   "execution_count": 1,
   "id": "079b3045-4a5b-4038-8ebc-dcd978f27435",
   "metadata": {},
   "outputs": [
    {
     "data": {
      "text/plain": [
       "X, Y\n",
       "0.07330604878866975, 0.8014226821067756\n",
       "0.1661575819631842, 1.800580523229894\n",
       "0.6995403090391857, 2.9428426511704133\n",
       "3.739693717843958, 3.273789345607889\n",
       "4.6548452940121825, 3.2432474181215083\n",
       "5.800609928703754, 2.2899099772482145\n",
       "2.8739261867333927, 6.851536185480562\n",
       "7.213831740018356, 6.9884182899511025\n",
       "5.326744862838446, 2.47894007512006\n",
       "6.4738431697340655, 8.064819056138258\n",
       "9.391058372638053, 4.65542320269743\n",
       "1.6948694982714723, 3.5560225045761187\n",
       "1.5140093076206513, 3.1884934811256436\n",
       "4.430058552698293, 2.25747312715163\n",
       "10.852231279914546, 3.781204549788254\n",
       "0.8270875691175572, 2.845477430116926\n",
       "2.751993939849164, 15.630578767457608\n",
       "0.950355329431521, 15.883654177194524\n",
       "3.2673577026468132, 17.848028970597163\n",
       "15.357127440374532, 12.3861418864545\n"
      ]
     },
     "metadata": {},
     "output_type": "display_data"
    }
   ],
   "source": [
    "%less coords.txt"
   ]
  },
  {
   "cell_type": "code",
   "execution_count": 44,
   "id": "12aa1464-d177-4ffa-a583-16cc25faf249",
   "metadata": {},
   "outputs": [],
   "source": [
    "def read_file(file_name):\n",
    "    \"\"\"Read collums into two lists of floats\"\"\"\n",
    "    xs = []\n",
    "    ys = []\n",
    "    with open(file_name) as fobj:\n",
    "        next(fobj)\n",
    "        for line in fobj:\n",
    "            if line.strip():\n",
    "                x, y = [float(value) for value in line.split(', ')]\n",
    "                xs.append(x)\n",
    "                ys.append(y)\n",
    "        return xs, ys"
   ]
  },
  {
   "cell_type": "code",
   "execution_count": 45,
   "id": "661f273b-1f56-436d-92f0-1dfd60f89287",
   "metadata": {},
   "outputs": [
    {
     "data": {
      "text/plain": [
       "([0.07330604878866975,\n",
       "  0.1661575819631842,\n",
       "  0.6995403090391857,\n",
       "  3.739693717843958,\n",
       "  4.6548452940121825,\n",
       "  5.800609928703754,\n",
       "  2.8739261867333927,\n",
       "  7.213831740018356,\n",
       "  5.326744862838446,\n",
       "  6.4738431697340655,\n",
       "  9.391058372638053,\n",
       "  1.6948694982714723,\n",
       "  1.5140093076206513,\n",
       "  4.430058552698293,\n",
       "  10.852231279914546,\n",
       "  0.8270875691175572,\n",
       "  2.751993939849164,\n",
       "  0.950355329431521,\n",
       "  3.2673577026468132,\n",
       "  15.357127440374532],\n",
       " [0.8014226821067756,\n",
       "  1.800580523229894,\n",
       "  2.9428426511704133,\n",
       "  3.273789345607889,\n",
       "  3.2432474181215083,\n",
       "  2.2899099772482145,\n",
       "  6.851536185480562,\n",
       "  6.9884182899511025,\n",
       "  2.47894007512006,\n",
       "  8.064819056138258,\n",
       "  4.65542320269743,\n",
       "  3.5560225045761187,\n",
       "  3.1884934811256436,\n",
       "  2.25747312715163,\n",
       "  3.781204549788254,\n",
       "  2.845477430116926,\n",
       "  15.630578767457608,\n",
       "  15.883654177194524,\n",
       "  17.848028970597163,\n",
       "  12.3861418864545])"
      ]
     },
     "execution_count": 45,
     "metadata": {},
     "output_type": "execute_result"
    }
   ],
   "source": [
    "read_file('coords.txt')"
   ]
  },
  {
   "cell_type": "markdown",
   "id": "61ac7aac-8a4b-4507-906d-5ef19ec722c1",
   "metadata": {},
   "source": [
    "# Aufgabe 2"
   ]
  },
  {
   "cell_type": "code",
   "execution_count": 51,
   "id": "3d3d6d15-0b38-4769-9d13-5e5044e91d96",
   "metadata": {},
   "outputs": [],
   "source": [
    "def read_file2(file_name):\n",
    "    \"\"\"Read collums into dict of floats\n",
    "    \n",
    "    first line represents the keys of the dict\n",
    "    \"\"\"\n",
    "    with open(file_name) as fobj:\n",
    "        header = next(fobj).strip('\\n')\n",
    "        keys = header.split(', ')\n",
    "        table = {key: [] for key in keys}\n",
    "        for line in fobj:\n",
    "            if line.strip():\n",
    "                for key, value in zip(keys, line.split(', ')):\n",
    "                    table[key].append(float(value))\n",
    "        return table"
   ]
  },
  {
   "cell_type": "code",
   "execution_count": 52,
   "id": "733829c2-90f2-434d-8078-000e18ef8ccb",
   "metadata": {},
   "outputs": [
    {
     "data": {
      "text/plain": [
       "{'X': [0.07330604878866975,\n",
       "  0.1661575819631842,\n",
       "  0.6995403090391857,\n",
       "  3.739693717843958,\n",
       "  4.6548452940121825,\n",
       "  5.800609928703754,\n",
       "  2.8739261867333927,\n",
       "  7.213831740018356,\n",
       "  5.326744862838446,\n",
       "  6.4738431697340655,\n",
       "  9.391058372638053,\n",
       "  1.6948694982714723,\n",
       "  1.5140093076206513,\n",
       "  4.430058552698293,\n",
       "  10.852231279914546,\n",
       "  0.8270875691175572,\n",
       "  2.751993939849164,\n",
       "  0.950355329431521,\n",
       "  3.2673577026468132,\n",
       "  15.357127440374532],\n",
       " 'Y': [0.8014226821067756,\n",
       "  1.800580523229894,\n",
       "  2.9428426511704133,\n",
       "  3.273789345607889,\n",
       "  3.2432474181215083,\n",
       "  2.2899099772482145,\n",
       "  6.851536185480562,\n",
       "  6.9884182899511025,\n",
       "  2.47894007512006,\n",
       "  8.064819056138258,\n",
       "  4.65542320269743,\n",
       "  3.5560225045761187,\n",
       "  3.1884934811256436,\n",
       "  2.25747312715163,\n",
       "  3.781204549788254,\n",
       "  2.845477430116926,\n",
       "  15.630578767457608,\n",
       "  15.883654177194524,\n",
       "  17.848028970597163,\n",
       "  12.3861418864545]}"
      ]
     },
     "execution_count": 52,
     "metadata": {},
     "output_type": "execute_result"
    }
   ],
   "source": [
    "read_file2('coords.txt')"
   ]
  },
  {
   "cell_type": "markdown",
   "id": "a777e49e-9b97-40ab-b854-8c6709adcb4f",
   "metadata": {},
   "source": [
    "# Aufgabe 3"
   ]
  },
  {
   "cell_type": "code",
   "execution_count": 77,
   "id": "7951f35e-d944-49c9-9c98-14ebec8e22a5",
   "metadata": {},
   "outputs": [],
   "source": [
    "def sum_lists(L1, L2):\n",
    "    \"\"\"creates Sum of collum of a of two float lists\n",
    "    returns a tuple\"\"\"\n",
    "    return sum(L1), sum(L2)"
   ]
  },
  {
   "cell_type": "code",
   "execution_count": 78,
   "id": "4abc9509-9209-4b54-b462-8756c24e24cc",
   "metadata": {},
   "outputs": [
    {
     "data": {
      "text/plain": [
       "(88.05864783223778, 120.76800430133447)"
      ]
     },
     "execution_count": 78,
     "metadata": {},
     "output_type": "execute_result"
    }
   ],
   "source": [
    "sum_lists(*read_file('coords.txt'))"
   ]
  },
  {
   "cell_type": "code",
   "execution_count": 74,
   "id": "b2fb5ead-845e-4b0a-95d5-422feda65ddf",
   "metadata": {},
   "outputs": [],
   "source": [
    "def sum_dict(dic):\n",
    "    \"\"\"creates sum for numerical List in every key of a dict\n",
    "    returns a tuple\"\"\"\n",
    "    keys = dic.keys()\n",
    "    L = []\n",
    "    zaehler = 0\n",
    "    for key in keys:\n",
    "        L.append(0)\n",
    "        for value in dic[key]:\n",
    "            L[zaehler] += value\n",
    "        zaehler += 1\n",
    "    return tuple(L)"
   ]
  },
  {
   "cell_type": "code",
   "execution_count": 79,
   "id": "58adc402-5c68-4a50-b219-f145bd730f9a",
   "metadata": {},
   "outputs": [],
   "source": [
    "def sum_dict_better(dic):\n",
    "    return tuple(sum(value) for value in dic.values())"
   ]
  },
  {
   "cell_type": "code",
   "execution_count": 75,
   "id": "bed88c45-76df-47d7-86df-f3b8fa7203cf",
   "metadata": {},
   "outputs": [
    {
     "data": {
      "text/plain": [
       "(88.05864783223778, 120.76800430133447)"
      ]
     },
     "execution_count": 75,
     "metadata": {},
     "output_type": "execute_result"
    }
   ],
   "source": [
    "sum_dict(read_file2('coords.txt'))"
   ]
  },
  {
   "cell_type": "code",
   "execution_count": 76,
   "id": "ef80123c-b959-42eb-a15d-b451173f9fd4",
   "metadata": {},
   "outputs": [
    {
     "data": {
      "text/plain": [
       "True"
      ]
     },
     "execution_count": 76,
     "metadata": {},
     "output_type": "execute_result"
    }
   ],
   "source": [
    "sum_lists(*read_file('coords.txt')) == sum_dict(read_file2('coords.txt')) == (88.05864783223778, 120.76800430133447)"
   ]
  },
  {
   "cell_type": "code",
   "execution_count": 80,
   "id": "48c05747-18a0-4e23-8f2d-cb1e26e7118d",
   "metadata": {},
   "outputs": [
    {
     "data": {
      "text/plain": [
       "(88.05864783223778, 120.76800430133447)"
      ]
     },
     "execution_count": 80,
     "metadata": {},
     "output_type": "execute_result"
    }
   ],
   "source": [
    "sum_dict_better(read_file2('coords.txt'))"
   ]
  },
  {
   "cell_type": "code",
   "execution_count": 81,
   "id": "332c70b9-a5db-4a6b-ac97-d63be1143039",
   "metadata": {},
   "outputs": [],
   "source": [
    "def sum_dict2(data):\n",
    "    return dict((key, sum(value)) for key, value in data.items())"
   ]
  },
  {
   "cell_type": "code",
   "execution_count": 82,
   "id": "fe656290-728c-444b-b2ce-9ce375b89613",
   "metadata": {},
   "outputs": [
    {
     "data": {
      "text/plain": [
       "{'X': 88.05864783223778, 'Y': 120.76800430133447}"
      ]
     },
     "execution_count": 82,
     "metadata": {},
     "output_type": "execute_result"
    }
   ],
   "source": [
    "sum_dict2(read_file2('coords.txt'))"
   ]
  },
  {
   "cell_type": "code",
   "execution_count": 111,
   "id": "9e005392-827c-40d9-a21e-3f7b0282d817",
   "metadata": {},
   "outputs": [],
   "source": [
    "from math import sqrt"
   ]
  },
  {
   "cell_type": "markdown",
   "id": "e3fb02f7-cc4d-4093-b7c3-08b9c00d88b1",
   "metadata": {},
   "source": [
    "# Aufgabe 5"
   ]
  },
  {
   "cell_type": "code",
   "execution_count": 210,
   "id": "b30aec7a-1914-43df-afeb-14805c289033",
   "metadata": {},
   "outputs": [],
   "source": [
    "class Coord:\n",
    "    def __init__(self, x, y):\n",
    "        self.x = x\n",
    "        self.y = y\n",
    "        self.dist = sqrt(x**2 + y**2)\n",
    "\n",
    "    # Aufgabe 6\n",
    "    def __repr__(self):\n",
    "        return f'{self.__class__.__name__}{self.x, self.y}'  # self.__class__... damit klasse Vererbungssicher\n",
    "\n",
    "    # Aufgabe 8\n",
    "    def __add__(self, coor):\n",
    "        return self.__class__(self.x + coor.x, self.y + coor.y)"
   ]
  },
  {
   "cell_type": "code",
   "execution_count": 191,
   "id": "61878d1a-cd42-490b-8074-fa8ffdede626",
   "metadata": {},
   "outputs": [],
   "source": [
    "C1 = Coord(2, 3)"
   ]
  },
  {
   "cell_type": "code",
   "execution_count": 192,
   "id": "5bc41b7c-e4e4-467a-8523-dfc106435c71",
   "metadata": {},
   "outputs": [
    {
     "data": {
      "text/plain": [
       "2"
      ]
     },
     "execution_count": 192,
     "metadata": {},
     "output_type": "execute_result"
    }
   ],
   "source": [
    "C1.x"
   ]
  },
  {
   "cell_type": "code",
   "execution_count": 193,
   "id": "60c87038-02ea-4053-ad84-9b111c919b63",
   "metadata": {},
   "outputs": [
    {
     "data": {
      "text/plain": [
       "3"
      ]
     },
     "execution_count": 193,
     "metadata": {},
     "output_type": "execute_result"
    }
   ],
   "source": [
    "C1.y"
   ]
  },
  {
   "cell_type": "code",
   "execution_count": 194,
   "id": "2c5cd742-c18b-42d7-b4e1-d4f2ada5bdde",
   "metadata": {},
   "outputs": [
    {
     "data": {
      "text/plain": [
       "3.605551275463989"
      ]
     },
     "execution_count": 194,
     "metadata": {},
     "output_type": "execute_result"
    }
   ],
   "source": [
    "C1.dist"
   ]
  },
  {
   "cell_type": "code",
   "execution_count": 195,
   "id": "350dccba-407e-4762-91a1-f81a15d2dad6",
   "metadata": {},
   "outputs": [
    {
     "data": {
      "text/plain": [
       "Coord(2, 3)"
      ]
     },
     "execution_count": 195,
     "metadata": {},
     "output_type": "execute_result"
    }
   ],
   "source": [
    "C1"
   ]
  },
  {
   "cell_type": "code",
   "execution_count": 196,
   "id": "b07148b7-6c8f-422c-a479-d4ea3a407e8e",
   "metadata": {},
   "outputs": [
    {
     "data": {
      "text/plain": [
       "'Coord(2, 3)'"
      ]
     },
     "execution_count": 196,
     "metadata": {},
     "output_type": "execute_result"
    }
   ],
   "source": [
    "C1.__repr__()"
   ]
  },
  {
   "cell_type": "markdown",
   "id": "11a2650f-de1c-4084-9d3c-50cea9b0d104",
   "metadata": {},
   "source": [
    "# Aufgabe 7"
   ]
  },
  {
   "cell_type": "code",
   "execution_count": 186,
   "id": "5731d087-5923-4481-bc68-58ce7db94b0e",
   "metadata": {},
   "outputs": [],
   "source": [
    "def Coords_list_file(filename):\n",
    "    L1, L2 = read_file(filename)\n",
    "    C = [Coord(x, y) for x, y in zip(L1, L2)]\n",
    "    return C"
   ]
  },
  {
   "cell_type": "code",
   "execution_count": 209,
   "id": "0929f5ed-9724-4b99-96c9-65bada537e74",
   "metadata": {},
   "outputs": [
    {
     "data": {
      "text/plain": [
       "Coord(9, 5)"
      ]
     },
     "execution_count": 209,
     "metadata": {},
     "output_type": "execute_result"
    }
   ],
   "source": [
    "coord1 = Coord(2, 3)\n",
    "coord2 = Coord(7, 2)\n",
    "coord1 + coord2"
   ]
  },
  {
   "cell_type": "code",
   "execution_count": 187,
   "id": "b275e0b1-cb8b-414d-88db-de5dd9b29c02",
   "metadata": {},
   "outputs": [
    {
     "data": {
      "text/plain": [
       "[Coord(0.07330604878866975, 0.07330604878866975),\n",
       " Coord(0.1661575819631842, 0.1661575819631842),\n",
       " Coord(0.6995403090391857, 0.6995403090391857),\n",
       " Coord(3.739693717843958, 3.739693717843958),\n",
       " Coord(4.6548452940121825, 4.6548452940121825),\n",
       " Coord(5.800609928703754, 5.800609928703754),\n",
       " Coord(2.8739261867333927, 2.8739261867333927),\n",
       " Coord(7.213831740018356, 7.213831740018356),\n",
       " Coord(5.326744862838446, 5.326744862838446),\n",
       " Coord(6.4738431697340655, 6.4738431697340655),\n",
       " Coord(9.391058372638053, 9.391058372638053),\n",
       " Coord(1.6948694982714723, 1.6948694982714723),\n",
       " Coord(1.5140093076206513, 1.5140093076206513),\n",
       " Coord(4.430058552698293, 4.430058552698293),\n",
       " Coord(10.852231279914546, 10.852231279914546),\n",
       " Coord(0.8270875691175572, 0.8270875691175572),\n",
       " Coord(2.751993939849164, 2.751993939849164),\n",
       " Coord(0.950355329431521, 0.950355329431521),\n",
       " Coord(3.2673577026468132, 3.2673577026468132),\n",
       " Coord(15.357127440374532, 15.357127440374532)]"
      ]
     },
     "execution_count": 187,
     "metadata": {},
     "output_type": "execute_result"
    }
   ],
   "source": [
    "Coords_list_file('coords.txt')"
   ]
  },
  {
   "cell_type": "code",
   "execution_count": null,
   "id": "582ef203-9570-4d72-94b5-9a193793500f",
   "metadata": {},
   "outputs": [],
   "source": []
  }
 ],
 "metadata": {
  "kernelspec": {
   "display_name": "Python 3.10",
   "language": "python",
   "name": "python310"
  },
  "language_info": {
   "codemirror_mode": {
    "name": "ipython",
    "version": 3
   },
   "file_extension": ".py",
   "mimetype": "text/x-python",
   "name": "python",
   "nbconvert_exporter": "python",
   "pygments_lexer": "ipython3",
   "version": "3.10.4"
  }
 },
 "nbformat": 4,
 "nbformat_minor": 5
}
