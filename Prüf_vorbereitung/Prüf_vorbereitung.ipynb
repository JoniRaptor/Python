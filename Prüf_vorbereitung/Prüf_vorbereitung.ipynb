{
 "cells": [
  {
   "cell_type": "code",
   "execution_count": 6,
   "id": "c2778bc5-bbbf-44fd-b913-ccb3d7044a08",
   "metadata": {},
   "outputs": [],
   "source": [
    "# sequenzen  -- sind alle itterierbar\n",
    "\n",
    "# Strings\n",
    "s = 'Hallo'\n",
    "\n",
    "# Tupel -- erweiterbar\n",
    "t = (1, 2, 3)\n",
    "\n",
    "# Liste -- nicht erweiterbar\n",
    "L = [1, 2, 3]"
   ]
  },
  {
   "cell_type": "code",
   "execution_count": 7,
   "id": "f97b0d7f-d040-4799-8877-89c15ec6c230",
   "metadata": {},
   "outputs": [
    {
     "data": {
      "text/plain": [
       "['__new__',\n",
       " '__repr__',\n",
       " '__hash__',\n",
       " '__getattribute__',\n",
       " '__lt__',\n",
       " '__le__',\n",
       " '__eq__',\n",
       " '__ne__',\n",
       " '__gt__',\n",
       " '__ge__',\n",
       " '__iter__',\n",
       " '__init__',\n",
       " '__len__',\n",
       " '__getitem__',\n",
       " '__setitem__',\n",
       " '__delitem__',\n",
       " '__add__',\n",
       " '__mul__',\n",
       " '__rmul__',\n",
       " '__contains__',\n",
       " '__iadd__',\n",
       " '__imul__',\n",
       " '__reversed__',\n",
       " '__sizeof__',\n",
       " 'clear',\n",
       " 'copy',\n",
       " 'append',\n",
       " 'insert',\n",
       " 'extend',\n",
       " 'pop',\n",
       " 'remove',\n",
       " 'index',\n",
       " 'count',\n",
       " 'reverse',\n",
       " 'sort',\n",
       " '__class_getitem__',\n",
       " '__doc__',\n",
       " '__str__',\n",
       " '__setattr__',\n",
       " '__delattr__',\n",
       " '__reduce_ex__',\n",
       " '__reduce__',\n",
       " '__subclasshook__',\n",
       " '__init_subclass__',\n",
       " '__format__',\n",
       " '__dir__',\n",
       " '__class__']"
      ]
     },
     "execution_count": 7,
     "metadata": {},
     "output_type": "execute_result"
    }
   ],
   "source": [
    "L.__dir__()  # dir listet alle atribute auf"
   ]
  },
  {
   "cell_type": "code",
   "execution_count": 8,
   "id": "edc9abcf-df63-44d3-a2a6-74bfeaced614",
   "metadata": {},
   "outputs": [
    {
     "data": {
      "text/plain": [
       "34"
      ]
     },
     "execution_count": 8,
     "metadata": {},
     "output_type": "execute_result"
    }
   ],
   "source": [
    "len(dir(t))"
   ]
  },
  {
   "cell_type": "code",
   "execution_count": 9,
   "id": "c592ebe9-526e-4666-a1f0-92fc7c40d552",
   "metadata": {},
   "outputs": [
    {
     "data": {
      "text/plain": [
       "47"
      ]
     },
     "execution_count": 9,
     "metadata": {},
     "output_type": "execute_result"
    }
   ],
   "source": [
    "len(dir(L))"
   ]
  },
  {
   "cell_type": "code",
   "execution_count": 19,
   "id": "59808ea5-19b4-4e9a-88d5-b96bf0698da4",
   "metadata": {},
   "outputs": [],
   "source": [
    "# Sets\n",
    "\n",
    "al = set(dir(L))\n",
    "at = set(dir(t))"
   ]
  },
  {
   "cell_type": "code",
   "execution_count": 25,
   "id": "e325b8ce-ae37-4df4-9e1f-415724226601",
   "metadata": {},
   "outputs": [
    {
     "data": {
      "text/plain": [
       "{'__add__',\n",
       " '__class__',\n",
       " '__class_getitem__',\n",
       " '__contains__',\n",
       " '__delattr__',\n",
       " '__dir__',\n",
       " '__doc__',\n",
       " '__eq__',\n",
       " '__format__',\n",
       " '__ge__',\n",
       " '__getattribute__',\n",
       " '__getitem__',\n",
       " '__gt__',\n",
       " '__hash__',\n",
       " '__init__',\n",
       " '__init_subclass__',\n",
       " '__iter__',\n",
       " '__le__',\n",
       " '__len__',\n",
       " '__lt__',\n",
       " '__mul__',\n",
       " '__ne__',\n",
       " '__new__',\n",
       " '__reduce__',\n",
       " '__reduce_ex__',\n",
       " '__repr__',\n",
       " '__rmul__',\n",
       " '__setattr__',\n",
       " '__sizeof__',\n",
       " '__str__',\n",
       " '__subclasshook__',\n",
       " 'count',\n",
       " 'index'}"
      ]
     },
     "execution_count": 25,
     "metadata": {},
     "output_type": "execute_result"
    }
   ],
   "source": [
    "al.intersection(at)  # gemeinsamkeiten der sets al und at"
   ]
  },
  {
   "cell_type": "code",
   "execution_count": 23,
   "id": "2f261d8e-ebbd-402e-8c57-cea4fe2520e3",
   "metadata": {},
   "outputs": [
    {
     "data": {
      "text/plain": [
       "33"
      ]
     },
     "execution_count": 23,
     "metadata": {},
     "output_type": "execute_result"
    }
   ],
   "source": [
    "len(al.intersection(at))"
   ]
  },
  {
   "cell_type": "code",
   "execution_count": 11,
   "id": "cc5c3571-f1b4-4fb8-b5a8-219815c415f7",
   "metadata": {},
   "outputs": [
    {
     "data": {
      "text/plain": [
       "{'__delitem__',\n",
       " '__iadd__',\n",
       " '__imul__',\n",
       " '__reversed__',\n",
       " '__setitem__',\n",
       " 'append',\n",
       " 'clear',\n",
       " 'copy',\n",
       " 'extend',\n",
       " 'insert',\n",
       " 'pop',\n",
       " 'remove',\n",
       " 'reverse',\n",
       " 'sort'}"
      ]
     },
     "execution_count": 11,
     "metadata": {},
     "output_type": "execute_result"
    }
   ],
   "source": [
    "al - at"
   ]
  },
  {
   "cell_type": "code",
   "execution_count": 14,
   "id": "c80263f1-9bb2-4937-806d-18f0b52ea854",
   "metadata": {},
   "outputs": [
    {
     "data": {
      "text/plain": [
       "14"
      ]
     },
     "execution_count": 14,
     "metadata": {},
     "output_type": "execute_result"
    }
   ],
   "source": [
    "len(al - at)  # al hat 14 zusaätzliche atribute zu at"
   ]
  },
  {
   "cell_type": "code",
   "execution_count": 15,
   "id": "202852f9-06e8-4d08-a901-b50f92b7f6a0",
   "metadata": {},
   "outputs": [
    {
     "data": {
      "text/plain": [
       "{'__getnewargs__'}"
      ]
     },
     "execution_count": 15,
     "metadata": {},
     "output_type": "execute_result"
    }
   ],
   "source": [
    "at - al  # at hat ein zusätzöiches atribut zu al"
   ]
  },
  {
   "cell_type": "code",
   "execution_count": 16,
   "id": "debbf616-a1e1-4122-aec9-2bdd36f595c3",
   "metadata": {},
   "outputs": [
    {
     "data": {
      "text/plain": [
       "1"
      ]
     },
     "execution_count": 16,
     "metadata": {},
     "output_type": "execute_result"
    }
   ],
   "source": [
    "t[0]"
   ]
  },
  {
   "cell_type": "code",
   "execution_count": 17,
   "id": "35e0fd14-da0b-4501-8ba7-471c89c25464",
   "metadata": {},
   "outputs": [
    {
     "data": {
      "text/plain": [
       "(1, 2)"
      ]
     },
     "execution_count": 17,
     "metadata": {},
     "output_type": "execute_result"
    }
   ],
   "source": [
    "t[:2]"
   ]
  },
  {
   "cell_type": "code",
   "execution_count": 26,
   "id": "0047692d-044a-41b1-96c1-f01035ed29de",
   "metadata": {},
   "outputs": [
    {
     "data": {
      "text/plain": [
       "(1, 2)"
      ]
     },
     "execution_count": 26,
     "metadata": {},
     "output_type": "execute_result"
    }
   ],
   "source": [
    "t[0:2:1]  #[start:stop:step]"
   ]
  },
  {
   "cell_type": "code",
   "execution_count": 27,
   "id": "f26ee4b5-832a-44fd-bccd-e1ab73c05014",
   "metadata": {},
   "outputs": [
    {
     "data": {
      "text/plain": [
       "\u001b[0;31mInit signature:\u001b[0m \u001b[0mrange\u001b[0m\u001b[0;34m(\u001b[0m\u001b[0mself\u001b[0m\u001b[0;34m,\u001b[0m \u001b[0;34m/\u001b[0m\u001b[0;34m,\u001b[0m \u001b[0;34m*\u001b[0m\u001b[0margs\u001b[0m\u001b[0;34m,\u001b[0m \u001b[0;34m**\u001b[0m\u001b[0mkwargs\u001b[0m\u001b[0;34m)\u001b[0m\u001b[0;34m\u001b[0m\u001b[0;34m\u001b[0m\u001b[0m\n",
       "\u001b[0;31mDocstring:\u001b[0m     \n",
       "range(stop) -> range object\n",
       "range(start, stop[, step]) -> range object\n",
       "\n",
       "Return an object that produces a sequence of integers from start (inclusive)\n",
       "to stop (exclusive) by step.  range(i, j) produces i, i+1, i+2, ..., j-1.\n",
       "start defaults to 0, and stop is omitted!  range(4) produces 0, 1, 2, 3.\n",
       "These are exactly the valid indices for a list of 4 elements.\n",
       "When step is given, it specifies the increment (or decrement).\n",
       "\u001b[0;31mType:\u001b[0m           type\n",
       "\u001b[0;31mSubclasses:\u001b[0m     \n"
      ]
     },
     "metadata": {},
     "output_type": "display_data"
    }
   ],
   "source": [
    "range?"
   ]
  },
  {
   "cell_type": "code",
   "execution_count": 28,
   "id": "ae50b924-3745-4ab8-85c4-f69ed123e2c9",
   "metadata": {},
   "outputs": [],
   "source": [
    "t = tuple(range(2, 11))"
   ]
  },
  {
   "cell_type": "code",
   "execution_count": 29,
   "id": "b47f31e8-907e-4cfc-a1b2-ffc809807d7e",
   "metadata": {},
   "outputs": [
    {
     "data": {
      "text/plain": [
       "(2, 3, 4, 5, 6, 7, 8, 9, 10)"
      ]
     },
     "execution_count": 29,
     "metadata": {},
     "output_type": "execute_result"
    }
   ],
   "source": [
    "t"
   ]
  },
  {
   "cell_type": "code",
   "execution_count": 30,
   "id": "01327c22-cdc1-4744-a340-21dcbf995396",
   "metadata": {},
   "outputs": [
    {
     "data": {
      "text/plain": [
       "(4, 5)"
      ]
     },
     "execution_count": 30,
     "metadata": {},
     "output_type": "execute_result"
    }
   ],
   "source": [
    "t[2:4]"
   ]
  },
  {
   "cell_type": "code",
   "execution_count": 31,
   "id": "94535dd6-75df-4bdb-b7b2-621138755f29",
   "metadata": {},
   "outputs": [
    {
     "data": {
      "text/plain": [
       "(4, 5, 6, 7, 8, 9, 10)"
      ]
     },
     "execution_count": 31,
     "metadata": {},
     "output_type": "execute_result"
    }
   ],
   "source": [
    "t[2:200]"
   ]
  },
  {
   "cell_type": "code",
   "execution_count": 32,
   "id": "8900cdd1-5944-4c18-9c6a-720f9d5ae8b1",
   "metadata": {},
   "outputs": [
    {
     "ename": "IndexError",
     "evalue": "tuple index out of range",
     "output_type": "error",
     "traceback": [
      "\u001b[0;31m---------------------------------------------------------------------------\u001b[0m",
      "\u001b[0;31mIndexError\u001b[0m                                Traceback (most recent call last)",
      "Input \u001b[0;32mIn [32]\u001b[0m, in \u001b[0;36m<cell line: 1>\u001b[0;34m()\u001b[0m\n\u001b[0;32m----> 1\u001b[0m \u001b[43mt\u001b[49m\u001b[43m[\u001b[49m\u001b[38;5;241;43m200\u001b[39;49m\u001b[43m]\u001b[49m\n",
      "\u001b[0;31mIndexError\u001b[0m: tuple index out of range"
     ]
    }
   ],
   "source": [
    "t[200]"
   ]
  },
  {
   "cell_type": "markdown",
   "id": "f8eb3413-7bb8-493e-ae4b-df25dba93812",
   "metadata": {},
   "source": [
    "* Bitte listen sie alle Ihnen bekannten Nutzungen von Klammern in Python auf.\n",
    "* Benennen Sie jeweils den Kontext\n",
    "* Gebe jeweils ein kurzes Code-Beispiel."
   ]
  },
  {
   "cell_type": "code",
   "execution_count": 37,
   "id": "6c2efd89-b5c2-4fd1-881d-2117bcd1bd1e",
   "metadata": {},
   "outputs": [],
   "source": [
    "# Tupel\n",
    "t1 = (1, 2, 3)"
   ]
  },
  {
   "cell_type": "code",
   "execution_count": 54,
   "id": "aac4d9ef-9c7d-443a-89b4-34e46df8d460",
   "metadata": {},
   "outputs": [
    {
     "data": {
      "text/plain": [
       "1"
      ]
     },
     "execution_count": 54,
     "metadata": {},
     "output_type": "execute_result"
    }
   ],
   "source": [
    "# Parameter in Fkt und Methoden\n",
    "t1.count(1)"
   ]
  },
  {
   "cell_type": "code",
   "execution_count": 43,
   "id": "78a6817e-f3c1-4061-936c-c51ccdd2a9cb",
   "metadata": {},
   "outputs": [
    {
     "name": "stdout",
     "output_type": "stream",
     "text": [
      "9\n",
      "7\n"
     ]
    }
   ],
   "source": [
    "# Mathe rechenreihenfolge\n",
    "\n",
    "print((1+2)*3)\n",
    "\n",
    "print(1+2*3)"
   ]
  },
  {
   "cell_type": "code",
   "execution_count": 52,
   "id": "caf8008b-5bf1-48e7-b685-83a88b3b273f",
   "metadata": {},
   "outputs": [
    {
     "name": "stdout",
     "output_type": "stream",
     "text": [
      "x\n"
     ]
    }
   ],
   "source": [
    "# optional in while-schleifen\n",
    "\n",
    "while(True):\n",
    "    print('x')\n",
    "    break"
   ]
  },
  {
   "cell_type": "code",
   "execution_count": 57,
   "id": "cfb36533-d5d5-4b6c-a7e2-b5821689bd1d",
   "metadata": {},
   "outputs": [
    {
     "data": {
      "text/plain": [
       "[0, 2, 4, 6, 8]"
      ]
     },
     "execution_count": 57,
     "metadata": {},
     "output_type": "execute_result"
    }
   ],
   "source": [
    "# List-Generatoren\n",
    "\n",
    "list((n for n in range(10) if not n%2))"
   ]
  },
  {
   "cell_type": "code",
   "execution_count": 58,
   "id": "5022dbb7-41a2-4913-8ab3-460d2d8f1256",
   "metadata": {},
   "outputs": [],
   "source": [
    "# Dictionary\n",
    "\n",
    "D = {'a': 1}\n",
    "D"
   ]
  },
  {
   "cell_type": "code",
   "execution_count": 62,
   "id": "3069eccf-70c6-4d4d-b336-43615b5822db",
   "metadata": {},
   "outputs": [
    {
     "data": {
      "text/plain": [
       "[1, 2, 3]"
      ]
     },
     "execution_count": 62,
     "metadata": {},
     "output_type": "execute_result"
    }
   ],
   "source": [
    "# Listen\n",
    "\n",
    "L = [1, 2, 3]\n",
    "L"
   ]
  },
  {
   "cell_type": "code",
   "execution_count": 64,
   "id": "608f6ad1-9d94-4f74-8ea5-da308bf79f24",
   "metadata": {},
   "outputs": [
    {
     "data": {
      "text/plain": [
       "1"
      ]
     },
     "execution_count": 64,
     "metadata": {},
     "output_type": "execute_result"
    }
   ],
   "source": [
    "D['a']  # wert mit index/key ausgeben"
   ]
  },
  {
   "cell_type": "code",
   "execution_count": 65,
   "id": "2fd1769d-d897-4b33-83d3-c5ed16036fe4",
   "metadata": {},
   "outputs": [
    {
     "data": {
      "text/plain": [
       "2"
      ]
     },
     "execution_count": 65,
     "metadata": {},
     "output_type": "execute_result"
    }
   ],
   "source": [
    "L[1]"
   ]
  },
  {
   "cell_type": "markdown",
   "id": "8c9d22f3-7d18-4fa6-adba-d0f1a76a568c",
   "metadata": {},
   "source": [
    "## Eckige Klammern"
   ]
  },
  {
   "cell_type": "markdown",
   "id": "9c73273d-bc1c-44ea-940f-91a1cff5eb1b",
   "metadata": {},
   "source": [
    "* indizieren"
   ]
  },
  {
   "cell_type": "code",
   "execution_count": 149,
   "id": "89b60d5e-7eb8-485f-ac3a-e2839a03d20a",
   "metadata": {},
   "outputs": [
    {
     "data": {
      "text/plain": [
       "1"
      ]
     },
     "execution_count": 149,
     "metadata": {},
     "output_type": "execute_result"
    }
   ],
   "source": [
    "t = (1, 2, 3)\n",
    "t[0]"
   ]
  },
  {
   "cell_type": "markdown",
   "id": "def7aba3-559e-4045-9787-c6dffe22baf4",
   "metadata": {},
   "source": [
    "* Dict-Schlüssel Zugriff"
   ]
  },
  {
   "cell_type": "code",
   "execution_count": 148,
   "id": "66cfa8c7-5947-4b1a-a31d-c48361f1d43c",
   "metadata": {},
   "outputs": [
    {
     "data": {
      "text/plain": [
       "100"
      ]
     },
     "execution_count": 148,
     "metadata": {},
     "output_type": "execute_result"
    }
   ],
   "source": [
    "d = {'a': 100}\n",
    "d['a']"
   ]
  },
  {
   "cell_type": "markdown",
   "id": "ea1b1bd3-5ea8-40a4-8e18-0e1fc4828057",
   "metadata": {},
   "source": [
    "* Liste anlegen"
   ]
  },
  {
   "cell_type": "code",
   "execution_count": 75,
   "id": "f75ddf77-c0d2-4481-aae0-fcc1b03663d0",
   "metadata": {},
   "outputs": [],
   "source": [
    "L = [1, 2, 3]"
   ]
  },
  {
   "cell_type": "markdown",
   "id": "74b1d5a1-10f8-4486-8d42-e8468277dd9c",
   "metadata": {},
   "source": [
    "* Slicing"
   ]
  },
  {
   "cell_type": "code",
   "execution_count": 77,
   "id": "2788126e-bcf0-47f2-9655-f373952b1a36",
   "metadata": {},
   "outputs": [
    {
     "data": {
      "text/plain": [
       "[1, 2]"
      ]
     },
     "execution_count": 77,
     "metadata": {},
     "output_type": "execute_result"
    }
   ],
   "source": [
    "L[:2]"
   ]
  },
  {
   "cell_type": "markdown",
   "id": "7765d635-47fe-41d7-bfce-7b82959f6536",
   "metadata": {},
   "source": [
    "* Listcomprehension"
   ]
  },
  {
   "cell_type": "code",
   "execution_count": 79,
   "id": "542e0935-359f-4b1d-8c67-2f4687ba2c1c",
   "metadata": {},
   "outputs": [
    {
     "data": {
      "text/plain": [
       "[10, 11, 12, 13, 14, 15, 16, 17, 18, 19]"
      ]
     },
     "execution_count": 79,
     "metadata": {},
     "output_type": "execute_result"
    }
   ],
   "source": [
    "[x + 10 for x in range(10)]"
   ]
  },
  {
   "cell_type": "markdown",
   "id": "9074102a-fb03-4dfe-8ac9-4d7f96f9cc3b",
   "metadata": {},
   "source": [
    "## Geschweifte Klammern"
   ]
  },
  {
   "cell_type": "markdown",
   "id": "0f6f9301-2fc2-440f-8c42-521c297f0f5f",
   "metadata": {},
   "source": [
    "* Dictionary"
   ]
  },
  {
   "cell_type": "code",
   "execution_count": 67,
   "id": "78b43960-618c-4368-ad39-311bcbd80d2e",
   "metadata": {},
   "outputs": [],
   "source": [
    "d = {'a': 100}"
   ]
  },
  {
   "cell_type": "markdown",
   "id": "729cfd78-271e-48c2-a6ee-8388a3bcb8d3",
   "metadata": {},
   "source": [
    "* String-Platzhalter 'f'-Strings und .format"
   ]
  },
  {
   "cell_type": "code",
   "execution_count": 81,
   "id": "ea8b4f29-e0cc-440b-be7d-f5862a9fd1a8",
   "metadata": {},
   "outputs": [
    {
     "data": {
      "text/plain": [
       "'Wert: 100'"
      ]
     },
     "execution_count": 81,
     "metadata": {},
     "output_type": "execute_result"
    }
   ],
   "source": [
    "a = 100\n",
    "f'Wert: {a}'"
   ]
  },
  {
   "cell_type": "markdown",
   "id": "05e838cc-696c-401a-8e7c-0ac1317cc669",
   "metadata": {},
   "source": [
    "* mengen/Sets"
   ]
  },
  {
   "cell_type": "code",
   "execution_count": 82,
   "id": "704bf578-0342-42cb-a4e8-6533f3b73462",
   "metadata": {},
   "outputs": [
    {
     "data": {
      "text/plain": [
       "{1, 2, 3}"
      ]
     },
     "execution_count": 82,
     "metadata": {},
     "output_type": "execute_result"
    }
   ],
   "source": [
    "{1, 2, 3}"
   ]
  },
  {
   "cell_type": "markdown",
   "id": "278a3e3e-7183-46af-af69-57db7447bb5a",
   "metadata": {},
   "source": [
    "## Runde Klammern"
   ]
  },
  {
   "cell_type": "markdown",
   "id": "5b82d4cd-108f-4028-9e1f-35c734fa9025",
   "metadata": {},
   "source": [
    "* tuple anlegen"
   ]
  },
  {
   "cell_type": "code",
   "execution_count": 68,
   "id": "dc0b0699-6e7a-4da3-8a4f-6498865a4b9a",
   "metadata": {},
   "outputs": [],
   "source": [
    "t = (1, 2, 3)"
   ]
  },
  {
   "cell_type": "markdown",
   "id": "7eb9f4ce-43fd-4272-a1d4-0a064c21d59e",
   "metadata": {},
   "source": [
    "* Call(\"Functionsaufruf\", Initialisirung)"
   ]
  },
  {
   "cell_type": "code",
   "execution_count": 69,
   "id": "ed88d03d-3cef-49aa-a52b-e2ce6659ec0a",
   "metadata": {},
   "outputs": [
    {
     "name": "stdout",
     "output_type": "stream",
     "text": [
      "hallo\n"
     ]
    }
   ],
   "source": [
    "print('hallo')"
   ]
  },
  {
   "cell_type": "code",
   "execution_count": 83,
   "id": "aecb114b-26a4-4276-8f76-6e9b2ceef226",
   "metadata": {},
   "outputs": [
    {
     "data": {
      "text/plain": [
       "range(0, 10)"
      ]
     },
     "execution_count": 83,
     "metadata": {},
     "output_type": "execute_result"
    }
   ],
   "source": [
    "range(10)"
   ]
  },
  {
   "cell_type": "code",
   "execution_count": 84,
   "id": "6603cc5f-1c44-40ac-b343-d9540db0796f",
   "metadata": {},
   "outputs": [
    {
     "data": {
      "text/plain": [
       "34"
      ]
     },
     "execution_count": 84,
     "metadata": {},
     "output_type": "execute_result"
    }
   ],
   "source": [
    "int(34.3)"
   ]
  },
  {
   "cell_type": "markdown",
   "id": "1b348051-7000-4ac3-83e6-3682ee1d40fd",
   "metadata": {},
   "source": [
    "* vererbung"
   ]
  },
  {
   "cell_type": "code",
   "execution_count": 71,
   "id": "1d4d2eae-c129-4abe-acbf-866b070acdf1",
   "metadata": {},
   "outputs": [],
   "source": [
    "class myClass(object):\n",
    "    pass"
   ]
  },
  {
   "cell_type": "markdown",
   "id": "73fbb5f0-9e82-4a0b-89f9-7613761e2894",
   "metadata": {},
   "source": [
    "* Gernatorausdrücke"
   ]
  },
  {
   "cell_type": "code",
   "execution_count": 72,
   "id": "559ac929-056c-4d08-b094-a039e25e5399",
   "metadata": {},
   "outputs": [
    {
     "data": {
      "text/plain": [
       "<generator object <genexpr> at 0x7fd158082490>"
      ]
     },
     "execution_count": 72,
     "metadata": {},
     "output_type": "execute_result"
    }
   ],
   "source": [
    "(x + 10 for x in range(10))"
   ]
  },
  {
   "cell_type": "markdown",
   "id": "d709bd92-fade-4a25-bd05-7260a4bdcebe",
   "metadata": {},
   "source": [
    "* meherer Ausnahmen abfangen"
   ]
  },
  {
   "cell_type": "code",
   "execution_count": 86,
   "id": "3918a063-610c-41ae-9041-45c016a2f6a9",
   "metadata": {},
   "outputs": [
    {
     "name": "stdout",
     "output_type": "stream",
     "text": [
      "geht nicht\n"
     ]
    }
   ],
   "source": [
    "try:\n",
    "    1/0\n",
    "except (ZeroDivisionError, AttributeError):\n",
    "    print('geht nicht')"
   ]
  },
  {
   "cell_type": "markdown",
   "id": "f38a8431-610d-4f23-8bee-55729b93ab37",
   "metadata": {},
   "source": [
    "* with mit mehreren Objekten"
   ]
  },
  {
   "cell_type": "code",
   "execution_count": 89,
   "id": "40bf2912-8e2e-4ea7-bc1b-8ddecf115f74",
   "metadata": {},
   "outputs": [],
   "source": [
    "with (open('data.txt') as fobj_in, open('out.txt', 'w') as fobj_out):\n",
    "    for line in fobj_in:\n",
    "        fobj_out.write(line)"
   ]
  },
  {
   "cell_type": "code",
   "execution_count": 97,
   "id": "23e70939-f89f-44cb-9bce-1ebb7c37e56a",
   "metadata": {},
   "outputs": [
    {
     "data": {
      "text/plain": [
       "zeile 1\n",
       "zeile 2\n",
       "zeile 3\n",
       "\n",
       "zeile 5\n",
       "Zeile 6\n",
       "Zeile 7\n",
       "\n",
       "Zeile 9\n"
      ]
     },
     "metadata": {},
     "output_type": "display_data"
    }
   ],
   "source": [
    "%less out.txt"
   ]
  },
  {
   "cell_type": "markdown",
   "id": "0c9d5cb5-13e0-4aba-88a3-f58d7dec6bff",
   "metadata": {},
   "source": [
    "# Ende"
   ]
  },
  {
   "cell_type": "markdown",
   "id": "c6aaded9-d75f-40a2-a555-4c1bb9fd9ca7",
   "metadata": {},
   "source": [
    "## append"
   ]
  },
  {
   "cell_type": "code",
   "execution_count": 91,
   "id": "5b2bc9c4-eed3-453e-a909-4f7bf715303b",
   "metadata": {},
   "outputs": [
    {
     "data": {
      "text/plain": [
       "[1, 2, 3]"
      ]
     },
     "execution_count": 91,
     "metadata": {},
     "output_type": "execute_result"
    }
   ],
   "source": [
    "L"
   ]
  },
  {
   "cell_type": "code",
   "execution_count": 92,
   "id": "3305e980-53a0-48be-9f67-d3732339f9bc",
   "metadata": {},
   "outputs": [
    {
     "data": {
      "text/plain": [
       "\u001b[0;31mSignature:\u001b[0m \u001b[0mL\u001b[0m\u001b[0;34m.\u001b[0m\u001b[0mappend\u001b[0m\u001b[0;34m(\u001b[0m\u001b[0mobject\u001b[0m\u001b[0;34m,\u001b[0m \u001b[0;34m/\u001b[0m\u001b[0;34m)\u001b[0m\u001b[0;34m\u001b[0m\u001b[0;34m\u001b[0m\u001b[0m\n",
       "\u001b[0;31mDocstring:\u001b[0m Append object to the end of the list.\n",
       "\u001b[0;31mType:\u001b[0m      builtin_function_or_method\n"
      ]
     },
     "metadata": {},
     "output_type": "display_data"
    }
   ],
   "source": [
    "L.append?"
   ]
  },
  {
   "cell_type": "code",
   "execution_count": 95,
   "id": "541343e1-65a6-41b9-8ff1-9a674f28feb7",
   "metadata": {},
   "outputs": [],
   "source": [
    "data = []\n",
    "for x in range(2, 12):\n",
    "    data.append(x + 37)"
   ]
  },
  {
   "cell_type": "code",
   "execution_count": 96,
   "id": "059bad6d-1dbb-47ce-b435-2a501d9b057e",
   "metadata": {},
   "outputs": [
    {
     "data": {
      "text/plain": [
       "[39, 40, 41, 42, 43, 44, 45, 46, 47, 48]"
      ]
     },
     "execution_count": 96,
     "metadata": {},
     "output_type": "execute_result"
    }
   ],
   "source": [
    "data"
   ]
  },
  {
   "cell_type": "code",
   "execution_count": 105,
   "id": "a69a84a2-6eaa-46ea-a272-26dfd01df0a3",
   "metadata": {},
   "outputs": [],
   "source": [
    "data1 = []\n",
    "for x in range(2, 12):\n",
    "    try:\n",
    "        data1.append(x + 37)\n",
    "    except ZeroDivisionError:\n",
    "        pass"
   ]
  },
  {
   "cell_type": "code",
   "execution_count": 106,
   "id": "3773e2c0-af1f-4350-b956-e76794bf09e3",
   "metadata": {},
   "outputs": [
    {
     "data": {
      "text/plain": [
       "[39, 40, 41, 42, 43, 44, 45, 46, 47, 48]"
      ]
     },
     "execution_count": 106,
     "metadata": {},
     "output_type": "execute_result"
    }
   ],
   "source": [
    "data1"
   ]
  },
  {
   "cell_type": "code",
   "execution_count": 102,
   "id": "83c8ffea-1ecc-4d72-96d6-e423b4d98029",
   "metadata": {},
   "outputs": [],
   "source": [
    "def convert(value):\n",
    "    try:\n",
    "        return x + 37\n",
    "    except ZeroDivisionError:\n",
    "        return"
   ]
  },
  {
   "cell_type": "code",
   "execution_count": 108,
   "id": "9efe61b5-aab4-46c5-b79a-d4a18e4aacf7",
   "metadata": {},
   "outputs": [],
   "source": [
    "data = [res for x in range(2, 11) if (res := convert(x)) is not None]  \n",
    "# Listkomprehension kommt mit ausnahmen nicht klar --> deshalb separate Fkt benötigt"
   ]
  },
  {
   "cell_type": "code",
   "execution_count": 104,
   "id": "151f164d-8a81-4366-a196-b824c6e012a1",
   "metadata": {},
   "outputs": [
    {
     "data": {
      "text/plain": [
       "[48, 48, 48, 48, 48, 48, 48, 48, 48]"
      ]
     },
     "execution_count": 104,
     "metadata": {},
     "output_type": "execute_result"
    }
   ],
   "source": [
    "data"
   ]
  },
  {
   "cell_type": "code",
   "execution_count": 114,
   "id": "c373b3ed-25d7-4f0e-a667-c888e7844e90",
   "metadata": {},
   "outputs": [],
   "source": [
    "L = [1, 2, 3]"
   ]
  },
  {
   "cell_type": "code",
   "execution_count": 115,
   "id": "50420918-fcb5-4f08-9054-8ac11330d06b",
   "metadata": {},
   "outputs": [],
   "source": [
    "L.extend(range(2, 6))  # range ist lazy --> gut für verarbeitung vieler daten"
   ]
  },
  {
   "cell_type": "code",
   "execution_count": 116,
   "id": "a3078ecd-b155-4382-bc06-9e7d4f1ea299",
   "metadata": {},
   "outputs": [
    {
     "data": {
      "text/plain": [
       "[1, 2, 3, 2, 3, 4, 5]"
      ]
     },
     "execution_count": 116,
     "metadata": {},
     "output_type": "execute_result"
    }
   ],
   "source": [
    "L"
   ]
  },
  {
   "cell_type": "markdown",
   "id": "fed9326d-10d3-4044-8ba8-f9177a3c2fc8",
   "metadata": {},
   "source": [
    "## Dicitonary"
   ]
  },
  {
   "cell_type": "code",
   "execution_count": 118,
   "id": "725dd7b7-351e-42ac-b5b3-13ac7da57fc3",
   "metadata": {},
   "outputs": [],
   "source": [
    "d = {'a': 100, 'b': 200, 'c': 300}"
   ]
  },
  {
   "cell_type": "code",
   "execution_count": 119,
   "id": "4e300925-9b4c-43bf-adbd-b5780e1da627",
   "metadata": {},
   "outputs": [
    {
     "data": {
      "text/plain": [
       "{'a': 100, 'b': 200, 'c': 300}"
      ]
     },
     "execution_count": 119,
     "metadata": {},
     "output_type": "execute_result"
    }
   ],
   "source": [
    "d"
   ]
  },
  {
   "cell_type": "code",
   "execution_count": 120,
   "id": "811e50f4-5880-4ce5-a549-b7e68fe23974",
   "metadata": {},
   "outputs": [
    {
     "data": {
      "text/plain": [
       "{'a': 100, 'b': 200, 'c': 300}"
      ]
     },
     "execution_count": 120,
     "metadata": {},
     "output_type": "execute_result"
    }
   ],
   "source": [
    "locals()['d']"
   ]
  },
  {
   "cell_type": "code",
   "execution_count": 121,
   "id": "ce2c347b-6b97-4264-b751-7067a49a933c",
   "metadata": {},
   "outputs": [
    {
     "data": {
      "text/plain": [
       "True"
      ]
     },
     "execution_count": 121,
     "metadata": {},
     "output_type": "execute_result"
    }
   ],
   "source": [
    "locals() is globals()"
   ]
  },
  {
   "cell_type": "code",
   "execution_count": 122,
   "id": "67641302-47c6-493a-ac88-76c5e4aa371c",
   "metadata": {},
   "outputs": [
    {
     "data": {
      "text/plain": [
       "{}"
      ]
     },
     "execution_count": 122,
     "metadata": {},
     "output_type": "execute_result"
    }
   ],
   "source": [
    "dict()"
   ]
  },
  {
   "cell_type": "code",
   "execution_count": 123,
   "id": "c4b77f46-161b-4316-9a06-f3fda4e956c6",
   "metadata": {},
   "outputs": [
    {
     "data": {
      "text/plain": [
       "[]"
      ]
     },
     "execution_count": 123,
     "metadata": {},
     "output_type": "execute_result"
    }
   ],
   "source": [
    "list()"
   ]
  },
  {
   "cell_type": "code",
   "execution_count": 124,
   "id": "9118e63c-8592-49ae-a0be-1c1ced16663a",
   "metadata": {},
   "outputs": [
    {
     "data": {
      "text/plain": [
       "()"
      ]
     },
     "execution_count": 124,
     "metadata": {},
     "output_type": "execute_result"
    }
   ],
   "source": [
    "tuple()"
   ]
  },
  {
   "cell_type": "code",
   "execution_count": 125,
   "id": "dbf8c9d3-e34c-42b3-afa9-badae6b14f18",
   "metadata": {},
   "outputs": [
    {
     "data": {
      "text/plain": [
       "0"
      ]
     },
     "execution_count": 125,
     "metadata": {},
     "output_type": "execute_result"
    }
   ],
   "source": [
    "int()"
   ]
  },
  {
   "cell_type": "code",
   "execution_count": 126,
   "id": "847eb714-5ad6-4b3d-8eb5-6c836db2a5cd",
   "metadata": {},
   "outputs": [
    {
     "data": {
      "text/plain": [
       "set()"
      ]
     },
     "execution_count": 126,
     "metadata": {},
     "output_type": "execute_result"
    }
   ],
   "source": [
    "set()"
   ]
  },
  {
   "cell_type": "code",
   "execution_count": 127,
   "id": "4660122b-cf33-4f1f-97fa-fcb3babfe2f1",
   "metadata": {},
   "outputs": [
    {
     "data": {
      "text/plain": [
       "[2, 3, 4, 5, 6, 7, 8, 9, 10]"
      ]
     },
     "execution_count": 127,
     "metadata": {},
     "output_type": "execute_result"
    }
   ],
   "source": [
    "list(range(2, 11))"
   ]
  },
  {
   "cell_type": "code",
   "execution_count": 129,
   "id": "ef9ad350-664d-4f71-bcfa-fa6fb728b711",
   "metadata": {},
   "outputs": [
    {
     "data": {
      "text/plain": [
       "{0: 0, 1: 1, 2: 2, 3: 3, 4: 4, 5: 5, 6: 6, 7: 7, 8: 8, 9: 9}"
      ]
     },
     "execution_count": 129,
     "metadata": {},
     "output_type": "execute_result"
    }
   ],
   "source": [
    "dict(zip(range(10), range(10)))"
   ]
  },
  {
   "cell_type": "code",
   "execution_count": 130,
   "id": "bd4433a9-fee5-43d3-a16b-2510fec544d9",
   "metadata": {},
   "outputs": [],
   "source": [
    "dates = {(2022, 8, 19): 100}"
   ]
  },
  {
   "cell_type": "code",
   "execution_count": 131,
   "id": "c3ae5c9b-8d3e-4d41-a37c-e957c5365148",
   "metadata": {},
   "outputs": [
    {
     "data": {
      "text/plain": [
       "{(2022, 8, 19): 100}"
      ]
     },
     "execution_count": 131,
     "metadata": {},
     "output_type": "execute_result"
    }
   ],
   "source": [
    "dates"
   ]
  },
  {
   "cell_type": "code",
   "execution_count": 133,
   "id": "87df6240-83e1-4d97-8e5d-0e9dacd4919d",
   "metadata": {},
   "outputs": [],
   "source": [
    "import datetime"
   ]
  },
  {
   "cell_type": "code",
   "execution_count": 134,
   "id": "c0849ddc-38ba-44fa-ae66-415ba1a0256d",
   "metadata": {},
   "outputs": [],
   "source": [
    "h = datetime.date.today()"
   ]
  },
  {
   "cell_type": "code",
   "execution_count": 135,
   "id": "a0ef3b3f-be13-43f6-87c7-48f6e75ba39f",
   "metadata": {},
   "outputs": [
    {
     "data": {
      "text/plain": [
       "datetime.date(2022, 8, 19)"
      ]
     },
     "execution_count": 135,
     "metadata": {},
     "output_type": "execute_result"
    }
   ],
   "source": [
    "h"
   ]
  },
  {
   "cell_type": "code",
   "execution_count": 137,
   "id": "5ad8b631-be6f-4fc9-b46b-f2567be2abc3",
   "metadata": {},
   "outputs": [
    {
     "data": {
      "text/plain": [
       "{datetime.date(2022, 8, 19): 100}"
      ]
     },
     "execution_count": 137,
     "metadata": {},
     "output_type": "execute_result"
    }
   ],
   "source": [
    "{h: 100}"
   ]
  },
  {
   "cell_type": "code",
   "execution_count": 139,
   "id": "ca205e19-709f-4ba0-ac5f-5e7d4b4c0b70",
   "metadata": {},
   "outputs": [],
   "source": [
    "dl = {12: 100, 127575: 200}"
   ]
  },
  {
   "cell_type": "code",
   "execution_count": 140,
   "id": "231ab63a-ebfb-434d-a457-cb0009a1085c",
   "metadata": {},
   "outputs": [
    {
     "data": {
      "text/plain": [
       "100"
      ]
     },
     "execution_count": 140,
     "metadata": {},
     "output_type": "execute_result"
    }
   ],
   "source": [
    "dl[12]"
   ]
  },
  {
   "cell_type": "code",
   "execution_count": 141,
   "id": "782b9273-b57b-4946-8d2d-cd1e41e28e9e",
   "metadata": {},
   "outputs": [
    {
     "data": {
      "text/plain": [
       "100"
      ]
     },
     "execution_count": 141,
     "metadata": {},
     "output_type": "execute_result"
    }
   ],
   "source": [
    "dl.get(12)"
   ]
  },
  {
   "cell_type": "code",
   "execution_count": 142,
   "id": "ae08fd10-da51-4e6b-95c9-2e8c46be5eba",
   "metadata": {},
   "outputs": [],
   "source": [
    "dl.get(89)"
   ]
  },
  {
   "cell_type": "code",
   "execution_count": 143,
   "id": "a164bdb2-9d66-4999-b89e-5bf8d79eeab5",
   "metadata": {},
   "outputs": [],
   "source": [
    "dl.get(h)"
   ]
  },
  {
   "cell_type": "code",
   "execution_count": 146,
   "id": "e110fced-13ee-4ece-9795-672a6d995d97",
   "metadata": {},
   "outputs": [
    {
     "data": {
      "text/plain": [
       "1"
      ]
     },
     "execution_count": 146,
     "metadata": {},
     "output_type": "execute_result"
    }
   ],
   "source": [
    "L[0]  # indozieren"
   ]
  },
  {
   "cell_type": "code",
   "execution_count": 147,
   "id": "a505d47e-cc13-43c2-9d6b-68ffb5540bcd",
   "metadata": {},
   "outputs": [
    {
     "data": {
      "text/plain": [
       "100"
      ]
     },
     "execution_count": 147,
     "metadata": {},
     "output_type": "execute_result"
    }
   ],
   "source": [
    "dl[12]  # Schlüsselzugriff"
   ]
  },
  {
   "cell_type": "markdown",
   "id": "0cd1fa0d-6888-4690-b7b1-7a471fb5c17d",
   "metadata": {},
   "source": [
    "## Mengen/Sets"
   ]
  },
  {
   "cell_type": "code",
   "execution_count": 151,
   "id": "d45a823f-9348-4836-92a9-ee8edd69c89a",
   "metadata": {},
   "outputs": [],
   "source": [
    "s = set([1, 2, 3, 3])"
   ]
  },
  {
   "cell_type": "code",
   "execution_count": 152,
   "id": "e29921c1-2b8f-49af-81c0-fd53dd4fd782",
   "metadata": {},
   "outputs": [
    {
     "data": {
      "text/plain": [
       "{1, 2, 3}"
      ]
     },
     "execution_count": 152,
     "metadata": {},
     "output_type": "execute_result"
    }
   ],
   "source": [
    "s"
   ]
  },
  {
   "cell_type": "code",
   "execution_count": 153,
   "id": "98656db1-99ef-462d-aad1-9ca3a011d05d",
   "metadata": {},
   "outputs": [],
   "source": [
    "s = set()"
   ]
  },
  {
   "cell_type": "code",
   "execution_count": 154,
   "id": "b1515d73-4ce5-4aea-87ed-552ff7cd8ebc",
   "metadata": {},
   "outputs": [
    {
     "data": {
      "text/plain": [
       "set()"
      ]
     },
     "execution_count": 154,
     "metadata": {},
     "output_type": "execute_result"
    }
   ],
   "source": [
    "s"
   ]
  },
  {
   "cell_type": "markdown",
   "id": "2c7c6518-26fe-4a70-a780-a1bb162d556c",
   "metadata": {},
   "source": [
    "# Funktionen"
   ]
  },
  {
   "cell_type": "code",
   "execution_count": 160,
   "id": "85b02d7e-eb77-4cf3-ba70-22e94afb9ba4",
   "metadata": {},
   "outputs": [],
   "source": [
    "def f():\n",
    "    \"\"\"Doc-String\n",
    "    \n",
    "    Beschreibt was die Funktion tut.\n",
    "    \"\"\"\n",
    "    return"
   ]
  },
  {
   "cell_type": "code",
   "execution_count": 158,
   "id": "3640875c-35f1-4d6d-aba0-3e806f98f1de",
   "metadata": {},
   "outputs": [
    {
     "data": {
      "text/plain": [
       "True"
      ]
     },
     "execution_count": 158,
     "metadata": {},
     "output_type": "execute_result"
    }
   ],
   "source": [
    "callable(f)"
   ]
  },
  {
   "cell_type": "code",
   "execution_count": 161,
   "id": "6a054160-c6f6-434c-b99f-b55de119dd1a",
   "metadata": {},
   "outputs": [
    {
     "data": {
      "text/plain": [
       "[<function __main__.f()>, <function __main__.f()>]"
      ]
     },
     "execution_count": 161,
     "metadata": {},
     "output_type": "execute_result"
    }
   ],
   "source": [
    "[f, f]"
   ]
  },
  {
   "cell_type": "code",
   "execution_count": 162,
   "id": "aeafe3e5-9ad9-4694-b197-d425c57d8253",
   "metadata": {},
   "outputs": [
    {
     "data": {
      "text/plain": [
       "{<function __main__.f()>: <function __main__.f()>}"
      ]
     },
     "execution_count": 162,
     "metadata": {},
     "output_type": "execute_result"
    }
   ],
   "source": [
    "{f: f}"
   ]
  },
  {
   "cell_type": "markdown",
   "id": "229d1de2-ec88-4069-8168-d0d6413aff06",
   "metadata": {},
   "source": [
    "# Iteratotren, Generatoren"
   ]
  },
  {
   "cell_type": "code",
   "execution_count": 164,
   "id": "5a48a50d-89e5-46d0-ad0c-b4a6e58decbf",
   "metadata": {},
   "outputs": [],
   "source": [
    "# heufiger Fehler!!!\n",
    "with open('data.txt') as fobj:\n",
    "    fobj.read()  # datei wird gelesen --> iterator am ende Datei\n",
    "    for line in fobj:\n",
    "        print(line)"
   ]
  },
  {
   "cell_type": "code",
   "execution_count": 165,
   "id": "66c4b048-51b3-4f13-8d08-5d7f792d3b11",
   "metadata": {},
   "outputs": [
    {
     "name": "stdout",
     "output_type": "stream",
     "text": [
      "zeile 1\n",
      "\n",
      "zeile 2\n",
      "\n",
      "zeile 3\n",
      "\n",
      "\n",
      "\n",
      "zeile 5\n",
      "\n",
      "Zeile 6\n",
      "\n",
      "Zeile 7\n",
      "\n",
      "\n",
      "\n",
      "Zeile 9\n",
      "\n"
     ]
    }
   ],
   "source": [
    "# rihtig\n",
    "with open('data.txt') as fobj:\n",
    "    fobj.read()\n",
    "    fobj.seek(0)\n",
    "    for line in fobj:\n",
    "        print(line)"
   ]
  },
  {
   "cell_type": "code",
   "execution_count": 166,
   "id": "ca8f0099-66ee-4819-b5a7-3d621c626d07",
   "metadata": {},
   "outputs": [
    {
     "data": {
      "text/plain": [
       "\u001b[0;31mSignature:\u001b[0m \u001b[0mfobj\u001b[0m\u001b[0;34m.\u001b[0m\u001b[0mseek\u001b[0m\u001b[0;34m(\u001b[0m\u001b[0mcookie\u001b[0m\u001b[0;34m,\u001b[0m \u001b[0mwhence\u001b[0m\u001b[0;34m=\u001b[0m\u001b[0;36m0\u001b[0m\u001b[0;34m,\u001b[0m \u001b[0;34m/\u001b[0m\u001b[0;34m)\u001b[0m\u001b[0;34m\u001b[0m\u001b[0;34m\u001b[0m\u001b[0m\n",
       "\u001b[0;31mDocstring:\u001b[0m\n",
       "Change stream position.\n",
       "\n",
       "Change the stream position to the given byte offset. The offset is\n",
       "interpreted relative to the position indicated by whence.  Values\n",
       "for whence are:\n",
       "\n",
       "* 0 -- start of stream (the default); offset should be zero or positive\n",
       "* 1 -- current stream position; offset may be negative\n",
       "* 2 -- end of stream; offset is usually negative\n",
       "\n",
       "Return the new absolute position.\n",
       "\u001b[0;31mType:\u001b[0m      builtin_function_or_method\n"
      ]
     },
     "metadata": {},
     "output_type": "display_data"
    }
   ],
   "source": [
    "fobj.seek?"
   ]
  },
  {
   "cell_type": "markdown",
   "id": "9cd20d98-3727-456b-86ee-337669160d06",
   "metadata": {},
   "source": [
    "* Iteratoren verfallen nachdem sie angewand wurden"
   ]
  },
  {
   "cell_type": "markdown",
   "id": "3d879a82-abf4-4f8d-87a0-bfa16d2a69e1",
   "metadata": {},
   "source": [
    "# Klassen"
   ]
  },
  {
   "cell_type": "code",
   "execution_count": 183,
   "id": "388480e4-6e28-4703-8bbd-7a7d49217c27",
   "metadata": {},
   "outputs": [],
   "source": [
    "class A:\n",
    "    \n",
    "    def __init__(self, value):  # self ist die Instanz (z.B. a1)\n",
    "        self.value = value\n",
    "\n",
    "    def meth(self, value2):\n",
    "        return self.value + value2"
   ]
  },
  {
   "cell_type": "code",
   "execution_count": 180,
   "id": "cd259c22-4978-4a84-8571-460b3c5eb0cf",
   "metadata": {},
   "outputs": [],
   "source": [
    "a1 = A(10)"
   ]
  },
  {
   "cell_type": "code",
   "execution_count": 175,
   "id": "393b4586-24b4-48bd-92d9-8d4e2aa7265d",
   "metadata": {},
   "outputs": [
    {
     "data": {
      "text/plain": [
       "10"
      ]
     },
     "execution_count": 175,
     "metadata": {},
     "output_type": "execute_result"
    }
   ],
   "source": [
    "a1.value"
   ]
  },
  {
   "cell_type": "code",
   "execution_count": 185,
   "id": "96d9fd0a-ca49-4fbb-aece-0f4eefcf12c8",
   "metadata": {},
   "outputs": [],
   "source": [
    "a2 = A(20)"
   ]
  },
  {
   "cell_type": "code",
   "execution_count": 177,
   "id": "a9a89d52-cb25-479e-8928-9224d5cdf25c",
   "metadata": {},
   "outputs": [
    {
     "data": {
      "text/plain": [
       "20"
      ]
     },
     "execution_count": 177,
     "metadata": {},
     "output_type": "execute_result"
    }
   ],
   "source": [
    "a2.value"
   ]
  },
  {
   "cell_type": "code",
   "execution_count": 181,
   "id": "03d5d693-e878-45f0-80d6-cf6c0781c613",
   "metadata": {},
   "outputs": [
    {
     "data": {
      "text/plain": [
       "33"
      ]
     },
     "execution_count": 181,
     "metadata": {},
     "output_type": "execute_result"
    }
   ],
   "source": [
    "a1.meth(23)"
   ]
  },
  {
   "cell_type": "code",
   "execution_count": 182,
   "id": "1daaccbd-ae88-4cfd-8722-5f71a6728d9c",
   "metadata": {},
   "outputs": [
    {
     "data": {
      "text/plain": [
       "33"
      ]
     },
     "execution_count": 182,
     "metadata": {},
     "output_type": "execute_result"
    }
   ],
   "source": [
    "A.meth(a1, 23)"
   ]
  },
  {
   "cell_type": "code",
   "execution_count": 184,
   "id": "4268ea11-2a6d-4686-a5b1-cdf2c2f41c85",
   "metadata": {},
   "outputs": [
    {
     "data": {
      "text/plain": [
       "mappingproxy({'__module__': '__main__',\n",
       "              '__init__': <function __main__.A.__init__(self, value)>,\n",
       "              'meth': <function __main__.A.meth(self, value2)>,\n",
       "              '__dict__': <attribute '__dict__' of 'A' objects>,\n",
       "              '__weakref__': <attribute '__weakref__' of 'A' objects>,\n",
       "              '__doc__': None})"
      ]
     },
     "execution_count": 184,
     "metadata": {},
     "output_type": "execute_result"
    }
   ],
   "source": [
    "A.__dict__"
   ]
  },
  {
   "cell_type": "code",
   "execution_count": 186,
   "id": "bdfe6555-079d-40b3-a6ce-86b290ecb0cc",
   "metadata": {},
   "outputs": [
    {
     "data": {
      "text/plain": [
       "43"
      ]
     },
     "execution_count": 186,
     "metadata": {},
     "output_type": "execute_result"
    }
   ],
   "source": [
    "A.meth(a2, 23)"
   ]
  },
  {
   "cell_type": "code",
   "execution_count": 187,
   "id": "c9d5d13b-a6a0-46de-a217-fd901d26f757",
   "metadata": {},
   "outputs": [],
   "source": [
    "o = object()"
   ]
  },
  {
   "cell_type": "code",
   "execution_count": 188,
   "id": "312d52c3-7035-4d19-8bb5-79249d55af76",
   "metadata": {},
   "outputs": [
    {
     "data": {
      "text/plain": [
       "<object at 0x7fd12fe40640>"
      ]
     },
     "execution_count": 188,
     "metadata": {},
     "output_type": "execute_result"
    }
   ],
   "source": [
    "o"
   ]
  },
  {
   "cell_type": "code",
   "execution_count": 190,
   "id": "0965122c-5163-41be-8942-6acc8c50ba4d",
   "metadata": {},
   "outputs": [
    {
     "ename": "AttributeError",
     "evalue": "'int' object has no attribute 'value'",
     "output_type": "error",
     "traceback": [
      "\u001b[0;31m---------------------------------------------------------------------------\u001b[0m",
      "\u001b[0;31mAttributeError\u001b[0m                            Traceback (most recent call last)",
      "Input \u001b[0;32mIn [190]\u001b[0m, in \u001b[0;36m<cell line: 1>\u001b[0;34m()\u001b[0m\n\u001b[0;32m----> 1\u001b[0m o\u001b[38;5;241m.\u001b[39mvalue \u001b[38;5;241m=\u001b[39m \u001b[38;5;241m100\u001b[39m\n",
      "\u001b[0;31mAttributeError\u001b[0m: 'int' object has no attribute 'value'"
     ]
    }
   ],
   "source": [
    "o.value = 100"
   ]
  },
  {
   "cell_type": "code",
   "execution_count": 192,
   "id": "aab3a670-8736-4be1-8496-bed22b870970",
   "metadata": {},
   "outputs": [],
   "source": [
    "class B:\n",
    "    pass"
   ]
  },
  {
   "cell_type": "code",
   "execution_count": 193,
   "id": "c5beb341-91f4-4545-ae99-165f8338b19f",
   "metadata": {},
   "outputs": [],
   "source": [
    "b1 = B()"
   ]
  },
  {
   "cell_type": "code",
   "execution_count": 196,
   "id": "11089e24-52a6-4110-b093-003c98377899",
   "metadata": {},
   "outputs": [],
   "source": [
    "b1.value = 100  # man kann Instanzen atribute andichten, sollte man aber vermeiden"
   ]
  },
  {
   "cell_type": "code",
   "execution_count": 197,
   "id": "6a38a1b8-cce7-404a-ba91-c818e3533cad",
   "metadata": {},
   "outputs": [
    {
     "data": {
      "text/plain": [
       "123"
      ]
     },
     "execution_count": 197,
     "metadata": {},
     "output_type": "execute_result"
    }
   ],
   "source": [
    "A.meth(b1, 23)"
   ]
  },
  {
   "cell_type": "code",
   "execution_count": 199,
   "id": "031ace49-9e33-4ebc-b955-fdb9e0832507",
   "metadata": {},
   "outputs": [
    {
     "data": {
      "text/plain": [
       "True"
      ]
     },
     "execution_count": 199,
     "metadata": {},
     "output_type": "execute_result"
    }
   ],
   "source": [
    "isinstance(A, object)  # in Python ist alles eine Instanz von object"
   ]
  },
  {
   "cell_type": "code",
   "execution_count": 200,
   "id": "b25f633a-a2da-43d3-a076-4e2f14fdcc98",
   "metadata": {},
   "outputs": [
    {
     "data": {
      "text/plain": [
       "True"
      ]
     },
     "execution_count": 200,
     "metadata": {},
     "output_type": "execute_result"
    }
   ],
   "source": [
    "isinstance(1, object)"
   ]
  },
  {
   "cell_type": "code",
   "execution_count": 201,
   "id": "4c2fa11f-ce54-4938-b300-c11e031332ce",
   "metadata": {},
   "outputs": [
    {
     "data": {
      "text/plain": [
       "True"
      ]
     },
     "execution_count": 201,
     "metadata": {},
     "output_type": "execute_result"
    }
   ],
   "source": [
    "isinstance('a', object)"
   ]
  },
  {
   "cell_type": "code",
   "execution_count": 202,
   "id": "502f31dd-83a4-4234-866f-f838182c4a0b",
   "metadata": {},
   "outputs": [
    {
     "data": {
      "text/plain": [
       "True"
      ]
     },
     "execution_count": 202,
     "metadata": {},
     "output_type": "execute_result"
    }
   ],
   "source": [
    "isinstance(A.meth, object)"
   ]
  },
  {
   "cell_type": "code",
   "execution_count": 203,
   "id": "8ca6ae1d-b744-44d1-9491-bb64901098fb",
   "metadata": {},
   "outputs": [
    {
     "data": {
      "text/plain": [
       "['__class__',\n",
       " '__delattr__',\n",
       " '__dict__',\n",
       " '__dir__',\n",
       " '__doc__',\n",
       " '__eq__',\n",
       " '__format__',\n",
       " '__ge__',\n",
       " '__getattribute__',\n",
       " '__gt__',\n",
       " '__hash__',\n",
       " '__init__',\n",
       " '__init_subclass__',\n",
       " '__le__',\n",
       " '__lt__',\n",
       " '__module__',\n",
       " '__ne__',\n",
       " '__new__',\n",
       " '__reduce__',\n",
       " '__reduce_ex__',\n",
       " '__repr__',\n",
       " '__setattr__',\n",
       " '__sizeof__',\n",
       " '__str__',\n",
       " '__subclasshook__',\n",
       " '__weakref__',\n",
       " 'meth']"
      ]
     },
     "execution_count": 203,
     "metadata": {},
     "output_type": "execute_result"
    }
   ],
   "source": [
    "dir(A)"
   ]
  },
  {
   "cell_type": "code",
   "execution_count": 204,
   "id": "2508d761-e942-4ec0-90bc-8da1308c4374",
   "metadata": {},
   "outputs": [
    {
     "data": {
      "text/plain": [
       "['meth']"
      ]
     },
     "execution_count": 204,
     "metadata": {},
     "output_type": "execute_result"
    }
   ],
   "source": [
    "[name for name in dir(A) if not name.startswith('__')]"
   ]
  },
  {
   "cell_type": "code",
   "execution_count": null,
   "id": "a868d7f9-1e54-4fe9-ba97-3009f9001b55",
   "metadata": {},
   "outputs": [],
   "source": []
  }
 ],
 "metadata": {
  "kernelspec": {
   "display_name": "Python 3.10",
   "language": "python",
   "name": "python310"
  },
  "language_info": {
   "codemirror_mode": {
    "name": "ipython",
    "version": 3
   },
   "file_extension": ".py",
   "mimetype": "text/x-python",
   "name": "python",
   "nbconvert_exporter": "python",
   "pygments_lexer": "ipython3",
   "version": "3.10.4"
  }
 },
 "nbformat": 4,
 "nbformat_minor": 5
}
